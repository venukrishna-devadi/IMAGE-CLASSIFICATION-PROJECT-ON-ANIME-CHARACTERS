{
 "cells": [
  {
   "cell_type": "markdown",
   "id": "4fa53846-fb89-471e-b97f-6de8dbbe14b3",
   "metadata": {},
   "source": [
    "## Pytorch Model Deployment"
   ]
  },
  {
   "cell_type": "code",
   "execution_count": 18,
   "id": "be39b0d5-6309-428b-ab0c-415857aa8109",
   "metadata": {},
   "outputs": [],
   "source": [
    "import torch\n",
    "import torchinfo\n",
    "import torchvision\n",
    "from torch import nn"
   ]
  },
  {
   "cell_type": "code",
   "execution_count": 2,
   "id": "f9ea7eea-28ef-4566-8799-720cc87ab3b0",
   "metadata": {},
   "outputs": [
    {
     "name": "stdout",
     "output_type": "stream",
     "text": [
      "File exists skipping download.\n"
     ]
    }
   ],
   "source": [
    "import requests\n",
    "from pathlib import Path\n",
    "\n",
    "# Download Helper functions from Laearn Pytorch repo or from anywhere on the internet\n",
    "if Path(\"helper_functions.py\").is_file():\n",
    "    print(\"File exists skipping download.\")\n",
    "else:\n",
    "    print(\"Downloading Helper Functions.py\")\n",
    "    requests = requests.get(\"https://raw.githubusercontent.com/mrdbourke/pytorch-deep-learning/main/helper_functions.py\")\n",
    "    with open(\"helper_functions.py\", \"wb\") as f:\n",
    "        f.write(requests.content)"
   ]
  },
  {
   "cell_type": "code",
   "execution_count": 298,
   "id": "8ecbe7d7-95fc-4642-9d07-90977d0e6e48",
   "metadata": {},
   "outputs": [],
   "source": [
    "from helper_functions import download_data, set_seeds, plot_loss_curves"
   ]
  },
  {
   "cell_type": "code",
   "execution_count": 4,
   "id": "d4c8836f-0254-471a-99fc-6609e2d4af46",
   "metadata": {},
   "outputs": [
    {
     "data": {
      "text/plain": [
       "'cpu'"
      ]
     },
     "execution_count": 4,
     "metadata": {},
     "output_type": "execute_result"
    }
   ],
   "source": [
    "device = \"cuda\" if torch.cuda.is_available() else \"cpu\"\n",
    "device"
   ]
  },
  {
   "cell_type": "markdown",
   "id": "6e06f8f9-53cc-46cf-a0a1-433779114518",
   "metadata": {},
   "source": [
    "### 1. Get Data\n",
    "We will be working on the same data we worked earlier on Image classification problem, (DBZ character classification data)"
   ]
  },
  {
   "cell_type": "code",
   "execution_count": 5,
   "id": "f42eaa03-9dbc-4c3e-ab88-8d1a7baa72e0",
   "metadata": {},
   "outputs": [],
   "source": [
    "import os\n",
    "\n",
    "from pathlib import Path\n",
    "\n",
    "# setup data path\n",
    "data_path = Path(\"/Users/venu/Documents/Productivity/Pytorch Tutorials/data\")\n",
    "image_path = Path(data_path / \"dragon_ball_images\")"
   ]
  },
  {
   "cell_type": "code",
   "execution_count": 8,
   "id": "141d798d-fcf7-4e83-abf1-d389b9ff045f",
   "metadata": {},
   "outputs": [
    {
     "data": {
      "text/plain": [
       "(PosixPath('/Users/venu/Documents/Productivity/Pytorch Tutorials/data/dragon_ball_images/train'),\n",
       " PosixPath('/Users/venu/Documents/Productivity/Pytorch Tutorials/data/dragon_ball_images/test'))"
      ]
     },
     "execution_count": 8,
     "metadata": {},
     "output_type": "execute_result"
    }
   ],
   "source": [
    "train_dir = image_path / \"train\"\n",
    "test_dir = image_path / \"test\"\n",
    "train_dir, test_dir"
   ]
  },
  {
   "cell_type": "markdown",
   "id": "e440f238-4c5e-401a-b7c4-8227de5d9583",
   "metadata": {},
   "source": [
    "### 2. DBZ Character Classifer Mini model deployment experiment outline\n",
    "\n",
    "#### 3 Questions - \n",
    "1. What is my model ideal machine learning model deployment scenario ?\n",
    "2. Where is my model going to go ?\n",
    "3. How is my model going to function ?\n",
    "\n",
    "#### Ideal use case of the model - A model that performs well and fast\n",
    "1. Performs well with 95%+ accuracy.\n",
    "2. Fast - real time with 30fps or 30ns latency(1/30seconds)\n",
    "\n",
    "#### To try and achieve the above model goals we can try and experiment with 2 models - \n",
    "1. EffNetB2 Pretrained Model\n",
    "2. ViT Pretrained Model"
   ]
  },
  {
   "cell_type": "markdown",
   "id": "6f627b2f-aaab-4438-97a9-c73087683531",
   "metadata": {},
   "source": [
    "### 3. Create EffnetB2 Model Feature Extractor\n",
    "\n",
    "Feature Extraction is a term in Transfer Learning when we want to use a pretrained model and freeze all the base layers and customize only the classifier layer."
   ]
  },
  {
   "cell_type": "code",
   "execution_count": 10,
   "id": "01cd6bee-ec3d-4694-9650-8738dc961bcc",
   "metadata": {},
   "outputs": [],
   "source": [
    "import torchvision\n",
    "\n",
    "# 1. Setup pretrained Effnetb2 weights\n",
    "effnetb2_weights = torchvision.models.EfficientNet_B2_Weights.DEFAULT \n",
    "\n",
    "# 2. Get Effnetb2 Transforms\n",
    "effnetb2_transforms = effnetb2_weights.transforms\n",
    "\n",
    "# 3. Create instance of the Effnetb2 model\n",
    "effnetb2 = torchvision.models.efficientnet_b2(weights=effnetb2_weights)\n",
    "\n",
    "# 4. Freeze the base layers\n",
    "for param in effnetb2.parameters():\n",
    "    param.requires_grad = False"
   ]
  },
  {
   "cell_type": "code",
   "execution_count": 16,
   "id": "507ef3c4-b3e5-49c3-8aa1-f1fa73c573e2",
   "metadata": {},
   "outputs": [],
   "source": [
    "# # Get Summary using torch.info\n",
    "# from torchinfo import summary\n",
    "# summary(model = effnetb2,\n",
    "#        input_size= (1, 3, 224, 224), #(batch_size, color channels, image height, image width)\n",
    "#        col_names = [\"input_size\", \"output_size\", \"num_params\",\"trainable\"],\n",
    "#        col_width = 20,\n",
    "#        row_settings = [\"var_names\"])"
   ]
  },
  {
   "cell_type": "code",
   "execution_count": 17,
   "id": "da4c51ab-c7b6-4ef8-a7fb-79e218a2da5c",
   "metadata": {},
   "outputs": [
    {
     "data": {
      "text/plain": [
       "Sequential(\n",
       "  (0): Dropout(p=0.3, inplace=True)\n",
       "  (1): Linear(in_features=1408, out_features=1000, bias=True)\n",
       ")"
      ]
     },
     "execution_count": 17,
     "metadata": {},
     "output_type": "execute_result"
    }
   ],
   "source": [
    "# Customizing the classifier head\n",
    "effnetb2.classifier"
   ]
  },
  {
   "cell_type": "code",
   "execution_count": 19,
   "id": "a66ec147-2afc-4dbc-b999-902ac1ff4008",
   "metadata": {},
   "outputs": [],
   "source": [
    "effnetb2.classifier = nn.Sequential(\n",
    "    nn.Dropout(p = 0.3, inplace = True),\n",
    "    nn.Linear(in_features=1408, out_features=4, bias = True)\n",
    ")"
   ]
  },
  {
   "cell_type": "code",
   "execution_count": 22,
   "id": "bf674c4f-768f-445c-8aa8-5cb1a8490cef",
   "metadata": {},
   "outputs": [],
   "source": [
    "# Get Summary using torch.info\n",
    "# set_seeds()\n",
    "# from torchinfo import summary\n",
    "# summary(model = effnetb2,\n",
    "#        input_size= (1, 3, 224, 224), #(batch_size, color channels, image height, image width)\n",
    "#        col_names = [\"input_size\", \"output_size\", \"num_params\",\"trainable\"],\n",
    "#        col_width = 20,\n",
    "#        row_settings = [\"var_names\"])"
   ]
  },
  {
   "cell_type": "markdown",
   "id": "e48b5444-d7cf-423c-94f3-d28ca010e5ac",
   "metadata": {},
   "source": [
    "#### Create EffnetB2 Feature Extractor Function"
   ]
  },
  {
   "cell_type": "code",
   "execution_count": 323,
   "id": "f5beab26-1b7e-498e-80bb-cf30ac0a4648",
   "metadata": {},
   "outputs": [],
   "source": [
    "def create_effnetb2_model(num_classes:int = 4,\n",
    "                         seed:int = 99):\n",
    "\n",
    "    # 1. create effnet pretrained weights, transforms, model\n",
    "    weights = torchvision.models.EfficientNet_B2_Weights.DEFAULT\n",
    "    transforms = weights.transforms()\n",
    "    model = torchvision.models.efficientnet_b2(weights = weights)\n",
    "\n",
    "    # 2. Freeze the base layers and customize the classifier layer\n",
    "    for param in model.parameters():\n",
    "        param.requires_grad = False\n",
    "\n",
    "    torch.manual_seed(seed)\n",
    "    model.classifier = nn.Sequential(\n",
    "        nn.Dropout(p = 0.3, inplace = True),\n",
    "        nn.Linear(in_features = 1408, out_features=num_classes, bias = True)\n",
    "    )\n",
    "\n",
    "    return model, transforms"
   ]
  },
  {
   "cell_type": "code",
   "execution_count": 59,
   "id": "cc37fdd2-c554-4fce-8ace-00eb5428867c",
   "metadata": {},
   "outputs": [],
   "source": [
    "effnetb2_model, effnetb2_transforms = create_effnetb2_model(num_classes= 4)"
   ]
  },
  {
   "cell_type": "code",
   "execution_count": 61,
   "id": "fd5f374e-3b0f-4c29-aa13-4c9b91d0909b",
   "metadata": {},
   "outputs": [
    {
     "data": {
      "text/plain": [
       "ImageClassification(\n",
       "    crop_size=[288]\n",
       "    resize_size=[288]\n",
       "    mean=[0.485, 0.456, 0.406]\n",
       "    std=[0.229, 0.224, 0.225]\n",
       "    interpolation=InterpolationMode.BICUBIC\n",
       ")"
      ]
     },
     "execution_count": 61,
     "metadata": {},
     "output_type": "execute_result"
    }
   ],
   "source": [
    "effnetb2_transforms"
   ]
  },
  {
   "cell_type": "markdown",
   "id": "d498ecad-447d-4bd7-a31c-6437309fbf1c",
   "metadata": {},
   "source": [
    "#### Create DataLoaders for EffnetB2"
   ]
  },
  {
   "cell_type": "code",
   "execution_count": 62,
   "id": "311d275a-74ce-48e6-a013-003b846ab663",
   "metadata": {},
   "outputs": [],
   "source": [
    "from going_modular import data_setup\n",
    "\n",
    "train_dataloader_effnetb2, test_dataloader_effnetb2, class_names = data_setup.create_dataloader(train_dir = train_dir,\n",
    "                                                                                               test_dir = test_dir,\n",
    "                                                                                               transform=effnetb2_transforms,\n",
    "                                                                                               batch_size = 32,\n",
    "                                                                                               num_workers=0)"
   ]
  },
  {
   "cell_type": "code",
   "execution_count": 63,
   "id": "fa61fbac-06fc-4339-92cd-09933af421ca",
   "metadata": {},
   "outputs": [
    {
     "data": {
      "text/plain": [
       "(11, 3, ['goku', 'picolo', 'trunks', 'vegeta'])"
      ]
     },
     "execution_count": 63,
     "metadata": {},
     "output_type": "execute_result"
    }
   ],
   "source": [
    "len(train_dataloader_effnetb2), len(test_dataloader_effnetb2), class_names"
   ]
  },
  {
   "cell_type": "markdown",
   "id": "c050e079-6596-4c26-b1a7-64eb9c18cb6a",
   "metadata": {},
   "source": [
    "#### Trainig EffnetB2 feature extractor"
   ]
  },
  {
   "cell_type": "code",
   "execution_count": 64,
   "id": "cc5188ea-9304-4baa-964b-e2d5d91fe89b",
   "metadata": {},
   "outputs": [],
   "source": [
    "from going_modular import engine"
   ]
  },
  {
   "cell_type": "code",
   "execution_count": 65,
   "id": "55fb12f3-8a83-4a2b-b913-b982997068a1",
   "metadata": {},
   "outputs": [
    {
     "data": {
      "application/vnd.jupyter.widget-view+json": {
       "model_id": "de550cc4de314edda88c9d90d88b7691",
       "version_major": 2,
       "version_minor": 0
      },
      "text/plain": [
       "  0%|          | 0/10 [00:00<?, ?it/s]"
      ]
     },
     "metadata": {},
     "output_type": "display_data"
    },
    {
     "name": "stdout",
     "output_type": "stream",
     "text": [
      "Epoch: 1 | train_loss: 1.0846 | train_acc: 0.5409 | test_loss: 0.5275 | test_acc: 0.8090\n",
      "Epoch: 2 | train_loss: 0.4469 | train_acc: 0.8194 | test_loss: 0.4536 | test_acc: 0.8542\n",
      "Epoch: 3 | train_loss: 0.2481 | train_acc: 0.9233 | test_loss: 0.3181 | test_acc: 0.8819\n",
      "Epoch: 4 | train_loss: 0.2342 | train_acc: 0.9288 | test_loss: 0.2906 | test_acc: 0.9236\n",
      "Epoch: 5 | train_loss: 0.1519 | train_acc: 0.9502 | test_loss: 0.2932 | test_acc: 0.8958\n",
      "Epoch: 6 | train_loss: 0.1292 | train_acc: 0.9729 | test_loss: 0.2726 | test_acc: 0.9201\n",
      "Epoch: 7 | train_loss: 0.1342 | train_acc: 0.9528 | test_loss: 0.3181 | test_acc: 0.8993\n",
      "Epoch: 8 | train_loss: 0.1463 | train_acc: 0.9489 | test_loss: 0.2624 | test_acc: 0.9340\n",
      "Epoch: 9 | train_loss: 0.0833 | train_acc: 0.9830 | test_loss: 0.2554 | test_acc: 0.8889\n",
      "Epoch: 10 | train_loss: 0.1013 | train_acc: 0.9744 | test_loss: 0.2973 | test_acc: 0.8611\n"
     ]
    }
   ],
   "source": [
    "# Loss Function\n",
    "loss_fn = nn.CrossEntropyLoss()\n",
    "\n",
    "# Optimizer\n",
    "optimizer = torch.optim.Adam(params=effnetb2_model.parameters(),\n",
    "                            lr = 0.01)\n",
    "\n",
    "# Training Function\n",
    "\n",
    "results_effnetb2 = engine.train(model = effnetb2_model,\n",
    "                               train_dataloader=train_dataloader_effnetb2,\n",
    "                               test_dataloader=test_dataloader_effnetb2,\n",
    "                               loss_fn= loss_fn,\n",
    "                               optimizer = optimizer,\n",
    "                               epochs = 10,\n",
    "                               device = \"cpu\")"
   ]
  },
  {
   "cell_type": "markdown",
   "id": "eacf6249-8873-4eb0-9d36-03b1a47e5d16",
   "metadata": {},
   "source": [
    "#### Inspecting the Loss curves"
   ]
  },
  {
   "cell_type": "code",
   "execution_count": 66,
   "id": "70623bf1-ea92-49b5-8a4f-ac5596929858",
   "metadata": {},
   "outputs": [
    {
     "data": {
      "image/png": "[encoded data removed]",
      "text/plain": [
       "<Figure size 1500x700 with 2 Axes>"
      ]
     },
     "metadata": {},
     "output_type": "display_data"
    }
   ],
   "source": [
    "from helper_functions import plot_loss_curves\n",
    "plot_loss_curves(results_effnetb2)"
   ]
  },
  {
   "cell_type": "markdown",
   "id": "ceccb5ca-a5b2-447f-907c-99816f7942a7",
   "metadata": {},
   "source": [
    "#### Saving Effnetb2 Feature Extractor Model"
   ]
  },
  {
   "cell_type": "code",
   "execution_count": 67,
   "id": "8d52c448-581f-4fc6-8429-9c524bec39aa",
   "metadata": {},
   "outputs": [],
   "source": [
    "from going_modular import utils"
   ]
  },
  {
   "cell_type": "code",
   "execution_count": 288,
   "id": "ff522f26-d8b5-4e0d-ae7a-a1281112957b",
   "metadata": {},
   "outputs": [
    {
     "name": "stdout",
     "output_type": "stream",
     "text": [
      "[INFO] Saving model to: /Users/venu/Documents/Productivity/Pytorch Tutorials/Models/Effnetb2_Pretrained_Feature_Extractor_DBZ_char_classifier.pth\n"
     ]
    }
   ],
   "source": [
    "utils.save_model(model = effnetb2_model,\n",
    "                target_dir = \"/Users/venu/Documents/Productivity/Pytorch Tutorials/Models\",\n",
    "                model_name = \"Effnetb2_Pretrained_Feature_Extractor_DBZ_char_classifier.pth\")"
   ]
  },
  {
   "cell_type": "markdown",
   "id": "a5cb72f1-0967-4e87-bc71-827d8ac6b740",
   "metadata": {},
   "source": [
    "### Inspecting the size of our EffnetB2 Feature Extractor Model"
   ]
  },
  {
   "cell_type": "code",
   "execution_count": 289,
   "id": "9a594563-e487-4538-a99c-3933bee0dceb",
   "metadata": {},
   "outputs": [
    {
     "name": "stdout",
     "output_type": "stream",
     "text": [
      "The model size is 29.85 MB\n"
     ]
    }
   ],
   "source": [
    "from pathlib import Path\n",
    "\n",
    "# get the model size in bytes and then convert it into megabites\n",
    "pretrained_effnetb2_model_size = Path(\"models/Effnetb2_Pretrained_Feature_Extractor_DBZ_char_classifier.pth\").stat().st_size/ (1024 * 1024)\n",
    "print(f\"The model size is {pretrained_effnetb2_model_size:.2f} MB\")"
   ]
  },
  {
   "cell_type": "markdown",
   "id": "4a79c14c-199b-483f-ae38-7cb1a7cb7a93",
   "metadata": {},
   "source": [
    "#### Create Dictionary with Effnetb2 statistics"
   ]
  },
  {
   "cell_type": "code",
   "execution_count": 75,
   "id": "dcd8c1c7-76bc-45d3-8aa1-0634f130a43a",
   "metadata": {},
   "outputs": [
    {
     "data": {
      "text/plain": [
       "7706630"
      ]
     },
     "execution_count": 75,
     "metadata": {},
     "output_type": "execute_result"
    }
   ],
   "source": [
    "# counting number of paramters\n",
    "effnetb2_total_params = sum(torch.numel(param) for param in effnetb2_model.parameters())\n",
    "effnetb2_total_params"
   ]
  },
  {
   "cell_type": "code",
   "execution_count": 78,
   "id": "e3300b43-adce-4107-9685-145228c71546",
   "metadata": {},
   "outputs": [
    {
     "data": {
      "text/plain": [
       "{'test_loss': 0.29731755952040356,\n",
       " 'test_acc': 0.8611111111111112,\n",
       " 'number of params': 7706630,\n",
       " 'Model Size[MB]': 29.8522891998291}"
      ]
     },
     "execution_count": 78,
     "metadata": {},
     "output_type": "execute_result"
    }
   ],
   "source": [
    "effnetb2_stats = {\"test_loss\": results_effnetb2[\"test_loss\"][-1],\n",
    "                 \"test_acc\": results_effnetb2[\"test_acc\"][-1],\n",
    "                 \"number of params\": effnetb2_total_params,\n",
    "                 \"Model Size[MB]\": pretrained_effnetb2_model_size}\n",
    "effnetb2_stats"
   ]
  },
  {
   "cell_type": "markdown",
   "id": "f9a370aa-082e-4002-869b-d584464707ad",
   "metadata": {},
   "source": [
    "## 4. Create ViT Base Feature Extractor Model"
   ]
  },
  {
   "cell_type": "code",
   "execution_count": 84,
   "id": "c225e00d-16ee-42e6-9784-bc381362ba84",
   "metadata": {},
   "outputs": [],
   "source": [
    "# function to create feature extractor model for vit base which returns model and transform\n",
    "\n",
    "def create_vitbase_model(num_classes:int = 4,\n",
    "                        seed = 95):\n",
    "    \"\"\"Returns ViT Base feature extractor model with base layers frozen and customized classifier layer\"\"\"\n",
    "    # Define weights, transforms and instance of feature extractor model\n",
    "    weights = torchvision.models.ViT_B_16_Weights.DEFAULT\n",
    "    transform = weights.transforms()\n",
    "    model = torchvision.models.vit_b_16(weights = weights)\n",
    "\n",
    "    # Freeze the base layers\n",
    "    for param in model.parameters():\n",
    "        param.requires_grad = False\n",
    "\n",
    "    torch.manual_seed(seed)\n",
    "\n",
    "    # Customize the classifier layer\n",
    "    model.heads = nn.Sequential(\n",
    "        nn.Linear(in_features= 768,\n",
    "                 out_features= num_classes)\n",
    "    )\n",
    "\n",
    "    return model, transform\n",
    "\n",
    "    "
   ]
  },
  {
   "cell_type": "code",
   "execution_count": 85,
   "id": "14e15abe-5b6a-49dd-a8a6-b0db3483062a",
   "metadata": {},
   "outputs": [],
   "source": [
    "vitbase_model, vitbase_transforms = create_vitbase_model(num_classes= 4)"
   ]
  },
  {
   "cell_type": "code",
   "execution_count": 86,
   "id": "40e923f3-be52-4dc4-b017-491876ecd13b",
   "metadata": {},
   "outputs": [
    {
     "data": {
      "text/plain": [
       "ImageClassification(\n",
       "    crop_size=[224]\n",
       "    resize_size=[256]\n",
       "    mean=[0.485, 0.456, 0.406]\n",
       "    std=[0.229, 0.224, 0.225]\n",
       "    interpolation=InterpolationMode.BILINEAR\n",
       ")"
      ]
     },
     "execution_count": 86,
     "metadata": {},
     "output_type": "execute_result"
    }
   ],
   "source": [
    "vitbase_transforms"
   ]
  },
  {
   "cell_type": "code",
   "execution_count": 88,
   "id": "6470c988-47c5-4220-a3b0-4bc630e8ce46",
   "metadata": {},
   "outputs": [],
   "source": [
    "# create dataloaders and class_names\n",
    "train_dataloader_vitbase, test_dataloader_vitbase, class_names = data_setup.create_dataloader(train_dir= train_dir,\n",
    "                                                                                             test_dir = test_dir,\n",
    "                                                                                             transform=vitbase_transforms,\n",
    "                                                                                             batch_size = 32,\n",
    "                                                                                             num_workers= 0)"
   ]
  },
  {
   "cell_type": "code",
   "execution_count": 89,
   "id": "d4fcc198-bf16-4817-93f0-2fa8014f607c",
   "metadata": {},
   "outputs": [
    {
     "data": {
      "text/plain": [
       "(11, 3, ['goku', 'picolo', 'trunks', 'vegeta'])"
      ]
     },
     "execution_count": 89,
     "metadata": {},
     "output_type": "execute_result"
    }
   ],
   "source": [
    "len(train_dataloader_vitbase), len(test_dataloader_vitbase), class_names"
   ]
  },
  {
   "cell_type": "markdown",
   "id": "8dca3f82-ebf2-430d-bc55-cd149e47e75d",
   "metadata": {},
   "source": [
    "#### Training ViT Base Feature Extractor Model"
   ]
  },
  {
   "cell_type": "code",
   "execution_count": 90,
   "id": "1e5d3952-c2f7-4bee-adbe-02f86a7ef20f",
   "metadata": {},
   "outputs": [
    {
     "data": {
      "application/vnd.jupyter.widget-view+json": {
       "model_id": "50930f2c073545daae10291964d34172",
       "version_major": 2,
       "version_minor": 0
      },
      "text/plain": [
       "  0%|          | 0/10 [00:00<?, ?it/s]"
      ]
     },
     "metadata": {},
     "output_type": "display_data"
    },
    {
     "name": "stdout",
     "output_type": "stream",
     "text": [
      "Epoch: 1 | train_loss: 0.9715 | train_acc: 0.5636 | test_loss: 0.5767 | test_acc: 0.7326\n",
      "Epoch: 2 | train_loss: 0.2805 | train_acc: 0.9004 | test_loss: 0.3580 | test_acc: 0.8924\n",
      "Epoch: 3 | train_loss: 0.1337 | train_acc: 0.9602 | test_loss: 0.3128 | test_acc: 0.8785\n",
      "Epoch: 4 | train_loss: 0.0811 | train_acc: 0.9830 | test_loss: 0.3338 | test_acc: 0.8403\n",
      "Epoch: 5 | train_loss: 0.0583 | train_acc: 0.9943 | test_loss: 0.3057 | test_acc: 0.8924\n",
      "Epoch: 6 | train_loss: 0.0401 | train_acc: 0.9972 | test_loss: 0.3099 | test_acc: 0.8542\n",
      "Epoch: 7 | train_loss: 0.0299 | train_acc: 1.0000 | test_loss: 0.2979 | test_acc: 0.8681\n",
      "Epoch: 8 | train_loss: 0.0253 | train_acc: 0.9972 | test_loss: 0.2945 | test_acc: 0.8785\n",
      "Epoch: 9 | train_loss: 0.0202 | train_acc: 1.0000 | test_loss: 0.2926 | test_acc: 0.8681\n",
      "Epoch: 10 | train_loss: 0.0178 | train_acc: 1.0000 | test_loss: 0.2922 | test_acc: 0.8785\n"
     ]
    }
   ],
   "source": [
    "# Define Optimizer and Loss Function\n",
    "\n",
    "loss_fn = nn.CrossEntropyLoss()\n",
    "\n",
    "optimizer = torch.optim.Adam(params= vitbase_model.parameters(),\n",
    "                            lr = 0.01)\n",
    "\n",
    "vitbase_model_results = engine.train(model = vitbase_model,\n",
    "                                    train_dataloader= train_dataloader_vitbase,\n",
    "                                    test_dataloader= test_dataloader_vitbase,\n",
    "                                    loss_fn= loss_fn,\n",
    "                                    optimizer = optimizer,\n",
    "                                    epochs = 10,\n",
    "                                    device = device)"
   ]
  },
  {
   "cell_type": "code",
   "execution_count": 91,
   "id": "f609ea69-d915-4009-b535-774bbcccd60a",
   "metadata": {},
   "outputs": [
    {
     "data": {
      "image/png": "[encoded data removed]",
      "text/plain": [
       "<Figure size 1500x700 with 2 Axes>"
      ]
     },
     "metadata": {},
     "output_type": "display_data"
    }
   ],
   "source": [
    "from helper_functions import plot_loss_curves\n",
    "plot_loss_curves(vitbase_model_results)"
   ]
  },
  {
   "cell_type": "code",
   "execution_count": 92,
   "id": "e960a168-7ddc-4ed7-b8fe-ab407939840e",
   "metadata": {},
   "outputs": [
    {
     "name": "stdout",
     "output_type": "stream",
     "text": [
      "[INFO] Saving model to: /Users/venu/Documents/Productivity/Pytorch Tutorials/Models/ViTBase_Pretrained_Feature_Extractor_DBZ_char_classifier.pth\n"
     ]
    }
   ],
   "source": [
    "utils.save_model(model = effnetb2_model,\n",
    "                target_dir = \"/Users/venu/Documents/Productivity/Pytorch Tutorials/Models\",\n",
    "                model_name = \"ViTBase_Pretrained_Feature_Extractor_DBZ_char_classifier.pth\")"
   ]
  },
  {
   "cell_type": "markdown",
   "id": "5d4faa46-ba00-4922-ba5f-0bcd22c8a4f9",
   "metadata": {},
   "source": [
    "#### Inspecting the size of the ViTBase Feature Extractor Model"
   ]
  },
  {
   "cell_type": "code",
   "execution_count": 93,
   "id": "bafcab49-9840-44b1-8c4d-c95b5ff7069a",
   "metadata": {},
   "outputs": [
    {
     "name": "stdout",
     "output_type": "stream",
     "text": [
      "The model size is 29.85 MB\n"
     ]
    }
   ],
   "source": [
    "from pathlib import Path\n",
    "\n",
    "# get the model size in bytes and then convert it into megabites\n",
    "pretrained_vitbase_model_size = Path(\"models/ViTBase_Pretrained_Feature_Extractor_DBZ_char_classifier.pth\").stat().st_size/ (1024 * 1024)\n",
    "print(f\"The model size is {pretrained_vitbase_model_size:.2f} MB\")"
   ]
  },
  {
   "cell_type": "code",
   "execution_count": 99,
   "id": "869133f4-0270-4af4-a4dc-369a0bad9702",
   "metadata": {},
   "outputs": [
    {
     "name": "stdout",
     "output_type": "stream",
     "text": [
      "Total Number of Parameters: 85801732\n"
     ]
    }
   ],
   "source": [
    "# counting number of paramters\n",
    "vitbasemodel_total_params = sum(torch.numel(param) for param in vitbase_model.parameters())\n",
    "print(f\"Total Number of Parameters: {vitbasemodel_total_params}\")"
   ]
  },
  {
   "cell_type": "code",
   "execution_count": 100,
   "id": "2360a209-ea4a-46db-bf17-200d445c82e1",
   "metadata": {},
   "outputs": [
    {
     "data": {
      "text/plain": [
       "{'test_loss': 0.2922341028849284,\n",
       " 'test_acc': 0.8784722222222222,\n",
       " 'number of params': 85801732,\n",
       " 'Model Size[MB]': 29.8518009185791}"
      ]
     },
     "execution_count": 100,
     "metadata": {},
     "output_type": "execute_result"
    }
   ],
   "source": [
    "vitbase_model_stats = {\"test_loss\": vitbase_model_results[\"test_loss\"][-1],\n",
    "                 \"test_acc\": vitbase_model_results[\"test_acc\"][-1],\n",
    "                 \"number of params\": vitbasemodel_total_params,\n",
    "                 \"Model Size[MB]\": pretrained_vitbase_model_size}\n",
    "vitbase_model_stats"
   ]
  },
  {
   "cell_type": "markdown",
   "id": "7a35e305-7454-4d90-990e-3374f196fe90",
   "metadata": {},
   "source": [
    "## 5. Making Predictions with trained model\n",
    "\n",
    "### Our Goal - \n",
    "1. Performs well\n",
    "2. Predicts Fast\n",
    "\n",
    "##### To Test `Predicts Fast` - \n",
    "1. Loop through random set of Test images\n",
    "2. Time how long each model takes to make predictions on few set of sample images"
   ]
  },
  {
   "cell_type": "code",
   "execution_count": 113,
   "id": "e4763f7d-7b58-4570-b208-3c734b404432",
   "metadata": {},
   "outputs": [
    {
     "data": {
      "text/plain": [
       "'trunks'"
      ]
     },
     "execution_count": 113,
     "metadata": {},
     "output_type": "execute_result"
    }
   ],
   "source": [
    "from pathlib import Path\n",
    "\n",
    "# get all test data paths\n",
    "test_data_paths = list(Path(test_dir).glob(\"*/*.jpeg\"))\n",
    "sample = test_data_paths[-1]\n",
    "sample.parent.stem"
   ]
  },
  {
   "cell_type": "markdown",
   "id": "22c7cbd7-4b31-4b05-9d50-68b5e10e063f",
   "metadata": {},
   "source": [
    "### Create a function to perform the above required operation\n",
    "\n",
    "1. Create a function which takes -\n",
    "   1. a list of image paths\n",
    "   2. trained PyTorch Model\n",
    "   3. a series of transforms\n",
    "   4. list of target class names\n",
    "   5. target device\n",
    "2. Create an empty list which contains a list of all predictions which we will return\n",
    "3. loop through the target paths (the below steps will happen inside the loop)\n",
    "4. Create an empty dictionary for each sample where we append the prediction stats\n",
    "5. From the filepath extract the ground truth class name\n",
    "6. start prediction timer()\n",
    "7. Open the image using `PIL.Image.open(path)`\n",
    "8. Transform the image using model corresponding transforms and add batch dimension and send to target device\n",
    "9. Prepare the model for inference by using `.eval()` and send the model to target device\n",
    "10. Turn on `torch.inference_mode()` and pass the transformed test image and perform forward pass, calculate pred_prob and also pred_class\n",
    "11. Add the pred_prob and the pred_class to the empty dictionary\n",
    "12. End the timer() and add the prediction time to the dictionary\n",
    "13. Check if the predicted class matches with the ground truth class name\n",
    "14. Append the updated dictionary to the empty list of predictions\n",
    "15. Return the list of prediction dictionaries"
   ]
  },
  {
   "cell_type": "code",
   "execution_count": 150,
   "id": "126cfc37-3fdf-4ee3-90fc-53b3c8cdd448",
   "metadata": {},
   "outputs": [],
   "source": [
    "import pathlib\n",
    "import torch\n",
    "from PIL import Image\n",
    "\n",
    "from timeit import default_timer as timer\n",
    "from IPython.display import ProgressBar\n",
    "from typing import List, Dict\n",
    "\n",
    "# 1. Create a function which takes - a list of image paths, trained PyTorch Model, a series of transforms, \n",
    "# list of target class names, target device\n",
    "def predict_and_score(model:torch.nn.Module,\n",
    "                     image_paths: List[str],\n",
    "                     transform = torchvision.transforms,\n",
    "                     class_names = List[str],\n",
    "                     device= device):\n",
    "\n",
    "    # 2. Create an empty list which contains a list of all predictions which we will return\n",
    "    prediction_list = []\n",
    "\n",
    "    # 3. loop through the target image paths -\n",
    "    for path in (image_paths):\n",
    "\n",
    "        #4. Create an empty dictionary for each sample. (Prediction stats will be saved here)\n",
    "        prediction_dict = {}\n",
    "\n",
    "        # 5. get the ground truth form the image path\n",
    "        prediction_dict[\"image_path\"] = path\n",
    "        class_name = path.parent.stem\n",
    "        prediction_dict[\"class_name\"] = class_name\n",
    "\n",
    "        # 6. start the prediction timer\n",
    "        start_time = timer()\n",
    "\n",
    "        # 7. Open the image using \n",
    "        img = Image.open(path)\n",
    "\n",
    "        #8. Tranform the opened image using required model transforms, also we need to add the batch dimension at 0th dim and\n",
    "        # send to target device\n",
    "        transformed_image = transform(img).unsqueeze(0).to(device)\n",
    "\n",
    "        #9. Put the model in eval mode and Prepare the model for inference mode and send the model to target device\n",
    "        model.to(device)\n",
    "        model.eval()\n",
    "\n",
    "        # 10. Turn on torch.inference_mode()  \n",
    "        # and pass the transformed test image and perform forward pass, calculate pred_prob and also pred_class\n",
    "        with torch.inference_mode():\n",
    "            pred_logit = model(transformed_image)\n",
    "            pred_prob = torch.softmax(pred_logit, dim = 1)\n",
    "            pred_label = torch.argmax(pred_prob, dim = 1)\n",
    "            pred_class = class_names[pred_label.cpu()] # python variables live on the cpu\n",
    "\n",
    "        # 11. Add the prediction prob and prediction class to prediction_dict dictionary\n",
    "            #print(pred_prob)\n",
    "            #print(pred_prob.unsqueeze(0))\n",
    "            #print(pred_prob.unsqueeze(0).max())\n",
    "            prediction_dict[\"pred_prob\"] = round(pred_prob.unsqueeze(0).max().cpu().item(), 4)\n",
    "            prediction_dict[\"pred_class\"] = pred_class\n",
    "\n",
    "            #12. End the prediction Timer, calculate the time and add the time stat\n",
    "            end_time = timer()\n",
    "            prediction_dict[\"time_for_pred\"] = round(end_time - start_time, 4)\n",
    "        \n",
    "        # 13. Check if the predicted class matches the ground truth class\n",
    "        prediction_dict[\"Correct Prediction\"] = pred_class == class_name\n",
    "\n",
    "        # 14. Append the updated dictionary to the empty list of predictions\n",
    "        prediction_list.append(prediction_dict)\n",
    "        \n",
    "\n",
    "    #15. Return prediction list\n",
    "    return prediction_list"
   ]
  },
  {
   "cell_type": "markdown",
   "id": "ba9f739d-d2c9-4390-818c-98e49d03abef",
   "metadata": {},
   "source": [
    "#### Making and timing predictions using EffnetB2"
   ]
  },
  {
   "cell_type": "code",
   "execution_count": null,
   "id": "ffc7b1c8-04fb-4f80-9251-382a3df4e0f4",
   "metadata": {},
   "outputs": [],
   "source": []
  },
  {
   "cell_type": "code",
   "execution_count": 151,
   "id": "5cd5c27d-45d8-4aed-844e-8d89186ca91d",
   "metadata": {},
   "outputs": [],
   "source": [
    "effnetb2_test_prediction_list = predict_and_score(model=effnetb2_model,\n",
    "                 image_paths= test_data_paths,\n",
    "                 transform= effnetb2_transforms,\n",
    "                 class_names=class_names,\n",
    "                 device = \"cpu\")"
   ]
  },
  {
   "cell_type": "code",
   "execution_count": 152,
   "id": "3babc0df-b50b-4204-b37e-e18e271c7b95",
   "metadata": {},
   "outputs": [],
   "source": [
    "vitbase_test_prediction_list = predict_and_score(model=vitbase_model,\n",
    "                 image_paths= test_data_paths,\n",
    "                 transform= vitbase_transforms,\n",
    "                 class_names=class_names,\n",
    "                 device = \"cpu\")"
   ]
  },
  {
   "cell_type": "code",
   "execution_count": 154,
   "id": "9f6f4eb3-1e49-445f-bfc0-5aa41f5f0ac2",
   "metadata": {},
   "outputs": [
    {
     "data": {
      "text/plain": [
       "[{'image_path': PosixPath('/Users/venu/Documents/Productivity/Pytorch Tutorials/data/dragon_ball_images/test/picolo/download (5).jpeg'),\n",
       "  'class_name': 'picolo',\n",
       "  'pred_prob': 0.9999,\n",
       "  'pred_class': 'picolo',\n",
       "  'time_for_pred': 0.13,\n",
       "  'Correct Prediction': True},\n",
       " {'image_path': PosixPath('/Users/venu/Documents/Productivity/Pytorch Tutorials/data/dragon_ball_images/test/picolo/download.jpeg'),\n",
       "  'class_name': 'picolo',\n",
       "  'pred_prob': 0.9588,\n",
       "  'pred_class': 'picolo',\n",
       "  'time_for_pred': 0.0811,\n",
       "  'Correct Prediction': True}]"
      ]
     },
     "execution_count": 154,
     "metadata": {},
     "output_type": "execute_result"
    }
   ],
   "source": [
    "effnetb2_test_prediction_list[:2]"
   ]
  },
  {
   "cell_type": "code",
   "execution_count": 168,
   "id": "117c7bc6-17c1-445b-be39-a07db6b3fbab",
   "metadata": {},
   "outputs": [
    {
     "data": {
      "text/html": [
       "<div>\n",
       "<style scoped>\n",
       "    .dataframe tbody tr th:only-of-type {\n",
       "        vertical-align: middle;\n",
       "    }\n",
       "\n",
       "    .dataframe tbody tr th {\n",
       "        vertical-align: top;\n",
       "    }\n",
       "\n",
       "    .dataframe thead th {\n",
       "        text-align: right;\n",
       "    }\n",
       "</style>\n",
       "<table border=\"1\" class=\"dataframe\">\n",
       "  <thead>\n",
       "    <tr style=\"text-align: right;\">\n",
       "      <th></th>\n",
       "      <th>image_path</th>\n",
       "      <th>class_name</th>\n",
       "      <th>pred_prob</th>\n",
       "      <th>pred_class</th>\n",
       "      <th>time_for_pred</th>\n",
       "      <th>Correct Prediction</th>\n",
       "    </tr>\n",
       "  </thead>\n",
       "  <tbody>\n",
       "    <tr>\n",
       "      <th>0</th>\n",
       "      <td>/Users/venu/Documents/Productivity/Pytorch Tut...</td>\n",
       "      <td>picolo</td>\n",
       "      <td>0.9999</td>\n",
       "      <td>picolo</td>\n",
       "      <td>0.1300</td>\n",
       "      <td>True</td>\n",
       "    </tr>\n",
       "    <tr>\n",
       "      <th>1</th>\n",
       "      <td>/Users/venu/Documents/Productivity/Pytorch Tut...</td>\n",
       "      <td>picolo</td>\n",
       "      <td>0.9588</td>\n",
       "      <td>picolo</td>\n",
       "      <td>0.0811</td>\n",
       "      <td>True</td>\n",
       "    </tr>\n",
       "    <tr>\n",
       "      <th>2</th>\n",
       "      <td>/Users/venu/Documents/Productivity/Pytorch Tut...</td>\n",
       "      <td>picolo</td>\n",
       "      <td>1.0000</td>\n",
       "      <td>picolo</td>\n",
       "      <td>0.0761</td>\n",
       "      <td>True</td>\n",
       "    </tr>\n",
       "    <tr>\n",
       "      <th>3</th>\n",
       "      <td>/Users/venu/Documents/Productivity/Pytorch Tut...</td>\n",
       "      <td>picolo</td>\n",
       "      <td>0.9997</td>\n",
       "      <td>picolo</td>\n",
       "      <td>0.0728</td>\n",
       "      <td>True</td>\n",
       "    </tr>\n",
       "    <tr>\n",
       "      <th>4</th>\n",
       "      <td>/Users/venu/Documents/Productivity/Pytorch Tut...</td>\n",
       "      <td>picolo</td>\n",
       "      <td>0.9994</td>\n",
       "      <td>picolo</td>\n",
       "      <td>0.0738</td>\n",
       "      <td>True</td>\n",
       "    </tr>\n",
       "    <tr>\n",
       "      <th>...</th>\n",
       "      <td>...</td>\n",
       "      <td>...</td>\n",
       "      <td>...</td>\n",
       "      <td>...</td>\n",
       "      <td>...</td>\n",
       "      <td>...</td>\n",
       "    </tr>\n",
       "    <tr>\n",
       "      <th>69</th>\n",
       "      <td>/Users/venu/Documents/Productivity/Pytorch Tut...</td>\n",
       "      <td>trunks</td>\n",
       "      <td>0.8142</td>\n",
       "      <td>trunks</td>\n",
       "      <td>0.0738</td>\n",
       "      <td>True</td>\n",
       "    </tr>\n",
       "    <tr>\n",
       "      <th>70</th>\n",
       "      <td>/Users/venu/Documents/Productivity/Pytorch Tut...</td>\n",
       "      <td>trunks</td>\n",
       "      <td>0.9504</td>\n",
       "      <td>trunks</td>\n",
       "      <td>0.0725</td>\n",
       "      <td>True</td>\n",
       "    </tr>\n",
       "    <tr>\n",
       "      <th>71</th>\n",
       "      <td>/Users/venu/Documents/Productivity/Pytorch Tut...</td>\n",
       "      <td>trunks</td>\n",
       "      <td>0.9993</td>\n",
       "      <td>trunks</td>\n",
       "      <td>0.0730</td>\n",
       "      <td>True</td>\n",
       "    </tr>\n",
       "    <tr>\n",
       "      <th>72</th>\n",
       "      <td>/Users/venu/Documents/Productivity/Pytorch Tut...</td>\n",
       "      <td>trunks</td>\n",
       "      <td>0.8092</td>\n",
       "      <td>trunks</td>\n",
       "      <td>0.0716</td>\n",
       "      <td>True</td>\n",
       "    </tr>\n",
       "    <tr>\n",
       "      <th>73</th>\n",
       "      <td>/Users/venu/Documents/Productivity/Pytorch Tut...</td>\n",
       "      <td>trunks</td>\n",
       "      <td>0.9996</td>\n",
       "      <td>trunks</td>\n",
       "      <td>0.0758</td>\n",
       "      <td>True</td>\n",
       "    </tr>\n",
       "  </tbody>\n",
       "</table>\n",
       "<p>74 rows × 6 columns</p>\n",
       "</div>"
      ],
      "text/plain": [
       "                                           image_path class_name  pred_prob  \\\n",
       "0   /Users/venu/Documents/Productivity/Pytorch Tut...     picolo     0.9999   \n",
       "1   /Users/venu/Documents/Productivity/Pytorch Tut...     picolo     0.9588   \n",
       "2   /Users/venu/Documents/Productivity/Pytorch Tut...     picolo     1.0000   \n",
       "3   /Users/venu/Documents/Productivity/Pytorch Tut...     picolo     0.9997   \n",
       "4   /Users/venu/Documents/Productivity/Pytorch Tut...     picolo     0.9994   \n",
       "..                                                ...        ...        ...   \n",
       "69  /Users/venu/Documents/Productivity/Pytorch Tut...     trunks     0.8142   \n",
       "70  /Users/venu/Documents/Productivity/Pytorch Tut...     trunks     0.9504   \n",
       "71  /Users/venu/Documents/Productivity/Pytorch Tut...     trunks     0.9993   \n",
       "72  /Users/venu/Documents/Productivity/Pytorch Tut...     trunks     0.8092   \n",
       "73  /Users/venu/Documents/Productivity/Pytorch Tut...     trunks     0.9996   \n",
       "\n",
       "   pred_class  time_for_pred  Correct Prediction  \n",
       "0      picolo         0.1300                True  \n",
       "1      picolo         0.0811                True  \n",
       "2      picolo         0.0761                True  \n",
       "3      picolo         0.0728                True  \n",
       "4      picolo         0.0738                True  \n",
       "..        ...            ...                 ...  \n",
       "69     trunks         0.0738                True  \n",
       "70     trunks         0.0725                True  \n",
       "71     trunks         0.0730                True  \n",
       "72     trunks         0.0716                True  \n",
       "73     trunks         0.0758                True  \n",
       "\n",
       "[74 rows x 6 columns]"
      ]
     },
     "execution_count": 168,
     "metadata": {},
     "output_type": "execute_result"
    }
   ],
   "source": [
    "# Turn the prediction stat dictionaries into df\n",
    "import pandas as pd\n",
    "effnetb2_test_prediction_df = pd.DataFrame(effnetb2_test_prediction_list)\n",
    "vitbase_test_prediction_df = pd.DataFrame(vitbase_test_prediction_list)\n",
    "\n",
    "effnetb2_test_prediction_df.head(-5)"
   ]
  },
  {
   "cell_type": "code",
   "execution_count": 159,
   "id": "f5ed5c3e-ad6f-4cb7-8a2b-70a287848fa2",
   "metadata": {},
   "outputs": [
    {
     "data": {
      "text/html": [
       "<div>\n",
       "<style scoped>\n",
       "    .dataframe tbody tr th:only-of-type {\n",
       "        vertical-align: middle;\n",
       "    }\n",
       "\n",
       "    .dataframe tbody tr th {\n",
       "        vertical-align: top;\n",
       "    }\n",
       "\n",
       "    .dataframe thead th {\n",
       "        text-align: right;\n",
       "    }\n",
       "</style>\n",
       "<table border=\"1\" class=\"dataframe\">\n",
       "  <thead>\n",
       "    <tr style=\"text-align: right;\">\n",
       "      <th></th>\n",
       "      <th>image_path</th>\n",
       "      <th>class_name</th>\n",
       "      <th>pred_prob</th>\n",
       "      <th>pred_class</th>\n",
       "      <th>time_for_pred</th>\n",
       "      <th>Correct Prediction</th>\n",
       "    </tr>\n",
       "  </thead>\n",
       "  <tbody>\n",
       "    <tr>\n",
       "      <th>0</th>\n",
       "      <td>/Users/venu/Documents/Productivity/Pytorch Tut...</td>\n",
       "      <td>picolo</td>\n",
       "      <td>0.9969</td>\n",
       "      <td>picolo</td>\n",
       "      <td>0.1999</td>\n",
       "      <td>True</td>\n",
       "    </tr>\n",
       "    <tr>\n",
       "      <th>1</th>\n",
       "      <td>/Users/venu/Documents/Productivity/Pytorch Tut...</td>\n",
       "      <td>picolo</td>\n",
       "      <td>0.4999</td>\n",
       "      <td>picolo</td>\n",
       "      <td>0.1460</td>\n",
       "      <td>True</td>\n",
       "    </tr>\n",
       "    <tr>\n",
       "      <th>2</th>\n",
       "      <td>/Users/venu/Documents/Productivity/Pytorch Tut...</td>\n",
       "      <td>picolo</td>\n",
       "      <td>1.0000</td>\n",
       "      <td>picolo</td>\n",
       "      <td>0.1416</td>\n",
       "      <td>True</td>\n",
       "    </tr>\n",
       "    <tr>\n",
       "      <th>3</th>\n",
       "      <td>/Users/venu/Documents/Productivity/Pytorch Tut...</td>\n",
       "      <td>picolo</td>\n",
       "      <td>0.9998</td>\n",
       "      <td>picolo</td>\n",
       "      <td>0.1386</td>\n",
       "      <td>True</td>\n",
       "    </tr>\n",
       "    <tr>\n",
       "      <th>4</th>\n",
       "      <td>/Users/venu/Documents/Productivity/Pytorch Tut...</td>\n",
       "      <td>picolo</td>\n",
       "      <td>0.9999</td>\n",
       "      <td>picolo</td>\n",
       "      <td>0.1397</td>\n",
       "      <td>True</td>\n",
       "    </tr>\n",
       "    <tr>\n",
       "      <th>...</th>\n",
       "      <td>...</td>\n",
       "      <td>...</td>\n",
       "      <td>...</td>\n",
       "      <td>...</td>\n",
       "      <td>...</td>\n",
       "      <td>...</td>\n",
       "    </tr>\n",
       "    <tr>\n",
       "      <th>69</th>\n",
       "      <td>/Users/venu/Documents/Productivity/Pytorch Tut...</td>\n",
       "      <td>trunks</td>\n",
       "      <td>0.8373</td>\n",
       "      <td>trunks</td>\n",
       "      <td>0.2001</td>\n",
       "      <td>True</td>\n",
       "    </tr>\n",
       "    <tr>\n",
       "      <th>70</th>\n",
       "      <td>/Users/venu/Documents/Productivity/Pytorch Tut...</td>\n",
       "      <td>trunks</td>\n",
       "      <td>0.5706</td>\n",
       "      <td>goku</td>\n",
       "      <td>0.2165</td>\n",
       "      <td>False</td>\n",
       "    </tr>\n",
       "    <tr>\n",
       "      <th>71</th>\n",
       "      <td>/Users/venu/Documents/Productivity/Pytorch Tut...</td>\n",
       "      <td>trunks</td>\n",
       "      <td>0.9998</td>\n",
       "      <td>trunks</td>\n",
       "      <td>0.2414</td>\n",
       "      <td>True</td>\n",
       "    </tr>\n",
       "    <tr>\n",
       "      <th>72</th>\n",
       "      <td>/Users/venu/Documents/Productivity/Pytorch Tut...</td>\n",
       "      <td>trunks</td>\n",
       "      <td>0.9855</td>\n",
       "      <td>trunks</td>\n",
       "      <td>0.2215</td>\n",
       "      <td>True</td>\n",
       "    </tr>\n",
       "    <tr>\n",
       "      <th>73</th>\n",
       "      <td>/Users/venu/Documents/Productivity/Pytorch Tut...</td>\n",
       "      <td>trunks</td>\n",
       "      <td>0.9999</td>\n",
       "      <td>trunks</td>\n",
       "      <td>0.2033</td>\n",
       "      <td>True</td>\n",
       "    </tr>\n",
       "  </tbody>\n",
       "</table>\n",
       "<p>74 rows × 6 columns</p>\n",
       "</div>"
      ],
      "text/plain": [
       "                                           image_path class_name  pred_prob  \\\n",
       "0   /Users/venu/Documents/Productivity/Pytorch Tut...     picolo     0.9969   \n",
       "1   /Users/venu/Documents/Productivity/Pytorch Tut...     picolo     0.4999   \n",
       "2   /Users/venu/Documents/Productivity/Pytorch Tut...     picolo     1.0000   \n",
       "3   /Users/venu/Documents/Productivity/Pytorch Tut...     picolo     0.9998   \n",
       "4   /Users/venu/Documents/Productivity/Pytorch Tut...     picolo     0.9999   \n",
       "..                                                ...        ...        ...   \n",
       "69  /Users/venu/Documents/Productivity/Pytorch Tut...     trunks     0.8373   \n",
       "70  /Users/venu/Documents/Productivity/Pytorch Tut...     trunks     0.5706   \n",
       "71  /Users/venu/Documents/Productivity/Pytorch Tut...     trunks     0.9998   \n",
       "72  /Users/venu/Documents/Productivity/Pytorch Tut...     trunks     0.9855   \n",
       "73  /Users/venu/Documents/Productivity/Pytorch Tut...     trunks     0.9999   \n",
       "\n",
       "   pred_class  time_for_pred  Correct Prediction  \n",
       "0      picolo         0.1999                True  \n",
       "1      picolo         0.1460                True  \n",
       "2      picolo         0.1416                True  \n",
       "3      picolo         0.1386                True  \n",
       "4      picolo         0.1397                True  \n",
       "..        ...            ...                 ...  \n",
       "69     trunks         0.2001                True  \n",
       "70       goku         0.2165               False  \n",
       "71     trunks         0.2414                True  \n",
       "72     trunks         0.2215                True  \n",
       "73     trunks         0.2033                True  \n",
       "\n",
       "[74 rows x 6 columns]"
      ]
     },
     "execution_count": 159,
     "metadata": {},
     "output_type": "execute_result"
    }
   ],
   "source": [
    "vitbase_test_prediction_df.head(-5)"
   ]
  },
  {
   "cell_type": "code",
   "execution_count": 170,
   "id": "3457da85-339b-4b6b-a02e-009ab4f08a1e",
   "metadata": {},
   "outputs": [
    {
     "data": {
      "text/plain": [
       "Correct Prediction\n",
       "True     70\n",
       "False     9\n",
       "Name: count, dtype: int64"
      ]
     },
     "execution_count": 170,
     "metadata": {},
     "output_type": "execute_result"
    }
   ],
   "source": [
    "vitbase_test_prediction_df[\"Correct Prediction\"].value_counts()"
   ]
  },
  {
   "cell_type": "code",
   "execution_count": 171,
   "id": "8e246035-dcf8-4dd0-a61a-03d68fab7e81",
   "metadata": {},
   "outputs": [
    {
     "data": {
      "text/plain": [
       "Correct Prediction\n",
       "True     69\n",
       "False    10\n",
       "Name: count, dtype: int64"
      ]
     },
     "execution_count": 171,
     "metadata": {},
     "output_type": "execute_result"
    }
   ],
   "source": [
    " effnetb2_test_prediction_df[\"Correct Prediction\"].value_counts()"
   ]
  },
  {
   "cell_type": "markdown",
   "id": "cec1ecb9-4fc5-4770-90ca-dcbea451906c",
   "metadata": {},
   "source": [
    "### Find the average time for prediction"
   ]
  },
  {
   "cell_type": "code",
   "execution_count": 172,
   "id": "f43c6e3a-9e8c-4e93-9102-6b810e0cc08f",
   "metadata": {},
   "outputs": [
    {
     "data": {
      "text/plain": [
       "0.075"
      ]
     },
     "execution_count": 172,
     "metadata": {},
     "output_type": "execute_result"
    }
   ],
   "source": [
    "effnetb2_average_prdeiction = round(effnetb2_test_prediction_df[\"time_for_pred\"].mean(), 3)\n",
    "effnetb2_average_prdeiction"
   ]
  },
  {
   "cell_type": "code",
   "execution_count": 173,
   "id": "94b16727-f483-48a6-976f-8b100a2e2191",
   "metadata": {},
   "outputs": [
    {
     "data": {
      "text/plain": [
       "0.185"
      ]
     },
     "execution_count": 173,
     "metadata": {},
     "output_type": "execute_result"
    }
   ],
   "source": [
    "vitbase_average_prdeiction = round(vitbase_test_prediction_df[\"time_for_pred\"].mean(), 3)\n",
    "vitbase_average_prdeiction"
   ]
  },
  {
   "cell_type": "code",
   "execution_count": 175,
   "id": "1ea1a262-dd54-4f9e-8f56-b2e9182d6d88",
   "metadata": {},
   "outputs": [],
   "source": [
    "vitbase_model_stats[\"average_prediction_time\"] = vitbase_average_prdeiction\n",
    "effnetb2_stats[\"average_prediction_time\"] = effnetb2_average_prdeiction"
   ]
  },
  {
   "cell_type": "code",
   "execution_count": 176,
   "id": "39e5c8b6-dddf-4bc8-aca4-1d8f20dfcd58",
   "metadata": {},
   "outputs": [
    {
     "data": {
      "text/plain": [
       "{'test_loss': 0.2922341028849284,\n",
       " 'test_acc': 0.8784722222222222,\n",
       " 'number of params': 85801732,\n",
       " 'Model Size[MB]': 29.8518009185791,\n",
       " 'average_prediction_time': 0.185}"
      ]
     },
     "execution_count": 176,
     "metadata": {},
     "output_type": "execute_result"
    }
   ],
   "source": [
    "vitbase_model_stats"
   ]
  },
  {
   "cell_type": "code",
   "execution_count": 177,
   "id": "4176d1e4-932f-4ef5-b3f5-94a8d2c8c9ab",
   "metadata": {},
   "outputs": [
    {
     "data": {
      "text/plain": [
       "{'test_loss': 0.29731755952040356,\n",
       " 'test_acc': 0.8611111111111112,\n",
       " 'number of params': 7706630,\n",
       " 'Model Size[MB]': 29.8522891998291,\n",
       " 'average_prediction_time': 0.075}"
      ]
     },
     "execution_count": 177,
     "metadata": {},
     "output_type": "execute_result"
    }
   ],
   "source": [
    "effnetb2_stats"
   ]
  },
  {
   "cell_type": "markdown",
   "id": "a9d51aa8-a37b-4e95-a0a0-0e16e4f0263a",
   "metadata": {},
   "source": [
    "#### Model Performance Comparision Statistics"
   ]
  },
  {
   "cell_type": "code",
   "execution_count": 178,
   "id": "c4f69252-1614-4182-80c9-a1c4639d97aa",
   "metadata": {},
   "outputs": [],
   "source": [
    "comparision_df = pd.DataFrame([vitbase_model_stats, effnetb2_stats])"
   ]
  },
  {
   "cell_type": "code",
   "execution_count": 180,
   "id": "f505115c-99a1-47cb-900e-1f9a49a33738",
   "metadata": {},
   "outputs": [],
   "source": [
    "comparision_df[\"Model\"] = [\"Vit Base Model\", \"EffnetB2 Model\"]"
   ]
  },
  {
   "cell_type": "code",
   "execution_count": 182,
   "id": "3c17309f-2d67-4182-aef0-e2656eddef2e",
   "metadata": {},
   "outputs": [],
   "source": [
    "comparision_df[\"test_acc\"] = round(comparision_df[\"test_acc\"]*100, 2)"
   ]
  },
  {
   "cell_type": "code",
   "execution_count": 183,
   "id": "4e1c05db-f6ff-46a8-8053-240e71b439f6",
   "metadata": {},
   "outputs": [
    {
     "data": {
      "text/html": [
       "<div>\n",
       "<style scoped>\n",
       "    .dataframe tbody tr th:only-of-type {\n",
       "        vertical-align: middle;\n",
       "    }\n",
       "\n",
       "    .dataframe tbody tr th {\n",
       "        vertical-align: top;\n",
       "    }\n",
       "\n",
       "    .dataframe thead th {\n",
       "        text-align: right;\n",
       "    }\n",
       "</style>\n",
       "<table border=\"1\" class=\"dataframe\">\n",
       "  <thead>\n",
       "    <tr style=\"text-align: right;\">\n",
       "      <th></th>\n",
       "      <th>test_loss</th>\n",
       "      <th>test_acc</th>\n",
       "      <th>number of params</th>\n",
       "      <th>Model Size[MB]</th>\n",
       "      <th>average_prediction_time</th>\n",
       "      <th>Model</th>\n",
       "    </tr>\n",
       "  </thead>\n",
       "  <tbody>\n",
       "    <tr>\n",
       "      <th>0</th>\n",
       "      <td>0.292234</td>\n",
       "      <td>87.85</td>\n",
       "      <td>85801732</td>\n",
       "      <td>29.851801</td>\n",
       "      <td>0.185</td>\n",
       "      <td>Vit Base Model</td>\n",
       "    </tr>\n",
       "    <tr>\n",
       "      <th>1</th>\n",
       "      <td>0.297318</td>\n",
       "      <td>86.11</td>\n",
       "      <td>7706630</td>\n",
       "      <td>29.852289</td>\n",
       "      <td>0.075</td>\n",
       "      <td>EffnetB2 Model</td>\n",
       "    </tr>\n",
       "  </tbody>\n",
       "</table>\n",
       "</div>"
      ],
      "text/plain": [
       "   test_loss  test_acc  number of params  Model Size[MB]  \\\n",
       "0   0.292234     87.85          85801732       29.851801   \n",
       "1   0.297318     86.11           7706630       29.852289   \n",
       "\n",
       "   average_prediction_time           Model  \n",
       "0                    0.185  Vit Base Model  \n",
       "1                    0.075  EffnetB2 Model  "
      ]
     },
     "execution_count": 183,
     "metadata": {},
     "output_type": "execute_result"
    }
   ],
   "source": [
    "comparision_df"
   ]
  },
  {
   "cell_type": "markdown",
   "id": "cba15f8f-57ae-439e-99a0-8d6a966d33d9",
   "metadata": {},
   "source": [
    "### Inference drawn from comparision metrics\n",
    "\n",
    "1. We could see that both the models acc is almost close.\n",
    "2. However we could see that when considering the number of params, the number of params for ViT Base model is far higher when compared to EffnetB2 Model although they both have similar accuracy scores\n",
    "3. We could see that on the average prediction time EffnetB2 model takes very less for single prediction, also the model size is similar when compared against each other."
   ]
  },
  {
   "cell_type": "markdown",
   "id": "9289d83a-1ef5-4eda-951f-04b4516616c8",
   "metadata": {},
   "source": [
    "#### Compare Ratios of EffnetB2 Model to ViT Base model"
   ]
  },
  {
   "cell_type": "code",
   "execution_count": 185,
   "id": "e3c2306e-84e4-4c7a-a8af-8837531a74ae",
   "metadata": {},
   "outputs": [],
   "source": [
    "ratio_compare_df = pd.DataFrame(data = (comparision_df.set_index(\"Model\").loc[\"EffnetB2 Model\"] / comparision_df.set_index(\"Model\").loc[\"Vit Base Model\"]),\n",
    "                               columns= [\"EffnetB2 to ViT Ratios\"])"
   ]
  },
  {
   "cell_type": "code",
   "execution_count": 186,
   "id": "e91f31df-4b41-473e-9f95-f9cda87d6ba4",
   "metadata": {},
   "outputs": [
    {
     "data": {
      "text/html": [
       "<div>\n",
       "<style scoped>\n",
       "    .dataframe tbody tr th:only-of-type {\n",
       "        vertical-align: middle;\n",
       "    }\n",
       "\n",
       "    .dataframe tbody tr th {\n",
       "        vertical-align: top;\n",
       "    }\n",
       "\n",
       "    .dataframe thead th {\n",
       "        text-align: right;\n",
       "    }\n",
       "</style>\n",
       "<table border=\"1\" class=\"dataframe\">\n",
       "  <thead>\n",
       "    <tr style=\"text-align: right;\">\n",
       "      <th></th>\n",
       "      <th>EffnetB2 to ViT Ratios</th>\n",
       "    </tr>\n",
       "  </thead>\n",
       "  <tbody>\n",
       "    <tr>\n",
       "      <th>test_loss</th>\n",
       "      <td>1.017395</td>\n",
       "    </tr>\n",
       "    <tr>\n",
       "      <th>test_acc</th>\n",
       "      <td>0.980194</td>\n",
       "    </tr>\n",
       "    <tr>\n",
       "      <th>number of params</th>\n",
       "      <td>0.089819</td>\n",
       "    </tr>\n",
       "    <tr>\n",
       "      <th>Model Size[MB]</th>\n",
       "      <td>1.000016</td>\n",
       "    </tr>\n",
       "    <tr>\n",
       "      <th>average_prediction_time</th>\n",
       "      <td>0.405405</td>\n",
       "    </tr>\n",
       "  </tbody>\n",
       "</table>\n",
       "</div>"
      ],
      "text/plain": [
       "                         EffnetB2 to ViT Ratios\n",
       "test_loss                              1.017395\n",
       "test_acc                               0.980194\n",
       "number of params                       0.089819\n",
       "Model Size[MB]                         1.000016\n",
       "average_prediction_time                0.405405"
      ]
     },
     "execution_count": 186,
     "metadata": {},
     "output_type": "execute_result"
    }
   ],
   "source": [
    "ratio_compare_df"
   ]
  },
  {
   "cell_type": "code",
   "execution_count": 192,
   "id": "4111b7ed-3a50-434d-9a96-535094b0a3e4",
   "metadata": {},
   "outputs": [
    {
     "data": {
      "image/png": "[encoded data removed]",
      "text/plain": [
       "<Figure size 800x600 with 1 Axes>"
      ]
     },
     "metadata": {},
     "output_type": "display_data"
    }
   ],
   "source": [
    "import matplotlib.pyplot as plt\n",
    "\n",
    "# Create a scatter plot with size based on Model Size[MB]\n",
    "plt.figure(figsize=(8, 6))\n",
    "plt.scatter(comparision_df[\"average_prediction_time\"], comparision_df[\"test_acc\"], s=comparision_df[\"Model Size[MB]\"] / 10, alpha=0.7)\n",
    "\n",
    "# Add labels and title\n",
    "plt.xlabel(\"Average Prediction Time\")\n",
    "plt.ylabel(\"Test Accuracy\")\n",
    "plt.title(\"Model Performance Comparison - DBZ Character Classifier\")\n",
    "\n",
    "# Add legend\n",
    "for i, row in comparision_df.iterrows():\n",
    "    plt.annotate(row[\"Model\"], (row[\"average_prediction_time\"], row[\"test_acc\"]), fontsize=10)\n",
    "\n",
    "plt.grid(True)\n",
    "plt.show()"
   ]
  },
  {
   "cell_type": "markdown",
   "id": "217f2107-ac5f-429a-9e99-6fb409b319c0",
   "metadata": {},
   "source": [
    "# Using Gradio to Deploy the model - **EffnetB2 Model**\n",
    "\n",
    "Gradio is the fastest way to demo your machine learning model with a friendly web interface so that anyone can use it, anywhere!"
   ]
  },
  {
   "cell_type": "code",
   "execution_count": 193,
   "id": "195dd4b0-6385-4a87-98d3-79fa287f76bb",
   "metadata": {},
   "outputs": [
    {
     "name": "stdout",
     "output_type": "stream",
     "text": [
      "Collecting gradio\n",
      "  Downloading gradio-4.44.0-py3-none-any.whl.metadata (15 kB)\n",
      "Collecting aiofiles<24.0,>=22.0 (from gradio)\n",
      "  Downloading aiofiles-23.2.1-py3-none-any.whl.metadata (9.7 kB)\n",
      "Requirement already satisfied: anyio<5.0,>=3.0 in /opt/anaconda3/lib/python3.11/site-packages (from gradio) (4.2.0)\n",
      "Collecting fastapi<1.0 (from gradio)\n",
      "  Downloading fastapi-0.115.0-py3-none-any.whl.metadata (27 kB)\n",
      "Collecting ffmpy (from gradio)\n",
      "  Downloading ffmpy-0.4.0-py3-none-any.whl.metadata (2.9 kB)\n",
      "Collecting gradio-client==1.3.0 (from gradio)\n",
      "  Downloading gradio_client-1.3.0-py3-none-any.whl.metadata (7.1 kB)\n",
      "Requirement already satisfied: httpx>=0.24.1 in /opt/anaconda3/lib/python3.11/site-packages (from gradio) (0.27.0)\n",
      "Requirement already satisfied: huggingface-hub>=0.19.3 in /opt/anaconda3/lib/python3.11/site-packages (from gradio) (0.22.1)\n",
      "Collecting importlib-resources<7.0,>=1.3 (from gradio)\n",
      "  Downloading importlib_resources-6.4.5-py3-none-any.whl.metadata (4.0 kB)\n",
      "Requirement already satisfied: jinja2<4.0 in /opt/anaconda3/lib/python3.11/site-packages (from gradio) (3.1.3)\n",
      "Requirement already satisfied: markupsafe~=2.0 in /opt/anaconda3/lib/python3.11/site-packages (from gradio) (2.1.3)\n",
      "Requirement already satisfied: matplotlib~=3.0 in /opt/anaconda3/lib/python3.11/site-packages (from gradio) (3.8.0)\n",
      "Requirement already satisfied: numpy<3.0,>=1.0 in /opt/anaconda3/lib/python3.11/site-packages (from gradio) (1.26.4)\n",
      "Requirement already satisfied: orjson~=3.0 in /opt/anaconda3/lib/python3.11/site-packages (from gradio) (3.10.5)\n",
      "Requirement already satisfied: packaging in /opt/anaconda3/lib/python3.11/site-packages (from gradio) (24.1)\n",
      "Requirement already satisfied: pandas<3.0,>=1.0 in /opt/anaconda3/lib/python3.11/site-packages (from gradio) (2.1.4)\n",
      "Requirement already satisfied: pillow<11.0,>=8.0 in /opt/anaconda3/lib/python3.11/site-packages (from gradio) (10.2.0)\n",
      "Collecting pydantic>=2.0 (from gradio)\n",
      "  Downloading pydantic-2.9.2-py3-none-any.whl.metadata (149 kB)\n",
      "\u001b[2K     \u001b[90m━━━━━━━━━━━━━━━━━━━━━━━━━━━━━━━━━━━━━━━\u001b[0m \u001b[32m149.4/149.4 kB\u001b[0m \u001b[31m3.8 MB/s\u001b[0m eta \u001b[36m0:00:00\u001b[0m\n",
      "\u001b[?25hCollecting pydub (from gradio)\n",
      "  Downloading pydub-0.25.1-py2.py3-none-any.whl.metadata (1.4 kB)\n",
      "Collecting python-multipart>=0.0.9 (from gradio)\n",
      "  Downloading python_multipart-0.0.10-py3-none-any.whl.metadata (1.9 kB)\n",
      "Requirement already satisfied: pyyaml<7.0,>=5.0 in /opt/anaconda3/lib/python3.11/site-packages (from gradio) (6.0.1)\n",
      "Collecting ruff>=0.2.2 (from gradio)\n",
      "  Downloading ruff-0.6.8-py3-none-macosx_10_12_x86_64.whl.metadata (25 kB)\n",
      "Collecting semantic-version~=2.0 (from gradio)\n",
      "  Downloading semantic_version-2.10.0-py2.py3-none-any.whl.metadata (9.7 kB)\n",
      "Collecting tomlkit==0.12.0 (from gradio)\n",
      "  Downloading tomlkit-0.12.0-py3-none-any.whl.metadata (2.7 kB)\n",
      "Collecting typer<1.0,>=0.12 (from gradio)\n",
      "  Downloading typer-0.12.5-py3-none-any.whl.metadata (15 kB)\n",
      "Requirement already satisfied: typing-extensions~=4.0 in /opt/anaconda3/lib/python3.11/site-packages (from gradio) (4.9.0)\n",
      "Requirement already satisfied: urllib3~=2.0 in /opt/anaconda3/lib/python3.11/site-packages (from gradio) (2.0.7)\n",
      "Collecting uvicorn>=0.14.0 (from gradio)\n",
      "  Downloading uvicorn-0.30.6-py3-none-any.whl.metadata (6.6 kB)\n",
      "Requirement already satisfied: fsspec in /opt/anaconda3/lib/python3.11/site-packages (from gradio-client==1.3.0->gradio) (2023.10.0)\n",
      "Collecting websockets<13.0,>=10.0 (from gradio-client==1.3.0->gradio)\n",
      "  Downloading websockets-12.0-cp311-cp311-macosx_10_9_x86_64.whl.metadata (6.6 kB)\n",
      "Requirement already satisfied: idna>=2.8 in /opt/anaconda3/lib/python3.11/site-packages (from anyio<5.0,>=3.0->gradio) (3.4)\n",
      "Requirement already satisfied: sniffio>=1.1 in /opt/anaconda3/lib/python3.11/site-packages (from anyio<5.0,>=3.0->gradio) (1.3.0)\n",
      "Collecting starlette<0.39.0,>=0.37.2 (from fastapi<1.0->gradio)\n",
      "  Downloading starlette-0.38.6-py3-none-any.whl.metadata (6.0 kB)\n",
      "Requirement already satisfied: certifi in /opt/anaconda3/lib/python3.11/site-packages (from httpx>=0.24.1->gradio) (2024.2.2)\n",
      "Requirement already satisfied: httpcore==1.* in /opt/anaconda3/lib/python3.11/site-packages (from httpx>=0.24.1->gradio) (1.0.5)\n",
      "Requirement already satisfied: h11<0.15,>=0.13 in /opt/anaconda3/lib/python3.11/site-packages (from httpcore==1.*->httpx>=0.24.1->gradio) (0.14.0)\n",
      "Requirement already satisfied: filelock in /opt/anaconda3/lib/python3.11/site-packages (from huggingface-hub>=0.19.3->gradio) (3.13.1)\n",
      "Requirement already satisfied: requests in /opt/anaconda3/lib/python3.11/site-packages (from huggingface-hub>=0.19.3->gradio) (2.31.0)\n",
      "Requirement already satisfied: tqdm>=4.42.1 in /opt/anaconda3/lib/python3.11/site-packages (from huggingface-hub>=0.19.3->gradio) (4.62.3)\n",
      "Requirement already satisfied: contourpy>=1.0.1 in /opt/anaconda3/lib/python3.11/site-packages (from matplotlib~=3.0->gradio) (1.2.0)\n",
      "Requirement already satisfied: cycler>=0.10 in /opt/anaconda3/lib/python3.11/site-packages (from matplotlib~=3.0->gradio) (0.11.0)\n",
      "Requirement already satisfied: fonttools>=4.22.0 in /opt/anaconda3/lib/python3.11/site-packages (from matplotlib~=3.0->gradio) (4.25.0)\n",
      "Requirement already satisfied: kiwisolver>=1.0.1 in /opt/anaconda3/lib/python3.11/site-packages (from matplotlib~=3.0->gradio) (1.4.4)\n",
      "Requirement already satisfied: pyparsing>=2.3.1 in /opt/anaconda3/lib/python3.11/site-packages (from matplotlib~=3.0->gradio) (3.0.9)\n",
      "Requirement already satisfied: python-dateutil>=2.7 in /opt/anaconda3/lib/python3.11/site-packages (from matplotlib~=3.0->gradio) (2.8.2)\n",
      "Requirement already satisfied: pytz>=2020.1 in /opt/anaconda3/lib/python3.11/site-packages (from pandas<3.0,>=1.0->gradio) (2023.3.post1)\n",
      "Requirement already satisfied: tzdata>=2022.1 in /opt/anaconda3/lib/python3.11/site-packages (from pandas<3.0,>=1.0->gradio) (2023.3)\n",
      "Collecting annotated-types>=0.6.0 (from pydantic>=2.0->gradio)\n",
      "  Using cached annotated_types-0.7.0-py3-none-any.whl.metadata (15 kB)\n",
      "Collecting pydantic-core==2.23.4 (from pydantic>=2.0->gradio)\n",
      "  Downloading pydantic_core-2.23.4-cp311-cp311-macosx_10_12_x86_64.whl.metadata (6.6 kB)\n",
      "Requirement already satisfied: click>=8.0.0 in /opt/anaconda3/lib/python3.11/site-packages (from typer<1.0,>=0.12->gradio) (8.1.7)\n",
      "Collecting shellingham>=1.3.0 (from typer<1.0,>=0.12->gradio)\n",
      "  Downloading shellingham-1.5.4-py2.py3-none-any.whl.metadata (3.5 kB)\n",
      "Requirement already satisfied: rich>=10.11.0 in /opt/anaconda3/lib/python3.11/site-packages (from typer<1.0,>=0.12->gradio) (13.3.5)\n",
      "Requirement already satisfied: six>=1.5 in /opt/anaconda3/lib/python3.11/site-packages (from python-dateutil>=2.7->matplotlib~=3.0->gradio) (1.16.0)\n",
      "Requirement already satisfied: markdown-it-py<3.0.0,>=2.2.0 in /opt/anaconda3/lib/python3.11/site-packages (from rich>=10.11.0->typer<1.0,>=0.12->gradio) (2.2.0)\n",
      "Requirement already satisfied: pygments<3.0.0,>=2.13.0 in /opt/anaconda3/lib/python3.11/site-packages (from rich>=10.11.0->typer<1.0,>=0.12->gradio) (2.15.1)\n",
      "Requirement already satisfied: charset-normalizer<4,>=2 in /opt/anaconda3/lib/python3.11/site-packages (from requests->huggingface-hub>=0.19.3->gradio) (2.0.4)\n",
      "Requirement already satisfied: mdurl~=0.1 in /opt/anaconda3/lib/python3.11/site-packages (from markdown-it-py<3.0.0,>=2.2.0->rich>=10.11.0->typer<1.0,>=0.12->gradio) (0.1.0)\n",
      "Downloading gradio-4.44.0-py3-none-any.whl (18.1 MB)\n",
      "\u001b[2K   \u001b[90m━━━━━━━━━━━━━━━━━━━━━━━━━━━━━━━━━━━━━━━━\u001b[0m \u001b[32m18.1/18.1 MB\u001b[0m \u001b[31m18.5 MB/s\u001b[0m eta \u001b[36m0:00:00\u001b[0m00:01\u001b[0m00:01\u001b[0m\n",
      "\u001b[?25hDownloading gradio_client-1.3.0-py3-none-any.whl (318 kB)\n",
      "\u001b[2K   \u001b[90m━━━━━━━━━━━━━━━━━━━━━━━━━━━━━━━━━━━━━━━━\u001b[0m \u001b[32m318.7/318.7 kB\u001b[0m \u001b[31m8.5 MB/s\u001b[0m eta \u001b[36m0:00:00\u001b[0m\n",
      "\u001b[?25hDownloading tomlkit-0.12.0-py3-none-any.whl (37 kB)\n",
      "Downloading aiofiles-23.2.1-py3-none-any.whl (15 kB)\n",
      "Downloading fastapi-0.115.0-py3-none-any.whl (94 kB)\n",
      "\u001b[2K   \u001b[90m━━━━━━━━━━━━━━━━━━━━━━━━━━━━━━━━━━━━━━━━\u001b[0m \u001b[32m94.6/94.6 kB\u001b[0m \u001b[31m3.2 MB/s\u001b[0m eta \u001b[36m0:00:00\u001b[0m\n",
      "\u001b[?25hDownloading importlib_resources-6.4.5-py3-none-any.whl (36 kB)\n",
      "Downloading pydantic-2.9.2-py3-none-any.whl (434 kB)\n",
      "\u001b[2K   \u001b[90m━━━━━━━━━━━━━━━━━━━━━━━━━━━━━━━━━━━━━━━━\u001b[0m \u001b[32m434.9/434.9 kB\u001b[0m \u001b[31m9.0 MB/s\u001b[0m eta \u001b[36m0:00:00\u001b[0m:00:01\u001b[0m\n",
      "\u001b[?25hDownloading pydantic_core-2.23.4-cp311-cp311-macosx_10_12_x86_64.whl (1.9 MB)\n",
      "\u001b[2K   \u001b[90m━━━━━━━━━━━━━━━━━━━━━━━━━━━━━━━━━━━━━━━━\u001b[0m \u001b[32m1.9/1.9 MB\u001b[0m \u001b[31m15.5 MB/s\u001b[0m eta \u001b[36m0:00:00\u001b[0m00:01\u001b[0m00:01\u001b[0m\n",
      "\u001b[?25hDownloading python_multipart-0.0.10-py3-none-any.whl (22 kB)\n",
      "Downloading ruff-0.6.8-py3-none-macosx_10_12_x86_64.whl (10.0 MB)\n",
      "\u001b[2K   \u001b[90m━━━━━━━━━━━━━━━━━━━━━━━━━━━━━━━━━━━━━━━━\u001b[0m \u001b[32m10.0/10.0 MB\u001b[0m \u001b[31m21.4 MB/s\u001b[0m eta \u001b[36m0:00:00\u001b[0m00:01\u001b[0m0:01\u001b[0m\n",
      "\u001b[?25hDownloading semantic_version-2.10.0-py2.py3-none-any.whl (15 kB)\n",
      "Downloading typer-0.12.5-py3-none-any.whl (47 kB)\n",
      "\u001b[2K   \u001b[90m━━━━━━━━━━━━━━━━━━━━━━━━━━━━━━━━━━━━━━━━\u001b[0m \u001b[32m47.3/47.3 kB\u001b[0m \u001b[31m1.4 MB/s\u001b[0m eta \u001b[36m0:00:00\u001b[0m\n",
      "\u001b[?25hDownloading uvicorn-0.30.6-py3-none-any.whl (62 kB)\n",
      "\u001b[2K   \u001b[90m━━━━━━━━━━━━━━━━━━━━━━━━━━━━━━━━━━━━━━━━\u001b[0m \u001b[32m62.8/62.8 kB\u001b[0m \u001b[31m1.9 MB/s\u001b[0m eta \u001b[36m0:00:00\u001b[0m\n",
      "\u001b[?25hDownloading ffmpy-0.4.0-py3-none-any.whl (5.8 kB)\n",
      "Downloading pydub-0.25.1-py2.py3-none-any.whl (32 kB)\n",
      "Using cached annotated_types-0.7.0-py3-none-any.whl (13 kB)\n",
      "Downloading shellingham-1.5.4-py2.py3-none-any.whl (9.8 kB)\n",
      "Downloading starlette-0.38.6-py3-none-any.whl (71 kB)\n",
      "\u001b[2K   \u001b[90m━━━━━━━━━━━━━━━━━━━━━━━━━━━━━━━━━━━━━━━━\u001b[0m \u001b[32m71.5/71.5 kB\u001b[0m \u001b[31m2.1 MB/s\u001b[0m eta \u001b[36m0:00:00\u001b[0m\n",
      "\u001b[?25hDownloading websockets-12.0-cp311-cp311-macosx_10_9_x86_64.whl (121 kB)\n",
      "\u001b[2K   \u001b[90m━━━━━━━━━━━━━━━━━━━━━━━━━━━━━━━━━━━━━━━━\u001b[0m \u001b[32m121.3/121.3 kB\u001b[0m \u001b[31m3.4 MB/s\u001b[0m eta \u001b[36m0:00:00\u001b[0m\n",
      "\u001b[?25hInstalling collected packages: pydub, websockets, uvicorn, tomlkit, shellingham, semantic-version, ruff, python-multipart, pydantic-core, importlib-resources, ffmpy, annotated-types, aiofiles, starlette, pydantic, typer, gradio-client, fastapi, gradio\n",
      "  Attempting uninstall: tomlkit\n",
      "    Found existing installation: tomlkit 0.11.1\n",
      "    Uninstalling tomlkit-0.11.1:\n",
      "      Successfully uninstalled tomlkit-0.11.1\n",
      "  Attempting uninstall: pydantic\n",
      "    Found existing installation: pydantic 1.10.12\n",
      "    Uninstalling pydantic-1.10.12:\n",
      "      Successfully uninstalled pydantic-1.10.12\n",
      "\u001b[31mERROR: pip's dependency resolver does not currently take into account all the packages that are installed. This behaviour is the source of the following dependency conflicts.\n",
      "anaconda-cloud-auth 0.1.4 requires pydantic<2.0, but you have pydantic 2.9.2 which is incompatible.\u001b[0m\u001b[31m\n",
      "\u001b[0mSuccessfully installed aiofiles-23.2.1 annotated-types-0.7.0 fastapi-0.115.0 ffmpy-0.4.0 gradio-4.44.0 gradio-client-1.3.0 importlib-resources-6.4.5 pydantic-2.9.2 pydantic-core-2.23.4 pydub-0.25.1 python-multipart-0.0.10 ruff-0.6.8 semantic-version-2.10.0 shellingham-1.5.4 starlette-0.38.6 tomlkit-0.12.0 typer-0.12.5 uvicorn-0.30.6 websockets-12.0\n",
      "Note: you may need to restart the kernel to use updated packages.\n"
     ]
    }
   ],
   "source": [
    "pip install gradio"
   ]
  },
  {
   "cell_type": "code",
   "execution_count": 197,
   "id": "52c0f95c-c80d-42b6-9da6-5aaec9e44452",
   "metadata": {},
   "outputs": [
    {
     "name": "stdout",
     "output_type": "stream",
     "text": [
      "Current Gradio version is 4.44.0\n"
     ]
    }
   ],
   "source": [
    "import gradio as gr\n",
    "print(f\"Current Gradio version is {gr.__version__}\")"
   ]
  },
  {
   "cell_type": "markdown",
   "id": "2e1c8e83-660e-4ead-9c31-af5ab2a6cb37",
   "metadata": {},
   "source": [
    "## Gradio Overview\n",
    "1. Gradio helps you create demos for our Machine Learning Model.\n",
    "2. Why create a Demo? So that we can test our model in the real world and also other people can test our model.\n",
    "3. Deployment is as important as training the model.\n",
    "4. What we want to achieve is -\n",
    "   `input(image) -->  function(model) -->  output(label)`"
   ]
  },
  {
   "cell_type": "markdown",
   "id": "e4baa70c-1e31-4301-9d83-1af03215bcd8",
   "metadata": {},
   "source": [
    "### Creating a function to map our inputs and outputs"
   ]
  },
  {
   "cell_type": "code",
   "execution_count": 201,
   "id": "0dc28658-f773-4ce1-bac1-007f4936837f",
   "metadata": {},
   "outputs": [
    {
     "data": {
      "text/plain": [
       "device(type='cpu')"
      ]
     },
     "execution_count": 201,
     "metadata": {},
     "output_type": "execute_result"
    }
   ],
   "source": [
    "# put the model on cpu\n",
    "effnetb2_model = effnetb2_model.to(\"cpu\")\n",
    "\n",
    "next(iter(effnetb2_model.parameters())).device"
   ]
  },
  {
   "cell_type": "markdown",
   "id": "529c1737-0f0a-41fb-90ff-7613fc74d6d2",
   "metadata": {},
   "source": [
    "import gradio as gr\n",
    "\n",
    "def greet(name, intensity):\n",
    "    return \"Hello, \" + name + \"!\" * int(intensity)\n",
    "\n",
    "demo = gr.Interface(\n",
    "    fn=greet,\n",
    "    inputs=[\"text\", \"slider\"],\n",
    "    outputs=[\"text\"],\n",
    ")\n",
    "\n",
    "demo.launch()\n",
    "\n",
    "#### gradio takes a function of the model which we want to feed to the interface class"
   ]
  },
  {
   "cell_type": "markdown",
   "id": "1692cbde-98eb-4f6b-9140-342a3a8f0d3a",
   "metadata": {},
   "source": [
    "#### we will create a function `predict()` which will do the following - \n",
    "\n",
    "#### input (image) --> model function(EffnetB2) --> Output Dict{prediction label, prediction time}"
   ]
  },
  {
   "cell_type": "code",
   "execution_count": 221,
   "id": "096661de-356c-4b45-ba46-dad9c7a57692",
   "metadata": {},
   "outputs": [],
   "source": [
    "from typing import Tuple, Dict\n",
    "\n",
    "def predict(img) -> Tuple[Dict, float]:\n",
    "\n",
    "    #0. Start timer()\n",
    "    start_time = timer()\n",
    "\n",
    "    #1. takes an image as input\n",
    "    # input_image = img\n",
    "    \n",
    "    #2. Does the required transformation on the image\n",
    "    transformed_image = effnetb2_transforms(img).unsqueeze(0) # Add batch dimension at 0th index\n",
    "\n",
    "    #3. Put the model in eval mode and passes the image to the model\n",
    "    effnetb2_model.eval()\n",
    "    with torch.inference_mode():\n",
    "        prediction_probs = torch.softmax(effnetb2_model(transformed_image), dim = 1)\n",
    "        print(prediction_probs)\n",
    "    #4. Craete a dictionary which store the prediction probabilities\n",
    "    pred_labels_probs =  {class_names[i]:float(prediction_probs[0][i]) for i in range(len(class_names))}\n",
    "    #6. End timer()\n",
    "    end_timer = timer()\n",
    "    total_prediction_time = round(end_timer - start_time, 3)\n",
    "\n",
    "    #7. Return the prediction dictionary class names and prediction time\n",
    "    return pred_labels_probs, total_prediction_time"
   ]
  },
  {
   "cell_type": "markdown",
   "id": "50680635-5983-44a8-8d4f-5610c232068f",
   "metadata": {},
   "source": [
    "#### Pass random images through the above function to see the functionality - "
   ]
  },
  {
   "cell_type": "code",
   "execution_count": 270,
   "id": "2c3c089a-2369-455d-bb17-1095fb9e8a8e",
   "metadata": {},
   "outputs": [
    {
     "data": {
      "text/plain": [
       "PosixPath('/Users/venu/Documents/Productivity/Pytorch Tutorials/data/dragon_ball_images/test/picolo/download (3).jpeg')"
      ]
     },
     "execution_count": 270,
     "metadata": {},
     "output_type": "execute_result"
    }
   ],
   "source": [
    "from PIL import Image\n",
    "import random\n",
    "\n",
    "test_image_paths = list(Path(test_dir).glob(\"*/*.jpeg\"))\n",
    "test_image_paths[4]\n"
   ]
  },
  {
   "cell_type": "code",
   "execution_count": 239,
   "id": "b83be31e-568e-4e26-845e-63f0223dee44",
   "metadata": {},
   "outputs": [
    {
     "data": {
      "image/jpeg": "[encoded data removed]",
      "image/png": "[encoded data removed]",
      "text/plain": [
       "<PIL.JpegImagePlugin.JpegImageFile image mode=RGB size=207x244>"
      ]
     },
     "execution_count": 239,
     "metadata": {},
     "output_type": "execute_result"
    }
   ],
   "source": [
    "random_image_sample = random.sample(test_image_paths, k = 1)[0]\n",
    "img =Image.open(random_image_sample)\n",
    "img"
   ]
  },
  {
   "cell_type": "code",
   "execution_count": 240,
   "id": "48fb6ef3-3461-453e-8e97-2339e00d3a97",
   "metadata": {},
   "outputs": [
    {
     "name": "stdout",
     "output_type": "stream",
     "text": [
      "tensor([[2.7090e-04, 8.6495e-05, 9.9963e-01, 1.2731e-05]])\n"
     ]
    },
    {
     "data": {
      "text/plain": [
       "({'goku': 0.0002709031687118113,\n",
       "  'picolo': 8.649489609524608e-05,\n",
       "  'trunks': 0.9996298551559448,\n",
       "  'vegeta': 1.273054294870235e-05},\n",
       " 0.111)"
      ]
     },
     "execution_count": 240,
     "metadata": {},
     "output_type": "execute_result"
    }
   ],
   "source": [
    "predict_label_probs, preiction_time = predict(img)\n",
    "predict_label_probs, preiction_time"
   ]
  },
  {
   "cell_type": "markdown",
   "id": "ff82eda8-f2d9-409e-a1f4-fdbca9f650ec",
   "metadata": {},
   "source": [
    "### Creating of sample images as examples"
   ]
  },
  {
   "cell_type": "code",
   "execution_count": 257,
   "id": "3961f57c-2ec7-4eb6-b37e-77233e68f4ed",
   "metadata": {},
   "outputs": [],
   "source": [
    "example_image_paths = [[str(file_path) for file_path in random.sample(test_image_paths, k = 5)]]\n",
    "# sample images are taken as list of lits"
   ]
  },
  {
   "cell_type": "code",
   "execution_count": 258,
   "id": "eeb48d36-25b6-4748-8263-8d24ac98e20b",
   "metadata": {},
   "outputs": [
    {
     "data": {
      "text/plain": [
       "[['/Users/venu/Documents/Productivity/Pytorch Tutorials/data/dragon_ball_images/test/trunks/download (9).jpeg',\n",
       "  '/Users/venu/Documents/Productivity/Pytorch Tutorials/data/dragon_ball_images/test/vegeta/download (16).jpeg',\n",
       "  '/Users/venu/Documents/Productivity/Pytorch Tutorials/data/dragon_ball_images/test/goku/download (4).jpeg',\n",
       "  '/Users/venu/Documents/Productivity/Pytorch Tutorials/data/dragon_ball_images/test/picolo/download (3).jpeg',\n",
       "  '/Users/venu/Documents/Productivity/Pytorch Tutorials/data/dragon_ball_images/test/goku/download (10).jpeg']]"
      ]
     },
     "execution_count": 258,
     "metadata": {},
     "output_type": "execute_result"
    }
   ],
   "source": [
    "example_image_paths"
   ]
  },
  {
   "cell_type": "markdown",
   "id": "4c5ea41d-26e1-4910-8078-fc6350a8e7ae",
   "metadata": {},
   "source": [
    "### Building a Gradio Interface"
   ]
  },
  {
   "cell_type": "markdown",
   "id": "8f246106-83ad-4de7-ac17-dcf3951c50e1",
   "metadata": {},
   "source": [
    "We see that the Interface class is initialized with three required parameters:\n",
    "\n",
    "1. fn: the function to wrap a user interface (UI) around inputs: which Gradio component(s) to use for the input. \n",
    "2. The number of components should match the number of arguments in your function. outputs: which Gradio component(s) to use for the output.\n",
    "3. The number of components should match the number of return values from your function."
   ]
  },
  {
   "cell_type": "code",
   "execution_count": 350,
   "id": "736ce1da-7b7e-402f-a34e-7cd3f1d257a8",
   "metadata": {},
   "outputs": [],
   "source": [
    "import gradio as gr"
   ]
  },
  {
   "cell_type": "code",
   "execution_count": 264,
   "id": "4c64e1e2-a49f-4b9b-a9d4-512f77280944",
   "metadata": {},
   "outputs": [],
   "source": [
    "title = \"Dragon Ball Z Character Classifier (Goku, Vegeta, Trunks, Picolo) 🔥🔥🔥\"\n",
    "description = \"An [EffnetB2 Feature Extractor model] (https://pytorch.org/vision/0.18/models/generated/torchvision.models.efficientnet_b2.html) used to classify DBZ characters - Goku, Vegeta, Trunks, Picolo\"\n",
    "\n",
    "demo = gr.Interface(fn = predict,\n",
    "                   inputs = gr.Image(type = \"pil\"),\n",
    "                   outputs = [gr.Label(num_top_classes = 4, label = \"Predictions\"),\n",
    "                            gr.Number(label = \"Prediction Time (s)\")],\n",
    "                   examples = example_image_paths,\n",
    "                   title = title,\n",
    "                   description = description)"
   ]
  },
  {
   "cell_type": "code",
   "execution_count": 265,
   "id": "eb745eee-4811-4544-bdfd-da15f362a756",
   "metadata": {},
   "outputs": [
    {
     "name": "stdout",
     "output_type": "stream",
     "text": [
      "Running on local URL:  http://127.0.0.1:7863\n",
      "Running on public URL: https://89bb1f81814f3368bc.gradio.live\n",
      "\n",
      "This share link expires in 72 hours. For free permanent hosting and GPU upgrades, run `gradio deploy` from Terminal to deploy to Spaces (https://huggingface.co/spaces)\n"
     ]
    },
    {
     "data": {
      "text/html": [
       "<div><iframe src=\"https://89bb1f81814f3368bc.gradio.live\" width=\"100%\" height=\"500\" allow=\"autoplay; camera; microphone; clipboard-read; clipboard-write;\" frameborder=\"0\" allowfullscreen></iframe></div>"
      ],
      "text/plain": [
       "<IPython.core.display.HTML object>"
      ]
     },
     "metadata": {},
     "output_type": "display_data"
    },
    {
     "data": {
      "text/plain": []
     },
     "execution_count": 265,
     "metadata": {},
     "output_type": "execute_result"
    },
    {
     "name": "stdout",
     "output_type": "stream",
     "text": [
      "tensor([[6.9420e-02, 3.6704e-04, 7.6671e-02, 8.5354e-01]])\n",
      "tensor([[8.8844e-05, 1.7277e-04, 8.5849e-04, 9.9888e-01]])\n",
      "tensor([[0.3168, 0.0122, 0.1525, 0.5185]])\n",
      "tensor([[0.0439, 0.9458, 0.0015, 0.0088]])\n",
      "tensor([[8.2900e-01, 4.6246e-03, 7.2039e-04, 1.6566e-01]])\n",
      "tensor([[5.0664e-03, 8.5917e-04, 2.0325e-03, 9.9204e-01]])\n",
      "tensor([[1.5606e-02, 3.5512e-06, 1.4778e-03, 9.8291e-01]])\n"
     ]
    }
   ],
   "source": [
    "# Launch the demo\n",
    "demo.launch(debug = False,\n",
    "          share = True)"
   ]
  },
  {
   "cell_type": "markdown",
   "id": "4056d021-87f3-4ead-9cfa-81f73c8d346f",
   "metadata": {},
   "source": [
    "## 8. Turn our DBZ Character Classifier into a Deployable app using HuggingFace Spaces\n",
    "1. We are going to use HuggingFace Spaces. Hugging Face Spaces make it easy for you to create and deploy ML-powered demos in minutes.\n",
    "2. Hugging Face Spaces is a platform that allows you to host and share your machine learning models, datasets, and demos with the community. It's a part of the Hugging Face ecosystem, which is known for its popular Transformers library and model hub.\n",
    "3. Git Large Files - Git Large File Storage (LFS) replaces large files such as audio samples, videos, datasets, and graphics with text pointers inside Git, while storing the file contents on a remote server like GitHub.com or GitHub Enterprise."
   ]
  },
  {
   "cell_type": "raw",
   "id": "a38ddef5-a108-4f80-8346-4313e9d8c1aa",
   "metadata": {},
   "source": [
    "demos/\n",
    "└── dbz_classifier_model/\n",
    "    ├── pretrained_effnetb2_feature_extractor_dbz_classifier_model.pth\n",
    "    ├── app.py\n",
    "    ├── examples/\n",
    "    │   ├── example_1.jpg\n",
    "    │   ├── example_2.jpg\n",
    "    │   └── example_3.jpg\n",
    "    ├── model.py\n",
    "    └── requirements.txt"
   ]
  },
  {
   "cell_type": "markdown",
   "id": "f40128fe-ac6b-40e4-bc4b-b86a539cfee1",
   "metadata": {},
   "source": [
    "#### Required Gradio App Structure\n",
    "\n",
    "`Jupyter_Notebook --> Folder with all gadio Files  -->  Upload app files to HuggingFace Spaces  -->  Deploy`"
   ]
  },
  {
   "cell_type": "markdown",
   "id": "402d1fbc-f1e6-4ced-9b9b-965f9fb5fc7e",
   "metadata": {},
   "source": [
    "### Create a demos folder to store our DBZ app files"
   ]
  },
  {
   "cell_type": "markdown",
   "id": "1e902888-4b81-4f11-a813-0a419c00fb28",
   "metadata": {},
   "source": [
    "The shutil module offers a number of high-level operations on files and collections of files. In particular, functions are provided which support file copying and removal. For operations on individual files, see also the os module."
   ]
  },
  {
   "cell_type": "code",
   "execution_count": 262,
   "id": "9a42be86-1369-4722-891d-1b7d53f7b9fc",
   "metadata": {},
   "outputs": [],
   "source": [
    "import shutil\n",
    "from pathlib import Path\n",
    "\n",
    "# Create a Demo Path for BBZ Classifer\n",
    "dbz_char_classiifer_path = Path(\"demos/dbz_char_classifier/\")\n",
    "\n",
    "# Remove files if they already might exist and create a new file directory\n",
    "if dbz_char_classiifer_path.exists():\n",
    "    shutil.rmtree(dbz_char_classiifer_path)\n",
    "    dbz_char_classiifer_path.mkdir(parents = True,\n",
    "                                  exist_ok= True)\n",
    "else:\n",
    "    dbz_char_classiifer_path.mkdir(parents = True,\n",
    "                                  exist_ok= True)"
   ]
  },
  {
   "cell_type": "code",
   "execution_count": 266,
   "id": "adbf4bd7-c098-4437-a77d-3e581e010ced",
   "metadata": {},
   "outputs": [],
   "source": [
    "!ls demos/dbz_char_classifier/"
   ]
  },
  {
   "cell_type": "markdown",
   "id": "582ef968-820d-478b-a0f6-f8e58051a3f8",
   "metadata": {},
   "source": [
    "### Create a Folder of example images to use with demo app\n",
    "1. We want 4 sample images\n",
    "2. Images should be from test set, Images should be list of lists format"
   ]
  },
  {
   "cell_type": "code",
   "execution_count": 275,
   "id": "368ced3c-95d2-4255-beec-9c5f78e8ff47",
   "metadata": {},
   "outputs": [
    {
     "name": "stdout",
     "output_type": "stream",
     "text": [
      "[INFO] copying /Users/venu/Documents/Productivity/Pytorch Tutorials/data/dragon_ball_images/test/goku/download (1).jpeg to demos/dbz_char_classifier/examples/download (1).jpeg\n",
      "[INFO] copying /Users/venu/Documents/Productivity/Pytorch Tutorials/data/dragon_ball_images/test/vegeta/download (16).jpeg to demos/dbz_char_classifier/examples/download (16).jpeg\n",
      "[INFO] copying /Users/venu/Documents/Productivity/Pytorch Tutorials/data/dragon_ball_images/test/trunks/download (4).jpeg to demos/dbz_char_classifier/examples/download (4).jpeg\n",
      "[INFO] copying /Users/venu/Documents/Productivity/Pytorch Tutorials/data/dragon_ball_images/test/picolo/download (13).jpeg to demos/dbz_char_classifier/examples/download (13).jpeg\n"
     ]
    }
   ],
   "source": [
    "# Create an example directory\n",
    "dbz_classifier_examples_path = dbz_char_classiifer_path / \"examples\"\n",
    "dbz_classifier_examples_path.mkdir(parents = True, exist_ok = True)\n",
    "\n",
    "# Collect 4 Random Image paths from the test_dir \n",
    "dbz_classifier_examples = [ Path('/Users/venu/Documents/Productivity/Pytorch Tutorials/data/dragon_ball_images/test/goku/download (1).jpeg'),\n",
    "                           Path('/Users/venu/Documents/Productivity/Pytorch Tutorials/data/dragon_ball_images/test/vegeta/download (16).jpeg'),\n",
    "                            Path('/Users/venu/Documents/Productivity/Pytorch Tutorials/data/dragon_ball_images/test/trunks/download (4).jpeg'),\n",
    "                            Path('/Users/venu/Documents/Productivity/Pytorch Tutorials/data/dragon_ball_images/test/picolo/download (13).jpeg'),\n",
    "                          ]\n",
    "\n",
    "# copy the tree images to examples directory\n",
    "for example in dbz_classifier_examples:\n",
    "    destination = dbz_classifier_examples_path / example.name\n",
    "    print(f\"[INFO] copying {example} to {destination}\")\n",
    "    shutil.copy2(src = example,\n",
    "                dst = destination)"
   ]
  },
  {
   "cell_type": "markdown",
   "id": "7a9177f2-4551-4958-ad5c-5193d16e66d0",
   "metadata": {},
   "source": [
    "#### Get the examples into examples_list -> list of lists"
   ]
  },
  {
   "cell_type": "code",
   "execution_count": 276,
   "id": "70eb2673-2a27-40c5-9595-b23121450bd5",
   "metadata": {},
   "outputs": [
    {
     "data": {
      "text/plain": [
       "[['examples/download (1).jpeg'],\n",
       " ['examples/download (4).jpeg'],\n",
       " ['examples/download (13).jpeg'],\n",
       " ['examples/download (16).jpeg']]"
      ]
     },
     "execution_count": 276,
     "metadata": {},
     "output_type": "execute_result"
    }
   ],
   "source": [
    "example_list = [[\"examples/\" + example] for example in os.listdir(dbz_classifier_examples_path)]\n",
    "example_list"
   ]
  },
  {
   "cell_type": "markdown",
   "id": "01c24df8-6a7a-4501-949f-0121e684ab0b",
   "metadata": {},
   "source": [
    "#### Moving out trained EffnetB2 model to DBZ charcter classifer demo directory"
   ]
  },
  {
   "cell_type": "code",
   "execution_count": 293,
   "id": "d4b00504-7a93-45b5-8304-9f85b7b4f601",
   "metadata": {},
   "outputs": [
    {
     "name": "stdout",
     "output_type": "stream",
     "text": [
      "[INFO] Attempting to move Models/Effnetb2_Pretrained_Feature_Extractor_DBZ_char_classifier.pth to demos/dbz_char_classifier/Effnetb2_Pretrained_Feature_Extractor_DBZ_char_classifier.pth\n",
      "[INFO] No model found at Models/Effnetb2_Pretrained_Feature_Extractor_DBZ_char_classifier.pth, perhaps its already been moved.\n",
      "[INFO] Model exists at demos/dbz_char_classifier/Effnetb2_Pretrained_Feature_Extractor_DBZ_char_classifier.pth: True\n"
     ]
    }
   ],
   "source": [
    "import shutil\n",
    "\n",
    "# Create a source path for our target model\n",
    "effnetb2_dbz_classifier_model_path = \"Models/Effnetb2_Pretrained_Feature_Extractor_DBZ_char_classifier.pth\"\n",
    "\n",
    "# Create a destination folder where we want to move the model to\n",
    "effnetb2_dbz_classifier_model_destination = dbz_char_classiifer_path / effnetb2_dbz_classifier_model_path.split(\"/\")[1]\n",
    "\n",
    "# try to move the model file\n",
    "\n",
    "try:\n",
    "    print(f\"[INFO] Attempting to move {effnetb2_dbz_classifier_model} to {effnetb2_dbz_classifier_model_destination}\")\n",
    "\n",
    "    # Move the model\n",
    "    shutil.move(src = effnetb2_dbz_classifier_model,\n",
    "               dst = effnetb2_dbz_classifier_model_destination)\n",
    "\n",
    "    print(f\"[INFO] Model move complete..\")\n",
    "    # If the model has already been moved, check if it exists in the destination folder\n",
    "except:\n",
    "    print(f\"[INFO] No model found at {effnetb2_dbz_classifier_model}, perhaps its already been moved.\")\n",
    "    print(f\"[INFO] Model exists at {effnetb2_dbz_classifier_model_destination}: {effnetb2_dbz_classifier_model_destination.exists()}\")"
   ]
  },
  {
   "cell_type": "markdown",
   "id": "bb939289-2ffe-41d7-9008-f38f740f15c7",
   "metadata": {},
   "source": [
    "### Turning EffnetB2 Model into a Python Script (model.py)"
   ]
  },
  {
   "cell_type": "code",
   "execution_count": 338,
   "id": "f241e9fc-6c99-47d3-bcd4-f12232ab928f",
   "metadata": {},
   "outputs": [
    {
     "name": "stdout",
     "output_type": "stream",
     "text": [
      "Writing demos/dbz_char_classifier/model.py\n"
     ]
    }
   ],
   "source": [
    "%%writefile demos/dbz_char_classifier/model.py\n",
    "\n",
    "import torch\n",
    "import torchvision\n",
    "\n",
    "from torch import nn\n",
    "\n",
    "def create_effnetb2_model(num_classes:int = 4,\n",
    "                         seed:int = 99):\n",
    "\n",
    "    # 1. create effnet pretrained weights, transforms, model\n",
    "    weights = torchvision.models.EfficientNet_B2_Weights.DEFAULT\n",
    "    transforms = weights.transforms()\n",
    "    model = torchvision.models.efficientnet_b2(weights = weights)\n",
    "\n",
    "    # 2. Freeze the base layers and customize the classifier layer\n",
    "    for param in model.parameters():\n",
    "        param.requires_grad = False\n",
    "\n",
    "    #3. Change classifier head with random seed for reproductivity\n",
    "    torch.manual_seed(seed)\n",
    "    model.classifier = nn.Sequential(\n",
    "        nn.Dropout(p = 0.3, inplace = True),\n",
    "        nn.Linear(in_features = 1408, out_features=num_classes, bias = True)\n",
    "    )\n",
    "\n",
    "    return model, transforms"
   ]
  },
  {
   "cell_type": "code",
   "execution_count": 339,
   "id": "1ba0b495-5aa4-4a14-9eaa-1b5bdb1fbc51",
   "metadata": {},
   "outputs": [],
   "source": [
    "from demos.dbz_char_classifier import model"
   ]
  },
  {
   "cell_type": "code",
   "execution_count": 341,
   "id": "ebbe7f81-f929-4974-9542-9f2e52d049c2",
   "metadata": {},
   "outputs": [
    {
     "data": {
      "text/plain": [
       "<module 'demos.dbz_char_classifier.model' from '/Users/venu/Documents/Productivity/Pytorch Tutorials/demos/dbz_char_classifier/model.py'>"
      ]
     },
     "execution_count": 341,
     "metadata": {},
     "output_type": "execute_result"
    }
   ],
   "source": [
    "import importlib\n",
    "importlib.reload(model)"
   ]
  },
  {
   "cell_type": "markdown",
   "id": "51349715-460c-49b5-9ded-ff04340f8d6c",
   "metadata": {},
   "source": [
    "### Turning DBZ Character classiifer Gradio app into Python Script(app.py)\n",
    "\n",
    "This will have 4 major points:\n",
    "1. Imports and class names setuo\n",
    "2. Model and transforms preperation\n",
    "3. Predict Function\n",
    "4. Grado Interface + Launch Command"
   ]
  },
  {
   "cell_type": "code",
   "execution_count": 345,
   "id": "d9064a29-a857-452b-8b36-ebb4021923c1",
   "metadata": {},
   "outputs": [
    {
     "name": "stdout",
     "output_type": "stream",
     "text": [
      "Writing demos/dbz_char_classifier/app.py\n"
     ]
    }
   ],
   "source": [
    "%%writefile demos/dbz_char_classifier/app.py\n",
    "\n",
    "## Imports and class names\n",
    "import gardio as gr\n",
    "import os\n",
    "import torch\n",
    "\n",
    "from model import create_effnetb2_model\n",
    "from timeit import default_timer as timer\n",
    "from typing import Tuple, Dict\n",
    "\n",
    "# setup class names\n",
    "class_names = ['goku', 'picolo', 'trunks', 'vegeta']\n",
    "\n",
    "# Model and transforms\n",
    "effnetb2_model, effnetb2_transforms = create_effnetb2_model(num_classes= = len(class_names))\n",
    "\n",
    "# Load save weights\n",
    "effnetb2_model.load_state_dict(\n",
    "    f = \"/Users/venu/Documents/Productivity/Pytorch Tutorials/demos/dbz_char_classifier/Effnetb2_Pretrained_Feature_Extractor_DBZ_char_classifier.pth\",\n",
    "    map_location = torch.device(\"cpu\")\n",
    ")\n",
    "\n",
    "# Predict Function\n",
    "def predict(img) -> Tuple[Dict, float]:\n",
    "\n",
    "    #0. Start timer()\n",
    "    start_time = timer()\n",
    "\n",
    "    #1. takes an image as input\n",
    "    # input_image = img\n",
    "    \n",
    "    #2. Does the required transformation on the image\n",
    "    transformed_image = effnetb2_transforms(img).unsqueeze(0) # Add batch dimension at 0th index\n",
    "\n",
    "    #3. Put the model in eval mode and passes the image to the model\n",
    "    effnetb2_model.eval()\n",
    "    with torch.inference_mode():\n",
    "        prediction_probs = torch.softmax(effnetb2_model(transformed_image), dim = 1)\n",
    "        print(prediction_probs)\n",
    "    #4. Craete a dictionary which store the prediction probabilities\n",
    "    pred_labels_probs =  {class_names[i]:float(prediction_probs[0][i]) for i in range(len(class_names))}\n",
    "    #6. End timer()\n",
    "    end_timer = timer()\n",
    "    total_prediction_time = round(end_timer - start_time, 3)\n",
    "\n",
    "    #7. Return the prediction dictionary class names and prediction time\n",
    "    return pred_labels_probs, total_prediction_time\n",
    "\n",
    "# Create path for examples\n",
    "example_image_paths = [[\"examples\"/+ example] for example in os.listdir(\"exmaples\")]\n",
    "\n",
    "\n",
    "# Gradio app\n",
    "title = \"Dragon Ball Z Character Classifier (Goku, Vegeta, Trunks, Picolo) 🔥🔥🔥\"\n",
    "description = \"An [EffnetB2 Feature Extractor model] (https://pytorch.org/vision/0.18/models/generated/torchvision.models.efficientnet_b2.html) used to classify DBZ characters - Goku, Vegeta, Trunks, Picolo\"\n",
    "\n",
    "demo = gr.Interface(fn = predict,\n",
    "                   inputs = gr.Image(type = \"pil\"),\n",
    "                   outputs = [gr.Label(num_top_classes = 4, label = \"Predictions\"),\n",
    "                            gr.Number(label = \"Prediction Time (s)\")],\n",
    "                   examples = example_image_paths,\n",
    "                   title = title,\n",
    "                   description = description)\n",
    "\n",
    "# Launch the demo\n",
    "demo.launch(debug = False,\n",
    "          share = True)"
   ]
  },
  {
   "cell_type": "code",
   "execution_count": 347,
   "id": "7f2213e1-4ce1-469c-b4d7-c5be96f99636",
   "metadata": {},
   "outputs": [
    {
     "data": {
      "text/plain": [
       "'2.2.2'"
      ]
     },
     "execution_count": 347,
     "metadata": {},
     "output_type": "execute_result"
    }
   ],
   "source": [
    "torch.__version__"
   ]
  },
  {
   "cell_type": "code",
   "execution_count": 348,
   "id": "6108b7d4-bc31-4e54-94cd-ca15a4274f4e",
   "metadata": {},
   "outputs": [
    {
     "data": {
      "text/plain": [
       "'0.17.2'"
      ]
     },
     "execution_count": 348,
     "metadata": {},
     "output_type": "execute_result"
    }
   ],
   "source": [
    "torchvision.__version__"
   ]
  },
  {
   "cell_type": "code",
   "execution_count": 351,
   "id": "3a35a1b9-7917-4c82-89b7-c8a4929e3f62",
   "metadata": {},
   "outputs": [
    {
     "data": {
      "text/plain": [
       "'4.44.0'"
      ]
     },
     "execution_count": 351,
     "metadata": {},
     "output_type": "execute_result"
    }
   ],
   "source": [
    "gr.__version__"
   ]
  },
  {
   "cell_type": "code",
   "execution_count": 352,
   "id": "6f969a57-d563-4469-a10d-139c99fd8a0b",
   "metadata": {},
   "outputs": [
    {
     "name": "stdout",
     "output_type": "stream",
     "text": [
      "Writing demos/dbz_char_classifier/requirements.txt\n"
     ]
    }
   ],
   "source": [
    "%%writefile demos/dbz_char_classifier/requirements.txt\n",
    "torch == 2.2.2\n",
    "torchvision == 0.17.2\n",
    "gr == 4.44.0"
   ]
  },
  {
   "cell_type": "markdown",
   "id": "3f2f055c-7301-4444-baf7-53e3487babf7",
   "metadata": {},
   "source": [
    "### 9.Deploying DBZ_Char_Classifier app into HuggingFace Spaces"
   ]
  },
  {
   "cell_type": "code",
   "execution_count": 354,
   "id": "a25eac4c-2174-4c36-a361-0651e50be8c9",
   "metadata": {},
   "outputs": [
    {
     "name": "stdout",
     "output_type": "stream",
     "text": [
      "  adding: Effnetb2_Pretrained_Feature_Extractor_DBZ_char_classifier.pth (deflated 8%)\n",
      "  adding: __pycache__/ (stored 0%)\n",
      "  adding: __pycache__/model.cpython-311.pyc (deflated 37%)\n",
      "  adding: app.py (deflated 55%)\n",
      "  adding: examples/ (stored 0%)\n",
      "  adding: examples/download (1).jpeg (deflated 0%)\n",
      "  adding: examples/download (4).jpeg (deflated 0%)\n",
      "  adding: examples/download (13).jpeg (deflated 0%)\n",
      "  adding: examples/download (16).jpeg (deflated 0%)\n",
      "  adding: model.py (deflated 49%)\n",
      "  adding: requirements.txt (deflated 16%)\n"
     ]
    }
   ],
   "source": [
    "!cd demos/dbz_char_classifier && zip -r ../dbz_char_classifier.zip * -x \"*.pyc*\"\"*.ipynb*\"\"*__pycace__*\"\"*ipynb_checkpoints*\""
   ]
  },
  {
   "cell_type": "code",
   "execution_count": null,
   "id": "fdf46703-8db8-4975-b782-6ce9d10c0df0",
   "metadata": {},
   "outputs": [],
   "source": []
  },
  {
   "cell_type": "code",
   "execution_count": null,
   "id": "31490f82-7ea7-4b14-9afa-07235c97cc91",
   "metadata": {},
   "outputs": [],
   "source": []
  },
  {
   "cell_type": "code",
   "execution_count": null,
   "id": "35862089-1d28-4e15-b821-938189ad3d49",
   "metadata": {},
   "outputs": [],
   "source": []
  },
  {
   "cell_type": "code",
   "execution_count": null,
   "id": "6e381895-ba07-42e7-bf57-0ba5ae600a1a",
   "metadata": {},
   "outputs": [],
   "source": []
  },
  {
   "cell_type": "code",
   "execution_count": null,
   "id": "c4bb4234-f206-4253-b818-fe4d6c2a4a52",
   "metadata": {},
   "outputs": [],
   "source": []
  },
  {
   "cell_type": "code",
   "execution_count": null,
   "id": "92908d23-f9f2-411a-95b8-3e6d1e07ab97",
   "metadata": {},
   "outputs": [],
   "source": []
  },
  {
   "cell_type": "code",
   "execution_count": null,
   "id": "e2967333-eecd-4e9e-ae8a-bc895f508878",
   "metadata": {},
   "outputs": [],
   "source": []
  },
  {
   "cell_type": "code",
   "execution_count": null,
   "id": "3aa9d5c0-91e9-4b77-8591-02b3430df7e0",
   "metadata": {},
   "outputs": [],
   "source": []
  },
  {
   "cell_type": "code",
   "execution_count": null,
   "id": "754dc2f8-f69f-4a2c-bec4-a0f1afc40c9b",
   "metadata": {},
   "outputs": [],
   "source": []
  },
  {
   "cell_type": "code",
   "execution_count": null,
   "id": "8391af29-41c3-402f-86b7-e89ac0e536c1",
   "metadata": {},
   "outputs": [],
   "source": [
    " "
   ]
  },
  {
   "cell_type": "code",
   "execution_count": null,
   "id": "88ac7265-800c-415c-97b1-00d4e6b49bd0",
   "metadata": {},
   "outputs": [],
   "source": []
  }
 ],
 "metadata": {
  "kernelspec": {
   "display_name": "Python [conda env:base] *",
   "language": "python",
   "name": "conda-base-py"
  },
  "language_info": {
   "codemirror_mode": {
    "name": "ipython",
    "version": 3
   },
   "file_extension": ".py",
   "mimetype": "text/x-python",
   "name": "python",
   "nbconvert_exporter": "python",
   "pygments_lexer": "ipython3",
   "version": "3.12.7"
  }
 },
 "nbformat": 4,
 "nbformat_minor": 5
}

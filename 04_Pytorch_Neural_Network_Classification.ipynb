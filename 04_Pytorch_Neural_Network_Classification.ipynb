{
 "cells": [
  {
   "cell_type": "markdown",
   "id": "2b08abae-9b24-419f-9aa4-68ddb569df5f",
   "metadata": {},
   "source": [
    "## Neural Network Classification with Pytorch"
   ]
  },
  {
   "cell_type": "markdown",
   "id": "1ed2d4f7-727e-49d6-a0e8-46bfdfd7e368",
   "metadata": {},
   "source": [
    "### Making Classification data"
   ]
  },
  {
   "cell_type": "code",
   "execution_count": 2,
   "id": "a351573a-a108-4fd3-a21c-02158cdd4b45",
   "metadata": {},
   "outputs": [],
   "source": [
    "import sklearn"
   ]
  },
  {
   "cell_type": "code",
   "execution_count": 3,
   "id": "3e0922e4-0a48-453a-9476-9b6b8791fa7b",
   "metadata": {},
   "outputs": [],
   "source": [
    "from sklearn.datasets import make_circles\n",
    "\n",
    "#Make 20000 samples\n",
    "n_samples = 500\n",
    "\n",
    "# create circles\n",
    "X,y = make_circles(n_samples = n_samples, \n",
    "                   shuffle= True, \n",
    "                   noise= 0.02, \n",
    "                   random_state= 3)"
   ]
  },
  {
   "cell_type": "code",
   "execution_count": 4,
   "id": "d9ad1c34-6a09-4e27-b3aa-db5ae8b8540e",
   "metadata": {},
   "outputs": [
    {
     "data": {
      "text/plain": [
       "(500, 500)"
      ]
     },
     "execution_count": 4,
     "metadata": {},
     "output_type": "execute_result"
    }
   ],
   "source": [
    "len(X), len(y)"
   ]
  },
  {
   "cell_type": "code",
   "execution_count": 5,
   "id": "72f1e912-4fed-449f-a496-774d85c68bd8",
   "metadata": {},
   "outputs": [
    {
     "name": "stdout",
     "output_type": "stream",
     "text": [
      "[[-1.0188109  -0.11892511]\n",
      " [ 0.40873583  0.70162994]\n",
      " [ 0.57310863  0.81153316]\n",
      " [ 0.9385223  -0.29901752]\n",
      " [ 0.08208503 -0.99740384]]\n",
      "[0 1 0 0 0]\n"
     ]
    },
    {
     "data": {
      "text/plain": [
       "(None, None)"
      ]
     },
     "execution_count": 5,
     "metadata": {},
     "output_type": "execute_result"
    }
   ],
   "source": [
    "print(X[:5]), print(y[:5])"
   ]
  },
  {
   "cell_type": "code",
   "execution_count": 6,
   "id": "0301516c-8b89-424e-9fd8-af5f61600386",
   "metadata": {},
   "outputs": [],
   "source": [
    "# Make dataframe with pandas\n",
    "import pandas as pd\n",
    "circles_df = pd.DataFrame({\"X1\": X[:, 0],\n",
    "                           \"X2\": X[:, 1],\n",
    "                           \"label\": y})"
   ]
  },
  {
   "cell_type": "code",
   "execution_count": 7,
   "id": "340fb496-579a-41f8-8df3-fccef3b3d393",
   "metadata": {},
   "outputs": [
    {
     "data": {
      "text/html": [
       "<div>\n",
       "<style scoped>\n",
       "    .dataframe tbody tr th:only-of-type {\n",
       "        vertical-align: middle;\n",
       "    }\n",
       "\n",
       "    .dataframe tbody tr th {\n",
       "        vertical-align: top;\n",
       "    }\n",
       "\n",
       "    .dataframe thead th {\n",
       "        text-align: right;\n",
       "    }\n",
       "</style>\n",
       "<table border=\"1\" class=\"dataframe\">\n",
       "  <thead>\n",
       "    <tr style=\"text-align: right;\">\n",
       "      <th></th>\n",
       "      <th>X1</th>\n",
       "      <th>X2</th>\n",
       "      <th>label</th>\n",
       "    </tr>\n",
       "  </thead>\n",
       "  <tbody>\n",
       "    <tr>\n",
       "      <th>0</th>\n",
       "      <td>-1.018811</td>\n",
       "      <td>-0.118925</td>\n",
       "      <td>0</td>\n",
       "    </tr>\n",
       "    <tr>\n",
       "      <th>1</th>\n",
       "      <td>0.408736</td>\n",
       "      <td>0.701630</td>\n",
       "      <td>1</td>\n",
       "    </tr>\n",
       "    <tr>\n",
       "      <th>2</th>\n",
       "      <td>0.573109</td>\n",
       "      <td>0.811533</td>\n",
       "      <td>0</td>\n",
       "    </tr>\n",
       "    <tr>\n",
       "      <th>3</th>\n",
       "      <td>0.938522</td>\n",
       "      <td>-0.299018</td>\n",
       "      <td>0</td>\n",
       "    </tr>\n",
       "    <tr>\n",
       "      <th>4</th>\n",
       "      <td>0.082085</td>\n",
       "      <td>-0.997404</td>\n",
       "      <td>0</td>\n",
       "    </tr>\n",
       "    <tr>\n",
       "      <th>5</th>\n",
       "      <td>-0.360639</td>\n",
       "      <td>-0.714136</td>\n",
       "      <td>1</td>\n",
       "    </tr>\n",
       "    <tr>\n",
       "      <th>6</th>\n",
       "      <td>-0.176186</td>\n",
       "      <td>0.800370</td>\n",
       "      <td>1</td>\n",
       "    </tr>\n",
       "    <tr>\n",
       "      <th>7</th>\n",
       "      <td>0.756878</td>\n",
       "      <td>0.648221</td>\n",
       "      <td>0</td>\n",
       "    </tr>\n",
       "    <tr>\n",
       "      <th>8</th>\n",
       "      <td>0.576913</td>\n",
       "      <td>-0.846904</td>\n",
       "      <td>0</td>\n",
       "    </tr>\n",
       "    <tr>\n",
       "      <th>9</th>\n",
       "      <td>0.714830</td>\n",
       "      <td>-0.319967</td>\n",
       "      <td>1</td>\n",
       "    </tr>\n",
       "  </tbody>\n",
       "</table>\n",
       "</div>"
      ],
      "text/plain": [
       "         X1        X2  label\n",
       "0 -1.018811 -0.118925      0\n",
       "1  0.408736  0.701630      1\n",
       "2  0.573109  0.811533      0\n",
       "3  0.938522 -0.299018      0\n",
       "4  0.082085 -0.997404      0\n",
       "5 -0.360639 -0.714136      1\n",
       "6 -0.176186  0.800370      1\n",
       "7  0.756878  0.648221      0\n",
       "8  0.576913 -0.846904      0\n",
       "9  0.714830 -0.319967      1"
      ]
     },
     "execution_count": 7,
     "metadata": {},
     "output_type": "execute_result"
    }
   ],
   "source": [
    "circles_df.head(10)"
   ]
  },
  {
   "cell_type": "markdown",
   "id": "69f9ce8c-98f0-4821-b3a5-943d8165749e",
   "metadata": {},
   "source": [
    "### Data Visualization"
   ]
  },
  {
   "cell_type": "code",
   "execution_count": 8,
   "id": "6ab9e50d-63cd-4c63-9240-42dc425af5f6",
   "metadata": {},
   "outputs": [
    {
     "data": {
      "text/plain": [
       "<matplotlib.collections.PathCollection at 0x163a8df50>"
      ]
     },
     "execution_count": 8,
     "metadata": {},
     "output_type": "execute_result"
    },
    {
     "data": {
      "image/png": "[encoded data removed]",
      "text/plain": [
       "<Figure size 640x480 with 1 Axes>"
      ]
     },
     "metadata": {},
     "output_type": "display_data"
    }
   ],
   "source": [
    "import matplotlib.pyplot as plt\n",
    "plt.scatter(x = X[:, 0],\n",
    "           y = X[:, 1],\n",
    "           c = y,\n",
    "           cmap = plt.cm.RdYlBu)"
   ]
  },
  {
   "cell_type": "code",
   "execution_count": 9,
   "id": "dc9b75fe-9f1e-4821-ac98-0b2bcd11b027",
   "metadata": {},
   "outputs": [
    {
     "data": {
      "text/plain": [
       "((500, 2), (500,))"
      ]
     },
     "execution_count": 9,
     "metadata": {},
     "output_type": "execute_result"
    }
   ],
   "source": [
    "# Check input and output shapes\n",
    "X.shape, y.shape"
   ]
  },
  {
   "cell_type": "markdown",
   "id": "31281a47-b5aa-4846-970e-87a7efc4c600",
   "metadata": {},
   "source": [
    "### Turning Data into Tebsors and create train and test splits"
   ]
  },
  {
   "cell_type": "code",
   "execution_count": 10,
   "id": "996c114f-7609-4ae6-98a2-fff7c545e4c7",
   "metadata": {},
   "outputs": [],
   "source": [
    "import torch"
   ]
  },
  {
   "cell_type": "code",
   "execution_count": 11,
   "id": "dd610354-6d71-4182-8cb6-46d435f077ce",
   "metadata": {},
   "outputs": [],
   "source": [
    "X = torch.from_numpy(X).type(torch.float32)"
   ]
  },
  {
   "cell_type": "code",
   "execution_count": 12,
   "id": "56742b12-c63e-40a5-ba77-2230c9c444f0",
   "metadata": {},
   "outputs": [],
   "source": [
    "y = torch.from_numpy(y).type(torch.float32)"
   ]
  },
  {
   "cell_type": "code",
   "execution_count": 13,
   "id": "76b067b8-8310-4844-b017-d61d02634569",
   "metadata": {},
   "outputs": [
    {
     "data": {
      "text/plain": [
       "(tensor([[-1.0188, -0.1189],\n",
       "         [ 0.4087,  0.7016],\n",
       "         [ 0.5731,  0.8115],\n",
       "         [ 0.9385, -0.2990],\n",
       "         [ 0.0821, -0.9974]]),\n",
       " tensor([0., 1., 0., 0., 0.]))"
      ]
     },
     "execution_count": 13,
     "metadata": {},
     "output_type": "execute_result"
    }
   ],
   "source": [
    "X[:5], y[:5]"
   ]
  },
  {
   "cell_type": "code",
   "execution_count": 14,
   "id": "39f9c656-3403-4eb8-9231-eb3861306eef",
   "metadata": {},
   "outputs": [
    {
     "data": {
      "text/plain": [
       "(torch.Tensor, torch.Tensor)"
      ]
     },
     "execution_count": 14,
     "metadata": {},
     "output_type": "execute_result"
    }
   ],
   "source": [
    "type(X), type(y)"
   ]
  },
  {
   "cell_type": "code",
   "execution_count": 15,
   "id": "e4ffb985-3baa-4752-bdd0-bf7d42e9433f",
   "metadata": {},
   "outputs": [],
   "source": [
    "## Split the data into training and testing\n",
    "from sklearn.model_selection import train_test_split\n",
    "\n",
    "X_train,X_test,y_train,y_test = train_test_split(X,\n",
    "                                                 y, \n",
    "                                                 test_size= 0.3, \n",
    "                                                 random_state = 95)"
   ]
  },
  {
   "cell_type": "code",
   "execution_count": 16,
   "id": "3a426442-4a16-482b-99a8-0ce662232068",
   "metadata": {},
   "outputs": [
    {
     "data": {
      "text/plain": [
       "(350, 350, 150, 150)"
      ]
     },
     "execution_count": 16,
     "metadata": {},
     "output_type": "execute_result"
    }
   ],
   "source": [
    "len(X_train), len(y_train), len(X_test), len(y_test)"
   ]
  },
  {
   "cell_type": "markdown",
   "id": "00b7dbe5-a296-4d51-8ffa-551aba40851d",
   "metadata": {},
   "source": [
    "## 2.Build a Model\n",
    "\n",
    "1. Setup device agnostic code so our code will run on acceleration if available\n",
    "2. Construct a model (subclassing `nn.Module`)\n",
    "3. Define a loss Function and Optimizer\n",
    "4. Create a Training and Testing Loop"
   ]
  },
  {
   "cell_type": "code",
   "execution_count": 17,
   "id": "f73124a0-0641-41c7-a2dd-e8a3c5ff38b4",
   "metadata": {},
   "outputs": [
    {
     "data": {
      "text/plain": [
       "'cpu'"
      ]
     },
     "execution_count": 17,
     "metadata": {},
     "output_type": "execute_result"
    }
   ],
   "source": [
    "# 1. setup device agnostic code\n",
    "device = \"cuda\" if torch.cuda.is_available() else \"cpu\"\n",
    "device"
   ]
  },
  {
   "cell_type": "code",
   "execution_count": 18,
   "id": "51fd86c6-49c9-40c3-b3e5-483ea560846d",
   "metadata": {},
   "outputs": [
    {
     "data": {
      "text/plain": [
       "torch.Size([350, 2])"
      ]
     },
     "execution_count": 18,
     "metadata": {},
     "output_type": "execute_result"
    }
   ],
   "source": [
    "X_train.shape"
   ]
  },
  {
   "cell_type": "code",
   "execution_count": 19,
   "id": "b79360fc-8f33-4af4-87be-d4854198071c",
   "metadata": {},
   "outputs": [],
   "source": [
    "import torch\n",
    "from torch import nn"
   ]
  },
  {
   "cell_type": "code",
   "execution_count": 20,
   "id": "c9c46ad5-9d70-4635-b644-d8466ec24f6b",
   "metadata": {},
   "outputs": [],
   "source": [
    "# Create a model that subclasses nn.Module\n",
    "\n",
    "class CircleModel1(nn.Module):\n",
    "    def __init__(self):\n",
    "        super().__init__()\n",
    "\n",
    "        # create nn.Linear Layers \n",
    "        self.layer1 = nn.Linear(in_features = 2,\n",
    "                               out_features = 8)\n",
    "        self.layer2 = nn.Linear(in_features = 8,\n",
    "                               out_features = 8)\n",
    "        self.layer3 = nn.Linear(in_features = 8,\n",
    "                               out_features = 1)\n",
    "\n",
    "        # define a forward() method that outlines the forward pass\n",
    "    def forward(self,x):\n",
    "        return self.layer2(self.layer1(x))"
   ]
  },
  {
   "cell_type": "code",
   "execution_count": 21,
   "id": "c4c9de6c-fa35-4e30-b110-f7eb445a171e",
   "metadata": {},
   "outputs": [
    {
     "data": {
      "text/plain": [
       "CircleModel1(\n",
       "  (layer1): Linear(in_features=2, out_features=8, bias=True)\n",
       "  (layer2): Linear(in_features=8, out_features=8, bias=True)\n",
       "  (layer3): Linear(in_features=8, out_features=1, bias=True)\n",
       ")"
      ]
     },
     "execution_count": 21,
     "metadata": {},
     "output_type": "execute_result"
    }
   ],
   "source": [
    "model_0 = CircleModel1().to(device)\n",
    "model_0"
   ]
  },
  {
   "cell_type": "code",
   "execution_count": 22,
   "id": "4fe97b3f-62ec-4281-9bdf-37715633d68b",
   "metadata": {},
   "outputs": [
    {
     "data": {
      "text/plain": [
       "<generator object Module.parameters at 0x163bdfae0>"
      ]
     },
     "execution_count": 22,
     "metadata": {},
     "output_type": "execute_result"
    }
   ],
   "source": [
    "model_0.parameters()"
   ]
  },
  {
   "cell_type": "code",
   "execution_count": 23,
   "id": "a9a469f4-2e39-4209-a776-8a12b5fa852f",
   "metadata": {},
   "outputs": [],
   "source": [
    "# Lets replicate the above model using nn.Sequential\n",
    "model_0 = nn.Sequential(\n",
    "    nn.Linear(in_features = 2, out_features = 10),\n",
    "    nn.Linear(in_features = 10, out_features = 1)\n",
    ").to(device)\n",
    "\n"
   ]
  },
  {
   "cell_type": "code",
   "execution_count": 24,
   "id": "967c1e20-706b-47f1-b6bc-1b0670e4cc48",
   "metadata": {},
   "outputs": [
    {
     "data": {
      "text/plain": [
       "OrderedDict([('0.weight',\n",
       "              tensor([[ 0.3025,  0.1512],\n",
       "                      [ 0.5467, -0.3433],\n",
       "                      [-0.5850, -0.2552],\n",
       "                      [ 0.0109, -0.0685],\n",
       "                      [ 0.4651, -0.0011],\n",
       "                      [ 0.5810,  0.1070],\n",
       "                      [-0.5003, -0.3184],\n",
       "                      [ 0.5129, -0.0873],\n",
       "                      [-0.1863, -0.6541],\n",
       "                      [ 0.1338,  0.1897]])),\n",
       "             ('0.bias',\n",
       "              tensor([ 0.3505,  0.1971, -0.1024, -0.2429,  0.2594,  0.2950,  0.5368,  0.5089,\n",
       "                      -0.6063, -0.0885])),\n",
       "             ('1.weight',\n",
       "              tensor([[ 0.1147, -0.0536, -0.0712, -0.0814,  0.2788, -0.0774,  0.2350, -0.2177,\n",
       "                       -0.2299,  0.1456]])),\n",
       "             ('1.bias', tensor([-0.0091]))])"
      ]
     },
     "execution_count": 24,
     "metadata": {},
     "output_type": "execute_result"
    }
   ],
   "source": [
    "model_0.state_dict()"
   ]
  },
  {
   "cell_type": "code",
   "execution_count": 25,
   "id": "50bfb1a1-a7b9-46e2-95e0-5337dc2aebf1",
   "metadata": {},
   "outputs": [],
   "source": [
    "# Make predictions"
   ]
  },
  {
   "cell_type": "code",
   "execution_count": 26,
   "id": "86c506df-1a78-4f94-b29d-225c2cea4f82",
   "metadata": {},
   "outputs": [
    {
     "name": "stdout",
     "output_type": "stream",
     "text": [
      "Length of Predictions: 150, Shape: torch.Size([150, 1])\n",
      "Length of Test Samples: 150, Shape: torch.Size([150, 2])\n",
      "\n",
      "First 10 predictions: \n",
      "tensor([[0.],\n",
      "        [0.],\n",
      "        [0.],\n",
      "        [0.],\n",
      "        [0.],\n",
      "        [0.],\n",
      "        [0.],\n",
      "        [0.],\n",
      "        [0.],\n",
      "        [0.]])\n",
      "\n",
      "First 10 labels: \n",
      "tensor([0., 1., 0., 1., 1., 1., 0., 1., 1., 0.])\n"
     ]
    }
   ],
   "source": [
    "with torch.inference_mode():\n",
    "    untrained_preds = model_0(X_test.to(device))\n",
    "print(f\"Length of Predictions: {len(untrained_preds)}, Shape: {untrained_preds.shape}\")\n",
    "print(f\"Length of Test Samples: {len(X_test)}, Shape: {X_test.shape}\")\n",
    "print(f\"\\nFirst 10 predictions: \\n{torch.round(untrained_preds[:10])}\")\n",
    "print(f\"\\nFirst 10 labels: \\n{y_test[:10]}\")"
   ]
  },
  {
   "cell_type": "code",
   "execution_count": null,
   "id": "35af1a91-1fb4-4d12-8890-20948683dece",
   "metadata": {},
   "outputs": [],
   "source": []
  },
  {
   "cell_type": "markdown",
   "id": "c7b2981f-0721-416b-870a-d99178b9378b",
   "metadata": {},
   "source": [
    "### 2.1 Setup Loss Function and Optimizer\n",
    "\n",
    "Loss Functions - \n",
    "1. For regression we can use MAE or MSE - Mean Absoulte Error or Mean Squared Error\n",
    "2. For Classification we can use Binary Cross Entropy or Categorical Cross Entropy\n",
    "\n",
    "Optimizers\n",
    "1. For Optimizers the two most common optimizers are SGD and Adam Optimizers\n",
    "\n",
    "\n",
    "For Loss Function we will use - torch.nn.BCEWithLogitsLoss()"
   ]
  },
  {
   "cell_type": "code",
   "execution_count": 27,
   "id": "46e5d694-337f-456c-a7de-5fb77627b938",
   "metadata": {},
   "outputs": [],
   "source": [
    "## Setup the Loss Function\n",
    "# loss_fn = nn.BCELoss()-> requiress inputs to have first gone through sigmoid activation functuon before going to nn.BCELoss()\n",
    "# nn.BCEWithLogitsLoss ->\n",
    "# nn.Sequential(\n",
    "# nn.sigmoid()\n",
    "# nn.BCELoss()\n",
    "#)\n",
    "# this is a sigmoid activation function where "
   ]
  },
  {
   "cell_type": "code",
   "execution_count": 28,
   "id": "e6351801-6c14-4887-8207-06a6a6cb92e7",
   "metadata": {},
   "outputs": [],
   "source": [
    "loss_fn = nn.BCEWithLogitsLoss()\n",
    "optimizer = torch.optim.Adam(params = model_0.parameters(), lr = 0.1)"
   ]
  },
  {
   "cell_type": "code",
   "execution_count": 29,
   "id": "fa1ec1dd-20f3-4b13-8b4f-1d534886bc9f",
   "metadata": {},
   "outputs": [
    {
     "data": {
      "text/plain": [
       "OrderedDict([('0.weight',\n",
       "              tensor([[ 0.3025,  0.1512],\n",
       "                      [ 0.5467, -0.3433],\n",
       "                      [-0.5850, -0.2552],\n",
       "                      [ 0.0109, -0.0685],\n",
       "                      [ 0.4651, -0.0011],\n",
       "                      [ 0.5810,  0.1070],\n",
       "                      [-0.5003, -0.3184],\n",
       "                      [ 0.5129, -0.0873],\n",
       "                      [-0.1863, -0.6541],\n",
       "                      [ 0.1338,  0.1897]])),\n",
       "             ('0.bias',\n",
       "              tensor([ 0.3505,  0.1971, -0.1024, -0.2429,  0.2594,  0.2950,  0.5368,  0.5089,\n",
       "                      -0.6063, -0.0885])),\n",
       "             ('1.weight',\n",
       "              tensor([[ 0.1147, -0.0536, -0.0712, -0.0814,  0.2788, -0.0774,  0.2350, -0.2177,\n",
       "                       -0.2299,  0.1456]])),\n",
       "             ('1.bias', tensor([-0.0091]))])"
      ]
     },
     "execution_count": 29,
     "metadata": {},
     "output_type": "execute_result"
    }
   ],
   "source": [
    "model_0.state_dict()\n"
   ]
  },
  {
   "cell_type": "markdown",
   "id": "053197c9-988a-4df5-94a4-60c8466580a3",
   "metadata": {},
   "source": [
    "\\(Accuracy={Numberofcorrectpredictions}/{Totalnumberofpredictions})"
   ]
  },
  {
   "cell_type": "code",
   "execution_count": 30,
   "id": "d9c5f41e-f6ad-49f6-9c5f-067fd010e196",
   "metadata": {},
   "outputs": [],
   "source": [
    "# Calculate an Evaluation Metric\n",
    "def accuracy_fn(y_true,y_pred):\n",
    "    correct_preds = torch.eq(y_true, y_pred).sum().item() #we are gonna do .item() as we need the sum as a single value in python\n",
    "    accuracy = correct_preds / len(y_pred)\n",
    "    return accuracy * 100"
   ]
  },
  {
   "cell_type": "markdown",
   "id": "4ec70c02-ebff-4184-afb9-946d2fd87ab2",
   "metadata": {},
   "source": [
    "## 3. Train Model"
   ]
  },
  {
   "cell_type": "markdown",
   "id": "0860422e-aed7-4675-9c85-19c37ec7965f",
   "metadata": {},
   "source": [
    "#### to train our model we need to build pytorch training loop:\n",
    "1. Forward pass\n",
    "2. Calculate the loss\n",
    "3. Optimizer zero grad\n",
    "4. Loss Backward (backward propogation)\n",
    "5. Optimizer step step step"
   ]
  },
  {
   "cell_type": "markdown",
   "id": "507d9a9e-1aac-4677-b0ab-f658aab775aa",
   "metadata": {},
   "source": [
    "### 3.1 Going from raw logits -> Prediction Probabilities -> Prediction Labels\n",
    "\n",
    "1. Our model outputs are going to be raw **logits**\n",
    "2. We can convert the raw **logits** into prediction probabilities by passing them into an activation function (eg: sigmoid for binary classification or softmax for multi class classification)\n",
    "3. Then we can convert our models's prediction probabilities to **prediction labels** by either rounding them or by taking the `argmx function` "
   ]
  },
  {
   "cell_type": "code",
   "execution_count": 31,
   "id": "0daa30d3-967c-4167-905e-d00795db283f",
   "metadata": {},
   "outputs": [
    {
     "data": {
      "text/plain": [
       "Sequential(\n",
       "  (0): Linear(in_features=2, out_features=10, bias=True)\n",
       "  (1): Linear(in_features=10, out_features=1, bias=True)\n",
       ")"
      ]
     },
     "execution_count": 31,
     "metadata": {},
     "output_type": "execute_result"
    }
   ],
   "source": [
    "model_0"
   ]
  },
  {
   "cell_type": "code",
   "execution_count": 32,
   "id": "37f89087-da5b-4a6c-ac96-ea32cde344be",
   "metadata": {},
   "outputs": [
    {
     "data": {
      "text/plain": [
       "tensor([[0.2825],\n",
       "        [0.0941],\n",
       "        [0.3480],\n",
       "        [0.1815],\n",
       "        [0.3628]])"
      ]
     },
     "execution_count": 32,
     "metadata": {},
     "output_type": "execute_result"
    }
   ],
   "source": [
    "# view the first 5 outputs of the forward pass on the test data\n",
    "# during testing phase, put the model in eval mode\n",
    "model_0.eval()\n",
    "with torch.inference_mode():\n",
    "    y_logits = model_0(X_test.to(device))[:5]\n",
    "y_logits\n",
    "# The below are called logits which are raw output of the model, without being passed into any activation function"
   ]
  },
  {
   "cell_type": "code",
   "execution_count": 33,
   "id": "1ecbe976-cc00-4e19-baf6-e49bb1c85a0b",
   "metadata": {},
   "outputs": [
    {
     "data": {
      "text/plain": [
       "tensor([0., 1., 0., 1., 1.])"
      ]
     },
     "execution_count": 33,
     "metadata": {},
     "output_type": "execute_result"
    }
   ],
   "source": [
    "y_test[:5]"
   ]
  },
  {
   "cell_type": "code",
   "execution_count": 34,
   "id": "ef01b170-1e52-443e-ad63-a4a0c077302e",
   "metadata": {},
   "outputs": [
    {
     "data": {
      "text/plain": [
       "tensor([[0.5702],\n",
       "        [0.5235],\n",
       "        [0.5861],\n",
       "        [0.5452],\n",
       "        [0.5897]])"
      ]
     },
     "execution_count": 34,
     "metadata": {},
     "output_type": "execute_result"
    }
   ],
   "source": [
    "# Use the sigmoid activation function on the raw logits to turn them into prediction probabilities\n",
    "y_pred_probs = torch.sigmoid(y_logits)\n",
    "y_pred_probs"
   ]
  },
  {
   "cell_type": "code",
   "execution_count": 35,
   "id": "1fa8d641-c4a0-45fb-9617-fc7e2d20d4fd",
   "metadata": {},
   "outputs": [
    {
     "data": {
      "text/plain": [
       "tensor([[1.],\n",
       "        [1.],\n",
       "        [1.],\n",
       "        [1.],\n",
       "        [1.]])"
      ]
     },
     "execution_count": 35,
     "metadata": {},
     "output_type": "execute_result"
    }
   ],
   "source": [
    "# if y_pred_probs >= 0.5, y = 1\n",
    "# if y_pred_probs < 0.5, y = 0\n",
    "y_preds = torch.round(y_pred_probs)\n",
    "y_preds"
   ]
  },
  {
   "cell_type": "code",
   "execution_count": 36,
   "id": "3063e91b-9786-4783-b2f0-703552d1aaab",
   "metadata": {},
   "outputs": [
    {
     "data": {
      "text/plain": [
       "tensor([1., 1., 1., 1., 1.])"
      ]
     },
     "execution_count": 36,
     "metadata": {},
     "output_type": "execute_result"
    }
   ],
   "source": [
    "y_preds.squeeze()"
   ]
  },
  {
   "cell_type": "markdown",
   "id": "9f973405-015f-4aeb-ad22-b58cee71fb21",
   "metadata": {},
   "source": [
    "### 3.2 Building a Training Loop"
   ]
  },
  {
   "cell_type": "markdown",
   "id": "51769d0a-14f4-42c6-bd00-eadf497ad20c",
   "metadata": {},
   "source": [
    "torch.manual_seed(95)\n",
    "\n",
    "epochs = 2\n",
    "\n",
    "X_train, y_train = X_train.to(device), y_train.to(device)\n",
    "X_test, y_test = X_test.to(device), y_test.to(device)\n",
    "\n",
    "# Build the training loop and Eval loop\n",
    "\n",
    "for epoch in range(epochs):\n",
    "    \n",
    "    ## Training model_0\n",
    "    model_0.train()\n",
    "\n",
    "    ## 1. Do the forward pass\n",
    "    y_logits = model_0(X_train).squeeze()\n",
    "    y_preds = torch.round(torch.sigmoid(y_logits)) # turn logits into pred probs and then into prediction labels \n",
    "\n",
    "    ## 2. Calculate the loss and accuracy\n",
    "    loss = loss_fn(y_preds, y_train)\n",
    "    accuracy = accuracy_fn(y_true = y_train,\n",
    "                          y_pred = y_preds)\n",
    "\n",
    "    ## 3. Optimizer zero grad\n",
    "    optimizer.zero_grad()\n",
    "\n",
    "    ## 4. loss backward\n",
    "    loss.backward()\n",
    "\n",
    "    ## 5. Oprimizer Step\n",
    "    optimizer.step()\n",
    "\n",
    "    ## Testing\n",
    "    model_0.eval()\n",
    "    with torch.inference_mode():\n",
    "        \n",
    "        #1. Forward pass\n",
    "        test_logits = model_0(X_test).squeeze()\n",
    "        test_preds = torch.round(torch.sigmoid(test_logits))\n",
    "\n",
    "        ## 2. Calculate the test loss and test accuracy\n",
    "        test_loss = loss_fn(y_preds, y_test)\n",
    "        test_accuracy = accuracy_fn(y_true = y_test,\n",
    "                                   y_pred = y_preds)\n",
    "    print(f\"Epoch:  {epoch},  Train Loss : {loss},  Train Accuracy : {accuracy}\")\n",
    "    print(f\"Epoch : {epoch},  Test Loss : {test_loss},  Test Accuracy : {test_accuracy}\")"
   ]
  },
  {
   "cell_type": "markdown",
   "id": "e673d4a1-7cb3-4302-8097-66aa49310cd1",
   "metadata": {},
   "source": [
    "### 4.Importing helper functions"
   ]
  },
  {
   "cell_type": "code",
   "execution_count": 37,
   "id": "96f2219f-c731-454b-92ae-804d872ee2f3",
   "metadata": {},
   "outputs": [
    {
     "name": "stdout",
     "output_type": "stream",
     "text": [
      "Requirement already satisfied: torchvision in /opt/anaconda3/lib/python3.11/site-packages (0.17.2)\n",
      "Requirement already satisfied: numpy in /opt/anaconda3/lib/python3.11/site-packages (from torchvision) (1.26.4)\n",
      "Requirement already satisfied: torch==2.2.2 in /opt/anaconda3/lib/python3.11/site-packages (from torchvision) (2.2.2)\n",
      "Requirement already satisfied: pillow!=8.3.*,>=5.3.0 in /opt/anaconda3/lib/python3.11/site-packages (from torchvision) (10.2.0)\n",
      "Requirement already satisfied: filelock in /opt/anaconda3/lib/python3.11/site-packages (from torch==2.2.2->torchvision) (3.13.1)\n",
      "Requirement already satisfied: typing-extensions>=4.8.0 in /opt/anaconda3/lib/python3.11/site-packages (from torch==2.2.2->torchvision) (4.9.0)\n",
      "Requirement already satisfied: sympy in /opt/anaconda3/lib/python3.11/site-packages (from torch==2.2.2->torchvision) (1.12)\n",
      "Requirement already satisfied: networkx in /opt/anaconda3/lib/python3.11/site-packages (from torch==2.2.2->torchvision) (3.1)\n",
      "Requirement already satisfied: jinja2 in /opt/anaconda3/lib/python3.11/site-packages (from torch==2.2.2->torchvision) (3.1.3)\n",
      "Requirement already satisfied: fsspec in /opt/anaconda3/lib/python3.11/site-packages (from torch==2.2.2->torchvision) (2023.10.0)\n",
      "Requirement already satisfied: MarkupSafe>=2.0 in /opt/anaconda3/lib/python3.11/site-packages (from jinja2->torch==2.2.2->torchvision) (2.1.3)\n",
      "Requirement already satisfied: mpmath>=0.19 in /opt/anaconda3/lib/python3.11/site-packages (from sympy->torch==2.2.2->torchvision) (1.3.0)\n",
      "Note: you may need to restart the kernel to use updated packages.\n"
     ]
    }
   ],
   "source": [
    "pip install torchvision"
   ]
  },
  {
   "cell_type": "code",
   "execution_count": 38,
   "id": "910c38fd-cbfb-4d2d-8dfb-6000a65dd533",
   "metadata": {
    "scrolled": true
   },
   "outputs": [
    {
     "name": "stdout",
     "output_type": "stream",
     "text": [
      "File exists skipping download.\n"
     ]
    }
   ],
   "source": [
    "import requests\n",
    "from pathlib import Path\n",
    "\n",
    "# Download Helper functions from Laearn Pytorch repo or from anywhere on the internet\n",
    "if Path(\"helper_functions.py\").is_file():\n",
    "    print(\"File exists skipping download.\")\n",
    "else:\n",
    "    print(\"Downloading Helper Functions.py\")\n",
    "    requests = requests.get(\"https://raw.githubusercontent.com/mrdbourke/pytorch-deep-learning/main/helper_functions.py\")\n",
    "    with open(\"helper_functions.py\", \"wb\") as f:\n",
    "        f.write(requests.content)\n",
    "\n",
    "from helper_functions import plot_predictions, plot_decision_boundary"
   ]
  },
  {
   "cell_type": "raw",
   "id": "5010b062-c415-4223-9336-7487b0d04197",
   "metadata": {
    "jp-MarkdownHeadingCollapsed": true
   },
   "source": [
    "#### plot decision boundary of the model\n",
    "plt.figure(figsize = (12,6))\n",
    "plt.subplot(1,2,1)\n",
    "plt.title(\"Train\")\n",
    "plot_decision_boundary(model_0, X_train, y_train)\n",
    "plt.title(\"Test\")\n",
    "plot_decision_boundary(model_0, X_test, y_test)"
   ]
  },
  {
   "cell_type": "code",
   "execution_count": null,
   "id": "4e279f62-e126-4856-b93b-b3b41b35496d",
   "metadata": {},
   "outputs": [],
   "source": []
  },
  {
   "cell_type": "code",
   "execution_count": 39,
   "id": "86a08894-ebee-4990-92bd-cf6dff9c1bb6",
   "metadata": {},
   "outputs": [],
   "source": [
    "class CircleModelV1(nn.Module):\n",
    "    def __init__(self):\n",
    "        super().__init__()\n",
    "        self.layer_1 = nn.Linear(in_features = 2, out_features = 16)\n",
    "        self.layer_2 = nn.Linear(in_features = 16, out_features = 8)\n",
    "        self.layer_3 = nn.Linear(in_features = 8, out_features = 1)\n",
    "\n",
    "    def forward(self, x):\n",
    "        return self.layer_3(self.layer_2(self.layer_1(x)))\n",
    "\n",
    "model_1 = CircleModelV1().to(device)"
   ]
  },
  {
   "cell_type": "code",
   "execution_count": 40,
   "id": "120f4c80-bd2c-4384-a412-b709a7dcf710",
   "metadata": {},
   "outputs": [
    {
     "data": {
      "text/plain": [
       "CircleModelV1(\n",
       "  (layer_1): Linear(in_features=2, out_features=16, bias=True)\n",
       "  (layer_2): Linear(in_features=16, out_features=8, bias=True)\n",
       "  (layer_3): Linear(in_features=8, out_features=1, bias=True)\n",
       ")"
      ]
     },
     "execution_count": 40,
     "metadata": {},
     "output_type": "execute_result"
    }
   ],
   "source": [
    "model_1"
   ]
  },
  {
   "cell_type": "code",
   "execution_count": 41,
   "id": "4bcb6202-36d8-483c-998c-839e782af693",
   "metadata": {},
   "outputs": [
    {
     "data": {
      "text/plain": [
       "OrderedDict([('layer_1.weight',\n",
       "              tensor([[-0.2549,  0.4712],\n",
       "                      [ 0.5460, -0.4147],\n",
       "                      [-0.1259,  0.1816],\n",
       "                      [-0.2424,  0.2698],\n",
       "                      [-0.5458,  0.0096],\n",
       "                      [ 0.5430, -0.3264],\n",
       "                      [ 0.4008, -0.4827],\n",
       "                      [ 0.4036,  0.5985],\n",
       "                      [-0.1952,  0.5281],\n",
       "                      [ 0.6759, -0.2499],\n",
       "                      [ 0.6295,  0.0523],\n",
       "                      [-0.0385,  0.3652],\n",
       "                      [ 0.5814, -0.6464],\n",
       "                      [ 0.3492, -0.0582],\n",
       "                      [ 0.2564,  0.6067],\n",
       "                      [ 0.2089, -0.6978]])),\n",
       "             ('layer_1.bias',\n",
       "              tensor([-0.4941, -0.0479,  0.5544, -0.6176,  0.4499, -0.5955,  0.1559,  0.0205,\n",
       "                      -0.6765, -0.3002, -0.3027,  0.4747,  0.2562,  0.1904, -0.1554, -0.4593])),\n",
       "             ('layer_2.weight',\n",
       "              tensor([[-0.0507,  0.2287, -0.0064,  0.0408, -0.0733, -0.0778, -0.0108, -0.1973,\n",
       "                       -0.0567,  0.2171, -0.1290, -0.0234, -0.1256, -0.1033, -0.1438, -0.2441],\n",
       "                      [ 0.1088, -0.1664, -0.2263, -0.1926, -0.1083, -0.1890,  0.0866,  0.1104,\n",
       "                        0.1059, -0.0277,  0.0016, -0.1592, -0.0349,  0.2434, -0.0389, -0.2426],\n",
       "                      [-0.1776, -0.1655, -0.1805, -0.1985, -0.0361,  0.0175,  0.1613, -0.2283,\n",
       "                       -0.0141, -0.0066, -0.0655, -0.1762,  0.0017, -0.1835, -0.1230,  0.0922],\n",
       "                      [-0.0425,  0.1281,  0.1848, -0.0267,  0.1897, -0.1540, -0.0428, -0.0567,\n",
       "                        0.0395,  0.0561,  0.1548, -0.1221, -0.2109,  0.0007,  0.1760,  0.1477],\n",
       "                      [-0.1695,  0.2079,  0.1406, -0.2410, -0.2021,  0.1007,  0.0190, -0.0908,\n",
       "                       -0.1553, -0.1721, -0.1390,  0.0200,  0.1258,  0.1433, -0.1820,  0.0422],\n",
       "                      [-0.2405, -0.1609, -0.0469,  0.0473,  0.2482, -0.2474, -0.0719,  0.0889,\n",
       "                       -0.1587, -0.2084, -0.1142,  0.0099, -0.0367, -0.0638,  0.1971, -0.1185],\n",
       "                      [ 0.0499,  0.2494, -0.0363, -0.1732, -0.2359, -0.0382,  0.1373,  0.1974,\n",
       "                        0.1769, -0.1587,  0.1012,  0.0678,  0.0659,  0.1192,  0.1618,  0.1468],\n",
       "                      [ 0.0483,  0.0937,  0.0218,  0.1751,  0.0857, -0.0219, -0.1343, -0.0442,\n",
       "                        0.1491, -0.1208, -0.2314,  0.2312,  0.2361,  0.1067, -0.0699,  0.0011]])),\n",
       "             ('layer_2.bias',\n",
       "              tensor([ 0.0273, -0.1313, -0.1416, -0.1955, -0.2359,  0.1172,  0.0174, -0.1396])),\n",
       "             ('layer_3.weight',\n",
       "              tensor([[-0.3028,  0.3258,  0.0564,  0.2906, -0.3018,  0.0780, -0.0623,  0.3125]])),\n",
       "             ('layer_3.bias', tensor([0.1207]))])"
      ]
     },
     "execution_count": 41,
     "metadata": {},
     "output_type": "execute_result"
    }
   ],
   "source": [
    "model_1.state_dict()"
   ]
  },
  {
   "cell_type": "code",
   "execution_count": 42,
   "id": "3ffae647-0f7b-44c9-8ed0-0d1bd42e0910",
   "metadata": {},
   "outputs": [],
   "source": [
    "loss_fn = nn.BCEWithLogitsLoss()\n",
    "\n",
    "optimizer = torch.optim.SGD(params = model_1.parameters(), lr = 0.01)"
   ]
  },
  {
   "cell_type": "raw",
   "id": "764da08f-d50a-4797-9c67-dcd7cc69ea93",
   "metadata": {},
   "source": [
    "## Write training loop and eval loop for the model\n",
    "\n",
    "torch.manual_seed(45)\n",
    "torch.cuda.manual_seed(45)\n",
    "\n",
    "# epochs\n",
    "epochs = 10\n",
    "\n",
    "# put the data on target device\n",
    "\n",
    "for epoch in range(epochs):\n",
    "    ##Training\n",
    "    model_1.train()\n",
    "\n",
    "    ## Forward pass\n",
    "    y_logits = model_1(X_train).squeeze()\n",
    "    y_preds = torch.round(torch.sigmoid(y_logits)) # logits -> prediction probabilities -> prediction label\n",
    "\n",
    "    ## Loss and Accuracy calculation\n",
    "    loss = loss_fn(y_logits, y_train)\n",
    "    training_acc = accuracy_fn(y_true = y_train,\n",
    "                              y_pred = y_preds)\n",
    "\n",
    "    ## Optimizer Zero Grad\n",
    "    optimizer.zero_grad()\n",
    "\n",
    "    ## Loss Backward (backward propogation)\n",
    "    loss.backward()\n",
    "\n",
    "    # Optimizer step(gradient descent and updation of weights)\n",
    "    optimizer.step()\n",
    "\n",
    "    ## Testing\n",
    "    model_1.eval()\n",
    "    with torch.inference_mode():\n",
    "        \n",
    "        # 1 DO the forward pass\n",
    "        test_logits = model_1(X_test).squeeze()\n",
    "        test_preds = torch.round(torch.sigmoid(test_logits))\n",
    "\n",
    "        # 2 Calculate the loss\n",
    "        test_loss = loss_fn(test_logits,y_test)\n",
    "        test_acc = accuracy_fn(y_true = y_test,\n",
    "                              y_pred = test_preds)\n",
    "\n",
    "    # print out whats happening\n",
    "\n",
    "    print(f\"Epoch : {epoch}  ,  Trainig loss : {loss:.5f}  ,  Training Acc  :  {training_acc:.2f}%,  Test Loss  :  {test_loss:.5f}  ,  Test Acc  :  {test_acc:.2f}%\")\n",
    "        \n",
    "\n",
    "    "
   ]
  },
  {
   "cell_type": "markdown",
   "id": "f3eb1e3c-e902-4101-9320-32f6fe0a200d",
   "metadata": {},
   "source": [
    "### Non-Linearity"
   ]
  },
  {
   "cell_type": "code",
   "execution_count": 43,
   "id": "aa7b14b4-a4b8-412f-8eb4-44e611fa8000",
   "metadata": {},
   "outputs": [],
   "source": [
    "## using New Non-Linear dataset\n",
    "import matplotlib.pyplot as plt\n",
    "from sklearn.datasets import make_circles\n",
    "\n",
    "#Make 20000 samples\n",
    "n_samples = 500\n",
    "\n",
    "# create circles\n",
    "X,y = make_circles(n_samples = n_samples, \n",
    "                   shuffle= True, \n",
    "                   noise= 0.02, \n",
    "                   random_state= 3)"
   ]
  },
  {
   "cell_type": "code",
   "execution_count": 44,
   "id": "90caa0b1-f47b-4aad-bfc3-122b9a296b44",
   "metadata": {},
   "outputs": [
    {
     "data": {
      "text/plain": [
       "((500,), (500, 2))"
      ]
     },
     "execution_count": 44,
     "metadata": {},
     "output_type": "execute_result"
    }
   ],
   "source": [
    "y.shape, X.shape"
   ]
  },
  {
   "cell_type": "code",
   "execution_count": 45,
   "id": "f8a82993-2e0a-4ddd-b012-a3d10e9b17bc",
   "metadata": {},
   "outputs": [
    {
     "data": {
      "text/plain": [
       "<matplotlib.collections.PathCollection at 0x16650a890>"
      ]
     },
     "execution_count": 45,
     "metadata": {},
     "output_type": "execute_result"
    },
    {
     "data": {
      "image/png": "[encoded data removed]",
      "text/plain": [
       "<Figure size 640x480 with 1 Axes>"
      ]
     },
     "metadata": {},
     "output_type": "display_data"
    }
   ],
   "source": [
    "plt.scatter(X[:, 0],X[:,1], c = y, cmap = plt.cm.RdBu)"
   ]
  },
  {
   "cell_type": "code",
   "execution_count": 46,
   "id": "51596e93-4cf1-4cdd-8b69-ebf34d8490b6",
   "metadata": {},
   "outputs": [
    {
     "data": {
      "text/plain": [
       "array([[-1.0188109 , -0.11892511],\n",
       "       [ 0.40873583,  0.70162994],\n",
       "       [ 0.57310863,  0.81153316],\n",
       "       [ 0.9385223 , -0.29901752],\n",
       "       [ 0.08208503, -0.99740384],\n",
       "       [-0.36063927, -0.71413624],\n",
       "       [-0.17618606,  0.80036954],\n",
       "       [ 0.75687838,  0.64822092],\n",
       "       [ 0.5769128 , -0.84690358],\n",
       "       [ 0.71482996, -0.31996736]])"
      ]
     },
     "execution_count": 46,
     "metadata": {},
     "output_type": "execute_result"
    }
   ],
   "source": [
    "X[:10]"
   ]
  },
  {
   "cell_type": "code",
   "execution_count": 47,
   "id": "870ed424-d692-4fde-9ada-0eebe645116f",
   "metadata": {},
   "outputs": [
    {
     "data": {
      "text/plain": [
       "array([0, 1, 0, 0, 0, 1, 1, 0, 0, 1])"
      ]
     },
     "execution_count": 47,
     "metadata": {},
     "output_type": "execute_result"
    }
   ],
   "source": [
    "y[:10]"
   ]
  },
  {
   "cell_type": "code",
   "execution_count": 48,
   "id": "3c5bbc4e-c898-4d7c-9541-22de5d3c09b1",
   "metadata": {},
   "outputs": [
    {
     "data": {
      "text/plain": [
       "(numpy.ndarray, numpy.ndarray)"
      ]
     },
     "execution_count": 48,
     "metadata": {},
     "output_type": "execute_result"
    }
   ],
   "source": [
    "type(X), type(y)"
   ]
  },
  {
   "cell_type": "code",
   "execution_count": 49,
   "id": "5d0a929e-a533-4caa-9c8d-477575f866f6",
   "metadata": {},
   "outputs": [],
   "source": [
    "import torch"
   ]
  },
  {
   "cell_type": "code",
   "execution_count": 50,
   "id": "7508f345-5587-4296-b2fa-25256b7013da",
   "metadata": {
    "scrolled": true
   },
   "outputs": [],
   "source": [
    "# converting data from ndarray into tensors data type\n",
    "X = torch.from_numpy(X).type(torch.float)"
   ]
  },
  {
   "cell_type": "code",
   "execution_count": 51,
   "id": "7d57f2e2-c897-4727-991a-390174c0dcb2",
   "metadata": {},
   "outputs": [],
   "source": [
    "y = torch.from_numpy(y).type(torch.float)"
   ]
  },
  {
   "cell_type": "code",
   "execution_count": 52,
   "id": "825429c0-8320-4235-a1bd-0bf1e057cc8f",
   "metadata": {},
   "outputs": [],
   "source": [
    "from sklearn.model_selection import train_test_split"
   ]
  },
  {
   "cell_type": "code",
   "execution_count": 53,
   "id": "c36464f8-def5-4eb4-8336-3c3e3065dcb2",
   "metadata": {},
   "outputs": [
    {
     "data": {
      "text/plain": [
       "(350, 350, 150, 150)"
      ]
     },
     "execution_count": 53,
     "metadata": {},
     "output_type": "execute_result"
    }
   ],
   "source": [
    "# splitting the data into train and test\n",
    "X_train,X_test,y_train,y_test = train_test_split(X,y,\n",
    "                                                 random_state = 95,\n",
    "                                                test_size = 0.3)\n",
    "\n",
    "len(X_train), len(y_train), len(X_test), len(y_test)"
   ]
  },
  {
   "cell_type": "code",
   "execution_count": 54,
   "id": "5ee84639-7881-44c8-be55-10844ee3dc54",
   "metadata": {},
   "outputs": [
    {
     "data": {
      "text/plain": [
       "(torch.Tensor, torch.Tensor, torch.Tensor, torch.Tensor)"
      ]
     },
     "execution_count": 54,
     "metadata": {},
     "output_type": "execute_result"
    }
   ],
   "source": [
    "type(X_train),type(y_train), type(X_test), type(y_test)"
   ]
  },
  {
   "cell_type": "code",
   "execution_count": 55,
   "id": "d9c46722-3b2f-43d8-86dc-3ba1334f0333",
   "metadata": {},
   "outputs": [
    {
     "data": {
      "text/plain": [
       "(tensor([[-0.5209,  0.5957],\n",
       "         [ 0.9714,  0.3025],\n",
       "         [-0.9586,  0.3190],\n",
       "         [ 0.2683,  0.9123],\n",
       "         [-0.9646, -0.2896],\n",
       "         [-0.5851, -0.8293],\n",
       "         [ 0.9712,  0.4212],\n",
       "         [ 1.0119, -0.0914],\n",
       "         [ 0.5270, -0.6031],\n",
       "         [ 0.4989, -0.8576]]),\n",
       " tensor([1., 0., 0., 0., 0., 0., 0., 0., 1., 0.]))"
      ]
     },
     "execution_count": 55,
     "metadata": {},
     "output_type": "execute_result"
    }
   ],
   "source": [
    "X_train[:10], y_train[:10]"
   ]
  },
  {
   "cell_type": "markdown",
   "id": "c8cc8853-b783-48f7-9a44-43969040e20c",
   "metadata": {},
   "source": [
    "## Building the model with Non-Linearity"
   ]
  },
  {
   "cell_type": "code",
   "execution_count": 56,
   "id": "09a98e31-f7a0-4a4c-baa9-88e929759da5",
   "metadata": {},
   "outputs": [],
   "source": [
    "import torch\n",
    "from torch import nn\n",
    "class CircleModelV2(nn.Module):\n",
    "    def __init__(self):\n",
    "        super().__init__()\n",
    "        self.layer_1 = nn.Linear(in_features = 2, out_features = 16)\n",
    "        self.layer_2 = nn.Linear(in_features = 16, out_features = 8)\n",
    "        self.layer_3 = nn.Linear(in_features = 8, out_features = 1)\n",
    "        self.relu = nn.ReLU\n",
    "\n",
    "    def forward(self, x):\n",
    "        return self.layer_3(self.relu()(self.layer_2(self.relu()(self.layer_1(x)))))"
   ]
  },
  {
   "cell_type": "code",
   "execution_count": 57,
   "id": "1ce29434-813c-404b-af7e-9968a84db220",
   "metadata": {},
   "outputs": [
    {
     "data": {
      "text/plain": [
       "CircleModelV2(\n",
       "  (layer_1): Linear(in_features=2, out_features=16, bias=True)\n",
       "  (layer_2): Linear(in_features=16, out_features=8, bias=True)\n",
       "  (layer_3): Linear(in_features=8, out_features=1, bias=True)\n",
       ")"
      ]
     },
     "execution_count": 57,
     "metadata": {},
     "output_type": "execute_result"
    }
   ],
   "source": [
    "model_3 = CircleModelV2()\n",
    "model_3"
   ]
  },
  {
   "cell_type": "code",
   "execution_count": 58,
   "id": "3dd8fcf0-14c6-4906-b7fc-330c4c7c94ae",
   "metadata": {
    "scrolled": true
   },
   "outputs": [
    {
     "data": {
      "text/plain": [
       "OrderedDict([('layer_1.weight',\n",
       "              tensor([[ 1.5568e-01, -2.0375e-01],\n",
       "                      [-3.2499e-01,  2.7919e-01],\n",
       "                      [-4.5940e-01, -4.7168e-01],\n",
       "                      [ 6.1999e-01,  2.6371e-01],\n",
       "                      [ 2.5350e-01, -6.3247e-01],\n",
       "                      [-6.6787e-01,  6.5390e-01],\n",
       "                      [ 4.2314e-02, -6.5827e-01],\n",
       "                      [ 2.5793e-01,  6.8073e-02],\n",
       "                      [-5.8310e-01, -2.4878e-01],\n",
       "                      [-6.5365e-01,  9.6670e-02],\n",
       "                      [ 4.4329e-01,  5.0817e-02],\n",
       "                      [-4.9298e-01, -2.8115e-01],\n",
       "                      [-2.8368e-01,  9.3547e-02],\n",
       "                      [-1.3117e-01, -7.0374e-01],\n",
       "                      [-5.5248e-04, -6.3846e-01],\n",
       "                      [ 6.9654e-02, -2.2543e-01]])),\n",
       "             ('layer_1.bias',\n",
       "              tensor([ 0.1299, -0.3458,  0.6198,  0.4571,  0.6600, -0.2891,  0.6992,  0.5674,\n",
       "                       0.5882,  0.3760, -0.4022, -0.6132,  0.1424,  0.3291, -0.0132,  0.2075])),\n",
       "             ('layer_2.weight',\n",
       "              tensor([[ 0.2155,  0.0360,  0.0586,  0.0901, -0.0139, -0.1315,  0.1753,  0.2142,\n",
       "                        0.0965,  0.1482,  0.2020,  0.0768, -0.2345, -0.1844,  0.1065, -0.1556],\n",
       "                      [ 0.0365,  0.2241,  0.1338,  0.1996,  0.0963,  0.0439, -0.2492, -0.0066,\n",
       "                       -0.1630,  0.0778,  0.2152, -0.2356,  0.1125, -0.0673, -0.2165,  0.1915],\n",
       "                      [ 0.1285, -0.1342, -0.1118,  0.1718, -0.1657,  0.1100, -0.2088,  0.0270,\n",
       "                       -0.1479,  0.1488, -0.0722,  0.1095,  0.0664,  0.0556, -0.2187, -0.1784],\n",
       "                      [-0.0768,  0.1783, -0.1897,  0.2374,  0.0571,  0.1401, -0.2176, -0.1341,\n",
       "                        0.0140,  0.1561, -0.0574, -0.0355,  0.1411,  0.0092, -0.1525, -0.0082],\n",
       "                      [ 0.1336, -0.2001, -0.0437,  0.2394, -0.1080, -0.1191,  0.2208,  0.1436,\n",
       "                        0.2476,  0.1416,  0.0575,  0.0181, -0.0620,  0.1305,  0.2217, -0.2254],\n",
       "                      [-0.0221, -0.0766,  0.1053,  0.0990,  0.0536,  0.0279, -0.0174, -0.0033,\n",
       "                       -0.2021, -0.0900,  0.2203,  0.0021, -0.0844, -0.0218, -0.0118,  0.1085],\n",
       "                      [ 0.0367, -0.0965, -0.0201,  0.0747,  0.0040,  0.0206,  0.1645, -0.1536,\n",
       "                        0.0681, -0.1843, -0.1849,  0.0786, -0.0589, -0.2032, -0.0902,  0.2396],\n",
       "                      [ 0.2307,  0.0052, -0.1787, -0.2124, -0.2194, -0.0637, -0.1601,  0.0593,\n",
       "                       -0.0048, -0.2289, -0.0594, -0.2015, -0.0604,  0.1462,  0.2155, -0.1457]])),\n",
       "             ('layer_2.bias',\n",
       "              tensor([ 0.2273,  0.0846, -0.0439, -0.0730,  0.1353,  0.0904, -0.2431, -0.2012])),\n",
       "             ('layer_3.weight',\n",
       "              tensor([[ 0.2405,  0.2181, -0.1770, -0.2032, -0.0265, -0.2157, -0.1740,  0.2675]])),\n",
       "             ('layer_3.bias', tensor([-0.0720]))])"
      ]
     },
     "execution_count": 58,
     "metadata": {},
     "output_type": "execute_result"
    }
   ],
   "source": [
    "model_3.state_dict()"
   ]
  },
  {
   "cell_type": "code",
   "execution_count": 59,
   "id": "b32acbe9-cb87-4288-842e-7de1b8152fa3",
   "metadata": {},
   "outputs": [],
   "source": [
    "loss_fn = nn.BCEWithLogitsLoss()\n",
    "optimizer = torch.optim.Adam(params = model_3.parameters(), lr = 0.01)"
   ]
  },
  {
   "cell_type": "code",
   "execution_count": 60,
   "id": "7d9e0181-fbe9-4313-a1f5-a1b9f19d3a47",
   "metadata": {},
   "outputs": [],
   "source": [
    "def accuracy_fn(y_true,y_pred):\n",
    "    correct_preds = torch.eq(y_true, y_pred).sum().item() #we are gonna do .item() as we need the sum as a single value in python\n",
    "    accuracy = correct_preds / len(y_pred)\n",
    "    return accuracy * 100"
   ]
  },
  {
   "cell_type": "raw",
   "id": "26064dfa-848f-408d-99dc-20ce84956e56",
   "metadata": {},
   "source": [
    "## Writing training loop and eval loop for the model\n",
    "\n",
    "torch.manual_seed(95)\n",
    "\n",
    "# epochs\n",
    "epochs = 1\n",
    "\n",
    "for epoch in range(epochs):\n",
    "\n",
    "    ## Training\n",
    "    # put the model in training mode\n",
    "    model_3.train()\n",
    "\n",
    "    # do the forward prop\n",
    "    train_logits = model_3(X_train).squeeze()\n",
    "    train_preds = torch.round(torch.sigmoid(train_logits))\n",
    "    \n",
    "\n",
    "    # calculate the loss and accuracy\n",
    "    loss = loss_fn(train_logits, y_train)\n",
    "    train_acc = accuracy_fn(y_true = y_train,\n",
    "                                y_pred = train_preds)\n",
    "\n",
    "    # Optimizer zero grad\n",
    "    optimizer.zero_grad() # -> zero's all the buildup gradients\n",
    "\n",
    "    #loss backward\n",
    "    loss.backward() # -> performs backward propogation\n",
    "\n",
    "    # optimizer step\n",
    "    optimizer.step() # -> changes the weights values by gradient descent\n",
    "\n",
    "\n",
    "    ### Testing\n",
    "    # put the model in eval mode\n",
    "    model_3.eval()\n",
    "    with torch.inference_mode():\n",
    "        test_logits = model_3(X_test).squeeze()\n",
    "        test_preds = torch.round(torch.sigmoid(test_logits))\n",
    "\n",
    "        test_loss = loss_fn(test_logits,y_test)\n",
    "        test_acc = accuracy_fn(y_true = y_test,\n",
    "                                   y_pred = test_preds)\n",
    "\n",
    "    if epoch%10 == 0:\n",
    "        print(f\"Epoch : {epoch}  ,  Trainig loss : {loss:.5f}  ,  Training Acc  :  {train_acc:.2f}%,  Test Loss  :  {test_loss:.5f}  ,  Test Acc  :  {test_acc:.2f}%\")"
   ]
  },
  {
   "cell_type": "code",
   "execution_count": 61,
   "id": "cc364551-dba8-457a-a555-0e309b7030a3",
   "metadata": {},
   "outputs": [
    {
     "ename": "NameError",
     "evalue": "name 'plot_decisison_boundary' is not defined",
     "output_type": "error",
     "traceback": [
      "\u001b[0;31m---------------------------------------------------------------------------\u001b[0m",
      "\u001b[0;31mNameError\u001b[0m                                 Traceback (most recent call last)",
      "Cell \u001b[0;32mIn[61], line 8\u001b[0m\n\u001b[1;32m      6\u001b[0m plt\u001b[38;5;241m.\u001b[39msubplot(\u001b[38;5;241m1\u001b[39m,\u001b[38;5;241m2\u001b[39m,\u001b[38;5;241m2\u001b[39m)\n\u001b[1;32m      7\u001b[0m plt\u001b[38;5;241m.\u001b[39mtitle(\u001b[38;5;124m\"\u001b[39m\u001b[38;5;124mTest\u001b[39m\u001b[38;5;124m\"\u001b[39m)\n\u001b[0;32m----> 8\u001b[0m plot_decisison_boundary(model_3, X_test, y_test)\n",
      "\u001b[0;31mNameError\u001b[0m: name 'plot_decisison_boundary' is not defined"
     ]
    },
    {
     "data": {
      "image/png": "[encoded data removed]",
      "text/plain": [
       "<Figure size 1200x600 with 2 Axes>"
      ]
     },
     "metadata": {},
     "output_type": "display_data"
    }
   ],
   "source": [
    "## Plot decision boundary\n",
    "plt.figure(figsize = (12,6))\n",
    "plt.subplot(1,2,1)\n",
    "plt.title(\"Train\")\n",
    "plot_decision_boundary(model_3,X_train,y_train)\n",
    "plt.subplot(1,2,2)\n",
    "plt.title(\"Test\")\n",
    "plot_decisison_boundary(model_3, X_test, y_test)"
   ]
  },
  {
   "cell_type": "code",
   "execution_count": null,
   "id": "ffe727f1-58c7-496c-9908-272079af3a7c",
   "metadata": {},
   "outputs": [],
   "source": []
  },
  {
   "cell_type": "code",
   "execution_count": null,
   "id": "fe7559e4-bafa-4919-b0cb-64951bec32b2",
   "metadata": {},
   "outputs": [],
   "source": []
  },
  {
   "cell_type": "markdown",
   "id": "612aa604-a1ff-4901-ac6d-b671be66708d",
   "metadata": {},
   "source": [
    "### Creating a Toy Multiclass Model"
   ]
  },
  {
   "cell_type": "code",
   "execution_count": null,
   "id": "4df36dd0-d4b2-426c-8d00-e22bf5dc4dbf",
   "metadata": {},
   "outputs": [],
   "source": [
    "## Import Depandencies\n",
    "import torch\n",
    "import matplotlib.pyplot as plt\n",
    "from sklearn.datasets import make_blobs\n",
    "from sklearn.model_selection import train_test_split"
   ]
  },
  {
   "cell_type": "code",
   "execution_count": null,
   "id": "24a920d7-2cc9-41a2-a5b8-bc334466ef4e",
   "metadata": {},
   "outputs": [],
   "source": [
    "# Setting the Hyperparamters\n",
    "NUM_CLASSES = 5\n",
    "NUM_FEATURES = 2\n",
    "RANDOM_SEED = 95"
   ]
  },
  {
   "cell_type": "code",
   "execution_count": null,
   "id": "883b3596-0c5a-4b2c-9011-ccc291b8e1a2",
   "metadata": {},
   "outputs": [],
   "source": [
    "# Creating multiclass data\n",
    "x_blob, y_blob = make_blobs(n_samples = 500,\n",
    "                           n_features= NUM_FEATURES,\n",
    "                           centers = NUM_CLASSES,\n",
    "                           cluster_std = 1.4,\n",
    "                           random_state = RANDOM_SEED)\n",
    "\n",
    "# turn data into tensors\n",
    "X_blob = torch.from_numpy(x_blob).type(torch.float)\n",
    "y_blob = torch.from_numpy(y_blob).type(torch.LongTensor)\n",
    "\n",
    "\n",
    "# plot data\n",
    "plt.figure(figsize = (10, 7))\n",
    "plt.scatter(X_blob[:, 0], X_blob[:, 1], c = y_blob, cmap = plt.cm.RdYlBu)"
   ]
  },
  {
   "cell_type": "code",
   "execution_count": null,
   "id": "b7d699f4-4f89-490c-97fe-4a23a0d1dfb5",
   "metadata": {},
   "outputs": [],
   "source": [
    "X_blob_train,X_blob_test,y_blob_train,y_blob_test = train_test_split(X_blob, y_blob, test_size=0.3, random_state = 95)"
   ]
  },
  {
   "cell_type": "code",
   "execution_count": null,
   "id": "5070abc9-5ed2-4dbd-b8ab-1ffcc50c518c",
   "metadata": {},
   "outputs": [],
   "source": [
    "from torch import nn"
   ]
  },
  {
   "cell_type": "code",
   "execution_count": null,
   "id": "d02fd341-a966-4429-aaeb-294d443fc371",
   "metadata": {},
   "outputs": [],
   "source": [
    "device = \"cuda\" if torch.cuda.is_available() else \"cpu\"\n",
    "device"
   ]
  },
  {
   "cell_type": "code",
   "execution_count": null,
   "id": "dff84773-bdc8-4435-a12d-6c659967f26b",
   "metadata": {},
   "outputs": [],
   "source": [
    "## Build a Multiclass Classification Model\n",
    "\n",
    "class BlobMultiClass_Classification(nn.Module):\n",
    "    def __init__(self, input_features, output_features, hidden_units):\n",
    "        \"\"\"\n",
    "            Initializes Multiclass Classification Model\n",
    "\n",
    "            Args: \n",
    "            Input Featues(int) : Number of input features in the model\n",
    "            Output Features(int) : Number of output features in the model\n",
    "            hidden_units(int) : Number of hidden units between layers\n",
    "        \"\"\"\n",
    "        super(). __init__()        \n",
    "        self.linear_layer_stack = nn.Sequential(\n",
    "            nn.Linear(in_features = input_features, out_features = hidden_units),\n",
    "            nn.ReLU(),\n",
    "            nn.Linear(in_features = hidden_units, out_features = hidden_units),\n",
    "            nn.ReLU(),\n",
    "            nn.Linear(in_features = hidden_units, out_features = hidden_units),\n",
    "            nn.ReLU(),\n",
    "            nn.Linear(in_features = hidden_units, out_features = output_features)\n",
    "        )\n",
    "\n",
    "    def forward(self, x):\n",
    "        return self.linear_layer_stack(x)"
   ]
  },
  {
   "cell_type": "code",
   "execution_count": null,
   "id": "fd6ffc39-6842-4b4c-be96-e32b64e050d7",
   "metadata": {},
   "outputs": [],
   "source": [
    "X_blob_train.shape, y_blob_train.shape"
   ]
  },
  {
   "cell_type": "code",
   "execution_count": null,
   "id": "7cdc9a59-7534-466c-89b2-8b8486e512a7",
   "metadata": {},
   "outputs": [],
   "source": [
    "y_blob_train.unique()"
   ]
  },
  {
   "cell_type": "code",
   "execution_count": null,
   "id": "53006aed-5622-47cb-995b-d218ffda0aa7",
   "metadata": {},
   "outputs": [],
   "source": [
    "# Create an Instance of the BlobModel and send it to target device\n",
    "blob_model = BlobMultiClass_Classification(input_features= 2,\n",
    "                                          output_features= 5,\n",
    "                                          hidden_units=8)"
   ]
  },
  {
   "cell_type": "code",
   "execution_count": null,
   "id": "27202329-9ba7-4645-afe1-ef4c7319f1bd",
   "metadata": {},
   "outputs": [],
   "source": [
    "blob_model.state_dict()"
   ]
  },
  {
   "cell_type": "code",
   "execution_count": null,
   "id": "f7ba7833-ac97-4fc1-a95f-f262b6e77c1c",
   "metadata": {},
   "outputs": [],
   "source": [
    "blob_model.parameters"
   ]
  },
  {
   "cell_type": "markdown",
   "id": "f475180a-7652-48b6-9bf3-ca004d4f8d88",
   "metadata": {},
   "source": [
    "#### Create a Loss Function and an Optimizer for a Multi-class classification Model"
   ]
  },
  {
   "cell_type": "code",
   "execution_count": null,
   "id": "eb7e8e0e-d031-4d54-98ff-6e9acdedc57d",
   "metadata": {},
   "outputs": [],
   "source": [
    "# loss function\n",
    "loss_fn = nn.CrossEntropyLoss()\n",
    "\n",
    "# Optimizer\n",
    "optimizer = torch.optim.Adam(params = blob_model.parameters(),\n",
    "                            lr = 0.01)"
   ]
  },
  {
   "cell_type": "code",
   "execution_count": null,
   "id": "b37b308f-68b3-4483-aa76-03560e6aa7cc",
   "metadata": {},
   "outputs": [],
   "source": [
    "blob_model(X_blob_train)"
   ]
  },
  {
   "cell_type": "code",
   "execution_count": null,
   "id": "fc2399bb-6ef2-4d5a-b6b6-eb46601e91d1",
   "metadata": {},
   "outputs": [],
   "source": [
    "blob_model(X_blob_test)"
   ]
  },
  {
   "cell_type": "markdown",
   "id": "92a7e125-f0c4-4626-9d71-6224b7895425",
   "metadata": {},
   "source": [
    "## Getting Predictions from the model\n",
    "##### Logits (raw output of the model) --> pred probs (use `torch.softmax`) -->  pred labels (take the argmax of the prediction probs)"
   ]
  },
  {
   "cell_type": "code",
   "execution_count": null,
   "id": "b7973303-eef3-4424-bc28-ae1039f7ddb8",
   "metadata": {},
   "outputs": [],
   "source": [
    "blob_model.eval()\n",
    "with torch.inference_mode():\n",
    "    pred_logits = blob_model(X_blob_test.to(device))"
   ]
  },
  {
   "cell_type": "code",
   "execution_count": null,
   "id": "30b0719b-1585-4130-938a-4c645f1ca258",
   "metadata": {},
   "outputs": [],
   "source": [
    "pred_logits.shape"
   ]
  },
  {
   "cell_type": "code",
   "execution_count": null,
   "id": "76dffec7-53a6-4c0a-af94-4ed15d50e65e",
   "metadata": {},
   "outputs": [],
   "source": [
    "pred_probs = torch.sigmoid(pred_logits)"
   ]
  },
  {
   "cell_type": "code",
   "execution_count": null,
   "id": "8fa368e4-cc03-47f1-8836-614c52462089",
   "metadata": {},
   "outputs": [],
   "source": [
    "pred_probs[:10]"
   ]
  },
  {
   "cell_type": "code",
   "execution_count": null,
   "id": "304f6e0b-7a3a-4e85-87dd-db15d1bf9217",
   "metadata": {},
   "outputs": [],
   "source": [
    "y_blob_test[:10]"
   ]
  },
  {
   "cell_type": "code",
   "execution_count": null,
   "id": "120d750f-4010-4c8a-8422-a32e42bdd704",
   "metadata": {},
   "outputs": [],
   "source": [
    "torch.sum(pred_probs[1])"
   ]
  },
  {
   "cell_type": "code",
   "execution_count": null,
   "id": "b73d0ae7-3cee-4595-a2f5-e53527740926",
   "metadata": {},
   "outputs": [],
   "source": [
    "torch.argmax(pred_probs[9])"
   ]
  },
  {
   "cell_type": "code",
   "execution_count": null,
   "id": "65233e91-6fc5-477a-9eaa-33ea7630cb73",
   "metadata": {},
   "outputs": [],
   "source": [
    "# convert our prediction probabilies into prediction labels\n",
    "y_pred_probs = torch.argmax(pred_probs, dim = 1)\n",
    "y_pred_probs[:10]"
   ]
  },
  {
   "cell_type": "markdown",
   "id": "7a3f5516-c3ab-4dc7-9069-c696f54690ec",
   "metadata": {},
   "source": [
    "#### 8.5 Creating a Training Loop and Testing Loop for a multiclass Pytorch Model"
   ]
  },
  {
   "cell_type": "code",
   "execution_count": null,
   "id": "1393db20-1eef-4083-8300-add6c2b7b48e",
   "metadata": {},
   "outputs": [],
   "source": [
    "def accuracy_fn(y_true,y_pred):\n",
    "    correct_preds = torch.eq(y_true, y_pred).sum().item() #we are gonna do .item() as we need the sum as a single value in python\n",
    "    accuracy = correct_preds / len(y_pred)\n",
    "    return accuracy * 100"
   ]
  },
  {
   "cell_type": "code",
   "execution_count": null,
   "id": "a115007c-0adb-4d66-b36e-61f881f0bc10",
   "metadata": {
    "scrolled": true
   },
   "outputs": [],
   "source": [
    "torch.manual_seed(95)\n",
    "\n",
    "epochs = 100\n",
    "\n",
    "# put data into the target device\n",
    "X_blob_train, y_blob_train = X_blob_train.to(device), y_blob_train.to(device)\n",
    "X_blob_test, y_blob_test = X_blob_test.to(device), y_blob_test.to(device)\n",
    "\n",
    "\n",
    "for epoch in range(epochs):\n",
    "    # put the model in Training Mode\n",
    "    blob_model.train()\n",
    "\n",
    "    #do the forward pass\n",
    "    pred_logits = blob_model(X_blob_train)\n",
    "    pred_labels = torch.softmax(pred_logits, dim = 1).argmax(dim = 1)\n",
    "\n",
    "    # Calculate the loss and accuracy\n",
    "    loss = loss_fn(pred_logits, y_blob_train)\n",
    "    train_accuracy = accuracy_fn(y_true = y_blob_train,\n",
    "                                y_pred = pred_labels)\n",
    "\n",
    "    # Optimizer zero grad\n",
    "    optimizer.zero_grad()\n",
    "\n",
    "    # Loss backward\n",
    "    loss.backward()\n",
    "\n",
    "    # Optimizer Step\n",
    "    optimizer.step()\n",
    "\n",
    "    # Testing the model\n",
    "    blob_model.eval()\n",
    "\n",
    "    # put the model in inference mode\n",
    "    with torch.inference_mode():\n",
    "        test_logits = blob_model(X_blob_test)\n",
    "        test_labels = torch.softmax(test_logits, dim = 1).argmax(dim = 1)\n",
    "\n",
    "        # Calculate the test loss and test accuracy\n",
    "        test_loss = loss_fn(test_logits, y_blob_test)\n",
    "        test_accuracy = accuracy_fn(y_true = y_blob_test,\n",
    "                                   y_pred = test_labels)\n",
    "\n",
    "        # Print out whats happening\n",
    "        if epoch%10 == 0:\n",
    "            print(f\"Epoch : {epoch}  ,  Trainig loss : {loss:.5f}  ,  Training Acc  :  {train_accuracy:.2f}%,  Test Loss  :  {test_loss:.5f}  ,  Test Acc  :  {test_accuracy:.2f}%\")"
   ]
  },
  {
   "cell_type": "code",
   "execution_count": null,
   "id": "9d555460-7292-4c64-b08d-40cecce7c9ba",
   "metadata": {},
   "outputs": [],
   "source": [
    "y_blob_train.type()"
   ]
  },
  {
   "cell_type": "code",
   "execution_count": null,
   "id": "19ce54ae-a121-4d7a-b2e1-4344aae695b9",
   "metadata": {},
   "outputs": [],
   "source": [
    "plt.figure(figsize = (12, 6))\n",
    "plt.subplot(1,2,1)\n",
    "plt.title(\"Train\")\n",
    "plot_decision_boundary(blob_model, X_blob_train, y_blob_train)\n",
    "plt.subplot(1,2,2)\n",
    "plt.title(\"Test\")\n",
    "plot_decision_boundary(blob_model, X_blob_test, test_labels)"
   ]
  },
  {
   "cell_type": "code",
   "execution_count": null,
   "id": "c1458097-c19e-4d26-ba15-4dd2de645689",
   "metadata": {},
   "outputs": [],
   "source": [
    "pip install torchmetrics"
   ]
  },
  {
   "cell_type": "code",
   "execution_count": null,
   "id": "42d056a3-4847-4967-bed1-1c43a4b3cf15",
   "metadata": {},
   "outputs": [],
   "source": [
    "from torchmetrics import Accuracy\n",
    "\n",
    "torchmetrics_accuracy = Accuracy(task = \"multiclass\", num_classes = NUM_CLASSES)\n",
    "\n",
    "torchmetrics_accuracy(test_labels, y_blob_test)"
   ]
  },
  {
   "cell_type": "code",
   "execution_count": null,
   "id": "4fbbfce1-adb5-4a9c-90ce-d5eeb3a019cc",
   "metadata": {},
   "outputs": [],
   "source": []
  },
  {
   "cell_type": "code",
   "execution_count": null,
   "id": "58204fe8-ec5a-4aa1-bec0-f4e356b54c2e",
   "metadata": {},
   "outputs": [],
   "source": []
  },
  {
   "cell_type": "code",
   "execution_count": null,
   "id": "6ced16da-3bdc-44b4-b4a7-4ea9f8fcd4d7",
   "metadata": {},
   "outputs": [],
   "source": []
  },
  {
   "cell_type": "code",
   "execution_count": null,
   "id": "2ed34abe-b0fd-4cd1-83a0-1600c0934ad1",
   "metadata": {},
   "outputs": [],
   "source": []
  },
  {
   "cell_type": "code",
   "execution_count": null,
   "id": "789549b8-2090-43f2-bd09-066be5048e56",
   "metadata": {},
   "outputs": [],
   "source": []
  },
  {
   "cell_type": "code",
   "execution_count": null,
   "id": "77feb347-81b7-4e7d-9e4b-d47c092c504f",
   "metadata": {},
   "outputs": [],
   "source": []
  },
  {
   "cell_type": "code",
   "execution_count": null,
   "id": "b6be59d2-7943-44bd-8b01-fd3cdb2ca98b",
   "metadata": {},
   "outputs": [],
   "source": []
  },
  {
   "cell_type": "code",
   "execution_count": null,
   "id": "c14e8218-3fc0-458e-b487-41d6b6f93aaf",
   "metadata": {},
   "outputs": [],
   "source": []
  },
  {
   "cell_type": "code",
   "execution_count": null,
   "id": "6cf48291-a924-4602-ae1b-8b970a2f0312",
   "metadata": {},
   "outputs": [],
   "source": []
  },
  {
   "cell_type": "code",
   "execution_count": null,
   "id": "a4ab0fc0-33ab-4e1f-99f1-8244df5335bf",
   "metadata": {},
   "outputs": [],
   "source": []
  },
  {
   "cell_type": "code",
   "execution_count": null,
   "id": "bd906819-bc78-44b5-847f-7b2979170b63",
   "metadata": {},
   "outputs": [],
   "source": []
  },
  {
   "cell_type": "code",
   "execution_count": null,
   "id": "ecb57e5f-1e28-48ba-93fd-d0e8176e488a",
   "metadata": {},
   "outputs": [],
   "source": []
  }
 ],
 "metadata": {
  "kernelspec": {
   "display_name": "Python 3 (ipykernel)",
   "language": "python",
   "name": "python3"
  },
  "language_info": {
   "codemirror_mode": {
    "name": "ipython",
    "version": 3
   },
   "file_extension": ".py",
   "mimetype": "text/x-python",
   "name": "python",
   "nbconvert_exporter": "python",
   "pygments_lexer": "ipython3",
   "version": "3.11.7"
  }
 },
 "nbformat": 4,
 "nbformat_minor": 5
}

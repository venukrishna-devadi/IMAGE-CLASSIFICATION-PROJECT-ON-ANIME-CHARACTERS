{
 "cells": [
  {
   "cell_type": "code",
   "execution_count": 1,
   "id": "8a033d71-a043-44a0-aaa7-8558c070d228",
   "metadata": {},
   "outputs": [
    {
     "data": {
      "text/plain": [
       "{1: 'preparing and loading of data',\n",
       " 2: 'Building the Model',\n",
       " 3: 'Fitting the model to data(training the model)',\n",
       " 4: 'Inferencing - Making predictions and evaluating the model',\n",
       " 5: 'Saving and loading the model',\n",
       " 6: 'Putting it all together'}"
      ]
     },
     "execution_count": 1,
     "metadata": {},
     "output_type": "execute_result"
    }
   ],
   "source": [
    "what_this_notebook_contains = {1: \"preparing and loading of data\",\n",
    "                               2: \"Building the Model\",\n",
    "                               3: \"Fitting the model to data(training the model)\",\n",
    "                               4: \"Inferencing - Making predictions and evaluating the model\",\n",
    "                               5: \"Saving and loading the model\",\n",
    "                               6: \"Putting it all together\"}\n",
    "what_this_notebook_contains"
   ]
  },
  {
   "cell_type": "code",
   "execution_count": 2,
   "id": "6a61c992-3d49-4faa-b152-dda81f5623b0",
   "metadata": {},
   "outputs": [
    {
     "name": "stdout",
     "output_type": "stream",
     "text": [
      "Requirement already satisfied: jupyter_contrib_nbextensions in /opt/anaconda3/lib/python3.11/site-packages (0.7.0)\n",
      "Requirement already satisfied: ipython-genutils in /opt/anaconda3/lib/python3.11/site-packages (from jupyter_contrib_nbextensions) (0.2.0)\n",
      "Requirement already satisfied: jupyter-contrib-core>=0.3.3 in /opt/anaconda3/lib/python3.11/site-packages (from jupyter_contrib_nbextensions) (0.4.2)\n",
      "Requirement already satisfied: jupyter-core in /opt/anaconda3/lib/python3.11/site-packages (from jupyter_contrib_nbextensions) (5.5.0)\n",
      "Requirement already satisfied: jupyter-highlight-selected-word>=0.1.1 in /opt/anaconda3/lib/python3.11/site-packages (from jupyter_contrib_nbextensions) (0.2.0)\n",
      "Requirement already satisfied: jupyter-nbextensions-configurator>=0.4.0 in /opt/anaconda3/lib/python3.11/site-packages (from jupyter_contrib_nbextensions) (0.6.4)\n",
      "Requirement already satisfied: nbconvert>=6.0 in /opt/anaconda3/lib/python3.11/site-packages (from jupyter_contrib_nbextensions) (7.10.0)\n",
      "Requirement already satisfied: notebook>=6.0 in /opt/anaconda3/lib/python3.11/site-packages (from jupyter_contrib_nbextensions) (7.0.8)\n",
      "Requirement already satisfied: tornado in /opt/anaconda3/lib/python3.11/site-packages (from jupyter_contrib_nbextensions) (6.3.3)\n",
      "Requirement already satisfied: traitlets>=4.1 in /opt/anaconda3/lib/python3.11/site-packages (from jupyter_contrib_nbextensions) (5.7.1)\n",
      "Requirement already satisfied: lxml in /opt/anaconda3/lib/python3.11/site-packages (from jupyter_contrib_nbextensions) (4.9.3)\n",
      "Requirement already satisfied: setuptools in /opt/anaconda3/lib/python3.11/site-packages (from jupyter-contrib-core>=0.3.3->jupyter_contrib_nbextensions) (68.2.2)\n",
      "Requirement already satisfied: jupyter-server in /opt/anaconda3/lib/python3.11/site-packages (from jupyter-nbextensions-configurator>=0.4.0->jupyter_contrib_nbextensions) (2.10.0)\n",
      "Requirement already satisfied: pyyaml in /opt/anaconda3/lib/python3.11/site-packages (from jupyter-nbextensions-configurator>=0.4.0->jupyter_contrib_nbextensions) (6.0.1)\n",
      "Requirement already satisfied: beautifulsoup4 in /opt/anaconda3/lib/python3.11/site-packages (from nbconvert>=6.0->jupyter_contrib_nbextensions) (4.12.2)\n",
      "Requirement already satisfied: bleach!=5.0.0 in /opt/anaconda3/lib/python3.11/site-packages (from nbconvert>=6.0->jupyter_contrib_nbextensions) (4.1.0)\n",
      "Requirement already satisfied: defusedxml in /opt/anaconda3/lib/python3.11/site-packages (from nbconvert>=6.0->jupyter_contrib_nbextensions) (0.7.1)\n",
      "Requirement already satisfied: jinja2>=3.0 in /opt/anaconda3/lib/python3.11/site-packages (from nbconvert>=6.0->jupyter_contrib_nbextensions) (3.1.3)\n",
      "Requirement already satisfied: jupyterlab-pygments in /opt/anaconda3/lib/python3.11/site-packages (from nbconvert>=6.0->jupyter_contrib_nbextensions) (0.1.2)\n",
      "Requirement already satisfied: markupsafe>=2.0 in /opt/anaconda3/lib/python3.11/site-packages (from nbconvert>=6.0->jupyter_contrib_nbextensions) (2.1.3)\n",
      "Requirement already satisfied: mistune<4,>=2.0.3 in /opt/anaconda3/lib/python3.11/site-packages (from nbconvert>=6.0->jupyter_contrib_nbextensions) (2.0.4)\n",
      "Requirement already satisfied: nbclient>=0.5.0 in /opt/anaconda3/lib/python3.11/site-packages (from nbconvert>=6.0->jupyter_contrib_nbextensions) (0.8.0)\n",
      "Requirement already satisfied: nbformat>=5.7 in /opt/anaconda3/lib/python3.11/site-packages (from nbconvert>=6.0->jupyter_contrib_nbextensions) (5.9.2)\n",
      "Requirement already satisfied: packaging in /opt/anaconda3/lib/python3.11/site-packages (from nbconvert>=6.0->jupyter_contrib_nbextensions) (24.1)\n",
      "Requirement already satisfied: pandocfilters>=1.4.1 in /opt/anaconda3/lib/python3.11/site-packages (from nbconvert>=6.0->jupyter_contrib_nbextensions) (1.5.0)\n",
      "Requirement already satisfied: pygments>=2.4.1 in /opt/anaconda3/lib/python3.11/site-packages (from nbconvert>=6.0->jupyter_contrib_nbextensions) (2.15.1)\n",
      "Requirement already satisfied: tinycss2 in /opt/anaconda3/lib/python3.11/site-packages (from nbconvert>=6.0->jupyter_contrib_nbextensions) (1.2.1)\n",
      "Requirement already satisfied: platformdirs>=2.5 in /opt/anaconda3/lib/python3.11/site-packages (from jupyter-core->jupyter_contrib_nbextensions) (3.10.0)\n",
      "Requirement already satisfied: jupyterlab-server<3,>=2.22.1 in /opt/anaconda3/lib/python3.11/site-packages (from notebook>=6.0->jupyter_contrib_nbextensions) (2.25.1)\n",
      "Requirement already satisfied: jupyterlab<4.1,>=4.0.2 in /opt/anaconda3/lib/python3.11/site-packages (from notebook>=6.0->jupyter_contrib_nbextensions) (4.0.11)\n",
      "Requirement already satisfied: notebook-shim<0.3,>=0.2 in /opt/anaconda3/lib/python3.11/site-packages (from notebook>=6.0->jupyter_contrib_nbextensions) (0.2.3)\n",
      "Requirement already satisfied: six>=1.9.0 in /opt/anaconda3/lib/python3.11/site-packages (from bleach!=5.0.0->nbconvert>=6.0->jupyter_contrib_nbextensions) (1.16.0)\n",
      "Requirement already satisfied: webencodings in /opt/anaconda3/lib/python3.11/site-packages (from bleach!=5.0.0->nbconvert>=6.0->jupyter_contrib_nbextensions) (0.5.1)\n",
      "Requirement already satisfied: anyio>=3.1.0 in /opt/anaconda3/lib/python3.11/site-packages (from jupyter-server->jupyter-nbextensions-configurator>=0.4.0->jupyter_contrib_nbextensions) (4.2.0)\n",
      "Requirement already satisfied: argon2-cffi in /opt/anaconda3/lib/python3.11/site-packages (from jupyter-server->jupyter-nbextensions-configurator>=0.4.0->jupyter_contrib_nbextensions) (21.3.0)\n",
      "Requirement already satisfied: jupyter-client>=7.4.4 in /opt/anaconda3/lib/python3.11/site-packages (from jupyter-server->jupyter-nbextensions-configurator>=0.4.0->jupyter_contrib_nbextensions) (8.6.0)\n",
      "Requirement already satisfied: jupyter-events>=0.6.0 in /opt/anaconda3/lib/python3.11/site-packages (from jupyter-server->jupyter-nbextensions-configurator>=0.4.0->jupyter_contrib_nbextensions) (0.8.0)\n",
      "Requirement already satisfied: jupyter-server-terminals in /opt/anaconda3/lib/python3.11/site-packages (from jupyter-server->jupyter-nbextensions-configurator>=0.4.0->jupyter_contrib_nbextensions) (0.4.4)\n",
      "Requirement already satisfied: overrides in /opt/anaconda3/lib/python3.11/site-packages (from jupyter-server->jupyter-nbextensions-configurator>=0.4.0->jupyter_contrib_nbextensions) (7.4.0)\n",
      "Requirement already satisfied: prometheus-client in /opt/anaconda3/lib/python3.11/site-packages (from jupyter-server->jupyter-nbextensions-configurator>=0.4.0->jupyter_contrib_nbextensions) (0.14.1)\n",
      "Requirement already satisfied: pyzmq>=24 in /opt/anaconda3/lib/python3.11/site-packages (from jupyter-server->jupyter-nbextensions-configurator>=0.4.0->jupyter_contrib_nbextensions) (25.1.2)\n",
      "Requirement already satisfied: send2trash>=1.8.2 in /opt/anaconda3/lib/python3.11/site-packages (from jupyter-server->jupyter-nbextensions-configurator>=0.4.0->jupyter_contrib_nbextensions) (1.8.2)\n",
      "Requirement already satisfied: terminado>=0.8.3 in /opt/anaconda3/lib/python3.11/site-packages (from jupyter-server->jupyter-nbextensions-configurator>=0.4.0->jupyter_contrib_nbextensions) (0.17.1)\n",
      "Requirement already satisfied: websocket-client in /opt/anaconda3/lib/python3.11/site-packages (from jupyter-server->jupyter-nbextensions-configurator>=0.4.0->jupyter_contrib_nbextensions) (0.58.0)\n",
      "Requirement already satisfied: async-lru>=1.0.0 in /opt/anaconda3/lib/python3.11/site-packages (from jupyterlab<4.1,>=4.0.2->notebook>=6.0->jupyter_contrib_nbextensions) (2.0.4)\n",
      "Requirement already satisfied: ipykernel in /opt/anaconda3/lib/python3.11/site-packages (from jupyterlab<4.1,>=4.0.2->notebook>=6.0->jupyter_contrib_nbextensions) (6.28.0)\n",
      "Requirement already satisfied: jupyter-lsp>=2.0.0 in /opt/anaconda3/lib/python3.11/site-packages (from jupyterlab<4.1,>=4.0.2->notebook>=6.0->jupyter_contrib_nbextensions) (2.2.0)\n",
      "Requirement already satisfied: babel>=2.10 in /opt/anaconda3/lib/python3.11/site-packages (from jupyterlab-server<3,>=2.22.1->notebook>=6.0->jupyter_contrib_nbextensions) (2.11.0)\n",
      "Requirement already satisfied: json5>=0.9.0 in /opt/anaconda3/lib/python3.11/site-packages (from jupyterlab-server<3,>=2.22.1->notebook>=6.0->jupyter_contrib_nbextensions) (0.9.6)\n",
      "Requirement already satisfied: jsonschema>=4.18.0 in /opt/anaconda3/lib/python3.11/site-packages (from jupyterlab-server<3,>=2.22.1->notebook>=6.0->jupyter_contrib_nbextensions) (4.19.2)\n",
      "Requirement already satisfied: requests>=2.31 in /opt/anaconda3/lib/python3.11/site-packages (from jupyterlab-server<3,>=2.22.1->notebook>=6.0->jupyter_contrib_nbextensions) (2.31.0)\n",
      "Requirement already satisfied: fastjsonschema in /opt/anaconda3/lib/python3.11/site-packages (from nbformat>=5.7->nbconvert>=6.0->jupyter_contrib_nbextensions) (2.16.2)\n",
      "Requirement already satisfied: soupsieve>1.2 in /opt/anaconda3/lib/python3.11/site-packages (from beautifulsoup4->nbconvert>=6.0->jupyter_contrib_nbextensions) (2.5)\n",
      "Requirement already satisfied: idna>=2.8 in /opt/anaconda3/lib/python3.11/site-packages (from anyio>=3.1.0->jupyter-server->jupyter-nbextensions-configurator>=0.4.0->jupyter_contrib_nbextensions) (3.4)\n",
      "Requirement already satisfied: sniffio>=1.1 in /opt/anaconda3/lib/python3.11/site-packages (from anyio>=3.1.0->jupyter-server->jupyter-nbextensions-configurator>=0.4.0->jupyter_contrib_nbextensions) (1.3.0)\n",
      "Requirement already satisfied: pytz>=2015.7 in /opt/anaconda3/lib/python3.11/site-packages (from babel>=2.10->jupyterlab-server<3,>=2.22.1->notebook>=6.0->jupyter_contrib_nbextensions) (2023.3.post1)\n",
      "Requirement already satisfied: attrs>=22.2.0 in /opt/anaconda3/lib/python3.11/site-packages (from jsonschema>=4.18.0->jupyterlab-server<3,>=2.22.1->notebook>=6.0->jupyter_contrib_nbextensions) (23.2.0)\n",
      "Requirement already satisfied: jsonschema-specifications>=2023.03.6 in /opt/anaconda3/lib/python3.11/site-packages (from jsonschema>=4.18.0->jupyterlab-server<3,>=2.22.1->notebook>=6.0->jupyter_contrib_nbextensions) (2023.7.1)\n",
      "Requirement already satisfied: referencing>=0.28.4 in /opt/anaconda3/lib/python3.11/site-packages (from jsonschema>=4.18.0->jupyterlab-server<3,>=2.22.1->notebook>=6.0->jupyter_contrib_nbextensions) (0.30.2)\n",
      "Requirement already satisfied: rpds-py>=0.7.1 in /opt/anaconda3/lib/python3.11/site-packages (from jsonschema>=4.18.0->jupyterlab-server<3,>=2.22.1->notebook>=6.0->jupyter_contrib_nbextensions) (0.10.6)\n",
      "Requirement already satisfied: python-dateutil>=2.8.2 in /opt/anaconda3/lib/python3.11/site-packages (from jupyter-client>=7.4.4->jupyter-server->jupyter-nbextensions-configurator>=0.4.0->jupyter_contrib_nbextensions) (2.8.2)\n",
      "Requirement already satisfied: python-json-logger>=2.0.4 in /opt/anaconda3/lib/python3.11/site-packages (from jupyter-events>=0.6.0->jupyter-server->jupyter-nbextensions-configurator>=0.4.0->jupyter_contrib_nbextensions) (2.0.7)\n",
      "Requirement already satisfied: rfc3339-validator in /opt/anaconda3/lib/python3.11/site-packages (from jupyter-events>=0.6.0->jupyter-server->jupyter-nbextensions-configurator>=0.4.0->jupyter_contrib_nbextensions) (0.1.4)\n",
      "Requirement already satisfied: rfc3986-validator>=0.1.1 in /opt/anaconda3/lib/python3.11/site-packages (from jupyter-events>=0.6.0->jupyter-server->jupyter-nbextensions-configurator>=0.4.0->jupyter_contrib_nbextensions) (0.1.1)\n",
      "Requirement already satisfied: charset-normalizer<4,>=2 in /opt/anaconda3/lib/python3.11/site-packages (from requests>=2.31->jupyterlab-server<3,>=2.22.1->notebook>=6.0->jupyter_contrib_nbextensions) (2.0.4)\n",
      "Requirement already satisfied: urllib3<3,>=1.21.1 in /opt/anaconda3/lib/python3.11/site-packages (from requests>=2.31->jupyterlab-server<3,>=2.22.1->notebook>=6.0->jupyter_contrib_nbextensions) (2.0.7)\n",
      "Requirement already satisfied: certifi>=2017.4.17 in /opt/anaconda3/lib/python3.11/site-packages (from requests>=2.31->jupyterlab-server<3,>=2.22.1->notebook>=6.0->jupyter_contrib_nbextensions) (2024.2.2)\n",
      "Requirement already satisfied: ptyprocess in /opt/anaconda3/lib/python3.11/site-packages (from terminado>=0.8.3->jupyter-server->jupyter-nbextensions-configurator>=0.4.0->jupyter_contrib_nbextensions) (0.7.0)\n",
      "Requirement already satisfied: argon2-cffi-bindings in /opt/anaconda3/lib/python3.11/site-packages (from argon2-cffi->jupyter-server->jupyter-nbextensions-configurator>=0.4.0->jupyter_contrib_nbextensions) (21.2.0)\n",
      "Requirement already satisfied: appnope in /opt/anaconda3/lib/python3.11/site-packages (from ipykernel->jupyterlab<4.1,>=4.0.2->notebook>=6.0->jupyter_contrib_nbextensions) (0.1.2)\n",
      "Requirement already satisfied: comm>=0.1.1 in /opt/anaconda3/lib/python3.11/site-packages (from ipykernel->jupyterlab<4.1,>=4.0.2->notebook>=6.0->jupyter_contrib_nbextensions) (0.1.2)\n",
      "Requirement already satisfied: debugpy>=1.6.5 in /opt/anaconda3/lib/python3.11/site-packages (from ipykernel->jupyterlab<4.1,>=4.0.2->notebook>=6.0->jupyter_contrib_nbextensions) (1.6.7)\n",
      "Requirement already satisfied: ipython>=7.23.1 in /opt/anaconda3/lib/python3.11/site-packages (from ipykernel->jupyterlab<4.1,>=4.0.2->notebook>=6.0->jupyter_contrib_nbextensions) (8.20.0)\n",
      "Requirement already satisfied: matplotlib-inline>=0.1 in /opt/anaconda3/lib/python3.11/site-packages (from ipykernel->jupyterlab<4.1,>=4.0.2->notebook>=6.0->jupyter_contrib_nbextensions) (0.1.6)\n",
      "Requirement already satisfied: nest-asyncio in /opt/anaconda3/lib/python3.11/site-packages (from ipykernel->jupyterlab<4.1,>=4.0.2->notebook>=6.0->jupyter_contrib_nbextensions) (1.6.0)\n",
      "Requirement already satisfied: psutil in /opt/anaconda3/lib/python3.11/site-packages (from ipykernel->jupyterlab<4.1,>=4.0.2->notebook>=6.0->jupyter_contrib_nbextensions) (5.9.0)\n",
      "Requirement already satisfied: decorator in /opt/anaconda3/lib/python3.11/site-packages (from ipython>=7.23.1->ipykernel->jupyterlab<4.1,>=4.0.2->notebook>=6.0->jupyter_contrib_nbextensions) (5.1.1)\n",
      "Requirement already satisfied: jedi>=0.16 in /opt/anaconda3/lib/python3.11/site-packages (from ipython>=7.23.1->ipykernel->jupyterlab<4.1,>=4.0.2->notebook>=6.0->jupyter_contrib_nbextensions) (0.18.1)\n",
      "Requirement already satisfied: prompt-toolkit<3.1.0,>=3.0.41 in /opt/anaconda3/lib/python3.11/site-packages (from ipython>=7.23.1->ipykernel->jupyterlab<4.1,>=4.0.2->notebook>=6.0->jupyter_contrib_nbextensions) (3.0.43)\n",
      "Requirement already satisfied: stack-data in /opt/anaconda3/lib/python3.11/site-packages (from ipython>=7.23.1->ipykernel->jupyterlab<4.1,>=4.0.2->notebook>=6.0->jupyter_contrib_nbextensions) (0.2.0)\n",
      "Requirement already satisfied: pexpect>4.3 in /opt/anaconda3/lib/python3.11/site-packages (from ipython>=7.23.1->ipykernel->jupyterlab<4.1,>=4.0.2->notebook>=6.0->jupyter_contrib_nbextensions) (4.8.0)\n",
      "Requirement already satisfied: fqdn in /opt/anaconda3/lib/python3.11/site-packages (from jsonschema[format-nongpl]>=4.18.0->jupyter-events>=0.6.0->jupyter-server->jupyter-nbextensions-configurator>=0.4.0->jupyter_contrib_nbextensions) (1.5.1)\n",
      "Requirement already satisfied: isoduration in /opt/anaconda3/lib/python3.11/site-packages (from jsonschema[format-nongpl]>=4.18.0->jupyter-events>=0.6.0->jupyter-server->jupyter-nbextensions-configurator>=0.4.0->jupyter_contrib_nbextensions) (20.11.0)\n",
      "Requirement already satisfied: jsonpointer>1.13 in /opt/anaconda3/lib/python3.11/site-packages (from jsonschema[format-nongpl]>=4.18.0->jupyter-events>=0.6.0->jupyter-server->jupyter-nbextensions-configurator>=0.4.0->jupyter_contrib_nbextensions) (2.1)\n",
      "Requirement already satisfied: uri-template in /opt/anaconda3/lib/python3.11/site-packages (from jsonschema[format-nongpl]>=4.18.0->jupyter-events>=0.6.0->jupyter-server->jupyter-nbextensions-configurator>=0.4.0->jupyter_contrib_nbextensions) (1.3.0)\n",
      "Requirement already satisfied: webcolors>=1.11 in /opt/anaconda3/lib/python3.11/site-packages (from jsonschema[format-nongpl]>=4.18.0->jupyter-events>=0.6.0->jupyter-server->jupyter-nbextensions-configurator>=0.4.0->jupyter_contrib_nbextensions) (24.6.0)\n",
      "Requirement already satisfied: cffi>=1.0.1 in /opt/anaconda3/lib/python3.11/site-packages (from argon2-cffi-bindings->argon2-cffi->jupyter-server->jupyter-nbextensions-configurator>=0.4.0->jupyter_contrib_nbextensions) (1.16.0)\n",
      "Requirement already satisfied: pycparser in /opt/anaconda3/lib/python3.11/site-packages (from cffi>=1.0.1->argon2-cffi-bindings->argon2-cffi->jupyter-server->jupyter-nbextensions-configurator>=0.4.0->jupyter_contrib_nbextensions) (2.21)\n",
      "Requirement already satisfied: parso<0.9.0,>=0.8.0 in /opt/anaconda3/lib/python3.11/site-packages (from jedi>=0.16->ipython>=7.23.1->ipykernel->jupyterlab<4.1,>=4.0.2->notebook>=6.0->jupyter_contrib_nbextensions) (0.8.3)\n",
      "Requirement already satisfied: wcwidth in /opt/anaconda3/lib/python3.11/site-packages (from prompt-toolkit<3.1.0,>=3.0.41->ipython>=7.23.1->ipykernel->jupyterlab<4.1,>=4.0.2->notebook>=6.0->jupyter_contrib_nbextensions) (0.2.5)\n",
      "Requirement already satisfied: arrow>=0.15.0 in /opt/anaconda3/lib/python3.11/site-packages (from isoduration->jsonschema[format-nongpl]>=4.18.0->jupyter-events>=0.6.0->jupyter-server->jupyter-nbextensions-configurator>=0.4.0->jupyter_contrib_nbextensions) (1.2.3)\n",
      "Requirement already satisfied: executing in /opt/anaconda3/lib/python3.11/site-packages (from stack-data->ipython>=7.23.1->ipykernel->jupyterlab<4.1,>=4.0.2->notebook>=6.0->jupyter_contrib_nbextensions) (0.8.3)\n",
      "Requirement already satisfied: asttokens in /opt/anaconda3/lib/python3.11/site-packages (from stack-data->ipython>=7.23.1->ipykernel->jupyterlab<4.1,>=4.0.2->notebook>=6.0->jupyter_contrib_nbextensions) (2.0.5)\n",
      "Requirement already satisfied: pure-eval in /opt/anaconda3/lib/python3.11/site-packages (from stack-data->ipython>=7.23.1->ipykernel->jupyterlab<4.1,>=4.0.2->notebook>=6.0->jupyter_contrib_nbextensions) (0.2.2)\n",
      "Note: you may need to restart the kernel to use updated packages.\n"
     ]
    }
   ],
   "source": [
    "pip install jupyter_contrib_nbextensions"
   ]
  },
  {
   "cell_type": "code",
   "execution_count": null,
   "id": "cafe0498-9bc6-4202-a988-4b799b5a4f0b",
   "metadata": {},
   "outputs": [],
   "source": []
  },
  {
   "cell_type": "code",
   "execution_count": 3,
   "id": "f86b9034-0165-4a28-bf1e-ebbfc0991ffe",
   "metadata": {},
   "outputs": [],
   "source": [
    "import torch\n",
    "from torch import nn\n",
    "import matplotlib.pyplot as plt"
   ]
  },
  {
   "cell_type": "markdown",
   "id": "30ddb439-7656-4c44-8e0d-aec9123bd0cd",
   "metadata": {},
   "source": [
    "## 1. Preparing and loading the data"
   ]
  },
  {
   "cell_type": "code",
   "execution_count": 4,
   "id": "da64b2a4-628c-4f93-b73b-719cb02f7d3c",
   "metadata": {},
   "outputs": [],
   "source": [
    "# creating some custom sample data\n",
    "# y = wx + b"
   ]
  },
  {
   "cell_type": "code",
   "execution_count": 5,
   "id": "1b1d8612-5b87-4a44-897c-e23ed38f1b34",
   "metadata": {},
   "outputs": [],
   "source": [
    "weight = 0.5\n",
    "bias = 0.3\n",
    "\n",
    "start = 1\n",
    "end = 10\n",
    "step = 0.2\n",
    "X = torch.arange(start, end, step).unsqueeze(dim = 1)"
   ]
  },
  {
   "cell_type": "code",
   "execution_count": 6,
   "id": "d506aee5-5652-4b7d-9440-d66eaed8b87b",
   "metadata": {
    "scrolled": true
   },
   "outputs": [
    {
     "data": {
      "text/plain": [
       "(tensor([[1.0000],\n",
       "         [1.2000],\n",
       "         [1.4000],\n",
       "         [1.6000],\n",
       "         [1.8000],\n",
       "         [2.0000],\n",
       "         [2.2000],\n",
       "         [2.4000],\n",
       "         [2.6000],\n",
       "         [2.8000],\n",
       "         [3.0000],\n",
       "         [3.2000],\n",
       "         [3.4000],\n",
       "         [3.6000],\n",
       "         [3.8000],\n",
       "         [4.0000],\n",
       "         [4.2000],\n",
       "         [4.4000],\n",
       "         [4.6000],\n",
       "         [4.8000],\n",
       "         [5.0000],\n",
       "         [5.2000],\n",
       "         [5.4000],\n",
       "         [5.6000],\n",
       "         [5.8000],\n",
       "         [6.0000],\n",
       "         [6.2000],\n",
       "         [6.4000],\n",
       "         [6.6000],\n",
       "         [6.8000],\n",
       "         [7.0000],\n",
       "         [7.2000],\n",
       "         [7.4000],\n",
       "         [7.6000],\n",
       "         [7.8000],\n",
       "         [8.0000],\n",
       "         [8.2000],\n",
       "         [8.4000],\n",
       "         [8.6000],\n",
       "         [8.8000],\n",
       "         [9.0000],\n",
       "         [9.2000],\n",
       "         [9.4000],\n",
       "         [9.6000],\n",
       "         [9.8000]]),\n",
       " 45)"
      ]
     },
     "execution_count": 6,
     "metadata": {},
     "output_type": "execute_result"
    }
   ],
   "source": [
    "X, len(X)"
   ]
  },
  {
   "cell_type": "code",
   "execution_count": 7,
   "id": "dcf84b36-9e39-477a-a29b-2ac422502827",
   "metadata": {
    "scrolled": true
   },
   "outputs": [
    {
     "data": {
      "text/plain": [
       "(tensor([[0.8000],\n",
       "         [0.9000],\n",
       "         [1.0000],\n",
       "         [1.1000],\n",
       "         [1.2000],\n",
       "         [1.3000],\n",
       "         [1.4000],\n",
       "         [1.5000],\n",
       "         [1.6000],\n",
       "         [1.7000],\n",
       "         [1.8000],\n",
       "         [1.9000],\n",
       "         [2.0000],\n",
       "         [2.1000],\n",
       "         [2.2000],\n",
       "         [2.3000],\n",
       "         [2.4000],\n",
       "         [2.5000],\n",
       "         [2.6000],\n",
       "         [2.7000],\n",
       "         [2.8000],\n",
       "         [2.9000],\n",
       "         [3.0000],\n",
       "         [3.1000],\n",
       "         [3.2000],\n",
       "         [3.3000],\n",
       "         [3.4000],\n",
       "         [3.5000],\n",
       "         [3.6000],\n",
       "         [3.7000],\n",
       "         [3.8000],\n",
       "         [3.9000],\n",
       "         [4.0000],\n",
       "         [4.1000],\n",
       "         [4.2000],\n",
       "         [4.3000],\n",
       "         [4.4000],\n",
       "         [4.5000],\n",
       "         [4.6000],\n",
       "         [4.7000],\n",
       "         [4.8000],\n",
       "         [4.9000],\n",
       "         [5.0000],\n",
       "         [5.1000],\n",
       "         [5.2000]]),\n",
       " 45)"
      ]
     },
     "execution_count": 7,
     "metadata": {},
     "output_type": "execute_result"
    }
   ],
   "source": [
    "y = weight * X + bias\n",
    "y, len(y)"
   ]
  },
  {
   "cell_type": "code",
   "execution_count": 8,
   "id": "3401629a-9e93-449a-bbe5-191155c042d6",
   "metadata": {},
   "outputs": [
    {
     "data": {
      "text/plain": [
       "(45, 45)"
      ]
     },
     "execution_count": 8,
     "metadata": {},
     "output_type": "execute_result"
    }
   ],
   "source": [
    "# Spliting the data into train and test sets\n",
    "len(X),len(y)"
   ]
  },
  {
   "cell_type": "code",
   "execution_count": 9,
   "id": "e976dfea-2daa-4e55-9cd5-9f374db1bee2",
   "metadata": {},
   "outputs": [
    {
     "data": {
      "text/plain": [
       "36"
      ]
     },
     "execution_count": 9,
     "metadata": {},
     "output_type": "execute_result"
    }
   ],
   "source": [
    "train_split = int(0.8 * len(X))\n",
    "train_split"
   ]
  },
  {
   "cell_type": "code",
   "execution_count": 10,
   "id": "e2cc12b7-3a6f-4d76-884c-d8b09d9a8edc",
   "metadata": {},
   "outputs": [],
   "source": [
    "X_train, y_train, X_test, y_test = X[:train_split],y[:train_split],X[train_split:],y[train_split:]"
   ]
  },
  {
   "cell_type": "code",
   "execution_count": 11,
   "id": "1278e1f6-0804-4d45-8bd9-9b694ecf15e5",
   "metadata": {},
   "outputs": [
    {
     "data": {
      "text/plain": [
       "(36, 36, 9, 9)"
      ]
     },
     "execution_count": 11,
     "metadata": {},
     "output_type": "execute_result"
    }
   ],
   "source": [
    "len(X_train), len(y_train), len(X_test), len(y_test)"
   ]
  },
  {
   "cell_type": "code",
   "execution_count": 12,
   "id": "861715d7-9535-49ef-bde4-cbf0ec19acc8",
   "metadata": {},
   "outputs": [],
   "source": [
    "# Visualization of the data\n",
    "def plot_distributions(train_data = X_train,\n",
    "                       train_label = y_train,\n",
    "                       test_data = X_test,\n",
    "                       test_label = y_test,\n",
    "                       predictions = None):\n",
    "    \"\"\"\n",
    "    plots the train data and the test data and compares them with predictions\n",
    "    \"\"\"\n",
    "    plt.figure(figsize = (8,5))\n",
    "    plt.title(\"Plotting of Sample Data\")\n",
    "    # plot training data in blue\n",
    "    plt.scatter(train_data, train_label, c = \"g\", s = 4, label = \"Training Data\")\n",
    "    plt.scatter(test_data, test_label, c = \"b\", s = 4, label = \"Testing Data\")\n",
    "\n",
    "    # if predictions are available -> plot the predictions\n",
    "    if predictions is not None:\n",
    "        plt.scatter(test_data, predictions, c = \"r\", s = 5, label = \"Predictions\")\n",
    "\n",
    "    # Showing the legend\n",
    "    plt.legend(prop = {\"size\" : 10})\n",
    "        "
   ]
  },
  {
   "cell_type": "code",
   "execution_count": 13,
   "id": "36106e2f-5f5e-4bf9-a7ca-095174168181",
   "metadata": {},
   "outputs": [
    {
     "data": {
      "image/png": "[encoded data removed]",
      "text/plain": [
       "<Figure size 800x500 with 1 Axes>"
      ]
     },
     "metadata": {},
     "output_type": "display_data"
    }
   ],
   "source": [
    "plot_distributions()"
   ]
  },
  {
   "cell_type": "markdown",
   "id": "e88975e9-0823-450c-96b1-5734227d2268",
   "metadata": {},
   "source": [
    "## 2. Build Model"
   ]
  },
  {
   "cell_type": "code",
   "execution_count": 79,
   "id": "0a5e6469-23d9-40b6-a50a-e93935df367d",
   "metadata": {},
   "outputs": [],
   "source": [
    "# Creating Linear Regression Model Class\n",
    "\n",
    "class LinearRegressionModel(nn.Module):\n",
    "    def __init__(self):\n",
    "        super().__init__()\n",
    "\n",
    "        self.weights = nn.Parameter(torch.randn(1, # start with a random weight and try to adjust it to the ideal weight\n",
    "                                               requires_grad = True,\n",
    "                                               dtype = torch.float))\n",
    "\n",
    "        self.bias = nn.Parameter(torch.randn(1,\n",
    "                                            requires_grad = True,\n",
    "                                            dtype = torch.float))\n",
    "\n",
    "    def forward(self, x: torch.Tensor) -> torch.Tensor:\n",
    "        return self.weights * x + self.bias\n",
    "                                    \n",
    "        "
   ]
  },
  {
   "cell_type": "raw",
   "id": "e25127f9-868c-4c28-8d21-28c504a9933a",
   "metadata": {},
   "source": [
    "torch.nn\tContains all of the building blocks for computational graphs (essentially a series of computations executed in a particular way).\n",
    "torch.nn.Parameter\tStores tensors that can be used with nn.Module. If requires_grad=True gradients (used for updating model parameters via gradient descent) are calculated automatically, this is often referred to as \"autograd\".\n",
    "torch.nn.Module\tThe base class for all neural network modules, all the building blocks for neural networks are subclasses. If you're building a neural network in PyTorch, your models should subclass nn.Module. Requires a forward() method be implemented.\n",
    "torch.optim\tContains various optimization algorithms (these tell the model parameters stored in nn.Parameter how to best change to improve gradient descent and in turn reduce the loss).\n",
    "def forward()\tAll nn.Module subclasses require a forward() method, this defines the computation that will take place on the data passed to the particular nn.Module (e.g. the linear regression formula above)."
   ]
  },
  {
   "cell_type": "code",
   "execution_count": 107,
   "id": "d2fe2671-dc28-47fd-a837-9b7162c13512",
   "metadata": {},
   "outputs": [],
   "source": [
    "# checking the contents of the model\n",
    "torch.manual_seed(92)\n",
    "\n",
    "model_0 = LinearRegressionModel()"
   ]
  },
  {
   "cell_type": "code",
   "execution_count": 108,
   "id": "ea35cc1e-4a06-429b-a856-ea164fa80606",
   "metadata": {
    "scrolled": true
   },
   "outputs": [
    {
     "data": {
      "text/plain": [
       "[Parameter containing:\n",
       " tensor([-0.0361], requires_grad=True),\n",
       " Parameter containing:\n",
       " tensor([0.1703], requires_grad=True)]"
      ]
     },
     "execution_count": 108,
     "metadata": {},
     "output_type": "execute_result"
    }
   ],
   "source": [
    "# checking the nn.Parrameter within the nn.Module subclass we created\n",
    "list(model_0.parameters())"
   ]
  },
  {
   "cell_type": "code",
   "execution_count": 109,
   "id": "8b7dac3e-c576-4769-a487-694f991844dc",
   "metadata": {},
   "outputs": [
    {
     "data": {
      "text/plain": [
       "OrderedDict([('weights', tensor([-0.0361])), ('bias', tensor([0.1703]))])"
      ]
     },
     "execution_count": 109,
     "metadata": {},
     "output_type": "execute_result"
    }
   ],
   "source": [
    "\n",
    "# We can also get the state (what the model contains) of the model using\n",
    "model_0.state_dict()"
   ]
  },
  {
   "cell_type": "code",
   "execution_count": 110,
   "id": "b8e36d28-931c-44ce-b1d3-da9562b2d028",
   "metadata": {},
   "outputs": [
    {
     "data": {
      "text/plain": [
       "(0.5, 0.3)"
      ]
     },
     "execution_count": 110,
     "metadata": {},
     "output_type": "execute_result"
    }
   ],
   "source": [
    "weight, bias"
   ]
  },
  {
   "cell_type": "code",
   "execution_count": 111,
   "id": "89b93a6d-9db1-4441-af6c-83571bc54966",
   "metadata": {},
   "outputs": [
    {
     "data": {
      "text/plain": [
       "(Parameter containing:\n",
       " tensor([-0.0361], requires_grad=True),\n",
       " Parameter containing:\n",
       " tensor([0.1703], requires_grad=True))"
      ]
     },
     "execution_count": 111,
     "metadata": {},
     "output_type": "execute_result"
    }
   ],
   "source": [
    "model_0.weights, model_0.bias"
   ]
  },
  {
   "cell_type": "code",
   "execution_count": 112,
   "id": "cf9a7d78-68f3-4227-bc9b-c02bea60eaf2",
   "metadata": {},
   "outputs": [],
   "source": [
    "# We make the predictions using torch.inference_mode()\n",
    "with torch.inference_mode():\n",
    "  y_preds = model_0(X_test)"
   ]
  },
  {
   "cell_type": "code",
   "execution_count": 113,
   "id": "230659d4-7488-4e22-90ff-1e15a7e03179",
   "metadata": {},
   "outputs": [
    {
     "data": {
      "text/plain": [
       "tensor([[-0.1259],\n",
       "        [-0.1331],\n",
       "        [-0.1404],\n",
       "        [-0.1476],\n",
       "        [-0.1548],\n",
       "        [-0.1620],\n",
       "        [-0.1693],\n",
       "        [-0.1765],\n",
       "        [-0.1837]])"
      ]
     },
     "execution_count": 113,
     "metadata": {},
     "output_type": "execute_result"
    }
   ],
   "source": [
    "y_preds"
   ]
  },
  {
   "cell_type": "code",
   "execution_count": 114,
   "id": "855ccc74-5092-4608-a85a-f09a21c37cca",
   "metadata": {},
   "outputs": [
    {
     "name": "stdout",
     "output_type": "stream",
     "text": [
      "Number of Testing Samples: 9\n",
      "Number of Predictions Made: 9\n",
      "Predictions Values - \n",
      " tensor([[-0.1259],\n",
      "        [-0.1331],\n",
      "        [-0.1404],\n",
      "        [-0.1476],\n",
      "        [-0.1548],\n",
      "        [-0.1620],\n",
      "        [-0.1693],\n",
      "        [-0.1765],\n",
      "        [-0.1837]])\n"
     ]
    }
   ],
   "source": [
    "\n",
    "# checking the predictions\n",
    "print(f\"Number of Testing Samples: {len(X_test)}\")\n",
    "print(f\"Number of Predictions Made: {len(y_preds)}\")\n",
    "print(f\"Predictions Values - \\n {y_preds}\")\n"
   ]
  },
  {
   "cell_type": "code",
   "execution_count": 115,
   "id": "a45c394a-9f01-4b3d-9eef-e8da3762c6fa",
   "metadata": {},
   "outputs": [
    {
     "data": {
      "image/png": "[encoded data removed]",
      "text/plain": [
       "<Figure size 800x500 with 1 Axes>"
      ]
     },
     "metadata": {},
     "output_type": "display_data"
    }
   ],
   "source": [
    "plot_distributions(predictions = y_preds)"
   ]
  },
  {
   "cell_type": "code",
   "execution_count": 116,
   "id": "38ecac37-87cb-4e82-9d00-0d4aa24b967f",
   "metadata": {},
   "outputs": [
    {
     "data": {
      "text/plain": [
       "tensor([[4.5259],\n",
       "        [4.6331],\n",
       "        [4.7404],\n",
       "        [4.8476],\n",
       "        [4.9548],\n",
       "        [5.0620],\n",
       "        [5.1693],\n",
       "        [5.2765],\n",
       "        [5.3837]])"
      ]
     },
     "execution_count": 116,
     "metadata": {},
     "output_type": "execute_result"
    }
   ],
   "source": [
    "y_test - y_preds"
   ]
  },
  {
   "cell_type": "code",
   "execution_count": 117,
   "id": "3297fe02-e38c-4cf2-a243-e317591a49cf",
   "metadata": {},
   "outputs": [],
   "source": [
    "## Creating the loss function\n",
    "loss_fn = nn.L1Loss()\n",
    "\n",
    "## Creating the optimizer\n",
    "optimizer = torch.optim.Adam(params = model_0.parameters(), lr = 0.01)"
   ]
  },
  {
   "cell_type": "markdown",
   "id": "9900f4e3-478a-4ed4-ac44-dc078a963df8",
   "metadata": {},
   "source": [
    "## Creating training loop and testing loop\n",
    "\n",
    "The training loop involves the model going through the training data and learning the relationships between the features and labels.\n",
    "\n",
    "The testing loop involves going through the testing data and evaluating how good the patterns are that the model learned on the training data (the model never see's the testing data during training).\n",
    "\n",
    "Each of these is called a \"loop\" because we want our model to look (loop through) at each sample in each dataset.\n",
    "\n",
    "## Pytorch Optimmization\n",
    "\n",
    "train time-\n",
    "1. do the forward pass\n",
    "2. claculate the loss\n",
    "3. optimizer zero grad\n",
    "4. loss backward\n",
    "\n",
    "Optimizer Step\n",
    "\n",
    "Test time -\n",
    "1. with torch no grad\n",
    "2. do the forward pass\n",
    "3. calculate loss\n",
    "4. watch it go down\n",
    "\n",
    "\n",
    "PyTorch training loop\n",
    "For the training loop, we'll build the following steps:\n",
    "\n",
    "Number\tStep name\tWhat does it do?\tCode example\n",
    "1\tForward pass\tThe model goes through all of the training data once, performing its forward() function calculations.\tmodel(x_train)\n",
    "2\tCalculate the loss\tThe model's outputs (predictions) are compared to the ground truth and evaluated to see how wrong they are.\tloss = loss_fn(y_pred, y_train)\n",
    "3\tZero gradients\tThe optimizers gradients are set to zero (they are accumulated by default) so they can be recalculated for the specific training step.\toptimizer.zero_grad()\n",
    "4\tPerform backpropagation on the loss\tComputes the gradient of the loss with respect for every model parameter to be updated (each parameter with requires_grad=True). This is known as backpropagation, hence \"backwards\".\tloss.backward()\n",
    "5\tUpdate the optimizer (gradient descent)\tUpdate the parameters with requires_grad=True with respect to the loss gradients in order to improve them.\toptimizer.step()\n",
    "\n",
    "Sure, let's break down each step of the PyTorch training loop in more detail:\n",
    "\n",
    "### 1. Forward pass\n",
    "\n",
    "**What does it do?**\n",
    "- During the forward pass, the model processes the input data (`x_train`) through its layers and produces an output or prediction (`y_pred`).\n",
    "\n",
    "**Code example:**\n",
    "```python\n",
    "# Assuming 'model' is your PyTorch model instance and 'x_train' is your input data\n",
    "y_pred = model(x_train)\n",
    "```\n",
    "\n",
    "### 2. Calculate the loss\n",
    "\n",
    "**What does it do?**\n",
    "- After obtaining predictions (`y_pred`), the next step is to calculate how different these predictions are from the actual target values (`y_train`). This difference is captured by a loss function, which measures the model's performance.\n",
    "\n",
    "**Code example:**\n",
    "```python\n",
    "# Assuming 'loss_fn' is your loss function (e.g., nn.CrossEntropyLoss, nn.MSELoss)\n",
    "loss = loss_fn(y_pred, y_train)\n",
    "```\n",
    "\n",
    "### 3. Zero gradients\n",
    "\n",
    "**What does it do?**\n",
    "- Before computing the gradients of the loss with respect to the model parameters, it's important to clear out any gradients that might be lingering from previous computations. This step ensures that gradients are fresh for the current batch of data.\n",
    "\n",
    "**Code example:**\n",
    "```python\n",
    "optimizer.zero_grad()\n",
    "```\n",
    "\n",
    "### 4. Perform backpropagation on the loss\n",
    "\n",
    "**What does it do?**\n",
    "- Backpropagation is the process of computing the gradient of the loss with respect to all model parameters. These gradients indicate the direction and magnitude of the change needed in each parameter to minimize the loss.\n",
    "\n",
    "**Code example:**\n",
    "```python\n",
    "loss.backward()\n",
    "```\n",
    "\n",
    "### 5. Update the optimizer (gradient descent)\n",
    "\n",
    "**What does it do?**\n",
    "- Once the gradients are computed, the optimizer adjusts the parameters of the model in the direction that reduces the loss. This optimization step is typically performed using an optimization algorithm like stochastic gradient descent (SGD) or Adam.\n",
    "\n",
    "**Code example:**\n",
    "```python\n",
    "optimizer.step()\n",
    "```\n",
    "\n",
    "### Summary\n",
    "\n",
    "- **Forward pass**: Computes predictions (`y_pred`) using input data (`x_train`).\n",
    "- **Calculate the loss**: Measures how far off predictions (`y_pred`) are from actual targets (`y_train`).\n",
    "- **Zero gradients**: Resets gradients to zero before computing them for the current batch.\n",
    "- **Backpropagation**: Computes gradients of the loss with respect to model parameters.\n",
    "- **Optimizer step**: Updates model parameters using the gradients to minimize the loss.\n",
    "\n",
    "These steps together constitute the core of the training loop in PyTorch, where the model learns from the data by iteratively adjusting its parameters to improve performance on the task at hand.\n",
    "\n",
    "\n",
    "PyTorch testing loop\n",
    "As for the testing loop (evaluating our model), the typical steps include:\n",
    "\n",
    "Number\tStep name\tWhat does it do?\tCode example\n",
    "1\tForward pass\tThe model goes through all of the training data once, performing its forward() function calculations.\tmodel(x_test)\n",
    "2\tCalculate the loss\tThe model's outputs (predictions) are compared to the ground truth and evaluated to see how wrong they are.\tloss = loss_fn(y_pred, y_test)\n",
    "3\tCalulate evaluation metrics (optional)\tAlongisde the loss value you may want to calculate other evaluation metrics such as accuracy on the test set.\tCustom functions\n",
    "\n",
    "\n",
    "Certainly! Let's break down each step of the PyTorch testing loop in more detail:\n",
    "\n",
    "### 1. Forward pass\n",
    "\n",
    "**What does it do?**\n",
    "- During the forward pass in the testing loop, the model processes the input data (`x_test`) through its layers and produces predictions (`y_pred`). This step is identical to the forward pass during training.\n",
    "\n",
    "**Code example:**\n",
    "```python\n",
    "# Assuming 'model' is your trained PyTorch model instance and 'x_test' is your test data\n",
    "y_pred = model(x_test)\n",
    "```\n",
    "\n",
    "### 2. Calculate the loss\n",
    "\n",
    "**What does it do?**\n",
    "- After obtaining predictions (`y_pred`), the next step is to calculate how different these predictions are from the actual target values (`y_test`). This is done using a loss function, similar to the training loop.\n",
    "\n",
    "**Code example:**\n",
    "```python\n",
    "# Assuming 'loss_fn' is your loss function (e.g., nn.CrossEntropyLoss, nn.MSELoss) and 'y_test' are the ground truth labels\n",
    "loss = loss_fn(y_pred, y_test)\n",
    "```\n",
    "\n",
    "### 3. Calculate evaluation metrics (optional)\n",
    "\n",
    "**What does it do?**\n",
    "- In addition to calculating the loss, you may want to compute other evaluation metrics to assess the performance of your model on the test set. Common metrics include accuracy, precision, recall, F1-score, etc. These metrics provide additional insights beyond the loss value.\n",
    "\n",
    "**Code example:**\n",
    "```python\n",
    "# Example of calculating accuracy (assuming classification task)\n",
    "# 'y_pred' are predicted labels and 'y_test' are true labels\n",
    "_, predicted = torch.max(y_pred, 1)  # Assuming y_pred is logits, get the predicted class indices\n",
    "correct = (predicted == y_test).sum().item()\n",
    "accuracy = correct / len(y_test)\n",
    "print(\"Accuracy:\", accuracy)\n",
    "```\n",
    "\n",
    "### Summary\n",
    "\n",
    "- **Forward pass**: The model predicts outputs (`y_pred`) for test data (`x_test`).\n",
    "- **Calculate the loss**: Measures the difference between predictions (`y_pred`) and actual targets (`y_test`) using a loss function.\n",
    "- **Calculate evaluation metrics**: Optional step to compute additional metrics (like accuracy) to evaluate model performance on the test set.\n",
    "\n",
    "### Additional Notes\n",
    "\n",
    "- **Model Evaluation**: During testing, the model is typically evaluated on data it hasn't seen during training to assess its generalization ability.\n",
    "- **Loss Function**: The choice of loss function depends on the problem (e.g., classification, regression) and should be chosen carefully to reflect the nature of the task and the type of output your model produces.\n",
    "- **Evaluation Metrics**: Besides accuracy, you might calculate other metrics depending on the specific requirements of your problem (e.g., precision, recall for classification tasks; mean squared error for regression tasks).\n",
    "\n",
    "This testing loop ensures that after training, you can assess how well your model performs on unseen data using both the loss function and additional evaluation metrics as needed.\n",
    "\n",
    "torch.manual_seed(9)\n",
    "\n",
    "epochs = 100\n",
    "\n",
    "# create empty loss lits to track the values\n",
    "train_loss_values = []\n",
    "test_loss_values = []\n",
    "epochs_count = []\n",
    "\n",
    "for epoch in range(epochs):\n",
    "\n",
    "  ## Training\n",
    "\n",
    "  # Put the model in training mode\n",
    "\n",
    "\n",
    "\n",
    "\n",
    "\n",
    "\n",
    "\n",
    "\n",
    "\n"
   ]
  },
  {
   "cell_type": "markdown",
   "id": "d2e78841-8836-464c-9a6d-2fb5c7163a6e",
   "metadata": {},
   "source": [
    "## Building a Training Loop and Testing Loop\n",
    "\n",
    "0. Loop through the training data\n",
    "1. Forward pass(training data X moving the forward function of the model)\n",
    "2. Calculate the Loss\n",
    "3. Optimizer Zero Grad\n",
    "4. Loss Backward - move backwards through the network to calculate the gradients of each of the paramters of the model w.r.t loss\n",
    "5. Optimizer Step _ Use the optimizer to adjust our model's params to reduce the Loss"
   ]
  },
  {
   "cell_type": "code",
   "execution_count": 118,
   "id": "7ef6765a-e278-439a-b4e8-9f1577dbeb28",
   "metadata": {},
   "outputs": [
    {
     "name": "stdout",
     "output_type": "stream",
     "text": [
      " Epoch: 0, Test Loss: 4.854804515838623, Loss:2.5422303676605225\n",
      " Epoch: 10, Test Loss: 3.8548049926757812, Loss:1.9922302961349487\n",
      " Epoch: 20, Test Loss: 2.854804754257202, Loss:1.4422305822372437\n",
      " Epoch: 30, Test Loss: 1.854804515838623, Loss:0.8922305703163147\n",
      " Epoch: 40, Test Loss: 0.8615406155586243, Loss:0.36679959297180176\n",
      " Epoch: 50, Test Loss: 0.02980719693005085, Loss:0.13592249155044556\n",
      " Epoch: 60, Test Loss: 0.15259568393230438, Loss:0.1210821345448494\n",
      " Epoch: 70, Test Loss: 0.31670475006103516, Loss:0.1223246231675148\n",
      " Epoch: 80, Test Loss: 0.12487030029296875, Loss:0.09353690594434738\n",
      " Epoch: 90, Test Loss: 0.14362484216690063, Loss:0.08034344017505646\n",
      " Epoch: 100, Test Loss: 0.12038554251194, Loss:0.06678365916013718\n",
      " Epoch: 110, Test Loss: 0.08721314370632172, Loss:0.051514334976673126\n",
      " Epoch: 120, Test Loss: 0.05311351269483566, Loss:0.03590422496199608\n",
      " Epoch: 130, Test Loss: 0.029205322265625, Loss:0.019590402022004128\n",
      " Epoch: 140, Test Loss: 0.0026264190673828125, Loss:0.0027834938373416662\n",
      " Epoch: 150, Test Loss: 0.011036236770451069, Loss:0.006108230911195278\n",
      " Epoch: 160, Test Loss: 0.0158538818359375, Loss:0.0049347481690347195\n",
      " Epoch: 170, Test Loss: 0.01046895980834961, Loss:0.002520897425711155\n",
      " Epoch: 180, Test Loss: 0.007392565254122019, Loss:0.012300021015107632\n",
      " Epoch: 190, Test Loss: 0.007984425872564316, Loss:0.011965119279921055\n"
     ]
    }
   ],
   "source": [
    "EPOCHS = 200\n",
    "\n",
    "epoch_count = []\n",
    "test_loss_values = []\n",
    "loss_values = []\n",
    "\n",
    "# 0. Loop through the data\n",
    "for epoch in range(EPOCHS):\n",
    "\n",
    "    # set the model to training mode\n",
    "    model_0.train()# train mode sets all the params in the model to require_grad = True\n",
    "\n",
    "    #1. Forward pass\n",
    "    y_preds = model_0.forward(X_train)\n",
    "\n",
    "    #2. Calculate the loss\n",
    "    loss = loss_fn(y_preds,y_train)\n",
    "\n",
    "    #3. Optimizer zero grad\n",
    "    optimizer.zero_grad()\n",
    "\n",
    "    #4. Perform Backpropogation on loss w.r.t params of the model\n",
    "    loss.backward()\n",
    "\n",
    "    #5. optimizer step\n",
    "    optimizer.step()\n",
    "\n",
    "    ## TESTING LOOP\n",
    "    model_0.eval() #Turns off different functions which is not needed during testing the model\n",
    "    with torch.inference_mode(): # turns off gradient tracking and other functionalities not required for testing\n",
    "       \n",
    "        # 1. do the forward pass in testing mode\n",
    "        test_preds = model_0.forward(X_test)\n",
    "\n",
    "        # 2. Calculate the test loss\n",
    "        test_loss = loss_fn(test_preds, y_test)\n",
    "\n",
    "    # PRINT OUT WHATS HAPPENING\n",
    "    if epoch % 10 == 0:\n",
    "        epoch_count.append(epoch)\n",
    "        loss_values.append(loss)\n",
    "        test_loss_values.append(test_loss)\n",
    "        print(f\" Epoch: {epoch}, Test Loss: {test_loss}, Loss:{loss}\")"
   ]
  },
  {
   "cell_type": "code",
   "execution_count": 119,
   "id": "3892da5b-6a41-4dbd-abe4-ca97ea6dc15d",
   "metadata": {},
   "outputs": [
    {
     "data": {
      "text/plain": [
       "OrderedDict([('weights', tensor([0.5013])), ('bias', tensor([0.3027]))])"
      ]
     },
     "execution_count": 119,
     "metadata": {},
     "output_type": "execute_result"
    }
   ],
   "source": [
    "model_0.state_dict()"
   ]
  },
  {
   "cell_type": "code",
   "execution_count": 120,
   "id": "2d104ce0-9cca-4711-b877-4f46f907850d",
   "metadata": {},
   "outputs": [
    {
     "data": {
      "text/plain": [
       "(0.5, 0.3)"
      ]
     },
     "execution_count": 120,
     "metadata": {},
     "output_type": "execute_result"
    }
   ],
   "source": [
    "weight, bias"
   ]
  },
  {
   "cell_type": "code",
   "execution_count": 121,
   "id": "5e63c4ae-c240-49de-b28d-fab865171ec5",
   "metadata": {},
   "outputs": [],
   "source": [
    "with torch.inference_mode():\n",
    "    y_preds = model_0(X_test)"
   ]
  },
  {
   "cell_type": "code",
   "execution_count": 122,
   "id": "b3a3c70d-d78b-45f3-893f-9177ca126db8",
   "metadata": {},
   "outputs": [
    {
     "data": {
      "image/png": "[encoded data removed]",
      "text/plain": [
       "<Figure size 800x500 with 1 Axes>"
      ]
     },
     "metadata": {},
     "output_type": "display_data"
    }
   ],
   "source": [
    "plot_distributions(predictions=y_preds)"
   ]
  },
  {
   "cell_type": "code",
   "execution_count": 124,
   "id": "850660ae-bb1a-4eb6-ae2c-a788271aa17a",
   "metadata": {},
   "outputs": [
    {
     "data": {
      "text/plain": [
       "([tensor(2.5422, grad_fn=<MeanBackward0>),\n",
       "  tensor(1.9922, grad_fn=<MeanBackward0>),\n",
       "  tensor(1.4422, grad_fn=<MeanBackward0>),\n",
       "  tensor(0.8922, grad_fn=<MeanBackward0>),\n",
       "  tensor(0.3668, grad_fn=<MeanBackward0>),\n",
       "  tensor(0.1359, grad_fn=<MeanBackward0>),\n",
       "  tensor(0.1211, grad_fn=<MeanBackward0>),\n",
       "  tensor(0.1223, grad_fn=<MeanBackward0>),\n",
       "  tensor(0.0935, grad_fn=<MeanBackward0>),\n",
       "  tensor(0.0803, grad_fn=<MeanBackward0>),\n",
       "  tensor(0.0668, grad_fn=<MeanBackward0>),\n",
       "  tensor(0.0515, grad_fn=<MeanBackward0>),\n",
       "  tensor(0.0359, grad_fn=<MeanBackward0>),\n",
       "  tensor(0.0196, grad_fn=<MeanBackward0>),\n",
       "  tensor(0.0028, grad_fn=<MeanBackward0>),\n",
       "  tensor(0.0061, grad_fn=<MeanBackward0>),\n",
       "  tensor(0.0049, grad_fn=<MeanBackward0>),\n",
       "  tensor(0.0025, grad_fn=<MeanBackward0>),\n",
       "  tensor(0.0123, grad_fn=<MeanBackward0>),\n",
       "  tensor(0.0120, grad_fn=<MeanBackward0>)],\n",
       " [tensor(4.8548),\n",
       "  tensor(3.8548),\n",
       "  tensor(2.8548),\n",
       "  tensor(1.8548),\n",
       "  tensor(0.8615),\n",
       "  tensor(0.0298),\n",
       "  tensor(0.1526),\n",
       "  tensor(0.3167),\n",
       "  tensor(0.1249),\n",
       "  tensor(0.1436),\n",
       "  tensor(0.1204),\n",
       "  tensor(0.0872),\n",
       "  tensor(0.0531),\n",
       "  tensor(0.0292),\n",
       "  tensor(0.0026),\n",
       "  tensor(0.0110),\n",
       "  tensor(0.0159),\n",
       "  tensor(0.0105),\n",
       "  tensor(0.0074),\n",
       "  tensor(0.0080)])"
      ]
     },
     "execution_count": 124,
     "metadata": {},
     "output_type": "execute_result"
    }
   ],
   "source": [
    "loss_values, test_loss_values"
   ]
  },
  {
   "cell_type": "code",
   "execution_count": 132,
   "id": "e52ad1d6-bcca-477b-b328-cb5b9781dd0f",
   "metadata": {},
   "outputs": [
    {
     "data": {
      "text/plain": [
       "<matplotlib.legend.Legend at 0x152714d10>"
      ]
     },
     "execution_count": 132,
     "metadata": {},
     "output_type": "execute_result"
    },
    {
     "data": {
      "image/png": "[encoded data removed]",
      "text/plain": [
       "<Figure size 640x480 with 1 Axes>"
      ]
     },
     "metadata": {},
     "output_type": "display_data"
    }
   ],
   "source": [
    "# plot the loss curves\n",
    "import numpy as np\n",
    "plt.plot(epoch_count, np.array(torch.tensor(loss_values).numpy()),label = \"Train Loss\")\n",
    "plt.plot(epoch_count, np.array(torch.tensor(test_loss_values).numpy()), label = \"Test Loss\")\n",
    "plt.title(\"Training and Test Loss Curves\")\n",
    "plt.ylabel(\"Loss\")\n",
    "plt.xlabel(\"Epochs\")\n",
    "plt.legend()"
   ]
  },
  {
   "cell_type": "markdown",
   "id": "ae99a17f-3fa9-4a5f-bad1-9a22db38a547",
   "metadata": {},
   "source": [
    "### Saving the Model in Pytorch\n",
    "\n",
    "1. torch.save() - allows you to save a Pytorch object in Python's pickle format\n",
    "2. torch.load() - allows you to load a saved pytorch model\n",
    "3. torch.nn.Module.load_state_dict() - this allows to load a model's saved state dictionary"
   ]
  },
  {
   "cell_type": "code",
   "execution_count": 133,
   "id": "49d31c74-0344-454a-af81-49f1dcb26b32",
   "metadata": {},
   "outputs": [
    {
     "data": {
      "text/plain": [
       "OrderedDict([('weights', tensor([0.5013])), ('bias', tensor([0.3027]))])"
      ]
     },
     "execution_count": 133,
     "metadata": {},
     "output_type": "execute_result"
    }
   ],
   "source": [
    "model_0.state_dict()"
   ]
  },
  {
   "cell_type": "code",
   "execution_count": 136,
   "id": "fe2e288c-2487-4317-a2d8-c040cd6239b5",
   "metadata": {},
   "outputs": [],
   "source": [
    "# saving our pytorch model\n",
    "from pathlib import Path\n",
    "\n",
    "# Craete the model directory\n",
    "MODEL_PATH = Path(\"Models\")\n",
    "MODEL_PATH.mkdir(parents = True, exist_ok = True)\n",
    "\n",
    "# Create the Model Save Path\n",
    "MODEL_NAME = \"01_pytorch_workflow_model.pth\"\n",
    "MODEL_SAVE_PATH = MODEL_PATH / MODEL_NAME\n",
    "\n",
    "# Save the model's state dict\n",
    "torch.save(model_0.state_dict(), MODEL_SAVE_PATH)"
   ]
  },
  {
   "cell_type": "markdown",
   "id": "8f78dab0-58c7-487e-994e-177a42bcc3a8",
   "metadata": {},
   "source": [
    "## Loading the Saved Model"
   ]
  },
  {
   "cell_type": "code",
   "execution_count": 137,
   "id": "119a5641-26b7-4305-9dea-03a72a3684fb",
   "metadata": {},
   "outputs": [],
   "source": [
    "# as we saved the model's state_dict instead of the entire model. we will create a new instance of our model class\n",
    "# and load the saved state_dict() into that model"
   ]
  },
  {
   "cell_type": "code",
   "execution_count": 139,
   "id": "71e63c70-9c42-4795-950a-3dacea27edf6",
   "metadata": {},
   "outputs": [],
   "source": [
    "loaded_model_0 = LinearRegressionModel()"
   ]
  },
  {
   "cell_type": "code",
   "execution_count": 140,
   "id": "a2bc834c-b68c-40c1-bc07-ec30af9df502",
   "metadata": {},
   "outputs": [
    {
     "data": {
      "text/plain": [
       "OrderedDict([('weights', tensor([-0.2979])), ('bias', tensor([-1.8902]))])"
      ]
     },
     "execution_count": 140,
     "metadata": {},
     "output_type": "execute_result"
    }
   ],
   "source": [
    "loaded_model_0.state_dict()"
   ]
  },
  {
   "cell_type": "code",
   "execution_count": 143,
   "id": "f333dce0-cf5e-442e-be9d-f3d95a0953d6",
   "metadata": {},
   "outputs": [
    {
     "data": {
      "text/plain": [
       "<All keys matched successfully>"
      ]
     },
     "execution_count": 143,
     "metadata": {},
     "output_type": "execute_result"
    }
   ],
   "source": [
    "# load the saved state_dict() of the model_0, this will update the new instance with updated params\n",
    "loaded_model_0.load_state_dict(torch.load(f = MODEL_SAVE_PATH, map_location= torch.device('cpu')))"
   ]
  },
  {
   "cell_type": "code",
   "execution_count": 144,
   "id": "c468ad02-23c9-4f6a-a843-7bfa92b53fdc",
   "metadata": {},
   "outputs": [
    {
     "data": {
      "text/plain": [
       "OrderedDict([('weights', tensor([0.5013])), ('bias', tensor([0.3027]))])"
      ]
     },
     "execution_count": 144,
     "metadata": {},
     "output_type": "execute_result"
    }
   ],
   "source": [
    "loaded_model_0.state_dict()"
   ]
  },
  {
   "cell_type": "code",
   "execution_count": 146,
   "id": "fdffa34a-0a2f-4656-962f-6356f1af2b0c",
   "metadata": {},
   "outputs": [],
   "source": [
    "# Making predictions using the new model\n",
    "loaded_model_0.eval()\n",
    "with torch.inference_mode():\n",
    "    loaded_model_preds = loaded_model_0(X_test)"
   ]
  },
  {
   "cell_type": "code",
   "execution_count": 148,
   "id": "af4361f6-7a35-4ed1-9322-3cc6073d6d7f",
   "metadata": {},
   "outputs": [
    {
     "data": {
      "text/plain": [
       "tensor([[4.4133],\n",
       "        [4.5136],\n",
       "        [4.6138],\n",
       "        [4.7141],\n",
       "        [4.8144],\n",
       "        [4.9146],\n",
       "        [5.0149],\n",
       "        [5.1151],\n",
       "        [5.2154]])"
      ]
     },
     "execution_count": 148,
     "metadata": {},
     "output_type": "execute_result"
    }
   ],
   "source": [
    "loaded_model_preds"
   ]
  },
  {
   "cell_type": "code",
   "execution_count": 147,
   "id": "9d2dec72-e700-4ec7-ad3a-a2ae69f2017c",
   "metadata": {},
   "outputs": [
    {
     "data": {
      "image/png": "[encoded data removed]",
      "text/plain": [
       "<Figure size 800x500 with 1 Axes>"
      ]
     },
     "metadata": {},
     "output_type": "display_data"
    }
   ],
   "source": [
    "plot_distributions(predictions = loaded_model_preds)"
   ]
  },
  {
   "cell_type": "code",
   "execution_count": null,
   "id": "f2ab030b-11cc-42b3-8dd0-113bb6232268",
   "metadata": {},
   "outputs": [],
   "source": []
  }
 ],
 "metadata": {
  "kernelspec": {
   "display_name": "Python 3 (ipykernel)",
   "language": "python",
   "name": "python3"
  },
  "language_info": {
   "codemirror_mode": {
    "name": "ipython",
    "version": 3
   },
   "file_extension": ".py",
   "mimetype": "text/x-python",
   "name": "python",
   "nbconvert_exporter": "python",
   "pygments_lexer": "ipython3",
   "version": "3.11.7"
  }
 },
 "nbformat": 4,
 "nbformat_minor": 5
}

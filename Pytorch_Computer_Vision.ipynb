{
 "cells": [
  {
   "cell_type": "markdown",
   "id": "0e2297a1-fc9c-4ae1-8f19-fe893816af1b",
   "metadata": {},
   "source": [
    "# Computer Vision Libraries in Pytorch\n",
    "\n",
    "1. torchvision - base domain library for Pytorch computer Vision\n",
    "2. torchvision.datasets - get datasets and data loading functions for computer vision here\n",
    "3. torchvision.models - get pretrained computer vision models that we can leverage for our problems\n",
    "4. torchvision.transforms - functions for manipulating the vision data into suitable usable format for ML models\n",
    "5. torch.utils.data.Dataset - Base Dataset class for Pytorch\n",
    "6. torch.utils.data.DataLoader - Creates a Pytorch iterable over Dataset"
   ]
  },
  {
   "cell_type": "code",
   "execution_count": 179,
   "id": "8507685c-5af3-4aad-8e08-107e8472503d",
   "metadata": {},
   "outputs": [],
   "source": [
    "## Importing required Libraries\n",
    "\n",
    "import torch\n",
    "from torch import nn\n",
    "\n",
    "# Importing torchvision and other libraries\n",
    "import torchvision\n",
    "from torchvision import datasets, transforms\n",
    "from torchvision.transforms import ToTensor"
   ]
  },
  {
   "cell_type": "code",
   "execution_count": 180,
   "id": "eb7b5379-31ef-4944-b3c8-3b752b86dae3",
   "metadata": {},
   "outputs": [],
   "source": [
    "import matplotlib.pyplot as plt"
   ]
  },
  {
   "cell_type": "code",
   "execution_count": 181,
   "id": "4a00e9a6-3073-4b97-a6cf-d5d8791489f1",
   "metadata": {},
   "outputs": [],
   "source": [
    "## setup training data and Test data\n",
    "\n",
    "train_data = datasets.FashionMNIST(\n",
    "    root = \"data\",\n",
    "    train = True,\n",
    "    download = True,\n",
    "    transform = torchvision.transforms.ToTensor(), # how do we want to transform the data\n",
    "    target_transform = None # how do we want to transform the target labels\n",
    ")\n",
    "\n",
    "test_data = datasets.FashionMNIST(\n",
    "    root = \"data\",\n",
    "    train = False,\n",
    "    download = True,\n",
    "    transform = ToTensor(),\n",
    "    target_transform = None\n",
    ")"
   ]
  },
  {
   "cell_type": "code",
   "execution_count": 182,
   "id": "605982f7-a440-4ed6-9bd5-21dd67b3e405",
   "metadata": {},
   "outputs": [
    {
     "name": "stdout",
     "output_type": "stream",
     "text": [
      "torch.Size([60000, 28, 28])\n",
      "torch.Size([60000])\n"
     ]
    },
    {
     "data": {
      "text/plain": [
       "(None, None)"
      ]
     },
     "execution_count": 182,
     "metadata": {},
     "output_type": "execute_result"
    }
   ],
   "source": [
    "print(train_data.data.shape), print(train_data.targets.shape)"
   ]
  },
  {
   "cell_type": "code",
   "execution_count": 183,
   "id": "9e2f1059-c2e8-4b04-9c5f-d4e6ba18fd93",
   "metadata": {},
   "outputs": [
    {
     "data": {
      "text/plain": [
       "(60000, 10000)"
      ]
     },
     "execution_count": 183,
     "metadata": {},
     "output_type": "execute_result"
    }
   ],
   "source": [
    "len(train_data), len(test_data)"
   ]
  },
  {
   "cell_type": "code",
   "execution_count": 184,
   "id": "c4f2700c-b0e0-461a-b395-4b8141b101aa",
   "metadata": {},
   "outputs": [],
   "source": [
    "image, label = train_data[0]"
   ]
  },
  {
   "cell_type": "code",
   "execution_count": 185,
   "id": "db267642-6fc1-4fd6-a51c-55952b725b1a",
   "metadata": {},
   "outputs": [
    {
     "data": {
      "text/plain": [
       "(tensor([[[0.0000, 0.0000, 0.0000, 0.0000, 0.0000, 0.0000, 0.0000, 0.0000,\n",
       "           0.0000, 0.0000, 0.0000, 0.0000, 0.0000, 0.0000, 0.0000, 0.0000,\n",
       "           0.0000, 0.0000, 0.0000, 0.0000, 0.0000, 0.0000, 0.0000, 0.0000,\n",
       "           0.0000, 0.0000, 0.0000, 0.0000],\n",
       "          [0.0000, 0.0000, 0.0000, 0.0000, 0.0000, 0.0000, 0.0000, 0.0000,\n",
       "           0.0000, 0.0000, 0.0000, 0.0000, 0.0000, 0.0000, 0.0000, 0.0000,\n",
       "           0.0000, 0.0000, 0.0000, 0.0000, 0.0000, 0.0000, 0.0000, 0.0000,\n",
       "           0.0000, 0.0000, 0.0000, 0.0000],\n",
       "          [0.0000, 0.0000, 0.0000, 0.0000, 0.0000, 0.0000, 0.0000, 0.0000,\n",
       "           0.0000, 0.0000, 0.0000, 0.0000, 0.0000, 0.0000, 0.0000, 0.0000,\n",
       "           0.0000, 0.0000, 0.0000, 0.0000, 0.0000, 0.0000, 0.0000, 0.0000,\n",
       "           0.0000, 0.0000, 0.0000, 0.0000],\n",
       "          [0.0000, 0.0000, 0.0000, 0.0000, 0.0000, 0.0000, 0.0000, 0.0000,\n",
       "           0.0000, 0.0000, 0.0000, 0.0000, 0.0039, 0.0000, 0.0000, 0.0510,\n",
       "           0.2863, 0.0000, 0.0000, 0.0039, 0.0157, 0.0000, 0.0000, 0.0000,\n",
       "           0.0000, 0.0039, 0.0039, 0.0000],\n",
       "          [0.0000, 0.0000, 0.0000, 0.0000, 0.0000, 0.0000, 0.0000, 0.0000,\n",
       "           0.0000, 0.0000, 0.0000, 0.0000, 0.0118, 0.0000, 0.1412, 0.5333,\n",
       "           0.4980, 0.2431, 0.2118, 0.0000, 0.0000, 0.0000, 0.0039, 0.0118,\n",
       "           0.0157, 0.0000, 0.0000, 0.0118],\n",
       "          [0.0000, 0.0000, 0.0000, 0.0000, 0.0000, 0.0000, 0.0000, 0.0000,\n",
       "           0.0000, 0.0000, 0.0000, 0.0000, 0.0235, 0.0000, 0.4000, 0.8000,\n",
       "           0.6902, 0.5255, 0.5647, 0.4824, 0.0902, 0.0000, 0.0000, 0.0000,\n",
       "           0.0000, 0.0471, 0.0392, 0.0000],\n",
       "          [0.0000, 0.0000, 0.0000, 0.0000, 0.0000, 0.0000, 0.0000, 0.0000,\n",
       "           0.0000, 0.0000, 0.0000, 0.0000, 0.0000, 0.0000, 0.6078, 0.9255,\n",
       "           0.8118, 0.6980, 0.4196, 0.6118, 0.6314, 0.4275, 0.2510, 0.0902,\n",
       "           0.3020, 0.5098, 0.2824, 0.0588],\n",
       "          [0.0000, 0.0000, 0.0000, 0.0000, 0.0000, 0.0000, 0.0000, 0.0000,\n",
       "           0.0000, 0.0000, 0.0000, 0.0039, 0.0000, 0.2706, 0.8118, 0.8745,\n",
       "           0.8549, 0.8471, 0.8471, 0.6392, 0.4980, 0.4745, 0.4784, 0.5725,\n",
       "           0.5529, 0.3451, 0.6745, 0.2588],\n",
       "          [0.0000, 0.0000, 0.0000, 0.0000, 0.0000, 0.0000, 0.0000, 0.0000,\n",
       "           0.0000, 0.0039, 0.0039, 0.0039, 0.0000, 0.7843, 0.9098, 0.9098,\n",
       "           0.9137, 0.8980, 0.8745, 0.8745, 0.8431, 0.8353, 0.6431, 0.4980,\n",
       "           0.4824, 0.7686, 0.8980, 0.0000],\n",
       "          [0.0000, 0.0000, 0.0000, 0.0000, 0.0000, 0.0000, 0.0000, 0.0000,\n",
       "           0.0000, 0.0000, 0.0000, 0.0000, 0.0000, 0.7176, 0.8824, 0.8471,\n",
       "           0.8745, 0.8941, 0.9216, 0.8902, 0.8784, 0.8706, 0.8784, 0.8667,\n",
       "           0.8745, 0.9608, 0.6784, 0.0000],\n",
       "          [0.0000, 0.0000, 0.0000, 0.0000, 0.0000, 0.0000, 0.0000, 0.0000,\n",
       "           0.0000, 0.0000, 0.0000, 0.0000, 0.0000, 0.7569, 0.8941, 0.8549,\n",
       "           0.8353, 0.7765, 0.7059, 0.8314, 0.8235, 0.8275, 0.8353, 0.8745,\n",
       "           0.8627, 0.9529, 0.7922, 0.0000],\n",
       "          [0.0000, 0.0000, 0.0000, 0.0000, 0.0000, 0.0000, 0.0000, 0.0000,\n",
       "           0.0000, 0.0039, 0.0118, 0.0000, 0.0471, 0.8588, 0.8627, 0.8314,\n",
       "           0.8549, 0.7529, 0.6627, 0.8902, 0.8157, 0.8549, 0.8784, 0.8314,\n",
       "           0.8863, 0.7725, 0.8196, 0.2039],\n",
       "          [0.0000, 0.0000, 0.0000, 0.0000, 0.0000, 0.0000, 0.0000, 0.0000,\n",
       "           0.0000, 0.0000, 0.0235, 0.0000, 0.3882, 0.9569, 0.8706, 0.8627,\n",
       "           0.8549, 0.7961, 0.7765, 0.8667, 0.8431, 0.8353, 0.8706, 0.8627,\n",
       "           0.9608, 0.4667, 0.6549, 0.2196],\n",
       "          [0.0000, 0.0000, 0.0000, 0.0000, 0.0000, 0.0000, 0.0000, 0.0000,\n",
       "           0.0000, 0.0157, 0.0000, 0.0000, 0.2157, 0.9255, 0.8941, 0.9020,\n",
       "           0.8941, 0.9412, 0.9098, 0.8353, 0.8549, 0.8745, 0.9176, 0.8510,\n",
       "           0.8510, 0.8196, 0.3608, 0.0000],\n",
       "          [0.0000, 0.0000, 0.0039, 0.0157, 0.0235, 0.0275, 0.0078, 0.0000,\n",
       "           0.0000, 0.0000, 0.0000, 0.0000, 0.9294, 0.8863, 0.8510, 0.8745,\n",
       "           0.8706, 0.8588, 0.8706, 0.8667, 0.8471, 0.8745, 0.8980, 0.8431,\n",
       "           0.8549, 1.0000, 0.3020, 0.0000],\n",
       "          [0.0000, 0.0118, 0.0000, 0.0000, 0.0000, 0.0000, 0.0000, 0.0000,\n",
       "           0.0000, 0.2431, 0.5686, 0.8000, 0.8941, 0.8118, 0.8353, 0.8667,\n",
       "           0.8549, 0.8157, 0.8275, 0.8549, 0.8784, 0.8745, 0.8588, 0.8431,\n",
       "           0.8784, 0.9569, 0.6235, 0.0000],\n",
       "          [0.0000, 0.0000, 0.0000, 0.0000, 0.0706, 0.1725, 0.3216, 0.4196,\n",
       "           0.7412, 0.8941, 0.8627, 0.8706, 0.8510, 0.8863, 0.7843, 0.8039,\n",
       "           0.8275, 0.9020, 0.8784, 0.9176, 0.6902, 0.7373, 0.9804, 0.9725,\n",
       "           0.9137, 0.9333, 0.8431, 0.0000],\n",
       "          [0.0000, 0.2235, 0.7333, 0.8157, 0.8784, 0.8667, 0.8784, 0.8157,\n",
       "           0.8000, 0.8392, 0.8157, 0.8196, 0.7843, 0.6235, 0.9608, 0.7569,\n",
       "           0.8078, 0.8745, 1.0000, 1.0000, 0.8667, 0.9176, 0.8667, 0.8275,\n",
       "           0.8627, 0.9098, 0.9647, 0.0000],\n",
       "          [0.0118, 0.7922, 0.8941, 0.8784, 0.8667, 0.8275, 0.8275, 0.8392,\n",
       "           0.8039, 0.8039, 0.8039, 0.8627, 0.9412, 0.3137, 0.5882, 1.0000,\n",
       "           0.8980, 0.8667, 0.7373, 0.6039, 0.7490, 0.8235, 0.8000, 0.8196,\n",
       "           0.8706, 0.8941, 0.8824, 0.0000],\n",
       "          [0.3843, 0.9137, 0.7765, 0.8235, 0.8706, 0.8980, 0.8980, 0.9176,\n",
       "           0.9765, 0.8627, 0.7608, 0.8431, 0.8510, 0.9451, 0.2549, 0.2863,\n",
       "           0.4157, 0.4588, 0.6588, 0.8588, 0.8667, 0.8431, 0.8510, 0.8745,\n",
       "           0.8745, 0.8784, 0.8980, 0.1137],\n",
       "          [0.2941, 0.8000, 0.8314, 0.8000, 0.7569, 0.8039, 0.8275, 0.8824,\n",
       "           0.8471, 0.7255, 0.7725, 0.8078, 0.7765, 0.8353, 0.9412, 0.7647,\n",
       "           0.8902, 0.9608, 0.9373, 0.8745, 0.8549, 0.8314, 0.8196, 0.8706,\n",
       "           0.8627, 0.8667, 0.9020, 0.2627],\n",
       "          [0.1882, 0.7961, 0.7176, 0.7608, 0.8353, 0.7725, 0.7255, 0.7451,\n",
       "           0.7608, 0.7529, 0.7922, 0.8392, 0.8588, 0.8667, 0.8627, 0.9255,\n",
       "           0.8824, 0.8471, 0.7804, 0.8078, 0.7294, 0.7098, 0.6941, 0.6745,\n",
       "           0.7098, 0.8039, 0.8078, 0.4510],\n",
       "          [0.0000, 0.4784, 0.8588, 0.7569, 0.7020, 0.6706, 0.7176, 0.7686,\n",
       "           0.8000, 0.8235, 0.8353, 0.8118, 0.8275, 0.8235, 0.7843, 0.7686,\n",
       "           0.7608, 0.7490, 0.7647, 0.7490, 0.7765, 0.7529, 0.6902, 0.6118,\n",
       "           0.6549, 0.6941, 0.8235, 0.3608],\n",
       "          [0.0000, 0.0000, 0.2902, 0.7412, 0.8314, 0.7490, 0.6863, 0.6745,\n",
       "           0.6863, 0.7098, 0.7255, 0.7373, 0.7412, 0.7373, 0.7569, 0.7765,\n",
       "           0.8000, 0.8196, 0.8235, 0.8235, 0.8275, 0.7373, 0.7373, 0.7608,\n",
       "           0.7529, 0.8471, 0.6667, 0.0000],\n",
       "          [0.0078, 0.0000, 0.0000, 0.0000, 0.2588, 0.7843, 0.8706, 0.9294,\n",
       "           0.9373, 0.9490, 0.9647, 0.9529, 0.9569, 0.8667, 0.8627, 0.7569,\n",
       "           0.7490, 0.7020, 0.7137, 0.7137, 0.7098, 0.6902, 0.6510, 0.6588,\n",
       "           0.3882, 0.2275, 0.0000, 0.0000],\n",
       "          [0.0000, 0.0000, 0.0000, 0.0000, 0.0000, 0.0000, 0.0000, 0.1569,\n",
       "           0.2392, 0.1725, 0.2824, 0.1608, 0.1373, 0.0000, 0.0000, 0.0000,\n",
       "           0.0000, 0.0000, 0.0000, 0.0000, 0.0000, 0.0000, 0.0000, 0.0000,\n",
       "           0.0000, 0.0000, 0.0000, 0.0000],\n",
       "          [0.0000, 0.0000, 0.0000, 0.0000, 0.0000, 0.0000, 0.0000, 0.0000,\n",
       "           0.0000, 0.0000, 0.0000, 0.0000, 0.0000, 0.0000, 0.0000, 0.0000,\n",
       "           0.0000, 0.0000, 0.0000, 0.0000, 0.0000, 0.0000, 0.0000, 0.0000,\n",
       "           0.0000, 0.0000, 0.0000, 0.0000],\n",
       "          [0.0000, 0.0000, 0.0000, 0.0000, 0.0000, 0.0000, 0.0000, 0.0000,\n",
       "           0.0000, 0.0000, 0.0000, 0.0000, 0.0000, 0.0000, 0.0000, 0.0000,\n",
       "           0.0000, 0.0000, 0.0000, 0.0000, 0.0000, 0.0000, 0.0000, 0.0000,\n",
       "           0.0000, 0.0000, 0.0000, 0.0000]]]),\n",
       " 9)"
      ]
     },
     "execution_count": 185,
     "metadata": {},
     "output_type": "execute_result"
    }
   ],
   "source": [
    "image, label"
   ]
  },
  {
   "cell_type": "code",
   "execution_count": 186,
   "id": "e2aabbb5-72e3-4fb8-909b-a7afa6e017cd",
   "metadata": {},
   "outputs": [
    {
     "data": {
      "text/plain": [
       "Dataset FashionMNIST\n",
       "    Number of datapoints: 60000\n",
       "    Root location: data\n",
       "    Split: Train\n",
       "    StandardTransform\n",
       "Transform: ToTensor()"
      ]
     },
     "execution_count": 186,
     "metadata": {},
     "output_type": "execute_result"
    }
   ],
   "source": [
    "train_data"
   ]
  },
  {
   "cell_type": "code",
   "execution_count": 187,
   "id": "33bcabdb-9d24-41ce-bcc0-0ff3c241ae6e",
   "metadata": {},
   "outputs": [
    {
     "data": {
      "text/plain": [
       "['T-shirt/top',\n",
       " 'Trouser',\n",
       " 'Pullover',\n",
       " 'Dress',\n",
       " 'Coat',\n",
       " 'Sandal',\n",
       " 'Shirt',\n",
       " 'Sneaker',\n",
       " 'Bag',\n",
       " 'Ankle boot']"
      ]
     },
     "execution_count": 187,
     "metadata": {},
     "output_type": "execute_result"
    }
   ],
   "source": [
    "class_names = train_data.classes\n",
    "class_names"
   ]
  },
  {
   "cell_type": "code",
   "execution_count": 188,
   "id": "8254d288-1fab-44a8-8f06-a250ac4f851a",
   "metadata": {},
   "outputs": [
    {
     "data": {
      "text/plain": [
       "{'T-shirt/top': 0,\n",
       " 'Trouser': 1,\n",
       " 'Pullover': 2,\n",
       " 'Dress': 3,\n",
       " 'Coat': 4,\n",
       " 'Sandal': 5,\n",
       " 'Shirt': 6,\n",
       " 'Sneaker': 7,\n",
       " 'Bag': 8,\n",
       " 'Ankle boot': 9}"
      ]
     },
     "execution_count": 188,
     "metadata": {},
     "output_type": "execute_result"
    }
   ],
   "source": [
    "cls_to_index = train_data.class_to_idx\n",
    "cls_to_index"
   ]
  },
  {
   "cell_type": "code",
   "execution_count": 189,
   "id": "93df6c46-9269-48d6-b6f3-d8aa3b0229d1",
   "metadata": {},
   "outputs": [
    {
     "name": "stdout",
     "output_type": "stream",
     "text": [
      "Image Shape: torch.Size([1, 28, 28]) -->  [color_channels, height, width]\n",
      "Image Label: Ankle boot\n"
     ]
    }
   ],
   "source": [
    "# Checking the shape of the image\n",
    "print(f\"Image Shape: {image.shape} -->  [color_channels, height, width]\")\n",
    "print(f\"Image Label: {class_names[label]}\")"
   ]
  },
  {
   "cell_type": "markdown",
   "id": "fe2933f5-7858-4a72-89f6-de565c927882",
   "metadata": {},
   "source": [
    "## Visualize Data"
   ]
  },
  {
   "cell_type": "code",
   "execution_count": 190,
   "id": "763d8d91-4281-4389-bea0-4bfacc5960bf",
   "metadata": {},
   "outputs": [
    {
     "name": "stdout",
     "output_type": "stream",
     "text": [
      "Image Shape: torch.Size([1, 28, 28])\n"
     ]
    },
    {
     "data": {
      "image/png": "[encoded data removed]",
      "text/plain": [
       "<Figure size 640x480 with 1 Axes>"
      ]
     },
     "metadata": {},
     "output_type": "display_data"
    }
   ],
   "source": [
    "image, label = train_data[0]\n",
    "print(f\"Image Shape: {image.shape}\")\n",
    "plt.imshow(image.squeeze())\n",
    "plt.title(label);"
   ]
  },
  {
   "cell_type": "code",
   "execution_count": 191,
   "id": "41d91535-fe85-4991-abb2-30ade4e4ea6c",
   "metadata": {},
   "outputs": [
    {
     "data": {
      "image/png": "[encoded data removed]",
      "text/plain": [
       "<Figure size 640x480 with 1 Axes>"
      ]
     },
     "metadata": {},
     "output_type": "display_data"
    }
   ],
   "source": [
    "plt.imshow(image.squeeze(), cmap = \"grey\")\n",
    "plt.title(class_names[label])\n",
    "plt.axis(False);"
   ]
  },
  {
   "cell_type": "raw",
   "id": "4db7082e-dc8d-4e8b-87c1-6208e38fcbfa",
   "metadata": {},
   "source": [
    "why this worked ?\n",
    "\n",
    "# plot more images\n",
    "torch.manual_seed(95)\n",
    "fig = plt.figure(figsize = (9,9))\n",
    "rows, cols = 5,5\n",
    "for i in range(1, rows*cols+1):\n",
    "random_index_num = torch.randint(0, len(train_data), size = [1])\n",
    "print(random_index_num)\n",
    "\n",
    "and why the below did not work ?\n",
    "\n",
    "Cell In[49], line 6\n",
    "4 rows, cols = 5,5\n",
    "5 for i in range(1, rows*cols+1):\n",
    "----> 6 random_index_num = torch.randint(0, len(train_data))\n",
    "7 print(random_index_num)\n",
    "\n",
    "TypeError: randint(): argument 'size' (position 2) must be tuple of ints, not int\n",
    "<Figure size 900x900 with 0 Axes>\n",
    "\n",
    "\n",
    "\n",
    "\n",
    "\n",
    "The reason why the first code worked and the second didn't is due to the way you're using the torch.randint function.\n",
    "In the first code, you're passing size=[1] as an argument to torch.randint, which means you're asking for a tensor of shape (1,) containing a single random integer. This is valid.\n",
    "In the second code, you're not passing the size argument at all, which means you're asking for a scalar random integer. However, torch.randint requires the size argument to be a tuple of ints, even if you're asking for a single integer."
   ]
  },
  {
   "cell_type": "code",
   "execution_count": 192,
   "id": "2aa02743-658a-41c5-a58f-19f70b531143",
   "metadata": {},
   "outputs": [
    {
     "data": {
      "image/png": "[encoded data removed]",
      "text/plain": [
       "<Figure size 900x900 with 25 Axes>"
      ]
     },
     "metadata": {},
     "output_type": "display_data"
    }
   ],
   "source": [
    "# plot more images\n",
    "torch.manual_seed(95)\n",
    "fig = plt.figure(figsize = (9,9))\n",
    "rows, cols = 5,5\n",
    "for i in range(1, rows*cols+1):\n",
    "    random_index_num = torch.randint(0, len(train_data), size = [1]).item()\n",
    "    image, label = train_data[random_index_num]\n",
    "    fig.add_subplot(rows, cols, i)\n",
    "    plt.imshow(image.squeeze(), cmap = \"grey\")\n",
    "    plt.title(class_names[label])\n",
    "    plt.axis(False)"
   ]
  },
  {
   "cell_type": "markdown",
   "id": "ee0cd330-accc-4cf5-b293-0b84d966b697",
   "metadata": {},
   "source": [
    "## 2. Prepare DataLoader\n",
    "\n",
    "Right now our data is in the form of Pytorch Dataset Format.\n",
    "\n",
    "DataLoader turns the dataset into a Python iterable.\n",
    "\n",
    "More specifically, we want to convert our dataset into batches.\n",
    "\n",
    "1. We convert into batches because it is more computaionally efficient.\n",
    "2. If we are breaking the data into batches, batch size of 32, we pass 32 images at once and then, our model gets more chances to update its gradients per epoch. So for 1 epoch we are passing the whole data in batches of 32 images per batch."
   ]
  },
  {
   "cell_type": "code",
   "execution_count": 193,
   "id": "6baa8436-9191-4ee5-b5b1-021f260a0298",
   "metadata": {},
   "outputs": [],
   "source": [
    "from torch.utils.data import DataLoader"
   ]
  },
  {
   "cell_type": "code",
   "execution_count": 194,
   "id": "3a153460-5220-49c6-8b5b-c44405e1060e",
   "metadata": {},
   "outputs": [],
   "source": [
    "# Define the Batch Size\n",
    "BATCH_SIZE = 40\n",
    "\n",
    "# Turn datasets into Python Iterbale batches\n",
    "train_dataloader = DataLoader(dataset = train_data,\n",
    "                             batch_size= BATCH_SIZE,\n",
    "                             shuffle = True,\n",
    "                             drop_last= True)\n",
    "\n",
    "test_dataloader = DataLoader(dataset = test_data,\n",
    "                            batch_size = BATCH_SIZE,\n",
    "                            shuffle = False,\n",
    "                            drop_last = True)"
   ]
  },
  {
   "cell_type": "code",
   "execution_count": 195,
   "id": "6c8ea32c-0827-4422-a0f4-f152c321caa9",
   "metadata": {},
   "outputs": [
    {
     "data": {
      "text/plain": [
       "(<torch.utils.data.dataloader.DataLoader at 0x165527750>,\n",
       " <torch.utils.data.dataloader.DataLoader at 0x1650ffd10>)"
      ]
     },
     "execution_count": 195,
     "metadata": {},
     "output_type": "execute_result"
    }
   ],
   "source": [
    "train_dataloader, test_dataloader"
   ]
  },
  {
   "cell_type": "code",
   "execution_count": 196,
   "id": "87836b81-3711-4297-aa8e-792000282400",
   "metadata": {},
   "outputs": [
    {
     "name": "stdout",
     "output_type": "stream",
     "text": [
      "DataLoaders we created are: (<torch.utils.data.dataloader.DataLoader object at 0x165527750>, <torch.utils.data.dataloader.DataLoader object at 0x1650ffd10>)\n",
      "Length of train_dataloader : 1500 and the batches created are : 40\n",
      "Length of test_dataloader : 250 and the batches created are : 40\n"
     ]
    }
   ],
   "source": [
    "# Checking the length and the number of batches of train and test dataloaders\n",
    "print(f\"DataLoaders we created are: {train_dataloader, test_dataloader}\")\n",
    "print(f\"Length of train_dataloader : {len(train_dataloader)} and the batches created are : {BATCH_SIZE}\")\n",
    "print(f\"Length of test_dataloader : {len(test_dataloader)} and the batches created are : {BATCH_SIZE}\")"
   ]
  },
  {
   "cell_type": "code",
   "execution_count": 197,
   "id": "c2202e81-d599-41dc-bf1a-52ab9be95eb2",
   "metadata": {},
   "outputs": [],
   "source": [
    "# To check what is inside the traning dataloader\n",
    "train_features_batch, train_labels_batch = next(iter(train_dataloader))"
   ]
  },
  {
   "cell_type": "code",
   "execution_count": 198,
   "id": "ea90e73e-f909-47c7-8e18-aed5ffa53748",
   "metadata": {},
   "outputs": [
    {
     "data": {
      "text/plain": [
       "(torch.Size([40, 1, 28, 28]), torch.Size([40]))"
      ]
     },
     "execution_count": 198,
     "metadata": {},
     "output_type": "execute_result"
    }
   ],
   "source": [
    "train_features_batch.shape, train_labels_batch.shape"
   ]
  },
  {
   "cell_type": "code",
   "execution_count": 199,
   "id": "57c1e14e-4334-4924-98b8-a76d3f88df03",
   "metadata": {},
   "outputs": [
    {
     "name": "stdout",
     "output_type": "stream",
     "text": [
      "Image size: torch.Size([1, 28, 28])\n",
      "Label: 9, label size: torch.Size([])\n"
     ]
    },
    {
     "data": {
      "image/png": "[encoded data removed]",
      "text/plain": [
       "<Figure size 640x480 with 1 Axes>"
      ]
     },
     "metadata": {},
     "output_type": "display_data"
    }
   ],
   "source": [
    "# Checking one sample\n",
    "torch.manual_seed(55)\n",
    "random_index = torch.randint(0, len(train_features_batch), size = [1]).item()\n",
    "img, label = train_features_batch[random_index], train_labels_batch[random_index]\n",
    "plt.imshow(img.squeeze(), cmap = \"grey\")\n",
    "plt.title(class_names[label])\n",
    "plt.axis(False)\n",
    "print(f\"Image size: {image.shape}\")\n",
    "print(f\"Label: {label}, label size: {label.shape}\")"
   ]
  },
  {
   "cell_type": "markdown",
   "id": "8c03a6a0-d399-49b6-b275-5ee98253bf3d",
   "metadata": {},
   "source": [
    "### 3. Build a Baseline Model\n",
    "Its always good to start with a baseline model and add complexity when necessary"
   ]
  },
  {
   "cell_type": "code",
   "execution_count": 200,
   "id": "d72a7d77-ebce-47e3-be6d-c275d9570d9b",
   "metadata": {},
   "outputs": [
    {
     "name": "stdout",
     "output_type": "stream",
     "text": [
      "The shape of the input befor passing it through flatten layer is : torch.Size([1, 28, 28])\n",
      "The shape after passing through flatten layer is : torch.Size([1, 784])\n"
     ]
    }
   ],
   "source": [
    "# create a flatten layer\n",
    "flatten_layer = nn.Flatten()\n",
    "\n",
    "# Get a single sample input and pass it through flatten layer and lets see whats happening\n",
    "x = train_features_batch[0]\n",
    "\n",
    "output = flatten_layer(x)\n",
    "\n",
    "print(f\"The shape of the input befor passing it through flatten layer is : {x.shape}\")\n",
    "print(f\"The shape after passing through flatten layer is : {output.shape}\")"
   ]
  },
  {
   "cell_type": "code",
   "execution_count": 201,
   "id": "285b2320-e4e1-4fb3-bfc0-2c36aba6e57e",
   "metadata": {},
   "outputs": [],
   "source": [
    "# creating a simple model to pass input\n",
    "class FashionMnistModel_0(nn.Module):\n",
    "    def __init__(self,\n",
    "                input_shape:int,\n",
    "                output_shape:int,\n",
    "                hidden_units:int):\n",
    "        super().__init__()\n",
    "        self.layer_stack = nn.Sequential(\n",
    "            nn.Flatten(),\n",
    "            nn.Linear(in_features=input_shape,\n",
    "                     out_features = hidden_units),\n",
    "            nn.Linear(in_features= hidden_units,\n",
    "                     out_features = hidden_units),\n",
    "            nn.Linear(in_features = hidden_units,\n",
    "                     out_features= output_shape)\n",
    "        )\n",
    "    def forward(self, x):\n",
    "        return self.layer_stack(x)"
   ]
  },
  {
   "cell_type": "code",
   "execution_count": 202,
   "id": "bbee0ec4-4905-4e42-b1b3-91b453d8bf98",
   "metadata": {},
   "outputs": [
    {
     "data": {
      "text/plain": [
       "FashionMnistModel_0(\n",
       "  (layer_stack): Sequential(\n",
       "    (0): Flatten(start_dim=1, end_dim=-1)\n",
       "    (1): Linear(in_features=784, out_features=10, bias=True)\n",
       "    (2): Linear(in_features=10, out_features=10, bias=True)\n",
       "    (3): Linear(in_features=10, out_features=10, bias=True)\n",
       "  )\n",
       ")"
      ]
     },
     "execution_count": 202,
     "metadata": {},
     "output_type": "execute_result"
    }
   ],
   "source": [
    "torch.manual_seed(95)\n",
    "\n",
    "# setup the model with input params\n",
    "model_0 = FashionMnistModel_0(\n",
    "    input_shape= 784,\n",
    "    hidden_units= 10,\n",
    "    output_shape = len(class_names)\n",
    ")\n",
    "\n",
    "model_0.to('cpu')"
   ]
  },
  {
   "cell_type": "code",
   "execution_count": 203,
   "id": "5fa0b4c6-8f31-4188-bbd0-9579f97d7bd4",
   "metadata": {},
   "outputs": [
    {
     "data": {
      "text/plain": [
       "tensor([[-0.1634, -0.3384, -0.1700, -0.1236,  0.2200, -0.1807,  0.2039,  0.2622,\n",
       "         -0.2174, -0.1326]], grad_fn=<AddmmBackward0>)"
      ]
     },
     "execution_count": 203,
     "metadata": {},
     "output_type": "execute_result"
    }
   ],
   "source": [
    "# lets create one small dummy variable and then pass it through the model\n",
    "dummy_x = torch.rand([1, 1, 28, 28])\n",
    "model_0(dummy_x)"
   ]
  },
  {
   "cell_type": "markdown",
   "id": "582c16b2-421e-42b3-8e7f-b5359a23699f",
   "metadata": {},
   "source": [
    "In the above error as wwe could see, if we are just passing the input shape same as the height or width of the dimension, it throughs error saying shape mismatch. BECAUSE --->\n",
    "\n",
    "in the sequential layer ->\n",
    "1. first we are putting the flatten layer where if the input is 1,28,28 -> it will be reduced to 1, 784.\n",
    "2. now the output of the flatten layer is 1, 784\n",
    "3. so now we need to prepare the input layer to expect 784 shape as input so thats why we need to put the shape of the input layer as 784"
   ]
  },
  {
   "cell_type": "code",
   "execution_count": 204,
   "id": "3a4cb27c-14a9-4512-ae6e-9d121ef52708",
   "metadata": {},
   "outputs": [
    {
     "data": {
      "text/plain": [
       "FashionMnistModel_0(\n",
       "  (layer_stack): Sequential(\n",
       "    (0): Flatten(start_dim=1, end_dim=-1)\n",
       "    (1): Linear(in_features=784, out_features=10, bias=True)\n",
       "    (2): Linear(in_features=10, out_features=10, bias=True)\n",
       "    (3): Linear(in_features=10, out_features=10, bias=True)\n",
       "  )\n",
       ")"
      ]
     },
     "execution_count": 204,
     "metadata": {},
     "output_type": "execute_result"
    }
   ],
   "source": [
    "torch.manual_seed(95)\n",
    "\n",
    "# setup the model with input params\n",
    "model_1 = FashionMnistModel_0(\n",
    "    input_shape= 784,\n",
    "    hidden_units= 10,\n",
    "    output_shape = len(class_names)\n",
    ")\n",
    "\n",
    "model_1.to('cpu')"
   ]
  },
  {
   "cell_type": "code",
   "execution_count": 205,
   "id": "3d822734-b88f-4468-98c9-cc2f1bdd4dc4",
   "metadata": {},
   "outputs": [
    {
     "data": {
      "text/plain": [
       "tensor([[-0.1634, -0.3384, -0.1700, -0.1236,  0.2200, -0.1807,  0.2039,  0.2622,\n",
       "         -0.2174, -0.1326]], grad_fn=<AddmmBackward0>)"
      ]
     },
     "execution_count": 205,
     "metadata": {},
     "output_type": "execute_result"
    }
   ],
   "source": [
    "# lets create one small dummy variable and then pass it through the model\n",
    "dummy_x = torch.rand([1, 1, 28, 28])\n",
    "model_1(dummy_x)"
   ]
  },
  {
   "cell_type": "code",
   "execution_count": 206,
   "id": "a6e2ef82-f63b-40a6-983c-1079ac9e2213",
   "metadata": {},
   "outputs": [
    {
     "data": {
      "text/plain": [
       "torch.Size([1, 10])"
      ]
     },
     "execution_count": 206,
     "metadata": {},
     "output_type": "execute_result"
    }
   ],
   "source": [
    "model_1(dummy_x).shape"
   ]
  },
  {
   "cell_type": "code",
   "execution_count": 207,
   "id": "929a619a-105f-4a46-9173-1a35cc4b794e",
   "metadata": {},
   "outputs": [
    {
     "data": {
      "text/plain": [
       "OrderedDict([('layer_stack.1.weight',\n",
       "              tensor([[ 0.0053, -0.0256,  0.0226,  ...,  0.0189,  0.0097,  0.0334],\n",
       "                      [-0.0267,  0.0280, -0.0157,  ..., -0.0237,  0.0244, -0.0265],\n",
       "                      [-0.0158,  0.0021, -0.0031,  ...,  0.0161,  0.0068, -0.0267],\n",
       "                      ...,\n",
       "                      [-0.0262, -0.0077, -0.0260,  ...,  0.0144,  0.0076,  0.0259],\n",
       "                      [-0.0210,  0.0267,  0.0302,  ...,  0.0317, -0.0261, -0.0154],\n",
       "                      [-0.0186,  0.0300, -0.0088,  ...,  0.0076,  0.0292, -0.0281]])),\n",
       "             ('layer_stack.1.bias',\n",
       "              tensor([-0.0148, -0.0291, -0.0349, -0.0145, -0.0267,  0.0196,  0.0100,  0.0136,\n",
       "                      -0.0105,  0.0242])),\n",
       "             ('layer_stack.2.weight',\n",
       "              tensor([[-0.2680,  0.2473, -0.1974, -0.0940, -0.1504, -0.2786,  0.2889, -0.1833,\n",
       "                       -0.2029,  0.1124],\n",
       "                      [ 0.0673, -0.2906,  0.0084,  0.2285,  0.1518,  0.1005, -0.2197, -0.0730,\n",
       "                        0.1528,  0.1024],\n",
       "                      [-0.2797, -0.1013,  0.1860, -0.2115, -0.0691,  0.0272, -0.1204, -0.0958,\n",
       "                       -0.2286,  0.2565],\n",
       "                      [-0.0098,  0.2808, -0.0921, -0.0349,  0.1094,  0.0250, -0.2904,  0.1060,\n",
       "                       -0.1148, -0.1136],\n",
       "                      [-0.0841,  0.0536,  0.1567,  0.1746,  0.1505,  0.0889, -0.2850,  0.2475,\n",
       "                       -0.0819,  0.3090],\n",
       "                      [ 0.2065,  0.2957,  0.1920,  0.2471, -0.0609, -0.3095,  0.0931,  0.0341,\n",
       "                       -0.0170, -0.1598],\n",
       "                      [-0.1680, -0.2122, -0.0253,  0.1099,  0.2750, -0.2550, -0.1762, -0.3037,\n",
       "                        0.2475,  0.0127],\n",
       "                      [ 0.1156,  0.2487, -0.2606,  0.1305, -0.0904,  0.0580, -0.1147,  0.1028,\n",
       "                       -0.2828,  0.2863],\n",
       "                      [-0.2813,  0.1887,  0.1214, -0.2296, -0.1034,  0.1167, -0.3162, -0.2950,\n",
       "                       -0.1666, -0.2823],\n",
       "                      [-0.0516, -0.1232,  0.0928, -0.0153, -0.1075,  0.0385,  0.2365,  0.1563,\n",
       "                        0.1172,  0.0222]])),\n",
       "             ('layer_stack.2.bias',\n",
       "              tensor([ 0.3150, -0.1565,  0.1086,  0.3082, -0.0235,  0.2367,  0.1940,  0.1317,\n",
       "                       0.0680, -0.2859])),\n",
       "             ('layer_stack.3.weight',\n",
       "              tensor([[-0.1916, -0.1345,  0.1900,  0.1717,  0.2954, -0.1345, -0.0885, -0.1719,\n",
       "                       -0.1297, -0.1201],\n",
       "                      [-0.0827,  0.0260, -0.1168,  0.2092,  0.1702, -0.0397,  0.1049, -0.0706,\n",
       "                       -0.0120,  0.0242],\n",
       "                      [-0.0734, -0.1883, -0.0014,  0.0265, -0.3030, -0.1677,  0.0247,  0.3010,\n",
       "                        0.1097, -0.2182],\n",
       "                      [-0.2009, -0.0113, -0.2541,  0.0376,  0.3096, -0.1486, -0.0824,  0.2506,\n",
       "                        0.1134, -0.0600],\n",
       "                      [ 0.2320,  0.1071, -0.0100,  0.3160,  0.2071,  0.2721,  0.2757,  0.1028,\n",
       "                       -0.3154, -0.2560],\n",
       "                      [ 0.1772, -0.2240,  0.0581, -0.1231, -0.1751, -0.1485,  0.0193,  0.2170,\n",
       "                        0.3031,  0.1899],\n",
       "                      [-0.0669,  0.0553, -0.0414, -0.1146, -0.2374,  0.1930,  0.2264,  0.1760,\n",
       "                        0.0172,  0.0979],\n",
       "                      [ 0.2697, -0.2559,  0.0400,  0.1826, -0.1580, -0.1620, -0.2570,  0.0107,\n",
       "                       -0.2803,  0.2547],\n",
       "                      [ 0.2516, -0.2839, -0.1217,  0.0638, -0.3062, -0.1508, -0.1360, -0.1439,\n",
       "                        0.0754,  0.1571],\n",
       "                      [ 0.0974,  0.1933,  0.0481, -0.1395, -0.2625,  0.0162,  0.0825, -0.0362,\n",
       "                        0.2417,  0.3139]])),\n",
       "             ('layer_stack.3.bias',\n",
       "              tensor([-0.1379, -0.3090, -0.3006, -0.0603,  0.0164, -0.2768,  0.2220,  0.1534,\n",
       "                      -0.2973, -0.0743]))])"
      ]
     },
     "execution_count": 207,
     "metadata": {},
     "output_type": "execute_result"
    }
   ],
   "source": [
    "model_1.state_dict()"
   ]
  },
  {
   "cell_type": "markdown",
   "id": "d06a2f89-4e61-44fe-b541-cd6bca559a68",
   "metadata": {},
   "source": [
    "## 3.1 Setup Loss, Optimizer and EValuation Metric\n",
    "1. As we are working with multiclass data, our loss will be CrossEntropyLoss\n",
    "2. We can use SGD or Adam or other optimizers\n",
    "3. We can use accuracy or other evaluation metrics like confusion matrix and classification report"
   ]
  },
  {
   "cell_type": "code",
   "execution_count": 208,
   "id": "7da16e33-6229-4678-aff4-20813d708b64",
   "metadata": {},
   "outputs": [
    {
     "name": "stdout",
     "output_type": "stream",
     "text": [
      "Skipping download...\n"
     ]
    }
   ],
   "source": [
    "# importing Helper Function\n",
    "\n",
    "import requests\n",
    "from pathlib import Path\n",
    "\n",
    "if Path(\"helper_functions.py\").is_file:\n",
    "    print(\"Skipping download...\")\n",
    "else:\n",
    "    print(\"Downloading helper functions file\")\n",
    "    request = requests.get(\"https://raw.githubusercontent.com/mrdbourke/pytorch-deep-learning/main/helper_functions.py\")\n",
    "    with open(\"helper_functions.py\", \"wb\") as f:\n",
    "        f.write(request.content)"
   ]
  },
  {
   "cell_type": "code",
   "execution_count": 209,
   "id": "fd0054e1-284a-42da-981c-7e7df0754ade",
   "metadata": {
    "scrolled": true
   },
   "outputs": [
    {
     "name": "stdout",
     "output_type": "stream",
     "text": [
      "Requirement already satisfied: torchmetrics in /opt/anaconda3/lib/python3.11/site-packages (1.4.1)\n",
      "Requirement already satisfied: numpy>1.20.0 in /opt/anaconda3/lib/python3.11/site-packages (from torchmetrics) (1.26.4)\n",
      "Requirement already satisfied: packaging>17.1 in /opt/anaconda3/lib/python3.11/site-packages (from torchmetrics) (24.1)\n",
      "Requirement already satisfied: torch>=1.10.0 in /opt/anaconda3/lib/python3.11/site-packages (from torchmetrics) (2.2.2)\n",
      "Requirement already satisfied: lightning-utilities>=0.8.0 in /opt/anaconda3/lib/python3.11/site-packages (from torchmetrics) (0.11.6)\n",
      "Requirement already satisfied: setuptools in /opt/anaconda3/lib/python3.11/site-packages (from lightning-utilities>=0.8.0->torchmetrics) (68.2.2)\n",
      "Requirement already satisfied: typing-extensions in /opt/anaconda3/lib/python3.11/site-packages (from lightning-utilities>=0.8.0->torchmetrics) (4.9.0)\n",
      "Requirement already satisfied: filelock in /opt/anaconda3/lib/python3.11/site-packages (from torch>=1.10.0->torchmetrics) (3.13.1)\n",
      "Requirement already satisfied: sympy in /opt/anaconda3/lib/python3.11/site-packages (from torch>=1.10.0->torchmetrics) (1.12)\n",
      "Requirement already satisfied: networkx in /opt/anaconda3/lib/python3.11/site-packages (from torch>=1.10.0->torchmetrics) (3.1)\n",
      "Requirement already satisfied: jinja2 in /opt/anaconda3/lib/python3.11/site-packages (from torch>=1.10.0->torchmetrics) (3.1.3)\n",
      "Requirement already satisfied: fsspec in /opt/anaconda3/lib/python3.11/site-packages (from torch>=1.10.0->torchmetrics) (2023.10.0)\n",
      "Requirement already satisfied: MarkupSafe>=2.0 in /opt/anaconda3/lib/python3.11/site-packages (from jinja2->torch>=1.10.0->torchmetrics) (2.1.3)\n",
      "Requirement already satisfied: mpmath>=0.19 in /opt/anaconda3/lib/python3.11/site-packages (from sympy->torch>=1.10.0->torchmetrics) (1.3.0)\n",
      "Note: you may need to restart the kernel to use updated packages.\n"
     ]
    }
   ],
   "source": [
    "pip install torchmetrics"
   ]
  },
  {
   "cell_type": "code",
   "execution_count": 210,
   "id": "640d5903-8a2c-46cd-8039-3a80e91f3890",
   "metadata": {},
   "outputs": [],
   "source": [
    "# Importing accuracy metric\n",
    "from helper_functions import accuracy_fn\n",
    "# alternatively we can also import from torch metrics\n",
    "\n",
    "# setup loss and optimizer\n",
    "loss_fn = nn.CrossEntropyLoss()\n",
    "optimizer = torch.optim.SGD(params = model_1.parameters(),\n",
    "                           lr = 0.01)"
   ]
  },
  {
   "cell_type": "markdown",
   "id": "e13ca7ce-a134-4fdb-b193-714aebe486cd",
   "metadata": {},
   "source": [
    "### Creating a Timer Function to time the model runtime"
   ]
  },
  {
   "cell_type": "code",
   "execution_count": 211,
   "id": "54331d9d-2cc7-4697-8f39-f3045487d410",
   "metadata": {},
   "outputs": [],
   "source": [
    "from timeit import default_timer as timer\n",
    "\n",
    "#creating a timer function for timing the model run time\n",
    "\n",
    "def start_end_timer_tracker(start: float,\n",
    "                           end: float,\n",
    "                           device: torch.device = None):\n",
    "    \"\"\"Prints the total runtime took to run the code\"\"\"\n",
    "\n",
    "    runtime = end-start\n",
    "    print(f\"Train time on device : {device} is {runtime:.4f} sec\")\n",
    "    return runtime"
   ]
  },
  {
   "cell_type": "code",
   "execution_count": 212,
   "id": "87bdfe8a-553a-4561-b3f4-d84c4cd96718",
   "metadata": {},
   "outputs": [
    {
     "name": "stdout",
     "output_type": "stream",
     "text": [
      "hello world\n",
      "Train time on device : cpu is 0.0001 sec\n"
     ]
    },
    {
     "data": {
      "text/plain": [
       "9.526894427835941e-05"
      ]
     },
     "execution_count": 212,
     "metadata": {},
     "output_type": "execute_result"
    }
   ],
   "source": [
    "start = timer()\n",
    "\n",
    "print(\"hello world\")\n",
    "\n",
    "end = timer()\n",
    "\n",
    "start_end_timer_tracker(start = start,\n",
    "                       end = end,\n",
    "                       device = \"cpu\")"
   ]
  },
  {
   "cell_type": "markdown",
   "id": "5df0ebee-586e-4179-addb-1b2d36c014fb",
   "metadata": {},
   "source": [
    "##### Remember - The Optimizer will update the model's params once per batch rather than once per epoch"
   ]
  },
  {
   "cell_type": "markdown",
   "id": "b42eb5e2-90ed-4134-ae45-da3cd0c1b09e",
   "metadata": {},
   "source": [
    "Dataset stores the samples and their corresponding labels, and DataLoader wraps an iterable around the Dataset to enable easy access to the samples."
   ]
  },
  {
   "cell_type": "code",
   "execution_count": 213,
   "id": "d57db62f-f1a3-4e3e-acec-2ac613601112",
   "metadata": {},
   "outputs": [],
   "source": [
    "from torch.utils.data import DataLoader"
   ]
  },
  {
   "cell_type": "code",
   "execution_count": 214,
   "id": "c63d99ab-dbcb-4db5-b7b1-3d889272e8b0",
   "metadata": {},
   "outputs": [],
   "source": [
    "# creating dataloader once again\n",
    "\n",
    "BATCH_SIZE = 40\n",
    "\n",
    "# DataLoader helps us to iterate over the dataset so that we can loop the dataset in batches over the model\n",
    "train_dataloader = DataLoader(dataset = train_data,\n",
    "                             batch_size= BATCH_SIZE,\n",
    "                             shuffle = True,\n",
    "                             drop_last= True)\n",
    "\n",
    "test_dataloader = DataLoader(dataset = test_data,\n",
    "                            batch_size = BATCH_SIZE,\n",
    "                            shuffle = True,\n",
    "                            drop_last = True)\n"
   ]
  },
  {
   "cell_type": "code",
   "execution_count": 215,
   "id": "ee3fdf5a-f70a-4182-9393-a59427ce71f0",
   "metadata": {},
   "outputs": [
    {
     "name": "stdout",
     "output_type": "stream",
     "text": [
      "DataLoaders created are : <torch.utils.data.dataloader.DataLoader object at 0x1658bad10>, <torch.utils.data.dataloader.DataLoader object at 0x16589d2d0>\n",
      "Length of train dataloader is : 1500 with batches : 40\n",
      "Length of test dataloader is : 250 with batches : 40\n"
     ]
    }
   ],
   "source": [
    "# Checking the contents of the dataloaders created\n",
    "\n",
    "print(f\"DataLoaders created are : {train_dataloader}, {test_dataloader}\")\n",
    "print(f\"Length of train dataloader is : {len(train_dataloader)} with batches : {BATCH_SIZE}\")\n",
    "print(f\"Length of test dataloader is : {len(test_dataloader)} with batches : {BATCH_SIZE}\")"
   ]
  },
  {
   "cell_type": "code",
   "execution_count": 216,
   "id": "fba26315-11a0-4327-892c-1095b81f393c",
   "metadata": {},
   "outputs": [
    {
     "data": {
      "text/plain": [
       "(torch.Size([40, 1, 28, 28]), torch.Size([40]))"
      ]
     },
     "execution_count": 216,
     "metadata": {},
     "output_type": "execute_result"
    }
   ],
   "source": [
    "train_features_batch, train_labels_batch = next(iter(train_dataloader))\n",
    "train_features_batch.shape, train_labels_batch.shape"
   ]
  },
  {
   "cell_type": "code",
   "execution_count": 217,
   "id": "b68f7a66-dc26-4a24-bb35-ff4975a9f946",
   "metadata": {},
   "outputs": [
    {
     "name": "stdout",
     "output_type": "stream",
     "text": [
      "Image size: torch.Size([1, 28, 28])\n",
      "Label: 9, Label Shape: torch.Size([])\n"
     ]
    },
    {
     "data": {
      "image/png": "[encoded data removed]",
      "text/plain": [
       "<Figure size 640x480 with 1 Axes>"
      ]
     },
     "metadata": {},
     "output_type": "display_data"
    }
   ],
   "source": [
    "# Checking a sample from the train features batch\n",
    "random_index = torch.randint(0, len(train_features_batch), size = [1]).item()\n",
    "image, label = train_features_batch[random_index], train_labels_batch[random_index]\n",
    "plt.imshow(image.squeeze(), cmap = \"grey\")\n",
    "plt.title(class_names[label])\n",
    "plt.axis(False)\n",
    "print(f\"Image size: {image.shape}\")\n",
    "print(f\"Label: {label}, Label Shape: {label.shape}\")"
   ]
  },
  {
   "cell_type": "markdown",
   "id": "74bfe1eb-4bb3-4ec4-ab98-4a7d30a15d7a",
   "metadata": {},
   "source": [
    "### Creating a train loop and training a model on batches of data created using DataLoader\n",
    "\n",
    "1. Give number of epochs -> how many times the model should go through the training batches\n",
    "2. For every epoch, the model will go through all the batches and claculate the training loss. The training loss will be calculated for every batch over one epoch\n",
    "3. For every epoch -> Loop through test batches, testing loss will be calculated for every batch over one epoch\n",
    "4. print out whats heppening\n",
    "5. Time it"
   ]
  },
  {
   "cell_type": "code",
   "execution_count": 218,
   "id": "53009a36-8e51-427e-bee3-df221b907191",
   "metadata": {},
   "outputs": [
    {
     "name": "stdout",
     "output_type": "stream",
     "text": [
      "Requirement already satisfied: jupyterlab-indent-guides in /opt/anaconda3/lib/python3.11/site-packages (0.1.0)\n",
      "Note: you may need to restart the kernel to use updated packages.\n"
     ]
    }
   ],
   "source": [
    "pip install jupyterlab-indent-guides"
   ]
  },
  {
   "cell_type": "code",
   "execution_count": 219,
   "id": "3dd108d9-87ef-44e6-8cfa-cc8920be78d4",
   "metadata": {},
   "outputs": [],
   "source": [
    "from tqdm.notebook import tqdm"
   ]
  },
  {
   "cell_type": "code",
   "execution_count": 220,
   "id": "0ac0a0e9-48bc-40b1-896a-38e19fd26906",
   "metadata": {},
   "outputs": [
    {
     "data": {
      "application/vnd.jupyter.widget-view+json": {
       "model_id": "b38f794fb9704c02ab749513b9fb76b8",
       "version_major": 2,
       "version_minor": 0
      },
      "text/plain": [
       "  0%|          | 0/50 [00:00<?, ?it/s]"
      ]
     },
     "metadata": {},
     "output_type": "display_data"
    },
    {
     "name": "stdout",
     "output_type": "stream",
     "text": [
      "The current epoch is : 0 \n",
      "-------\n",
      "Looked at 0/60000 samples\n",
      "Looked at 20000/60000 samples\n",
      "Looked at 40000/60000 samples\n",
      "Train Loss: 1.0759 ,  Test Loss: 0.7213 ,  Test Accuracy: 74.1300\n",
      "The current epoch is : 1 \n",
      "-------\n",
      "Looked at 0/60000 samples\n",
      "Looked at 20000/60000 samples\n",
      "Looked at 40000/60000 samples\n",
      "Train Loss: 0.6187 ,  Test Loss: 0.5834 ,  Test Accuracy: 79.0100\n",
      "The current epoch is : 2 \n",
      "-------\n",
      "Looked at 0/60000 samples\n",
      "Looked at 20000/60000 samples\n",
      "Looked at 40000/60000 samples\n",
      "Train Loss: 0.5405 ,  Test Loss: 0.5644 ,  Test Accuracy: 79.5400\n",
      "The current epoch is : 3 \n",
      "-------\n",
      "Looked at 0/60000 samples\n",
      "Looked at 20000/60000 samples\n",
      "Looked at 40000/60000 samples\n",
      "Train Loss: 0.5059 ,  Test Loss: 0.5156 ,  Test Accuracy: 81.7000\n",
      "The current epoch is : 4 \n",
      "-------\n",
      "Looked at 0/60000 samples\n",
      "Looked at 20000/60000 samples\n",
      "Looked at 40000/60000 samples\n",
      "Train Loss: 0.4840 ,  Test Loss: 0.5055 ,  Test Accuracy: 82.1300\n",
      "The current epoch is : 5 \n",
      "-------\n",
      "Looked at 0/60000 samples\n",
      "Looked at 20000/60000 samples\n",
      "Looked at 40000/60000 samples\n",
      "Train Loss: 0.4681 ,  Test Loss: 0.4919 ,  Test Accuracy: 82.6400\n",
      "The current epoch is : 6 \n",
      "-------\n",
      "Looked at 0/60000 samples\n",
      "Looked at 20000/60000 samples\n",
      "Looked at 40000/60000 samples\n",
      "Train Loss: 0.4565 ,  Test Loss: 0.4884 ,  Test Accuracy: 82.7400\n",
      "The current epoch is : 7 \n",
      "-------\n",
      "Looked at 0/60000 samples\n",
      "Looked at 20000/60000 samples\n",
      "Looked at 40000/60000 samples\n",
      "Train Loss: 0.4485 ,  Test Loss: 0.4978 ,  Test Accuracy: 82.7100\n",
      "The current epoch is : 8 \n",
      "-------\n",
      "Looked at 0/60000 samples\n",
      "Looked at 20000/60000 samples\n",
      "Looked at 40000/60000 samples\n",
      "Train Loss: 0.4414 ,  Test Loss: 0.4844 ,  Test Accuracy: 83.1100\n",
      "The current epoch is : 9 \n",
      "-------\n",
      "Looked at 0/60000 samples\n",
      "Looked at 20000/60000 samples\n",
      "Looked at 40000/60000 samples\n",
      "Train Loss: 0.4354 ,  Test Loss: 0.4860 ,  Test Accuracy: 82.9900\n",
      "The current epoch is : 10 \n",
      "-------\n",
      "Looked at 0/60000 samples\n",
      "Looked at 20000/60000 samples\n",
      "Looked at 40000/60000 samples\n",
      "Train Loss: 0.4311 ,  Test Loss: 0.4654 ,  Test Accuracy: 83.7500\n",
      "The current epoch is : 11 \n",
      "-------\n",
      "Looked at 0/60000 samples\n",
      "Looked at 20000/60000 samples\n",
      "Looked at 40000/60000 samples\n",
      "Train Loss: 0.4278 ,  Test Loss: 0.4702 ,  Test Accuracy: 83.2100\n",
      "The current epoch is : 12 \n",
      "-------\n",
      "Looked at 0/60000 samples\n",
      "Looked at 20000/60000 samples\n",
      "Looked at 40000/60000 samples\n",
      "Train Loss: 0.4236 ,  Test Loss: 0.4640 ,  Test Accuracy: 83.7900\n",
      "The current epoch is : 13 \n",
      "-------\n",
      "Looked at 0/60000 samples\n",
      "Looked at 20000/60000 samples\n",
      "Looked at 40000/60000 samples\n",
      "Train Loss: 0.4212 ,  Test Loss: 0.4672 ,  Test Accuracy: 83.2500\n",
      "The current epoch is : 14 \n",
      "-------\n",
      "Looked at 0/60000 samples\n",
      "Looked at 20000/60000 samples\n",
      "Looked at 40000/60000 samples\n",
      "Train Loss: 0.4186 ,  Test Loss: 0.4542 ,  Test Accuracy: 84.0400\n",
      "The current epoch is : 15 \n",
      "-------\n",
      "Looked at 0/60000 samples\n",
      "Looked at 20000/60000 samples\n",
      "Looked at 40000/60000 samples\n",
      "Train Loss: 0.4164 ,  Test Loss: 0.4520 ,  Test Accuracy: 84.0300\n",
      "The current epoch is : 16 \n",
      "-------\n",
      "Looked at 0/60000 samples\n",
      "Looked at 20000/60000 samples\n",
      "Looked at 40000/60000 samples\n",
      "Train Loss: 0.4139 ,  Test Loss: 0.4616 ,  Test Accuracy: 83.5300\n",
      "The current epoch is : 17 \n",
      "-------\n",
      "Looked at 0/60000 samples\n",
      "Looked at 20000/60000 samples\n",
      "Looked at 40000/60000 samples\n",
      "Train Loss: 0.4121 ,  Test Loss: 0.4544 ,  Test Accuracy: 83.9200\n",
      "The current epoch is : 18 \n",
      "-------\n",
      "Looked at 0/60000 samples\n",
      "Looked at 20000/60000 samples\n",
      "Looked at 40000/60000 samples\n",
      "Train Loss: 0.4099 ,  Test Loss: 0.4490 ,  Test Accuracy: 84.1100\n",
      "The current epoch is : 19 \n",
      "-------\n",
      "Looked at 0/60000 samples\n",
      "Looked at 20000/60000 samples\n",
      "Looked at 40000/60000 samples\n",
      "Train Loss: 0.4087 ,  Test Loss: 0.4571 ,  Test Accuracy: 84.0100\n",
      "The current epoch is : 20 \n",
      "-------\n",
      "Looked at 0/60000 samples\n",
      "Looked at 20000/60000 samples\n",
      "Looked at 40000/60000 samples\n",
      "Train Loss: 0.4069 ,  Test Loss: 0.4497 ,  Test Accuracy: 84.3000\n",
      "The current epoch is : 21 \n",
      "-------\n",
      "Looked at 0/60000 samples\n",
      "Looked at 20000/60000 samples\n",
      "Looked at 40000/60000 samples\n",
      "Train Loss: 0.4058 ,  Test Loss: 0.4507 ,  Test Accuracy: 84.1900\n",
      "The current epoch is : 22 \n",
      "-------\n",
      "Looked at 0/60000 samples\n",
      "Looked at 20000/60000 samples\n",
      "Looked at 40000/60000 samples\n",
      "Train Loss: 0.4034 ,  Test Loss: 0.4493 ,  Test Accuracy: 84.1400\n",
      "The current epoch is : 23 \n",
      "-------\n",
      "Looked at 0/60000 samples\n",
      "Looked at 20000/60000 samples\n",
      "Looked at 40000/60000 samples\n",
      "Train Loss: 0.4027 ,  Test Loss: 0.4629 ,  Test Accuracy: 83.6400\n",
      "The current epoch is : 24 \n",
      "-------\n",
      "Looked at 0/60000 samples\n",
      "Looked at 20000/60000 samples\n",
      "Looked at 40000/60000 samples\n",
      "Train Loss: 0.4014 ,  Test Loss: 0.4699 ,  Test Accuracy: 83.3700\n",
      "The current epoch is : 25 \n",
      "-------\n",
      "Looked at 0/60000 samples\n",
      "Looked at 20000/60000 samples\n",
      "Looked at 40000/60000 samples\n",
      "Train Loss: 0.3999 ,  Test Loss: 0.4512 ,  Test Accuracy: 84.0500\n",
      "The current epoch is : 26 \n",
      "-------\n",
      "Looked at 0/60000 samples\n",
      "Looked at 20000/60000 samples\n",
      "Looked at 40000/60000 samples\n",
      "Train Loss: 0.3989 ,  Test Loss: 0.4500 ,  Test Accuracy: 84.1800\n",
      "The current epoch is : 27 \n",
      "-------\n",
      "Looked at 0/60000 samples\n",
      "Looked at 20000/60000 samples\n",
      "Looked at 40000/60000 samples\n",
      "Train Loss: 0.3983 ,  Test Loss: 0.4641 ,  Test Accuracy: 83.7300\n",
      "The current epoch is : 28 \n",
      "-------\n",
      "Looked at 0/60000 samples\n",
      "Looked at 20000/60000 samples\n",
      "Looked at 40000/60000 samples\n",
      "Train Loss: 0.3966 ,  Test Loss: 0.4494 ,  Test Accuracy: 84.0300\n",
      "The current epoch is : 29 \n",
      "-------\n",
      "Looked at 0/60000 samples\n",
      "Looked at 20000/60000 samples\n",
      "Looked at 40000/60000 samples\n",
      "Train Loss: 0.3957 ,  Test Loss: 0.4455 ,  Test Accuracy: 84.2800\n",
      "The current epoch is : 30 \n",
      "-------\n",
      "Looked at 0/60000 samples\n",
      "Looked at 20000/60000 samples\n",
      "Looked at 40000/60000 samples\n",
      "Train Loss: 0.3946 ,  Test Loss: 0.4480 ,  Test Accuracy: 84.3000\n",
      "The current epoch is : 31 \n",
      "-------\n",
      "Looked at 0/60000 samples\n",
      "Looked at 20000/60000 samples\n",
      "Looked at 40000/60000 samples\n",
      "Train Loss: 0.3947 ,  Test Loss: 0.4410 ,  Test Accuracy: 84.2300\n",
      "The current epoch is : 32 \n",
      "-------\n",
      "Looked at 0/60000 samples\n",
      "Looked at 20000/60000 samples\n",
      "Looked at 40000/60000 samples\n",
      "Train Loss: 0.3927 ,  Test Loss: 0.4462 ,  Test Accuracy: 84.2500\n",
      "The current epoch is : 33 \n",
      "-------\n",
      "Looked at 0/60000 samples\n",
      "Looked at 20000/60000 samples\n",
      "Looked at 40000/60000 samples\n",
      "Train Loss: 0.3924 ,  Test Loss: 0.4512 ,  Test Accuracy: 84.0300\n",
      "The current epoch is : 34 \n",
      "-------\n",
      "Looked at 0/60000 samples\n",
      "Looked at 20000/60000 samples\n",
      "Looked at 40000/60000 samples\n",
      "Train Loss: 0.3912 ,  Test Loss: 0.4556 ,  Test Accuracy: 83.8900\n",
      "The current epoch is : 35 \n",
      "-------\n",
      "Looked at 0/60000 samples\n",
      "Looked at 20000/60000 samples\n",
      "Looked at 40000/60000 samples\n",
      "Train Loss: 0.3903 ,  Test Loss: 0.4419 ,  Test Accuracy: 84.2600\n",
      "The current epoch is : 36 \n",
      "-------\n",
      "Looked at 0/60000 samples\n",
      "Looked at 20000/60000 samples\n",
      "Looked at 40000/60000 samples\n",
      "Train Loss: 0.3899 ,  Test Loss: 0.4423 ,  Test Accuracy: 84.4600\n",
      "The current epoch is : 37 \n",
      "-------\n",
      "Looked at 0/60000 samples\n",
      "Looked at 20000/60000 samples\n",
      "Looked at 40000/60000 samples\n",
      "Train Loss: 0.3893 ,  Test Loss: 0.4434 ,  Test Accuracy: 84.3100\n",
      "The current epoch is : 38 \n",
      "-------\n",
      "Looked at 0/60000 samples\n",
      "Looked at 20000/60000 samples\n",
      "Looked at 40000/60000 samples\n",
      "Train Loss: 0.3886 ,  Test Loss: 0.4478 ,  Test Accuracy: 84.1700\n",
      "The current epoch is : 39 \n",
      "-------\n",
      "Looked at 0/60000 samples\n",
      "Looked at 20000/60000 samples\n",
      "Looked at 40000/60000 samples\n",
      "Train Loss: 0.3872 ,  Test Loss: 0.4547 ,  Test Accuracy: 83.9900\n",
      "The current epoch is : 40 \n",
      "-------\n",
      "Looked at 0/60000 samples\n",
      "Looked at 20000/60000 samples\n",
      "Looked at 40000/60000 samples\n",
      "Train Loss: 0.3865 ,  Test Loss: 0.4472 ,  Test Accuracy: 84.2700\n",
      "The current epoch is : 41 \n",
      "-------\n",
      "Looked at 0/60000 samples\n",
      "Looked at 20000/60000 samples\n",
      "Looked at 40000/60000 samples\n",
      "Train Loss: 0.3860 ,  Test Loss: 0.4475 ,  Test Accuracy: 84.2000\n",
      "The current epoch is : 42 \n",
      "-------\n",
      "Looked at 0/60000 samples\n",
      "Looked at 20000/60000 samples\n",
      "Looked at 40000/60000 samples\n",
      "Train Loss: 0.3861 ,  Test Loss: 0.4427 ,  Test Accuracy: 84.3500\n",
      "The current epoch is : 43 \n",
      "-------\n",
      "Looked at 0/60000 samples\n",
      "Looked at 20000/60000 samples\n",
      "Looked at 40000/60000 samples\n",
      "Train Loss: 0.3857 ,  Test Loss: 0.4461 ,  Test Accuracy: 84.2100\n",
      "The current epoch is : 44 \n",
      "-------\n",
      "Looked at 0/60000 samples\n",
      "Looked at 20000/60000 samples\n",
      "Looked at 40000/60000 samples\n",
      "Train Loss: 0.3850 ,  Test Loss: 0.4427 ,  Test Accuracy: 84.2300\n",
      "The current epoch is : 45 \n",
      "-------\n",
      "Looked at 0/60000 samples\n",
      "Looked at 20000/60000 samples\n",
      "Looked at 40000/60000 samples\n",
      "Train Loss: 0.3837 ,  Test Loss: 0.4402 ,  Test Accuracy: 84.3900\n",
      "The current epoch is : 46 \n",
      "-------\n",
      "Looked at 0/60000 samples\n",
      "Looked at 20000/60000 samples\n",
      "Looked at 40000/60000 samples\n",
      "Train Loss: 0.3836 ,  Test Loss: 0.4524 ,  Test Accuracy: 84.0000\n",
      "The current epoch is : 47 \n",
      "-------\n",
      "Looked at 0/60000 samples\n",
      "Looked at 20000/60000 samples\n",
      "Looked at 40000/60000 samples\n",
      "Train Loss: 0.3823 ,  Test Loss: 0.4569 ,  Test Accuracy: 83.8300\n",
      "The current epoch is : 48 \n",
      "-------\n",
      "Looked at 0/60000 samples\n",
      "Looked at 20000/60000 samples\n",
      "Looked at 40000/60000 samples\n",
      "Train Loss: 0.3822 ,  Test Loss: 0.4441 ,  Test Accuracy: 84.4200\n",
      "The current epoch is : 49 \n",
      "-------\n",
      "Looked at 0/60000 samples\n",
      "Looked at 20000/60000 samples\n",
      "Looked at 40000/60000 samples\n",
      "Train Loss: 0.3818 ,  Test Loss: 0.4488 ,  Test Accuracy: 84.1800\n",
      "Train time on device : cpu is 414.4594 sec\n"
     ]
    },
    {
     "data": {
      "text/plain": [
       "414.45943867194"
      ]
     },
     "execution_count": 220,
     "metadata": {},
     "output_type": "execute_result"
    }
   ],
   "source": [
    "# Importing tqdm for progress bar\n",
    "\n",
    "# setting random seed and initiating timer functionality to track the timer\n",
    "torch.manual_seed(95)\n",
    "train_start_timer = timer()\n",
    "\n",
    "# set the number of epochs. Lets start with smaller number of epochs and build up slowly\n",
    "epochs = 50\n",
    "\n",
    "# Creating training and testing loop for epochs\n",
    "for epoch in tqdm(range(epochs)):\n",
    "    print(f\"The current epoch is : {epoch} \\n-------\")\n",
    "\n",
    "    # Initializing the train loss to 0\n",
    "    train_loss = 0\n",
    "\n",
    "    # Adding another loop to through training batches\n",
    "    for batch, (X, y) in enumerate(train_dataloader):\n",
    "        #1. Put the model in training mode\n",
    "        model_1.train()\n",
    "\n",
    "        #2. Do the forward pass\n",
    "        y_pred = model_1.forward(X)\n",
    "\n",
    "        #3. Calculate the accumulated loss as we are passing the data in batches\n",
    "        loss = loss_fn(y_pred, y)\n",
    "        train_loss += loss\n",
    "\n",
    "        #4. Optimizer zero gard which sets the gradients to zero\n",
    "        optimizer.zero_grad()\n",
    "\n",
    "        #5. Loss Backward\n",
    "        loss.backward()\n",
    "\n",
    "        #6. Optimizer Step - This will update the model's params\n",
    "        optimizer.step()\n",
    "\n",
    "        #7. Print out whats happening - \n",
    "        if batch % 500 == 0:\n",
    "            print(f\"Looked at {batch * len(X)}/{len(train_dataloader.dataset)} samples\")\n",
    "\n",
    "    # after every epoch, the train loss will be accumulated by with previous epoch train loss, so we need to average it with len of samples\n",
    "    train_loss /= len(train_dataloader)\n",
    "\n",
    "    # Testing\n",
    "    # Put the model in eval mode\n",
    "    model_1.eval()\n",
    "    test_loss = 0\n",
    "    test_acc = 0\n",
    "    with torch.inference_mode():\n",
    "        for X_test, y_test in test_dataloader:\n",
    "            test_pred = model_1.forward(X_test) # this return logits as output\n",
    "            test_loss += loss_fn(test_pred, y_test) \n",
    "            test_acc += accuracy_fn(y_test, test_pred.argmax(dim = 1)) # as we should pass the labels, from logits we are doing argmax and extracting the highest arg\n",
    "\n",
    "    # after every epoch, the train loss will be accumulated by with previous epoch train loss, so we need to average it with len of samples\n",
    "        test_loss /= len(test_dataloader)\n",
    "        test_acc /= len(test_dataloader)\n",
    "\n",
    "    print(f\"Train Loss: {train_loss:.4f} ,  Test Loss: {test_loss:.4f} ,  Test Accuracy: {test_acc:.4f}\")\n",
    "\n",
    "# Calculate the training time\n",
    "train_end_timer = timer()\n",
    "start_end_timer_tracker(start = train_start_timer,\n",
    "                       end = train_end_timer,\n",
    "                       device = str(next(model_1.parameters()).device))"
   ]
  },
  {
   "cell_type": "markdown",
   "id": "f4a0784e-09eb-469a-9fd1-6210bab81629",
   "metadata": {},
   "source": [
    "### Creating Evaluation Function"
   ]
  },
  {
   "cell_type": "code",
   "execution_count": 221,
   "id": "80f46bca-4ef7-45ee-90e5-9ce34deeb6d1",
   "metadata": {},
   "outputs": [],
   "source": [
    "torch.manual_seed(95)\n",
    "\n",
    "def eval_model(model:torch.nn.Module,\n",
    "              data_loader:torch.utils.data.DataLoader,\n",
    "              loss_fn:torch.nn.Module,\n",
    "              accuracy_fn):\n",
    "    \"\"\"Returns a dictionary containing the results of the model predicting on Data Loader\"\"\"\n",
    "\n",
    "    loss, accuracy = 0, 0\n",
    "    model.eval()\n",
    "    with torch.inference_mode():\n",
    "        \n",
    "        for X, y in tqdm(data_loader):\n",
    "\n",
    "            # Accumulating the Loss and Accuracy over batches\n",
    "            y_preds = model.forward(X)\n",
    "            loss += loss_fn(y_preds, y)\n",
    "            accuracy += accuracy_fn(y_true = y,\n",
    "                                  y_pred = y_preds.argmax(dim = 1))\n",
    "\n",
    "            # Scaling the Loss and Accuracy\n",
    "        loss /= len(data_loader)\n",
    "        accuracy /= len(data_loader)\n",
    "\n",
    "        return{\"Model Name\" : model.__class__.__name__,# only works when model is created using class\n",
    "                \"Model Loss\" : loss.item(),\n",
    "                \"Model Accuracy\" : accuracy}\n",
    "            "
   ]
  },
  {
   "cell_type": "code",
   "execution_count": 222,
   "id": "094230ab-ee84-4758-9a6c-4e28c6212855",
   "metadata": {},
   "outputs": [
    {
     "data": {
      "application/vnd.jupyter.widget-view+json": {
       "model_id": "c84248eba14e48cf972117de4876d15a",
       "version_major": 2,
       "version_minor": 0
      },
      "text/plain": [
       "  0%|          | 0/250 [00:00<?, ?it/s]"
      ]
     },
     "metadata": {},
     "output_type": "display_data"
    }
   ],
   "source": [
    "model_1_results = eval_model(model=model_1,\n",
    "                              data_loader=test_dataloader,\n",
    "                              loss_fn = loss_fn,\n",
    "                              accuracy_fn= accuracy_fn)"
   ]
  },
  {
   "cell_type": "code",
   "execution_count": 223,
   "id": "001bbe73-efc3-4143-b433-8a75b1f88b08",
   "metadata": {},
   "outputs": [
    {
     "data": {
      "text/plain": [
       "{'Model Name': 'FashionMnistModel_0',\n",
       " 'Model Loss': 0.4488147497177124,\n",
       " 'Model Accuracy': 84.18}"
      ]
     },
     "execution_count": 223,
     "metadata": {},
     "output_type": "execute_result"
    }
   ],
   "source": [
    "model_1_results"
   ]
  },
  {
   "cell_type": "code",
   "execution_count": 224,
   "id": "9f6f5425-ca54-4b05-8be0-8422a6f89838",
   "metadata": {},
   "outputs": [],
   "source": [
    "device = \"cuda\" if torch.cuda.is_available() else \"cpu\""
   ]
  },
  {
   "cell_type": "code",
   "execution_count": 225,
   "id": "8899f59e-a022-47ae-839e-991784f5d6f8",
   "metadata": {},
   "outputs": [
    {
     "data": {
      "text/plain": [
       "'cpu'"
      ]
     },
     "execution_count": 225,
     "metadata": {},
     "output_type": "execute_result"
    }
   ],
   "source": [
    "device"
   ]
  },
  {
   "cell_type": "markdown",
   "id": "a80e92f2-59e9-4b91-8f59-23a7fffc43c6",
   "metadata": {},
   "source": [
    "## 6. Building a better model using Non-Linearity"
   ]
  },
  {
   "cell_type": "code",
   "execution_count": 226,
   "id": "e1307f23-6c51-4e5b-a068-5cefb778b95f",
   "metadata": {},
   "outputs": [],
   "source": [
    "# Create a model with Non Linearity\n",
    "\n",
    "class FashionMNISTModel_NonLinear(nn.Module):\n",
    "    def __init__(self,\n",
    "                input_shape:int,\n",
    "                output_shape:int,\n",
    "                hidden_units:int):\n",
    "        super().__init__()\n",
    "\n",
    "        self.layer_stack = nn.Sequential(\n",
    "            nn.Flatten(),\n",
    "            nn.Linear(in_features= input_shape,\n",
    "                     out_features=hidden_units),\n",
    "            nn.ReLU(),\n",
    "            nn.Linear(in_features=hidden_units,\n",
    "                     out_features=hidden_units),\n",
    "            nn.ReLU(),\n",
    "             nn.Linear(in_features= hidden_units,\n",
    "                     out_features=hidden_units),\n",
    "            nn.ReLU(),\n",
    "            nn.Linear(in_features=hidden_units,\n",
    "                     out_features=output_shape),\n",
    "        )\n",
    "\n",
    "    def forward(self, x:torch.Tensor):\n",
    "        return self.layer_stack(X)"
   ]
  },
  {
   "cell_type": "code",
   "execution_count": 227,
   "id": "68a77da6-b803-4deb-a369-e3b87acd9c25",
   "metadata": {},
   "outputs": [],
   "source": [
    "model_2 = FashionMNISTModel_NonLinear(input_shape = 784,\n",
    "                                     hidden_units = 50,\n",
    "                                     output_shape = len(class_names)).to(device)"
   ]
  },
  {
   "cell_type": "code",
   "execution_count": 228,
   "id": "20961f67-9a47-478c-a749-df8074eb1a0f",
   "metadata": {},
   "outputs": [],
   "source": [
    "# Creating Loss and Accuracy functions and Optimizer"
   ]
  },
  {
   "cell_type": "code",
   "execution_count": 229,
   "id": "c5d7afb7-5ba4-4a33-9bfa-fca01b3fec6d",
   "metadata": {},
   "outputs": [],
   "source": [
    "loss_fn = nn.CrossEntropyLoss() # Measures how wrong our model is\n",
    "optimizer = torch.optim.SGD(params=model_2.parameters(), \n",
    "                         lr = 0.001) # tries to update the model weights to reduce the loss\n",
    "\n",
    "from helper_functions import accuracy_fn\n"
   ]
  },
  {
   "cell_type": "markdown",
   "id": "e9b242da-2ccb-471c-9ad6-3d2f4673db83",
   "metadata": {},
   "source": [
    "### Functionalizing Training and Evaluation Loops"
   ]
  },
  {
   "cell_type": "code",
   "execution_count": 230,
   "id": "9452c0fb-57b4-4407-b454-f41ab7347dba",
   "metadata": {},
   "outputs": [],
   "source": [
    "def train_step(accuracy_fn,\n",
    "               data_loader:torch.utils.data.DataLoader,\n",
    "               model:torch.nn.Module,\n",
    "               loss_fn: torch.nn.Module,\n",
    "               optimizer: torch.optim.Optimizer,\n",
    "               device: torch.device = device\n",
    "               ):\n",
    "    \"\"\"Performs Training Step on Model trying to learn from dataloader\"\"\"\n",
    "    \n",
    "    training_loss, training_acc = 0, 0\n",
    "    #1. Put the model in training Loop\n",
    "    model.train()\n",
    "\n",
    "    for batch, (X,y) in enumerate(data_loader):\n",
    "        # put data on the target device\n",
    "        X, y = X.to(device), y.to(device)\n",
    "\n",
    "\n",
    "        #2. Do the forward pass\n",
    "        y_preds = model(X)\n",
    "\n",
    "        #3. Calculate the Loss\n",
    "        loss = loss_fn(y_preds, y)\n",
    "        training_loss += loss\n",
    "\n",
    "        training_acc += accuracy_fn(y, y_preds.argmax(dim = 1))\n",
    "\n",
    "        #4. Optimizer Zero Grad\n",
    "        optimizer.zero_grad()\n",
    "\n",
    "        #5. Loss Backward\n",
    "        loss.backward()\n",
    "\n",
    "        #6. Optimizer Step\n",
    "        optimizer.step()\n",
    "\n",
    "    training_loss /= len(data_loader)\n",
    "    training_acc /= len(data_loader)\n",
    "\n",
    "    print(f\"Training Loss :  {training_loss:.5f}  ,    Training Accuracy  :  {training_acc:.2f}%\\n\")\n",
    "        \n",
    "\n",
    "            "
   ]
  },
  {
   "cell_type": "code",
   "execution_count": 231,
   "id": "9254ff4b-3ab9-44fa-9383-b40480a2b3ea",
   "metadata": {},
   "outputs": [],
   "source": [
    "def test_step(accuracy_fn,\n",
    "              model:torch.nn.Module,\n",
    "              data_loader:torch.utils.data.DataLoader,\n",
    "              loss_fn:torch.nn.Module,\n",
    "              device:torch.device=device):\n",
    "    \n",
    "    \"\"\"Performs Testing on the Evaluation Datset on the given Model\"\"\"\n",
    "    testing_loss, testing_acc = 0, 0\n",
    "\n",
    "    model.eval()\n",
    "    with torch.inference_mode():\n",
    "\n",
    "\n",
    "        for i, (X,y) in enumerate(data_loader):\n",
    "            X,y = X.to(device), y.to(device)\n",
    "        \n",
    "            test_preds = model.forward(X)\n",
    "            loss = loss_fn(test_preds, y)\n",
    "            testing_loss += loss\n",
    "            \n",
    "            testing_acc = accuracy_fn(y, test_preds.argmax(dim = 1))\n",
    "            \n",
    "        testing_loss /= len(data_loader)\n",
    "            \n",
    "        testing_acc /= len(data_loader)\n",
    "\n",
    "    print(f\"Testing Loss :  {testing_loss:.4f}  ,  Testing Accuracy  :  {testing_acc:.2f}%\\n\")\n",
    "            "
   ]
  },
  {
   "cell_type": "code",
   "execution_count": 232,
   "id": "56b6a9e3-713a-44d4-ab91-0d836e3577de",
   "metadata": {},
   "outputs": [
    {
     "name": "stdout",
     "output_type": "stream",
     "text": [
      "Requirement already satisfied: tqdm in /opt/anaconda3/lib/python3.11/site-packages (4.65.0)\n",
      "Note: you may need to restart the kernel to use updated packages.\n"
     ]
    }
   ],
   "source": [
    "pip install tqdm"
   ]
  },
  {
   "cell_type": "code",
   "execution_count": 233,
   "id": "304b64c8-e65e-46b6-86f7-db37a262e31f",
   "metadata": {},
   "outputs": [],
   "source": [
    "from tqdm.notebook import tqdm"
   ]
  },
  {
   "cell_type": "code",
   "execution_count": 234,
   "id": "952f8759-8de9-4b35-934f-93aaa9fab2d6",
   "metadata": {},
   "outputs": [
    {
     "data": {
      "application/vnd.jupyter.widget-view+json": {
       "model_id": "1ffad1434cec471681bb1da11ae39653",
       "version_major": 2,
       "version_minor": 0
      },
      "text/plain": [
       "  0%|          | 0/5 [00:00<?, ?it/s]"
      ]
     },
     "metadata": {},
     "output_type": "display_data"
    },
    {
     "name": "stdout",
     "output_type": "stream",
     "text": [
      "The current epoch is 1  \n",
      "---------\n",
      "Training Loss :  2.30451  ,    Training Accuracy  :  10.00%\n",
      "\n",
      "Testing Loss :  2.3042  ,  Testing Accuracy  :  0.03%\n",
      "\n",
      "The current epoch is 2  \n",
      "---------\n",
      "Training Loss :  2.30364  ,    Training Accuracy  :  10.10%\n",
      "\n",
      "Testing Loss :  2.3032  ,  Testing Accuracy  :  0.03%\n",
      "\n",
      "The current epoch is 3  \n",
      "---------\n",
      "Training Loss :  2.30314  ,    Training Accuracy  :  9.81%\n",
      "\n",
      "Testing Loss :  2.3032  ,  Testing Accuracy  :  0.05%\n",
      "\n",
      "The current epoch is 4  \n",
      "---------\n",
      "Training Loss :  2.30306  ,    Training Accuracy  :  9.96%\n",
      "\n",
      "Testing Loss :  2.3028  ,  Testing Accuracy  :  0.04%\n",
      "\n",
      "The current epoch is 5  \n",
      "---------\n",
      "Training Loss :  2.30288  ,    Training Accuracy  :  9.79%\n",
      "\n",
      "Testing Loss :  2.3030  ,  Testing Accuracy  :  0.04%\n",
      "\n",
      "Train time on device : cpu is 43.8547 sec\n"
     ]
    },
    {
     "data": {
      "text/plain": [
       "43.8547063668957"
      ]
     },
     "execution_count": 234,
     "metadata": {},
     "output_type": "execute_result"
    }
   ],
   "source": [
    "# Importing tqdm for progress bar\n",
    "\n",
    "# setting random seed and initiating timer functionality to track the timer\n",
    "torch.manual_seed(95)\n",
    "timer_start = timer()\n",
    "\n",
    "# set the number of epochs. Lets start with smaller number of epochs and build up slowly\n",
    "epochs = 5\n",
    "\n",
    "for epoch in tqdm(range(epochs)):\n",
    "\n",
    "    print(f\"The current epoch is {epoch+1}  \\n---------\")\n",
    "\n",
    "    train_step(accuracy_fn,\n",
    "               model = model_2,\n",
    "               optimizer = optimizer,\n",
    "               data_loader = train_dataloader,\n",
    "               loss_fn = loss_fn)\n",
    "\n",
    "    test_step(accuracy_fn,\n",
    "              model = model_2,\n",
    "              data_loader = test_dataloader,\n",
    "              loss_fn = loss_fn)\n",
    "\n",
    "timer_end = timer()\n",
    "\n",
    "start_end_timer_tracker(start = timer_start,\n",
    "                       end = timer_end,\n",
    "                       device = str(next(model_2.parameters()).device))\n",
    "\n",
    "    "
   ]
  },
  {
   "cell_type": "code",
   "execution_count": 235,
   "id": "66f6b169-6cda-466f-9ee2-9ecee3fd948c",
   "metadata": {},
   "outputs": [],
   "source": [
    "torch.manual_seed(95)\n",
    "\n",
    "def eval_model(model:torch.nn.Module,\n",
    "              data_loader:torch.utils.data.DataLoader,\n",
    "              loss_fn:torch.nn.Module,\n",
    "              accuracy_fn,\n",
    "              device = device):\n",
    "    \"\"\"Returns a dictionary containing the results of the model predicting on Data Loader\"\"\"\n",
    "\n",
    "    loss, accuracy = 0, 0\n",
    "    model.eval()\n",
    "    with torch.inference_mode():\n",
    "        \n",
    "        for X, y in tqdm(data_loader):\n",
    "            # Send data to target device\n",
    "            X, y = X.to(device), y.to(device)\n",
    "\n",
    "            # Accumulating the Loss and Accuracy over batches\n",
    "            y_preds = model.forward(X)\n",
    "            loss += loss_fn(y_preds, y)\n",
    "            accuracy += accuracy_fn(y_true = y,\n",
    "                                  y_pred = y_preds.argmax(dim = 1))\n",
    "\n",
    "            # Scaling the Loss and Accuracy\n",
    "        loss /= len(data_loader)\n",
    "        accuracy /= len(data_loader)\n",
    "\n",
    "        return{\"Model Name\" : model.__class__.__name__,# only works when model is created using class\n",
    "                \"Model Loss\" : loss.item(),\n",
    "                \"Model Accuracy\" : accuracy}\n",
    "            "
   ]
  },
  {
   "cell_type": "markdown",
   "id": "79580080-9a70-498d-82ef-e6bb60f85242",
   "metadata": {},
   "source": [
    "### Model 2: Building a Convolution Neural Network (CNN)"
   ]
  },
  {
   "cell_type": "code",
   "execution_count": 297,
   "id": "da5f5fea-a9f6-49d2-a224-540bc9fce2f2",
   "metadata": {},
   "outputs": [],
   "source": [
    "# Create a Convoluyion Neural Network\n",
    "\n",
    "\n",
    "class FasionMNISTModelV2(nn.Module):\n",
    "\n",
    "    \"\"\"\n",
    "    Model Architecture that replicates the TinyVGG model from CNN explainer page.\n",
    "    \"\"\"\n",
    "    def __init__(self, input_shape: int, hidden_units: int, output_shape: int):\n",
    "        super().__init__()\n",
    "\n",
    "        self.conv_block_1 = nn.Sequential(\n",
    "            nn.Conv2d(in_channels = input_shape,\n",
    "                      out_channels = hidden_units,\n",
    "                      kernel_size = 3,\n",
    "                      stride = 1,\n",
    "                      padding = 1),\n",
    "            nn.ReLU(),\n",
    "            nn.Conv2d(in_channels = hidden_units,\n",
    "                     out_channels = hidden_units,\n",
    "                     kernel_size = 3,\n",
    "                     stride = 1,\n",
    "                     padding = 1),\n",
    "            nn.ReLU(),\n",
    "            nn.MaxPool2d(kernel_size = 2)\n",
    "        )\n",
    "        self.conv_block_2 = nn.Sequential(\n",
    "            nn.Conv2d(in_channels = hidden_units,\n",
    "                     out_channels = hidden_units,\n",
    "                     kernel_size = 3,\n",
    "                     stride = 1,\n",
    "                     padding = 1),\n",
    "            nn.ReLU(),\n",
    "            nn.Conv2d(in_channels = hidden_units,\n",
    "                     out_channels = hidden_units,\n",
    "                     kernel_size = 3,\n",
    "                     stride = 1,\n",
    "                     padding = 1),\n",
    "            nn.ReLU(),\n",
    "            nn.MaxPool2d(kernel_size = 2)\n",
    "        )\n",
    "\n",
    "        self.classifier = nn.Sequential(\n",
    "            nn.Flatten(),\n",
    "            nn.Linear(in_features = hidden_units * 0,# here hidden units will be multiplied with some values\n",
    "                     out_features = output_shape) \n",
    "        )\n",
    "\n",
    "    def forward(self, x):\n",
    "        output = self.conv_block_1(x)\n",
    "        print(output.shape)\n",
    "        output = self.conv_block_2(output)\n",
    "        print(output.shape)\n",
    "        output = self.classifier(output)\n",
    "        return output\n",
    "        "
   ]
  },
  {
   "cell_type": "code",
   "execution_count": 298,
   "id": "3852ea32-7c87-4253-9e04-c1acc52fcbdb",
   "metadata": {},
   "outputs": [],
   "source": [
    "torch.manual_seed(95)\n",
    "modelV2 = FasionMNISTModelV2(input_shape= 1,\n",
    "                            hidden_units = 15,\n",
    "                            output_shape = len(class_names)).to(device)"
   ]
  },
  {
   "cell_type": "markdown",
   "id": "9a333f46-1f1a-48b4-9fd3-1025bb9f920b",
   "metadata": {},
   "source": [
    "#### Stepping through Conv2d by creating a dummy image dataset"
   ]
  },
  {
   "cell_type": "code",
   "execution_count": 262,
   "id": "460a24fe-bea8-454a-ab6a-72d2c6cdce25",
   "metadata": {},
   "outputs": [],
   "source": [
    "torch.manual_seed(95)\n",
    "\n",
    "# creating a dummy image batches\n",
    "dummy_images = torch.rand(size = (32, 3, 64, 64))\n",
    "sample_image = dummy_images[1]"
   ]
  },
  {
   "cell_type": "code",
   "execution_count": 263,
   "id": "79ac26a9-7ca5-425a-a09f-704adc2de0d5",
   "metadata": {},
   "outputs": [
    {
     "data": {
      "text/plain": [
       "(torch.Size([32, 3, 64, 64]), torch.Size([3, 64, 64]))"
      ]
     },
     "execution_count": 263,
     "metadata": {},
     "output_type": "execute_result"
    }
   ],
   "source": [
    "dummy_images.shape, sample_image.shape"
   ]
  },
  {
   "cell_type": "code",
   "execution_count": 264,
   "id": "c8b6efbe-0611-4c6b-a5b6-93dd9a0a28fa",
   "metadata": {},
   "outputs": [
    {
     "data": {
      "text/plain": [
       "tensor([[[8.5623e-01, 5.6219e-01, 6.6506e-01,  ..., 8.6313e-01,\n",
       "          6.1298e-01, 9.4500e-01],\n",
       "         [3.5450e-01, 4.2379e-01, 8.5303e-01,  ..., 3.2563e-01,\n",
       "          1.2933e-01, 4.3251e-02],\n",
       "         [2.1871e-01, 1.2528e-02, 8.5579e-01,  ..., 3.1625e-01,\n",
       "          5.1303e-02, 6.5928e-01],\n",
       "         ...,\n",
       "         [2.5641e-02, 8.6085e-01, 4.1973e-01,  ..., 1.0750e-01,\n",
       "          7.2702e-01, 7.0425e-01],\n",
       "         [1.3803e-01, 5.4124e-02, 7.8174e-01,  ..., 6.2744e-01,\n",
       "          7.1932e-01, 3.6941e-01],\n",
       "         [1.2234e-01, 8.9846e-01, 1.0917e-01,  ..., 1.3139e-01,\n",
       "          4.0660e-01, 9.4266e-01]],\n",
       "\n",
       "        [[1.5962e-02, 5.8184e-01, 3.2709e-01,  ..., 1.0880e-01,\n",
       "          6.5683e-01, 9.4555e-01],\n",
       "         [6.5564e-01, 1.5298e-01, 2.2165e-01,  ..., 5.1151e-01,\n",
       "          4.7790e-02, 4.6466e-01],\n",
       "         [4.6628e-01, 5.3491e-01, 1.3675e-01,  ..., 3.0470e-04,\n",
       "          1.0632e-02, 1.6153e-01],\n",
       "         ...,\n",
       "         [8.2973e-01, 4.0260e-01, 4.2766e-01,  ..., 8.7220e-02,\n",
       "          1.0187e-01, 1.9532e-01],\n",
       "         [3.6516e-01, 8.1566e-01, 3.3908e-01,  ..., 5.7249e-01,\n",
       "          7.1783e-01, 3.7258e-01],\n",
       "         [2.4502e-01, 8.7247e-01, 5.6153e-01,  ..., 9.0090e-01,\n",
       "          4.0336e-01, 6.4650e-01]],\n",
       "\n",
       "        [[4.4444e-01, 8.0341e-02, 5.0799e-01,  ..., 2.6723e-02,\n",
       "          6.9969e-01, 2.2475e-01],\n",
       "         [5.1131e-01, 4.6539e-01, 5.3049e-03,  ..., 9.1534e-01,\n",
       "          8.0899e-01, 3.6079e-01],\n",
       "         [5.3951e-01, 6.2565e-01, 7.4192e-01,  ..., 2.3046e-01,\n",
       "          2.8262e-01, 5.9047e-01],\n",
       "         ...,\n",
       "         [6.8233e-01, 8.2979e-01, 6.7667e-01,  ..., 6.1304e-01,\n",
       "          9.1375e-01, 1.0273e-01],\n",
       "         [8.0623e-01, 6.4424e-01, 1.3675e-01,  ..., 8.2041e-01,\n",
       "          1.3887e-02, 6.6789e-01],\n",
       "         [9.7803e-01, 7.0442e-01, 7.0679e-01,  ..., 5.7231e-01,\n",
       "          6.2551e-01, 3.2070e-01]]])"
      ]
     },
     "execution_count": 264,
     "metadata": {},
     "output_type": "execute_result"
    }
   ],
   "source": [
    "sample_image"
   ]
  },
  {
   "cell_type": "code",
   "execution_count": 265,
   "id": "6a99356b-1f15-433e-a537-fc360d6739f1",
   "metadata": {},
   "outputs": [],
   "source": [
    "# Create a single conv2d layer and passing the sample image through conv2d layer\n",
    "single_conv2d_layer = nn.Conv2d(in_channels = 3,\n",
    "                               out_channels = 10,\n",
    "                               kernel_size = 3,\n",
    "                               stride = 1,\n",
    "                               padding = 1)"
   ]
  },
  {
   "cell_type": "code",
   "execution_count": 266,
   "id": "556025da-14e7-4d3c-bd43-ea6b18585e3e",
   "metadata": {},
   "outputs": [],
   "source": [
    "# passing the dummy images through single conv layer\n",
    "sample_conv_output = single_conv2d_layer(sample_image)"
   ]
  },
  {
   "cell_type": "code",
   "execution_count": 267,
   "id": "0a76d313-1a43-45ff-a046-464bd55892d3",
   "metadata": {},
   "outputs": [
    {
     "data": {
      "text/plain": [
       "torch.Size([10, 64, 64])"
      ]
     },
     "execution_count": 267,
     "metadata": {},
     "output_type": "execute_result"
    }
   ],
   "source": [
    "sample_conv_output.shape"
   ]
  },
  {
   "cell_type": "markdown",
   "id": "f2e3cf54-b960-4ec2-a662-9661d2273b25",
   "metadata": {},
   "source": [
    "### 7.2 Passing the Dummy Imgae through nn.Maxpool2d() Layer"
   ]
  },
  {
   "cell_type": "code",
   "execution_count": 268,
   "id": "98fe3b8c-1661-4f31-b6b7-d57edd14318d",
   "metadata": {},
   "outputs": [
    {
     "data": {
      "text/plain": [
       "torch.Size([3, 64, 64])"
      ]
     },
     "execution_count": 268,
     "metadata": {},
     "output_type": "execute_result"
    }
   ],
   "source": [
    "sample_image.shape"
   ]
  },
  {
   "cell_type": "code",
   "execution_count": 271,
   "id": "d2ad6866-4dca-45e4-b286-ebca058dd5d9",
   "metadata": {},
   "outputs": [],
   "source": [
    "extra_dim_sample_image = sample_image.unsqueeze(0)"
   ]
  },
  {
   "cell_type": "code",
   "execution_count": 277,
   "id": "31c9ed0f-292c-4590-b94d-479bca8567c0",
   "metadata": {},
   "outputs": [
    {
     "name": "stdout",
     "output_type": "stream",
     "text": [
      "The original image shape without unsqueezing it is torch.Size([3, 64, 64])\n",
      "The original image shape after adding one more dimension: torch.Size([1, 3, 64, 64])\n",
      "\n",
      "The shape of the sample image through convolution layer is torch.Size([1, 10, 64, 64])\n",
      "\n",
      "The shape of the sample image through Maxpool layer is torch.Size([1, 10, 32, 32])\n"
     ]
    }
   ],
   "source": [
    "# The original image shape without unsqueezing it\n",
    "print(f\"The original image shape without unsqueezing it is {sample_image.shape}\")\n",
    "print(f\"The original image shape after adding one more dimension: {extra_dim_sample_image.shape}\")\n",
    "\n",
    "# Create a sample Maxpool layer\n",
    "sample_max_pool_layer = nn.MaxPool2d(kernel_size=2)\n",
    "\n",
    "# Pass the sample image through Conv layer\n",
    "sample_image_into_convl_layer = single_conv2d_layer(extra_dim_sample_image)\n",
    "print(f\"\\nThe shape of the sample image through convolution layer is {sample_image_into_convl_layer.shape}\")\n",
    "\n",
    "# Now pass the sample image through the Maxpool Layer\n",
    "sample_image_through_max_pool_layer = sample_max_pool_layer(sample_image_into_convl_layer)\n",
    "print(f\"\\nThe shape of the sample image through Maxpool layer is {sample_image_through_max_pool_layer.shape}\")"
   ]
  },
  {
   "cell_type": "markdown",
   "id": "dd4a22ce-2323-4db1-a6af-80b413797b7d",
   "metadata": {},
   "source": [
    "### Passing a sample image tensor through conv layer and then to maxpool layer"
   ]
  },
  {
   "cell_type": "code",
   "execution_count": 278,
   "id": "e890c9e0-94f4-4697-b930-ae956f26155b",
   "metadata": {},
   "outputs": [],
   "source": [
    "torch.manual_seed(95)\n",
    "\n",
    "# Creating a random tensor with similar dimensions of our image\n",
    "sample_image_tensor = torch.rand(size = (1,1,2,2))"
   ]
  },
  {
   "cell_type": "code",
   "execution_count": 280,
   "id": "e569e36f-97c3-4d59-8382-66e700c39673",
   "metadata": {},
   "outputs": [
    {
     "name": "stdout",
     "output_type": "stream",
     "text": [
      "tensor([[[[0.5737, 0.1411],\n",
      "          [0.8161, 0.8392]]]])\n",
      "The shape of sample image tensor is torch.Size([1, 1, 2, 2])\n"
     ]
    }
   ],
   "source": [
    "print(sample_image_tensor)\n",
    "print(f\"The shape of sample image tensor is {sample_image_tensor.shape}\")"
   ]
  },
  {
   "cell_type": "code",
   "execution_count": 283,
   "id": "0b7af188-616e-47c2-9458-87ef3db4b11b",
   "metadata": {},
   "outputs": [],
   "source": [
    "# Create a sample Max pool layer\n",
    "sample_max_pool_layer = nn.MaxPool2d(kernel_size= 2)\n",
    "sample_image_through_max_pool = sample_max_pool_layer(sample_image_tensor)"
   ]
  },
  {
   "cell_type": "code",
   "execution_count": 285,
   "id": "fd31b647-f84c-4b85-950d-3cd0a64ad03c",
   "metadata": {},
   "outputs": [
    {
     "name": "stdout",
     "output_type": "stream",
     "text": [
      "Max pool tensor : tensor([[[[0.8392]]]])\n",
      "Max pool Tensor shape is torch.Size([1, 1, 1, 1])\n"
     ]
    }
   ],
   "source": [
    "print(f\"Max pool tensor : {sample_image_through_max_pool}\")\n",
    "print(f\"Max pool Tensor shape is {sample_image_through_max_pool.shape}\")"
   ]
  },
  {
   "cell_type": "markdown",
   "id": "8a9c2796-2464-4688-906c-705871046df3",
   "metadata": {},
   "source": [
    "## Tricks to Tackle Shape Mismatches at Input and Output of each Blocks"
   ]
  },
  {
   "cell_type": "code",
   "execution_count": 324,
   "id": "a200417b-aebe-4c7b-9cf1-acc336701243",
   "metadata": {},
   "outputs": [],
   "source": [
    "# Create a Convoluyion Neural Network\n",
    "\n",
    "\n",
    "class FashionMNISTModelV2(nn.Module):\n",
    "\n",
    "    \"\"\"\n",
    "    Model Architecture that replicates the TinyVGG model from CNN explainer page.\n",
    "    \"\"\"\n",
    "    def __init__(self, input_shape: int, hidden_units: int, output_shape: int):\n",
    "        super().__init__()\n",
    "\n",
    "        self.conv_block_1 = nn.Sequential(\n",
    "            nn.Conv2d(in_channels = input_shape,\n",
    "                      out_channels = hidden_units,\n",
    "                      kernel_size = 3,\n",
    "                      stride = 1,\n",
    "                      padding = 1),\n",
    "            nn.ReLU(),\n",
    "            nn.Conv2d(in_channels = hidden_units,\n",
    "                     out_channels = hidden_units,\n",
    "                     kernel_size = 3,\n",
    "                     stride = 1,\n",
    "                     padding = 1),\n",
    "            nn.ReLU(),\n",
    "            nn.MaxPool2d(kernel_size = 2)\n",
    "        )\n",
    "        self.conv_block_2 = nn.Sequential(\n",
    "            nn.Conv2d(in_channels = hidden_units,\n",
    "                     out_channels = hidden_units,\n",
    "                     kernel_size = 3,\n",
    "                     stride = 1,\n",
    "                     padding = 1),\n",
    "            nn.ReLU(),\n",
    "            nn.Conv2d(in_channels = hidden_units,\n",
    "                     out_channels = hidden_units,\n",
    "                     kernel_size = 3,\n",
    "                     stride = 1,\n",
    "                     padding = 1),\n",
    "            nn.ReLU(),\n",
    "            nn.MaxPool2d(kernel_size = 2)\n",
    "        )\n",
    "\n",
    "        self.classifier = nn.Sequential(\n",
    "            nn.Flatten(),\n",
    "            nn.Linear(in_features = hidden_units,# here hidden units will be multiplied with some values\n",
    "                     out_features = output_shape) \n",
    "        )\n",
    "\n",
    "    def forward(self, x):\n",
    "        x = self.conv_block_1(x)\n",
    "        print(x.shape)\n",
    "        x = self.conv_block_2(x)\n",
    "        print(x.shape)\n",
    "        x = self.classifier(x)\n",
    "        return x"
   ]
  },
  {
   "cell_type": "code",
   "execution_count": 331,
   "id": "11a6422b-d9d5-4802-9c19-5ffbbc8b1600",
   "metadata": {},
   "outputs": [],
   "source": [
    "modelV2 = FashionMNISTModelV2(input_shape= 1,\n",
    "                            output_shape = len(class_names),\n",
    "                            hidden_units = 15).to(device)"
   ]
  },
  {
   "cell_type": "code",
   "execution_count": 332,
   "id": "92ec1030-b934-415f-a11e-8e27904a06b3",
   "metadata": {},
   "outputs": [],
   "source": [
    "# Checking a sample from the train features batch"
   ]
  },
  {
   "cell_type": "code",
   "execution_count": 333,
   "id": "e73f9f52-db73-48f8-a1e6-b0983f7c913e",
   "metadata": {},
   "outputs": [
    {
     "data": {
      "text/plain": [
       "(-0.5, 27.5, 27.5, -0.5)"
      ]
     },
     "execution_count": 333,
     "metadata": {},
     "output_type": "execute_result"
    },
    {
     "data": {
      "image/png": "[encoded data removed]",
      "text/plain": [
       "<Figure size 640x480 with 1 Axes>"
      ]
     },
     "metadata": {},
     "output_type": "display_data"
    }
   ],
   "source": [
    "random_index = torch.randint(0, len(train_features_batch), size = [1]).item()\n",
    "image, label = train_features_batch[random_index], train_labels_batch[random_index]\n",
    "plt.imshow(image.squeeze(), cmap = \"grey\")\n",
    "plt.title(class_names[label])\n",
    "plt.axis(False)"
   ]
  },
  {
   "cell_type": "code",
   "execution_count": 334,
   "id": "6e1ef49e-4d85-42b7-a42e-075aa6c54620",
   "metadata": {},
   "outputs": [
    {
     "name": "stdout",
     "output_type": "stream",
     "text": [
      "torch.Size([1, 28, 28])\n"
     ]
    }
   ],
   "source": [
    "print(image.shape)"
   ]
  },
  {
   "cell_type": "code",
   "execution_count": 335,
   "id": "044c9950-0be1-4791-96d8-a44bb037bac5",
   "metadata": {},
   "outputs": [],
   "source": [
    "# Now we are going to pass this sample image through our model as sample and check if there are any shape mismatches"
   ]
  },
  {
   "cell_type": "code",
   "execution_count": 336,
   "id": "0d2b27d5-e5eb-4596-8297-7042bf4b8cf6",
   "metadata": {
    "scrolled": true
   },
   "outputs": [
    {
     "name": "stdout",
     "output_type": "stream",
     "text": [
      "torch.Size([1, 15, 14, 14])\n",
      "torch.Size([1, 15, 7, 7])\n"
     ]
    },
    {
     "ename": "RuntimeError",
     "evalue": "mat1 and mat2 shapes cannot be multiplied (1x735 and 15x10)",
     "output_type": "error",
     "traceback": [
      "\u001b[0;31m---------------------------------------------------------------------------\u001b[0m",
      "\u001b[0;31mRuntimeError\u001b[0m                              Traceback (most recent call last)",
      "Cell \u001b[0;32mIn[336], line 1\u001b[0m\n\u001b[0;32m----> 1\u001b[0m modelV2(image\u001b[38;5;241m.\u001b[39munsqueeze(\u001b[38;5;241m0\u001b[39m)\u001b[38;5;241m.\u001b[39mto(device))\n",
      "File \u001b[0;32m/opt/anaconda3/lib/python3.11/site-packages/torch/nn/modules/module.py:1511\u001b[0m, in \u001b[0;36mModule._wrapped_call_impl\u001b[0;34m(self, *args, **kwargs)\u001b[0m\n\u001b[1;32m   1509\u001b[0m     \u001b[38;5;28;01mreturn\u001b[39;00m \u001b[38;5;28mself\u001b[39m\u001b[38;5;241m.\u001b[39m_compiled_call_impl(\u001b[38;5;241m*\u001b[39margs, \u001b[38;5;241m*\u001b[39m\u001b[38;5;241m*\u001b[39mkwargs)  \u001b[38;5;66;03m# type: ignore[misc]\u001b[39;00m\n\u001b[1;32m   1510\u001b[0m \u001b[38;5;28;01melse\u001b[39;00m:\n\u001b[0;32m-> 1511\u001b[0m     \u001b[38;5;28;01mreturn\u001b[39;00m \u001b[38;5;28mself\u001b[39m\u001b[38;5;241m.\u001b[39m_call_impl(\u001b[38;5;241m*\u001b[39margs, \u001b[38;5;241m*\u001b[39m\u001b[38;5;241m*\u001b[39mkwargs)\n",
      "File \u001b[0;32m/opt/anaconda3/lib/python3.11/site-packages/torch/nn/modules/module.py:1520\u001b[0m, in \u001b[0;36mModule._call_impl\u001b[0;34m(self, *args, **kwargs)\u001b[0m\n\u001b[1;32m   1515\u001b[0m \u001b[38;5;66;03m# If we don't have any hooks, we want to skip the rest of the logic in\u001b[39;00m\n\u001b[1;32m   1516\u001b[0m \u001b[38;5;66;03m# this function, and just call forward.\u001b[39;00m\n\u001b[1;32m   1517\u001b[0m \u001b[38;5;28;01mif\u001b[39;00m \u001b[38;5;129;01mnot\u001b[39;00m (\u001b[38;5;28mself\u001b[39m\u001b[38;5;241m.\u001b[39m_backward_hooks \u001b[38;5;129;01mor\u001b[39;00m \u001b[38;5;28mself\u001b[39m\u001b[38;5;241m.\u001b[39m_backward_pre_hooks \u001b[38;5;129;01mor\u001b[39;00m \u001b[38;5;28mself\u001b[39m\u001b[38;5;241m.\u001b[39m_forward_hooks \u001b[38;5;129;01mor\u001b[39;00m \u001b[38;5;28mself\u001b[39m\u001b[38;5;241m.\u001b[39m_forward_pre_hooks\n\u001b[1;32m   1518\u001b[0m         \u001b[38;5;129;01mor\u001b[39;00m _global_backward_pre_hooks \u001b[38;5;129;01mor\u001b[39;00m _global_backward_hooks\n\u001b[1;32m   1519\u001b[0m         \u001b[38;5;129;01mor\u001b[39;00m _global_forward_hooks \u001b[38;5;129;01mor\u001b[39;00m _global_forward_pre_hooks):\n\u001b[0;32m-> 1520\u001b[0m     \u001b[38;5;28;01mreturn\u001b[39;00m forward_call(\u001b[38;5;241m*\u001b[39margs, \u001b[38;5;241m*\u001b[39m\u001b[38;5;241m*\u001b[39mkwargs)\n\u001b[1;32m   1522\u001b[0m \u001b[38;5;28;01mtry\u001b[39;00m:\n\u001b[1;32m   1523\u001b[0m     result \u001b[38;5;241m=\u001b[39m \u001b[38;5;28;01mNone\u001b[39;00m\n",
      "Cell \u001b[0;32mIn[324], line 54\u001b[0m, in \u001b[0;36mFashionMNISTModelV2.forward\u001b[0;34m(self, x)\u001b[0m\n\u001b[1;32m     52\u001b[0m x \u001b[38;5;241m=\u001b[39m \u001b[38;5;28mself\u001b[39m\u001b[38;5;241m.\u001b[39mconv_block_2(x)\n\u001b[1;32m     53\u001b[0m \u001b[38;5;28mprint\u001b[39m(x\u001b[38;5;241m.\u001b[39mshape)\n\u001b[0;32m---> 54\u001b[0m x \u001b[38;5;241m=\u001b[39m \u001b[38;5;28mself\u001b[39m\u001b[38;5;241m.\u001b[39mclassifier(x)\n\u001b[1;32m     55\u001b[0m \u001b[38;5;28;01mreturn\u001b[39;00m x\n",
      "File \u001b[0;32m/opt/anaconda3/lib/python3.11/site-packages/torch/nn/modules/module.py:1511\u001b[0m, in \u001b[0;36mModule._wrapped_call_impl\u001b[0;34m(self, *args, **kwargs)\u001b[0m\n\u001b[1;32m   1509\u001b[0m     \u001b[38;5;28;01mreturn\u001b[39;00m \u001b[38;5;28mself\u001b[39m\u001b[38;5;241m.\u001b[39m_compiled_call_impl(\u001b[38;5;241m*\u001b[39margs, \u001b[38;5;241m*\u001b[39m\u001b[38;5;241m*\u001b[39mkwargs)  \u001b[38;5;66;03m# type: ignore[misc]\u001b[39;00m\n\u001b[1;32m   1510\u001b[0m \u001b[38;5;28;01melse\u001b[39;00m:\n\u001b[0;32m-> 1511\u001b[0m     \u001b[38;5;28;01mreturn\u001b[39;00m \u001b[38;5;28mself\u001b[39m\u001b[38;5;241m.\u001b[39m_call_impl(\u001b[38;5;241m*\u001b[39margs, \u001b[38;5;241m*\u001b[39m\u001b[38;5;241m*\u001b[39mkwargs)\n",
      "File \u001b[0;32m/opt/anaconda3/lib/python3.11/site-packages/torch/nn/modules/module.py:1520\u001b[0m, in \u001b[0;36mModule._call_impl\u001b[0;34m(self, *args, **kwargs)\u001b[0m\n\u001b[1;32m   1515\u001b[0m \u001b[38;5;66;03m# If we don't have any hooks, we want to skip the rest of the logic in\u001b[39;00m\n\u001b[1;32m   1516\u001b[0m \u001b[38;5;66;03m# this function, and just call forward.\u001b[39;00m\n\u001b[1;32m   1517\u001b[0m \u001b[38;5;28;01mif\u001b[39;00m \u001b[38;5;129;01mnot\u001b[39;00m (\u001b[38;5;28mself\u001b[39m\u001b[38;5;241m.\u001b[39m_backward_hooks \u001b[38;5;129;01mor\u001b[39;00m \u001b[38;5;28mself\u001b[39m\u001b[38;5;241m.\u001b[39m_backward_pre_hooks \u001b[38;5;129;01mor\u001b[39;00m \u001b[38;5;28mself\u001b[39m\u001b[38;5;241m.\u001b[39m_forward_hooks \u001b[38;5;129;01mor\u001b[39;00m \u001b[38;5;28mself\u001b[39m\u001b[38;5;241m.\u001b[39m_forward_pre_hooks\n\u001b[1;32m   1518\u001b[0m         \u001b[38;5;129;01mor\u001b[39;00m _global_backward_pre_hooks \u001b[38;5;129;01mor\u001b[39;00m _global_backward_hooks\n\u001b[1;32m   1519\u001b[0m         \u001b[38;5;129;01mor\u001b[39;00m _global_forward_hooks \u001b[38;5;129;01mor\u001b[39;00m _global_forward_pre_hooks):\n\u001b[0;32m-> 1520\u001b[0m     \u001b[38;5;28;01mreturn\u001b[39;00m forward_call(\u001b[38;5;241m*\u001b[39margs, \u001b[38;5;241m*\u001b[39m\u001b[38;5;241m*\u001b[39mkwargs)\n\u001b[1;32m   1522\u001b[0m \u001b[38;5;28;01mtry\u001b[39;00m:\n\u001b[1;32m   1523\u001b[0m     result \u001b[38;5;241m=\u001b[39m \u001b[38;5;28;01mNone\u001b[39;00m\n",
      "File \u001b[0;32m/opt/anaconda3/lib/python3.11/site-packages/torch/nn/modules/container.py:217\u001b[0m, in \u001b[0;36mSequential.forward\u001b[0;34m(self, input)\u001b[0m\n\u001b[1;32m    215\u001b[0m \u001b[38;5;28;01mdef\u001b[39;00m \u001b[38;5;21mforward\u001b[39m(\u001b[38;5;28mself\u001b[39m, \u001b[38;5;28minput\u001b[39m):\n\u001b[1;32m    216\u001b[0m     \u001b[38;5;28;01mfor\u001b[39;00m module \u001b[38;5;129;01min\u001b[39;00m \u001b[38;5;28mself\u001b[39m:\n\u001b[0;32m--> 217\u001b[0m         \u001b[38;5;28minput\u001b[39m \u001b[38;5;241m=\u001b[39m module(\u001b[38;5;28minput\u001b[39m)\n\u001b[1;32m    218\u001b[0m     \u001b[38;5;28;01mreturn\u001b[39;00m \u001b[38;5;28minput\u001b[39m\n",
      "File \u001b[0;32m/opt/anaconda3/lib/python3.11/site-packages/torch/nn/modules/module.py:1511\u001b[0m, in \u001b[0;36mModule._wrapped_call_impl\u001b[0;34m(self, *args, **kwargs)\u001b[0m\n\u001b[1;32m   1509\u001b[0m     \u001b[38;5;28;01mreturn\u001b[39;00m \u001b[38;5;28mself\u001b[39m\u001b[38;5;241m.\u001b[39m_compiled_call_impl(\u001b[38;5;241m*\u001b[39margs, \u001b[38;5;241m*\u001b[39m\u001b[38;5;241m*\u001b[39mkwargs)  \u001b[38;5;66;03m# type: ignore[misc]\u001b[39;00m\n\u001b[1;32m   1510\u001b[0m \u001b[38;5;28;01melse\u001b[39;00m:\n\u001b[0;32m-> 1511\u001b[0m     \u001b[38;5;28;01mreturn\u001b[39;00m \u001b[38;5;28mself\u001b[39m\u001b[38;5;241m.\u001b[39m_call_impl(\u001b[38;5;241m*\u001b[39margs, \u001b[38;5;241m*\u001b[39m\u001b[38;5;241m*\u001b[39mkwargs)\n",
      "File \u001b[0;32m/opt/anaconda3/lib/python3.11/site-packages/torch/nn/modules/module.py:1520\u001b[0m, in \u001b[0;36mModule._call_impl\u001b[0;34m(self, *args, **kwargs)\u001b[0m\n\u001b[1;32m   1515\u001b[0m \u001b[38;5;66;03m# If we don't have any hooks, we want to skip the rest of the logic in\u001b[39;00m\n\u001b[1;32m   1516\u001b[0m \u001b[38;5;66;03m# this function, and just call forward.\u001b[39;00m\n\u001b[1;32m   1517\u001b[0m \u001b[38;5;28;01mif\u001b[39;00m \u001b[38;5;129;01mnot\u001b[39;00m (\u001b[38;5;28mself\u001b[39m\u001b[38;5;241m.\u001b[39m_backward_hooks \u001b[38;5;129;01mor\u001b[39;00m \u001b[38;5;28mself\u001b[39m\u001b[38;5;241m.\u001b[39m_backward_pre_hooks \u001b[38;5;129;01mor\u001b[39;00m \u001b[38;5;28mself\u001b[39m\u001b[38;5;241m.\u001b[39m_forward_hooks \u001b[38;5;129;01mor\u001b[39;00m \u001b[38;5;28mself\u001b[39m\u001b[38;5;241m.\u001b[39m_forward_pre_hooks\n\u001b[1;32m   1518\u001b[0m         \u001b[38;5;129;01mor\u001b[39;00m _global_backward_pre_hooks \u001b[38;5;129;01mor\u001b[39;00m _global_backward_hooks\n\u001b[1;32m   1519\u001b[0m         \u001b[38;5;129;01mor\u001b[39;00m _global_forward_hooks \u001b[38;5;129;01mor\u001b[39;00m _global_forward_pre_hooks):\n\u001b[0;32m-> 1520\u001b[0m     \u001b[38;5;28;01mreturn\u001b[39;00m forward_call(\u001b[38;5;241m*\u001b[39margs, \u001b[38;5;241m*\u001b[39m\u001b[38;5;241m*\u001b[39mkwargs)\n\u001b[1;32m   1522\u001b[0m \u001b[38;5;28;01mtry\u001b[39;00m:\n\u001b[1;32m   1523\u001b[0m     result \u001b[38;5;241m=\u001b[39m \u001b[38;5;28;01mNone\u001b[39;00m\n",
      "File \u001b[0;32m/opt/anaconda3/lib/python3.11/site-packages/torch/nn/modules/linear.py:116\u001b[0m, in \u001b[0;36mLinear.forward\u001b[0;34m(self, input)\u001b[0m\n\u001b[1;32m    115\u001b[0m \u001b[38;5;28;01mdef\u001b[39;00m \u001b[38;5;21mforward\u001b[39m(\u001b[38;5;28mself\u001b[39m, \u001b[38;5;28minput\u001b[39m: Tensor) \u001b[38;5;241m-\u001b[39m\u001b[38;5;241m>\u001b[39m Tensor:\n\u001b[0;32m--> 116\u001b[0m     \u001b[38;5;28;01mreturn\u001b[39;00m F\u001b[38;5;241m.\u001b[39mlinear(\u001b[38;5;28minput\u001b[39m, \u001b[38;5;28mself\u001b[39m\u001b[38;5;241m.\u001b[39mweight, \u001b[38;5;28mself\u001b[39m\u001b[38;5;241m.\u001b[39mbias)\n",
      "\u001b[0;31mRuntimeError\u001b[0m: mat1 and mat2 shapes cannot be multiplied (1x735 and 15x10)"
     ]
    }
   ],
   "source": [
    "modelV2(image.unsqueeze(0).to(device))"
   ]
  },
  {
   "cell_type": "raw",
   "id": "a7ff42d5-9130-4352-b368-fa2b8e8a85ad",
   "metadata": {},
   "source": [
    "1. Here we are able to see that at conv block 1, the output shape is  - torch.Size([1, 15, 14, 14]) as it got passed into one conv_block1 which contains 1 convolution layer and 1 Maxpool layer. The input shape to the next layer will be 15 *14 *14\n",
    "2. At the output of conv_block2 which contains 1 convolution layer and 1 Maxpool Layer. The output shape is  torch.Size([1, 15, 7, 7]).\n",
    "3. Now when the input passes both Block 1 Block 2, the input passed without any shape errors.\n",
    "4. However  -  self.classifier = nn.Sequential(\n",
    "            nn.Flatten(),\n",
    "            nn.Linear(in_features = hidden_units,# here hidden units will be multiplied with some values\n",
    "                     out_features = output_shape) \n",
    "5. In the classifier layer, first the input is going through a Flatten layer where the input is getting flattened which is the shape will be 15*7*7. This is the same shape which we have to give at the next layer INPUT which is the hidden_features in the Linear Layer in the classifier block, Then there will not be any shape mismatches"
   ]
  },
  {
   "cell_type": "code",
   "execution_count": 347,
   "id": "8764f3e4-2de1-431e-b141-910e07149671",
   "metadata": {},
   "outputs": [],
   "source": [
    "# Create a Convoluyion Neural Network\n",
    "\n",
    "\n",
    "class FashionMNISTModelV3(nn.Module):\n",
    "\n",
    "    \"\"\"\n",
    "    Model Architecture that replicates the TinyVGG model from CNN explainer page.\n",
    "    \"\"\"\n",
    "    def __init__(self, input_shape: int, hidden_units: int, output_shape: int):\n",
    "        super().__init__()\n",
    "\n",
    "        self.conv_block_1 = nn.Sequential(\n",
    "            nn.Conv2d(in_channels = input_shape,\n",
    "                      out_channels = hidden_units,\n",
    "                      kernel_size = 3,\n",
    "                      stride = 1,\n",
    "                      padding = 1),\n",
    "            nn.ReLU(),\n",
    "            nn.Conv2d(in_channels = hidden_units,\n",
    "                     out_channels = hidden_units,\n",
    "                     kernel_size = 3,\n",
    "                     stride = 1,\n",
    "                     padding = 1),\n",
    "            nn.ReLU(),\n",
    "            nn.MaxPool2d(kernel_size = 2)\n",
    "        )\n",
    "        self.conv_block_2 = nn.Sequential(\n",
    "            nn.Conv2d(in_channels = hidden_units,\n",
    "                     out_channels = hidden_units,\n",
    "                     kernel_size = 3,\n",
    "                     stride = 1,\n",
    "                     padding = 1),\n",
    "            nn.ReLU(),\n",
    "            nn.Conv2d(in_channels = hidden_units,\n",
    "                     out_channels = hidden_units,\n",
    "                     kernel_size = 3,\n",
    "                     stride = 1,\n",
    "                     padding = 1),\n",
    "            nn.ReLU(),\n",
    "            nn.MaxPool2d(kernel_size = 2)\n",
    "        )\n",
    "\n",
    "        self.classifier = nn.Sequential(\n",
    "            nn.Flatten(),\n",
    "            nn.Linear(in_features = hidden_units*7*7,# here hidden units will be multiplied with some values\n",
    "                     out_features = output_shape) \n",
    "        )\n",
    "\n",
    "    def forward(self, x):\n",
    "        x = self.conv_block_1(x)\n",
    "        #print(x.shape)\n",
    "        x = self.conv_block_2(x)\n",
    "        #print(x.shape)\n",
    "        x = self.classifier(x)\n",
    "        return x"
   ]
  },
  {
   "cell_type": "code",
   "execution_count": 353,
   "id": "95dc67d0-c9bf-479a-944b-3f09ea18d643",
   "metadata": {},
   "outputs": [],
   "source": [
    "modelV3 = FashionMNISTModelV3(input_shape=1,\n",
    "                             hidden_units=10,\n",
    "                             output_shape=len(class_names)).to(device)"
   ]
  },
  {
   "cell_type": "code",
   "execution_count": 354,
   "id": "e4b8bdd1-c85a-4142-9d54-8b1972626930",
   "metadata": {},
   "outputs": [
    {
     "data": {
      "text/plain": [
       "tensor([[ 0.0298, -0.0024,  0.0189,  0.0375, -0.0418,  0.0161,  0.0043,  0.0173,\n",
       "         -0.0217, -0.0323]], grad_fn=<AddmmBackward0>)"
      ]
     },
     "execution_count": 354,
     "metadata": {},
     "output_type": "execute_result"
    }
   ],
   "source": [
    "modelV3(image.unsqueeze(0)).to(device)"
   ]
  },
  {
   "cell_type": "markdown",
   "id": "23722c9d-13fe-44dd-a4b5-d7f982845a12",
   "metadata": {},
   "source": [
    "### 7.3 Setup Loss Function and Optimizer for Model V3"
   ]
  },
  {
   "cell_type": "code",
   "execution_count": 355,
   "id": "49702c14-2003-441b-b091-d6e2a79030d3",
   "metadata": {},
   "outputs": [],
   "source": [
    "from helper_functions import accuracy_fn\n",
    "\n",
    "loss_fn = nn.CrossEntropyLoss()\n",
    "optimizer = torch.optim.SGD(params = modelV3.parameters(),\n",
    "                           lr = 0.1)"
   ]
  },
  {
   "cell_type": "markdown",
   "id": "cafd9173-4924-4dd3-a9b7-190f015f524b",
   "metadata": {},
   "source": [
    "### Training and Testing Using Model_V3 using the train_step and test_step functions"
   ]
  },
  {
   "cell_type": "code",
   "execution_count": 356,
   "id": "c8c9494d-c53a-4beb-9f11-88abd9aeaa44",
   "metadata": {},
   "outputs": [
    {
     "data": {
      "application/vnd.jupyter.widget-view+json": {
       "model_id": "41c6c2f5694f4e2c9c141c8cce8cdec8",
       "version_major": 2,
       "version_minor": 0
      },
      "text/plain": [
       "  0%|          | 0/5 [00:00<?, ?it/s]"
      ]
     },
     "metadata": {},
     "output_type": "display_data"
    },
    {
     "name": "stdout",
     "output_type": "stream",
     "text": [
      "Epoch 0 -------\n",
      "\n",
      "Training Loss :  0.58826  ,    Training Accuracy  :  78.87%\n",
      "\n",
      "Testing Loss :  0.4022  ,  Testing Accuracy  :  0.34%\n",
      "\n",
      "Epoch 1 -------\n",
      "\n",
      "Training Loss :  0.36122  ,    Training Accuracy  :  86.92%\n",
      "\n",
      "Testing Loss :  0.3603  ,  Testing Accuracy  :  0.36%\n",
      "\n",
      "Epoch 2 -------\n",
      "\n",
      "Training Loss :  0.32661  ,    Training Accuracy  :  88.32%\n",
      "\n",
      "Testing Loss :  0.3431  ,  Testing Accuracy  :  0.34%\n",
      "\n",
      "Epoch 3 -------\n",
      "\n",
      "Training Loss :  0.30639  ,    Training Accuracy  :  88.89%\n",
      "\n",
      "Testing Loss :  0.3265  ,  Testing Accuracy  :  0.35%\n",
      "\n",
      "Epoch 4 -------\n",
      "\n",
      "Training Loss :  0.29518  ,    Training Accuracy  :  89.27%\n",
      "\n",
      "Testing Loss :  0.3349  ,  Testing Accuracy  :  0.34%\n",
      "\n",
      "Train time on device : cpu is 120.4783 sec\n"
     ]
    }
   ],
   "source": [
    "torch.manual_seed(95)\n",
    "\n",
    "# To calculate Runtime\n",
    "from timeit import default_timer as timer\n",
    "training_start_time_model3 = timer()\n",
    "\n",
    "#Train and Test the model\n",
    "epochs = 5\n",
    "\n",
    "for epoch in tqdm(range(epochs)):\n",
    "    print(f\"Epoch {epoch} -------\\n\")\n",
    "    \n",
    "    train_step(accuracy_fn= accuracy_fn,\n",
    "              model = modelV3,\n",
    "              data_loader = train_dataloader,\n",
    "              device = device,\n",
    "              loss_fn = loss_fn,\n",
    "              optimizer = optimizer)\n",
    "\n",
    "    test_step(accuracy_fn=accuracy_fn,\n",
    "             model = modelV3,\n",
    "             device = device,\n",
    "             loss_fn = loss_fn,\n",
    "             data_loader = test_dataloader)\n",
    "\n",
    "training_end_time_model3 = timer()\n",
    "\n",
    "total_train_time = start_end_timer_tracker(start = training_start_time_model3,\n",
    "                                          end = training_end_time_model3,\n",
    "                                          device = device)"
   ]
  },
  {
   "cell_type": "code",
   "execution_count": 357,
   "id": "b9a6c488-6200-4eb1-a0b0-a69d49a6ca68",
   "metadata": {},
   "outputs": [
    {
     "data": {
      "application/vnd.jupyter.widget-view+json": {
       "model_id": "d9cdad0d7dd14a26ade9f92b9ec0b753",
       "version_major": 2,
       "version_minor": 0
      },
      "text/plain": [
       "  0%|          | 0/250 [00:00<?, ?it/s]"
      ]
     },
     "metadata": {},
     "output_type": "display_data"
    },
    {
     "data": {
      "text/plain": [
       "{'Model Name': 'FashionMNISTModelV3',\n",
       " 'Model Loss': 0.3348575532436371,\n",
       " 'Model Accuracy': 88.33}"
      ]
     },
     "execution_count": 357,
     "metadata": {},
     "output_type": "execute_result"
    }
   ],
   "source": [
    "# Get model_3 results\n",
    "model_3_results = eval_model(\n",
    "    model = modelV3,\n",
    "    data_loader = test_dataloader,\n",
    "    loss_fn = loss_fn,\n",
    "    accuracy_fn = accuracy_fn,\n",
    "    device = device\n",
    ")\n",
    "\n",
    "model_3_results"
   ]
  },
  {
   "cell_type": "markdown",
   "id": "159d27da-fb89-465b-9d0d-57f1cc9a7626",
   "metadata": {},
   "source": [
    "## Comparing model results and training time"
   ]
  },
  {
   "cell_type": "code",
   "execution_count": 358,
   "id": "5635d247-0498-4184-9790-e995479c6087",
   "metadata": {},
   "outputs": [],
   "source": [
    "import pandas as pd"
   ]
  },
  {
   "cell_type": "code",
   "execution_count": 359,
   "id": "cbf7a4d0-1225-4cf7-af6f-843c4e499e3e",
   "metadata": {},
   "outputs": [],
   "source": [
    "compare_results = pd.DataFrame([model_3_results,\n",
    "                               model_1_results,])"
   ]
  },
  {
   "cell_type": "code",
   "execution_count": 360,
   "id": "924907d3-e34a-4419-82d3-9387e32f406f",
   "metadata": {},
   "outputs": [
    {
     "data": {
      "text/html": [
       "<div>\n",
       "<style scoped>\n",
       "    .dataframe tbody tr th:only-of-type {\n",
       "        vertical-align: middle;\n",
       "    }\n",
       "\n",
       "    .dataframe tbody tr th {\n",
       "        vertical-align: top;\n",
       "    }\n",
       "\n",
       "    .dataframe thead th {\n",
       "        text-align: right;\n",
       "    }\n",
       "</style>\n",
       "<table border=\"1\" class=\"dataframe\">\n",
       "  <thead>\n",
       "    <tr style=\"text-align: right;\">\n",
       "      <th></th>\n",
       "      <th>Model Name</th>\n",
       "      <th>Model Loss</th>\n",
       "      <th>Model Accuracy</th>\n",
       "    </tr>\n",
       "  </thead>\n",
       "  <tbody>\n",
       "    <tr>\n",
       "      <th>0</th>\n",
       "      <td>FashionMNISTModelV3</td>\n",
       "      <td>0.334858</td>\n",
       "      <td>88.33</td>\n",
       "    </tr>\n",
       "    <tr>\n",
       "      <th>1</th>\n",
       "      <td>FashionMnistModel_0</td>\n",
       "      <td>0.448815</td>\n",
       "      <td>84.18</td>\n",
       "    </tr>\n",
       "  </tbody>\n",
       "</table>\n",
       "</div>"
      ],
      "text/plain": [
       "            Model Name  Model Loss  Model Accuracy\n",
       "0  FashionMNISTModelV3    0.334858           88.33\n",
       "1  FashionMnistModel_0    0.448815           84.18"
      ]
     },
     "execution_count": 360,
     "metadata": {},
     "output_type": "execute_result"
    }
   ],
   "source": [
    "compare_results"
   ]
  },
  {
   "cell_type": "code",
   "execution_count": 361,
   "id": "bed0cdab-7e70-49b8-b232-1fd9c4098724",
   "metadata": {},
   "outputs": [],
   "source": [
    "# Add training time to the compare_results\n",
    "# compare_results[\"traning time\"] = [total_train_time]"
   ]
  },
  {
   "cell_type": "code",
   "execution_count": 363,
   "id": "c16552e3-c8a3-43fb-bc4d-ad7aab4e91d1",
   "metadata": {},
   "outputs": [
    {
     "data": {
      "image/png": "[encoded data removed]",
      "text/plain": [
       "<Figure size 640x480 with 1 Axes>"
      ]
     },
     "metadata": {},
     "output_type": "display_data"
    }
   ],
   "source": [
    "# Visualize the model results\n",
    "compare_results.set_index(\"Model Name\")[\"Model Accuracy\"].plot(kind = \"barh\")\n",
    "plt.xlabel(\"accuracy(%)\")\n",
    "plt.ylabel(\"model\");"
   ]
  },
  {
   "cell_type": "markdown",
   "id": "6841b147-94e6-47c6-afd9-559c8af5389c",
   "metadata": {},
   "source": [
    "### Make Random Predictions with best Model"
   ]
  },
  {
   "cell_type": "code",
   "execution_count": 367,
   "id": "c801c6cc-010d-4f72-985e-0aa27d7724e4",
   "metadata": {},
   "outputs": [],
   "source": [
    "def make_predictions(model: torch.nn.Module,\n",
    "                    data: list,\n",
    "                    device: torch.device = device):\n",
    "    pred_probs = []\n",
    "    model.to(device)\n",
    "    model.eval()\n",
    "    with torch.inference_mode():\n",
    "\n",
    "        for sample in data:\n",
    "\n",
    "            # we have to add one more dimension for batch size\n",
    "            sample = torch.unsqueeze(sample, dim = 0).to(device)\n",
    "\n",
    "            # Forward pass (model outputs raw logits)\n",
    "            pred_logit = model(sample)\n",
    "\n",
    "            # Get prediction probability\n",
    "            pred_prob = torch.softmax(pred_logit.squeeze(), dim = 0)\n",
    "\n",
    "            # Get pred probs on the cpu for further calculation\n",
    "            pred_probs.append(pred_prob.cpu()) # matplotlib does not work on GPU\n",
    "\n",
    "        # Stacking the prediction probs in the list as tensors\n",
    "        return torch.stack(pred_probs) # concatinate everything in the list as a single tensor"
   ]
  },
  {
   "cell_type": "code",
   "execution_count": 368,
   "id": "dacb05ee-d57b-4fd3-99f6-3013a7d3a083",
   "metadata": {},
   "outputs": [
    {
     "data": {
      "text/plain": [
       "Dataset FashionMNIST\n",
       "    Number of datapoints: 10000\n",
       "    Root location: data\n",
       "    Split: Test\n",
       "    StandardTransform\n",
       "Transform: ToTensor()"
      ]
     },
     "execution_count": 368,
     "metadata": {},
     "output_type": "execute_result"
    }
   ],
   "source": [
    "test_data"
   ]
  },
  {
   "cell_type": "code",
   "execution_count": 373,
   "id": "6e95f631-647e-4eca-a01c-230815456361",
   "metadata": {},
   "outputs": [],
   "source": [
    "sample_test_image, sample_test_label = test_data[0][:10]"
   ]
  },
  {
   "cell_type": "code",
   "execution_count": 375,
   "id": "fec8cd4f-b357-4819-9b53-38b3a0ec8b49",
   "metadata": {},
   "outputs": [
    {
     "data": {
      "text/plain": [
       "(torch.Size([1, 28, 28]), tensor(2))"
      ]
     },
     "execution_count": 375,
     "metadata": {},
     "output_type": "execute_result"
    }
   ],
   "source": [
    "sample_test_image.shape, label"
   ]
  },
  {
   "cell_type": "code",
   "execution_count": 397,
   "id": "6e1f972b-b5ee-4246-b278-20258fead870",
   "metadata": {},
   "outputs": [
    {
     "data": {
      "text/plain": [
       "torch.Size([1, 28, 28])"
      ]
     },
     "execution_count": 397,
     "metadata": {},
     "output_type": "execute_result"
    }
   ],
   "source": [
    "import random\n",
    "random.seed(4)\n",
    "\n",
    "test_image =[]\n",
    "test_label = []\n",
    "\n",
    "for image, label in random.sample(list(test_data), k = 9):\n",
    "    test_image.append(image)\n",
    "    test_label.append(label)\n",
    "\n",
    "test_image[0].shape"
   ]
  },
  {
   "cell_type": "code",
   "execution_count": 398,
   "id": "2e1d6ef5-fa6c-498e-9a68-3e55ad0b3d50",
   "metadata": {},
   "outputs": [
    {
     "data": {
      "text/plain": [
       "Text(0.5, 1.0, 'Dress')"
      ]
     },
     "execution_count": 398,
     "metadata": {},
     "output_type": "execute_result"
    },
    {
     "data": {
      "image/png": "[encoded data removed]",
      "text/plain": [
       "<Figure size 640x480 with 1 Axes>"
      ]
     },
     "metadata": {},
     "output_type": "display_data"
    }
   ],
   "source": [
    "plt.imshow(test_image[0].squeeze(), cmap = \"grey\")\n",
    "plt.title(class_names[test_label[0]])"
   ]
  },
  {
   "cell_type": "code",
   "execution_count": 399,
   "id": "d64911c1-26a6-4309-896e-d3f7041e4509",
   "metadata": {},
   "outputs": [
    {
     "data": {
      "text/plain": [
       "tensor([[[0.0000, 0.0000, 0.0000, 0.0000, 0.0000, 0.0000, 0.0000, 0.0000,\n",
       "          0.0000, 0.0000, 0.3412, 0.7333, 0.6784, 0.3137, 0.2353, 0.5765,\n",
       "          0.7176, 0.6235, 0.0000, 0.0000, 0.0000, 0.0000, 0.0000, 0.0000,\n",
       "          0.0000, 0.0000, 0.0000, 0.0000],\n",
       "         [0.0000, 0.0000, 0.0000, 0.0000, 0.0000, 0.0000, 0.0000, 0.0000,\n",
       "          0.0039, 0.0000, 0.5882, 0.8588, 0.7373, 0.7804, 0.8941, 0.6510,\n",
       "          0.7373, 0.6549, 0.0157, 0.0000, 0.0000, 0.0000, 0.0000, 0.0000,\n",
       "          0.0000, 0.0000, 0.0000, 0.0000],\n",
       "         [0.0000, 0.0000, 0.0000, 0.0000, 0.0000, 0.0000, 0.0000, 0.0000,\n",
       "          0.0157, 0.0000, 0.3961, 0.8902, 0.6078, 0.4353, 0.8980, 0.7294,\n",
       "          0.6196, 0.6824, 0.0000, 0.0000, 0.0000, 0.0000, 0.0000, 0.0000,\n",
       "          0.0000, 0.0000, 0.0000, 0.0000],\n",
       "         [0.0000, 0.0000, 0.0000, 0.0000, 0.0000, 0.0000, 0.0000, 0.0000,\n",
       "          0.0118, 0.0000, 0.4196, 0.7725, 0.7686, 0.9882, 0.5647, 0.7294,\n",
       "          0.5412, 0.5373, 0.0000, 0.0000, 0.0000, 0.0000, 0.0000, 0.0000,\n",
       "          0.0000, 0.0000, 0.0000, 0.0000],\n",
       "         [0.0000, 0.0000, 0.0000, 0.0000, 0.0000, 0.0000, 0.0000, 0.0000,\n",
       "          0.0118, 0.0000, 0.2314, 0.7882, 0.7137, 0.3882, 0.8667, 0.7333,\n",
       "          0.7804, 0.7569, 0.0000, 0.0000, 0.0000, 0.0000, 0.0000, 0.0000,\n",
       "          0.0000, 0.0000, 0.0000, 0.0000],\n",
       "         [0.0000, 0.0000, 0.0000, 0.0000, 0.0000, 0.0000, 0.0000, 0.0000,\n",
       "          0.0078, 0.0000, 0.1020, 0.8627, 0.8314, 0.4824, 0.7373, 0.7529,\n",
       "          0.7412, 0.5412, 0.0000, 0.0000, 0.0000, 0.0000, 0.0000, 0.0000,\n",
       "          0.0000, 0.0000, 0.0000, 0.0000],\n",
       "         [0.0000, 0.0000, 0.0000, 0.0000, 0.0000, 0.0000, 0.0000, 0.0000,\n",
       "          0.0118, 0.0000, 0.1176, 0.8627, 0.6706, 0.9451, 0.8549, 0.6745,\n",
       "          0.6392, 0.3765, 0.0000, 0.0078, 0.0000, 0.0000, 0.0000, 0.0000,\n",
       "          0.0000, 0.0000, 0.0000, 0.0000],\n",
       "         [0.0000, 0.0000, 0.0000, 0.0000, 0.0000, 0.0000, 0.0000, 0.0000,\n",
       "          0.0078, 0.0000, 0.0510, 0.8314, 0.6314, 0.4275, 0.7176, 0.7451,\n",
       "          0.8431, 0.5098, 0.0000, 0.0118, 0.0000, 0.0000, 0.0000, 0.0000,\n",
       "          0.0000, 0.0000, 0.0000, 0.0000],\n",
       "         [0.0000, 0.0000, 0.0000, 0.0000, 0.0000, 0.0000, 0.0000, 0.0000,\n",
       "          0.0039, 0.0000, 0.0000, 0.7529, 0.8392, 0.7451, 0.8039, 0.7647,\n",
       "          0.7882, 0.2667, 0.0000, 0.0078, 0.0000, 0.0000, 0.0000, 0.0000,\n",
       "          0.0000, 0.0000, 0.0000, 0.0000],\n",
       "         [0.0000, 0.0000, 0.0000, 0.0000, 0.0000, 0.0000, 0.0000, 0.0000,\n",
       "          0.0078, 0.0000, 0.2275, 0.7569, 0.8392, 0.8510, 0.6784, 0.8118,\n",
       "          0.7412, 0.4078, 0.0000, 0.0039, 0.0000, 0.0000, 0.0000, 0.0000,\n",
       "          0.0000, 0.0000, 0.0000, 0.0000],\n",
       "         [0.0000, 0.0000, 0.0000, 0.0000, 0.0000, 0.0000, 0.0000, 0.0000,\n",
       "          0.0157, 0.0000, 0.4784, 0.9490, 0.7529, 0.8157, 0.7686, 0.6588,\n",
       "          0.6549, 0.6078, 0.0000, 0.0000, 0.0000, 0.0000, 0.0000, 0.0000,\n",
       "          0.0000, 0.0000, 0.0000, 0.0000],\n",
       "         [0.0000, 0.0000, 0.0000, 0.0000, 0.0000, 0.0000, 0.0000, 0.0000,\n",
       "          0.0000, 0.0000, 0.3922, 0.8431, 0.5647, 0.8667, 0.7373, 0.8471,\n",
       "          0.8902, 0.8431, 0.0000, 0.0000, 0.0000, 0.0000, 0.0000, 0.0000,\n",
       "          0.0000, 0.0000, 0.0000, 0.0000],\n",
       "         [0.0000, 0.0000, 0.0000, 0.0000, 0.0000, 0.0000, 0.0000, 0.0000,\n",
       "          0.0000, 0.0000, 0.8196, 0.8118, 0.7725, 0.7882, 0.6627, 0.8196,\n",
       "          0.7686, 0.6941, 0.0000, 0.0000, 0.0000, 0.0000, 0.0000, 0.0000,\n",
       "          0.0000, 0.0000, 0.0000, 0.0000],\n",
       "         [0.0000, 0.0000, 0.0000, 0.0000, 0.0000, 0.0000, 0.0000, 0.0000,\n",
       "          0.0000, 0.0000, 0.6314, 0.8667, 0.8196, 0.7765, 0.8392, 0.8431,\n",
       "          0.5412, 0.7255, 0.1843, 0.0000, 0.0000, 0.0000, 0.0000, 0.0000,\n",
       "          0.0000, 0.0000, 0.0000, 0.0000],\n",
       "         [0.0000, 0.0000, 0.0000, 0.0000, 0.0000, 0.0000, 0.0000, 0.0000,\n",
       "          0.0000, 0.0000, 0.7686, 0.8392, 0.8275, 0.7333, 0.6667, 0.7804,\n",
       "          0.8118, 0.8157, 0.2745, 0.0000, 0.0000, 0.0000, 0.0000, 0.0000,\n",
       "          0.0000, 0.0000, 0.0000, 0.0000],\n",
       "         [0.0000, 0.0000, 0.0000, 0.0000, 0.0000, 0.0000, 0.0000, 0.0000,\n",
       "          0.0000, 0.1098, 0.8980, 0.7490, 0.5333, 0.8627, 0.9333, 0.8549,\n",
       "          0.7882, 0.8157, 0.5294, 0.0000, 0.0000, 0.0000, 0.0000, 0.0000,\n",
       "          0.0000, 0.0000, 0.0000, 0.0000],\n",
       "         [0.0000, 0.0000, 0.0000, 0.0000, 0.0000, 0.0000, 0.0000, 0.0000,\n",
       "          0.0000, 0.2314, 0.7176, 0.7647, 0.7412, 0.7176, 0.5686, 0.8667,\n",
       "          0.7176, 0.8118, 0.6196, 0.0000, 0.0000, 0.0000, 0.0000, 0.0000,\n",
       "          0.0000, 0.0000, 0.0000, 0.0000],\n",
       "         [0.0000, 0.0000, 0.0000, 0.0000, 0.0000, 0.0000, 0.0000, 0.0000,\n",
       "          0.0000, 0.2745, 0.8353, 0.8392, 0.8863, 0.8314, 0.6314, 0.8980,\n",
       "          0.5059, 0.5922, 0.8118, 0.0000, 0.0000, 0.0000, 0.0000, 0.0000,\n",
       "          0.0000, 0.0000, 0.0000, 0.0000],\n",
       "         [0.0000, 0.0000, 0.0000, 0.0000, 0.0000, 0.0000, 0.0000, 0.0000,\n",
       "          0.0000, 0.0745, 0.7647, 0.8392, 0.5098, 0.8745, 0.9412, 0.6941,\n",
       "          0.7255, 0.7843, 0.8392, 0.0000, 0.0000, 0.0000, 0.0000, 0.0000,\n",
       "          0.0000, 0.0000, 0.0000, 0.0000],\n",
       "         [0.0000, 0.0000, 0.0000, 0.0000, 0.0000, 0.0000, 0.0000, 0.0000,\n",
       "          0.0000, 0.3961, 0.8824, 0.7922, 0.6000, 0.8353, 0.5451, 0.8706,\n",
       "          0.9137, 0.7765, 0.8471, 0.0000, 0.0000, 0.0000, 0.0000, 0.0000,\n",
       "          0.0000, 0.0000, 0.0000, 0.0000],\n",
       "         [0.0000, 0.0000, 0.0000, 0.0000, 0.0000, 0.0000, 0.0000, 0.0000,\n",
       "          0.0000, 0.2627, 0.8000, 0.8667, 0.8510, 0.6196, 0.9333, 0.8078,\n",
       "          0.6706, 0.4078, 1.0000, 0.1216, 0.0000, 0.0000, 0.0000, 0.0000,\n",
       "          0.0000, 0.0000, 0.0000, 0.0000],\n",
       "         [0.0000, 0.0000, 0.0000, 0.0000, 0.0000, 0.0000, 0.0000, 0.0000,\n",
       "          0.0000, 0.3529, 0.8078, 0.8941, 0.7882, 0.6784, 0.6235, 0.8392,\n",
       "          0.7137, 0.6902, 0.9294, 0.2863, 0.0000, 0.0000, 0.0000, 0.0000,\n",
       "          0.0000, 0.0000, 0.0000, 0.0000],\n",
       "         [0.0000, 0.0000, 0.0000, 0.0000, 0.0000, 0.0000, 0.0000, 0.0000,\n",
       "          0.0000, 0.5333, 0.9569, 0.7647, 0.7137, 0.7294, 0.9373, 0.8118,\n",
       "          0.9294, 0.7216, 0.9529, 0.3216, 0.0000, 0.0000, 0.0000, 0.0000,\n",
       "          0.0000, 0.0000, 0.0000, 0.0000],\n",
       "         [0.0000, 0.0000, 0.0000, 0.0000, 0.0000, 0.0000, 0.0000, 0.0000,\n",
       "          0.0000, 0.5765, 0.7882, 0.7725, 0.5804, 0.7412, 0.6275, 1.0000,\n",
       "          0.6235, 0.7647, 0.9098, 0.3333, 0.0000, 0.0000, 0.0000, 0.0000,\n",
       "          0.0000, 0.0000, 0.0000, 0.0000],\n",
       "         [0.0000, 0.0000, 0.0000, 0.0000, 0.0000, 0.0000, 0.0000, 0.0000,\n",
       "          0.0000, 0.7608, 0.8039, 0.8196, 0.8039, 0.7059, 0.5216, 1.0000,\n",
       "          0.6902, 0.6000, 0.9059, 0.4667, 0.0000, 0.0000, 0.0000, 0.0000,\n",
       "          0.0000, 0.0000, 0.0000, 0.0000],\n",
       "         [0.0000, 0.0000, 0.0000, 0.0000, 0.0000, 0.0000, 0.0000, 0.0000,\n",
       "          0.0000, 0.5373, 0.7804, 0.8980, 0.7608, 0.7804, 0.9961, 0.8627,\n",
       "          0.7059, 0.5725, 0.8627, 0.3569, 0.0000, 0.0000, 0.0000, 0.0000,\n",
       "          0.0000, 0.0000, 0.0000, 0.0000],\n",
       "         [0.0000, 0.0000, 0.0000, 0.0000, 0.0000, 0.0000, 0.0000, 0.0000,\n",
       "          0.0000, 0.5373, 0.8000, 0.8235, 0.7216, 0.9725, 0.6039, 0.8980,\n",
       "          0.8980, 0.7922, 0.9216, 0.4902, 0.0000, 0.0000, 0.0000, 0.0000,\n",
       "          0.0000, 0.0000, 0.0000, 0.0000],\n",
       "         [0.0000, 0.0000, 0.0000, 0.0000, 0.0000, 0.0000, 0.0000, 0.0000,\n",
       "          0.0000, 0.0039, 0.3647, 0.1765, 0.4784, 0.5294, 0.0627, 0.3490,\n",
       "          0.5490, 0.2745, 0.0588, 0.0000, 0.0000, 0.0000, 0.0000, 0.0000,\n",
       "          0.0000, 0.0000, 0.0000, 0.0000]]])"
      ]
     },
     "execution_count": 399,
     "metadata": {},
     "output_type": "execute_result"
    }
   ],
   "source": [
    "test_image[0]"
   ]
  },
  {
   "cell_type": "markdown",
   "id": "c8cbe5a2-ebb8-48c1-a820-b2599e913a2f",
   "metadata": {},
   "source": [
    "### Make Predictions using Function"
   ]
  },
  {
   "cell_type": "code",
   "execution_count": 400,
   "id": "450396cc-785b-47d4-a0cc-ac2ad54853f0",
   "metadata": {},
   "outputs": [],
   "source": [
    "pred_probs = make_predictions(model = modelV3,\n",
    "                             data = test_image)"
   ]
  },
  {
   "cell_type": "code",
   "execution_count": 401,
   "id": "063975e9-243d-4ac1-8fc8-a3313c701dcf",
   "metadata": {},
   "outputs": [
    {
     "data": {
      "text/plain": [
       "tensor([[1.9461e-03, 1.2213e-03, 1.8812e-05, 9.9593e-01, 7.2991e-04, 1.2872e-06,\n",
       "         5.2295e-05, 5.0074e-05, 5.8429e-07, 5.0446e-05],\n",
       "        [1.0208e-04, 4.2146e-08, 1.1430e-06, 4.4597e-05, 1.1828e-05, 8.3877e-06,\n",
       "         2.6233e-05, 7.0465e-07, 9.9980e-01, 2.7031e-07]])"
      ]
     },
     "execution_count": 401,
     "metadata": {},
     "output_type": "execute_result"
    }
   ],
   "source": [
    "pred_probs[:2]"
   ]
  },
  {
   "cell_type": "code",
   "execution_count": 402,
   "id": "3ce44739-1198-4f78-b4da-4451b887ae81",
   "metadata": {},
   "outputs": [
    {
     "data": {
      "text/plain": [
       "tensor([3, 8, 5, 7, 7, 4, 3, 7, 6])"
      ]
     },
     "execution_count": 402,
     "metadata": {},
     "output_type": "execute_result"
    }
   ],
   "source": [
    "pred_classes = pred_probs.argmax(dim =1)\n",
    "pred_classes"
   ]
  },
  {
   "cell_type": "code",
   "execution_count": 403,
   "id": "afb04310-d3a8-4bac-a55f-d99ad8af4e31",
   "metadata": {},
   "outputs": [
    {
     "data": {
      "text/plain": [
       "[3, 8, 5, 7, 7, 4, 3, 7, 4]"
      ]
     },
     "execution_count": 403,
     "metadata": {},
     "output_type": "execute_result"
    }
   ],
   "source": [
    "test_label"
   ]
  },
  {
   "cell_type": "code",
   "execution_count": 404,
   "id": "4a2ab354-bc74-4d4d-865a-92257acdc983",
   "metadata": {},
   "outputs": [
    {
     "data": {
      "image/png": "[encoded data removed]",
      "text/plain": [
       "<Figure size 900x900 with 9 Axes>"
      ]
     },
     "metadata": {},
     "output_type": "display_data"
    }
   ],
   "source": [
    "# Plotting Predictions\n",
    "plt.figure(figsize = (9,9))\n",
    "nrows = 3\n",
    "ncols = 3\n",
    "\n",
    "for i, sample in enumerate(test_image):\n",
    "\n",
    "    # Create Subplot\n",
    "    plt.subplot(nrows, ncols, i+1)\n",
    "\n",
    "    #plt the target Image\n",
    "    plt.imshow(sample.squeeze(), cmap = \"grey\")\n",
    "\n",
    "    # FInd the prediction in text form\n",
    "    pred_label = class_names[pred_classes[i]]\n",
    "\n",
    "    # FInd the truth Label\n",
    "    truth_label = class_names[test_label[i]]\n",
    "\n",
    "    # Create a title for the plt\n",
    "    title_text = f\"Pred: {pred_label} | Actual: {truth_label}\"\n",
    "\n",
    "    # COmpare the pred label to truth label and display in green or red depending on the prediction\n",
    "    if pred_label == truth_label:\n",
    "        plt.title(title_text, fontsize = 9, c = \"g\")\n",
    "    else:\n",
    "        plt.title(title_text, fontsize = 9, c = \"r\")\n",
    "\n",
    "    plt.axis(False)"
   ]
  },
  {
   "cell_type": "code",
   "execution_count": 406,
   "id": "71785409-9442-4377-b7b1-2fcd38e0766d",
   "metadata": {},
   "outputs": [
    {
     "name": "stdout",
     "output_type": "stream",
     "text": [
      "Collecting tqdm==4.62.3\n",
      "  Downloading tqdm-4.62.3-py2.py3-none-any.whl.metadata (56 kB)\n",
      "\u001b[2K     \u001b[90m━━━━━━━━━━━━━━━━━━━━━━━━━━━━━━━━━━━━━━━\u001b[0m \u001b[32m57.0/57.0 kB\u001b[0m \u001b[31m687.0 kB/s\u001b[0m eta \u001b[36m0:00:00\u001b[0m \u001b[36m0:00:01\u001b[0m\n",
      "\u001b[?25hDownloading tqdm-4.62.3-py2.py3-none-any.whl (76 kB)\n",
      "\u001b[2K   \u001b[90m━━━━━━━━━━━━━━━━━━━━━━━━━━━━━━━━━━━━━━━━\u001b[0m \u001b[32m76.2/76.2 kB\u001b[0m \u001b[31m1.1 MB/s\u001b[0m eta \u001b[36m0:00:00\u001b[0ma \u001b[36m0:00:01\u001b[0m\n",
      "\u001b[?25hInstalling collected packages: tqdm\n",
      "  Attempting uninstall: tqdm\n",
      "    Found existing installation: tqdm 4.65.0\n",
      "    Uninstalling tqdm-4.65.0:\n",
      "      Successfully uninstalled tqdm-4.65.0\n",
      "Successfully installed tqdm-4.62.3\n",
      "Note: you may need to restart the kernel to use updated packages.\n"
     ]
    }
   ],
   "source": [
    "pip install tqdm==4.62.3"
   ]
  },
  {
   "cell_type": "code",
   "execution_count": 409,
   "id": "f2b87942-34a0-43a3-94c5-3297a0e28ca2",
   "metadata": {},
   "outputs": [],
   "source": [
    "# import tqdm\n",
    "# tqdm.tqdm.disable = True"
   ]
  },
  {
   "cell_type": "code",
   "execution_count": 412,
   "id": "1ec5e499-3257-4cbe-b482-d8f907466911",
   "metadata": {},
   "outputs": [
    {
     "data": {
      "application/vnd.jupyter.widget-view+json": {
       "model_id": "e8a4f9ba3546473289ca7198d39fddf9",
       "version_major": 2,
       "version_minor": 0
      },
      "text/plain": [
       "Output()"
      ]
     },
     "metadata": {},
     "output_type": "display_data"
    },
    {
     "data": {
      "text/html": [
       "<pre style=\"white-space:pre;overflow-x:auto;line-height:normal;font-family:Menlo,'DejaVu Sans Mono',consolas,'Courier New',monospace\"></pre>\n"
      ],
      "text/plain": []
     },
     "metadata": {},
     "output_type": "display_data"
    },
    {
     "data": {
      "text/html": [
       "<pre style=\"white-space:pre;overflow-x:auto;line-height:normal;font-family:Menlo,'DejaVu Sans Mono',consolas,'Courier New',monospace\">\n",
       "</pre>\n"
      ],
      "text/plain": [
       "\n"
      ]
     },
     "metadata": {},
     "output_type": "display_data"
    },
    {
     "data": {
      "text/plain": [
       "[tensor([9, 8, 8, 8, 7, 8, 9, 4, 0, 4, 1, 9, 6, 2, 4, 5, 1, 2, 0, 1, 8, 9, 3, 6,\n",
       "         9, 9, 3, 8, 7, 2, 1, 8, 9, 6, 7, 5, 7, 5, 9, 5]),\n",
       " tensor([9, 7, 4, 7, 9, 1, 6, 3, 4, 6, 6, 7, 4, 9, 6, 3, 0, 2, 2, 0, 0, 6, 1, 6,\n",
       "         5, 7, 1, 4, 3, 2, 5, 0, 2, 8, 5, 8, 4, 3, 9, 6]),\n",
       " tensor([4, 2, 3, 1, 7, 5, 3, 8, 6, 8, 8, 8, 6, 5, 9, 3, 4, 5, 9, 4, 0, 7, 6, 6,\n",
       "         8, 6, 9, 9, 9, 7, 5, 9, 9, 4, 8, 3, 1, 4, 3, 8]),\n",
       " tensor([4, 3, 1, 2, 3, 6, 1, 3, 6, 5, 8, 9, 5, 2, 8, 2, 6, 3, 6, 7, 3, 2, 6, 6,\n",
       "         3, 1, 9, 0, 8, 5, 4, 4, 5, 0, 4, 0, 9, 4, 9, 7]),\n",
       " tensor([7, 7, 2, 8, 8, 1, 4, 1, 6, 8, 7, 7, 2, 7, 6, 3, 3, 4, 2, 2, 0, 6, 5, 9,\n",
       "         8, 8, 1, 4, 9, 4, 7, 5, 3, 3, 3, 8, 7, 0, 6, 0])]"
      ]
     },
     "execution_count": 412,
     "metadata": {},
     "output_type": "execute_result"
    }
   ],
   "source": [
    "from rich.progress import Progress\n",
    "\n",
    "# Make predictions using trained model\n",
    "y_preds = []\n",
    "modelV3.eval()\n",
    "with Progress() as progress:\n",
    "    task = progress.add_task(\"[green]Making Predictions ---\", total=len(test_dataloader))\n",
    "\n",
    "    with torch.inference_mode():\n",
    "        for X, y in test_dataloader:\n",
    "            # send the data and labels to target device\n",
    "            X, y = X.to(device), y.to(device)\n",
    "\n",
    "            # Forward pass\n",
    "            y_logits = modelV3(X)\n",
    "\n",
    "            # Converting the y_logits into y_preds\n",
    "            y_pred = torch.softmax(y_logits.squeeze(), dim=0).argmax(dim=1)\n",
    "\n",
    "            # put predictions on cpu for evaluation purpose as matplotlib works only on cpu\n",
    "            y_preds.append(y_pred.cpu())\n",
    "\n",
    "            # Update the progress bar\n",
    "            progress.update(task, advance=1)\n",
    "\n",
    "    # Concatinate the list of predictions into a tensor\n",
    "y_pred_tensor = torch.cat(y_preds)\n",
    "y_preds[:5]"
   ]
  },
  {
   "cell_type": "code",
   "execution_count": 414,
   "id": "3c1b1756-8b3a-451c-a472-424f68c85bdd",
   "metadata": {},
   "outputs": [
    {
     "data": {
      "text/plain": [
       "10000"
      ]
     },
     "execution_count": 414,
     "metadata": {},
     "output_type": "execute_result"
    }
   ],
   "source": [
    "len(y_pred_tensor)"
   ]
  },
  {
   "cell_type": "code",
   "execution_count": 417,
   "id": "d58a5641-d9ef-4cad-8865-47a6ae080dbd",
   "metadata": {},
   "outputs": [],
   "source": [
    "import torchmetrics"
   ]
  },
  {
   "cell_type": "code",
   "execution_count": 418,
   "id": "1a11f8c5-e3d6-48f5-ac17-2c1e7f35b010",
   "metadata": {},
   "outputs": [
    {
     "name": "stdout",
     "output_type": "stream",
     "text": [
      "Collecting mlxtend\n",
      "  Downloading mlxtend-0.23.1-py3-none-any.whl.metadata (7.3 kB)\n",
      "Requirement already satisfied: scipy>=1.2.1 in /opt/anaconda3/lib/python3.11/site-packages (from mlxtend) (1.11.4)\n",
      "Requirement already satisfied: numpy>=1.16.2 in /opt/anaconda3/lib/python3.11/site-packages (from mlxtend) (1.26.4)\n",
      "Requirement already satisfied: pandas>=0.24.2 in /opt/anaconda3/lib/python3.11/site-packages (from mlxtend) (2.1.4)\n",
      "Requirement already satisfied: scikit-learn>=1.0.2 in /opt/anaconda3/lib/python3.11/site-packages (from mlxtend) (1.2.2)\n",
      "Requirement already satisfied: matplotlib>=3.0.0 in /opt/anaconda3/lib/python3.11/site-packages (from mlxtend) (3.8.0)\n",
      "Requirement already satisfied: joblib>=0.13.2 in /opt/anaconda3/lib/python3.11/site-packages (from mlxtend) (1.2.0)\n",
      "Requirement already satisfied: contourpy>=1.0.1 in /opt/anaconda3/lib/python3.11/site-packages (from matplotlib>=3.0.0->mlxtend) (1.2.0)\n",
      "Requirement already satisfied: cycler>=0.10 in /opt/anaconda3/lib/python3.11/site-packages (from matplotlib>=3.0.0->mlxtend) (0.11.0)\n",
      "Requirement already satisfied: fonttools>=4.22.0 in /opt/anaconda3/lib/python3.11/site-packages (from matplotlib>=3.0.0->mlxtend) (4.25.0)\n",
      "Requirement already satisfied: kiwisolver>=1.0.1 in /opt/anaconda3/lib/python3.11/site-packages (from matplotlib>=3.0.0->mlxtend) (1.4.4)\n",
      "Requirement already satisfied: packaging>=20.0 in /opt/anaconda3/lib/python3.11/site-packages (from matplotlib>=3.0.0->mlxtend) (24.1)\n",
      "Requirement already satisfied: pillow>=6.2.0 in /opt/anaconda3/lib/python3.11/site-packages (from matplotlib>=3.0.0->mlxtend) (10.2.0)\n",
      "Requirement already satisfied: pyparsing>=2.3.1 in /opt/anaconda3/lib/python3.11/site-packages (from matplotlib>=3.0.0->mlxtend) (3.0.9)\n",
      "Requirement already satisfied: python-dateutil>=2.7 in /opt/anaconda3/lib/python3.11/site-packages (from matplotlib>=3.0.0->mlxtend) (2.8.2)\n",
      "Requirement already satisfied: pytz>=2020.1 in /opt/anaconda3/lib/python3.11/site-packages (from pandas>=0.24.2->mlxtend) (2023.3.post1)\n",
      "Requirement already satisfied: tzdata>=2022.1 in /opt/anaconda3/lib/python3.11/site-packages (from pandas>=0.24.2->mlxtend) (2023.3)\n",
      "Requirement already satisfied: threadpoolctl>=2.0.0 in /opt/anaconda3/lib/python3.11/site-packages (from scikit-learn>=1.0.2->mlxtend) (2.2.0)\n",
      "Requirement already satisfied: six>=1.5 in /opt/anaconda3/lib/python3.11/site-packages (from python-dateutil>=2.7->matplotlib>=3.0.0->mlxtend) (1.16.0)\n",
      "Downloading mlxtend-0.23.1-py3-none-any.whl (1.4 MB)\n",
      "\u001b[2K   \u001b[90m━━━━━━━━━━━━━━━━━━━━━━━━━━━━━━━━━━━━━━━━\u001b[0m \u001b[32m1.4/1.4 MB\u001b[0m \u001b[31m2.1 MB/s\u001b[0m eta \u001b[36m0:00:00\u001b[0m00:01\u001b[0m00:01\u001b[0m\n",
      "\u001b[?25hInstalling collected packages: mlxtend\n",
      "Successfully installed mlxtend-0.23.1\n",
      "Note: you may need to restart the kernel to use updated packages.\n"
     ]
    }
   ],
   "source": [
    "pip install mlxtend"
   ]
  },
  {
   "cell_type": "code",
   "execution_count": 419,
   "id": "8f1bf1cc-2666-4092-8b54-d8dd555ce84a",
   "metadata": {},
   "outputs": [],
   "source": [
    "import mlxtend"
   ]
  },
  {
   "cell_type": "code",
   "execution_count": 420,
   "id": "399958cc-ffa3-4fb4-b303-b578b0d08a3d",
   "metadata": {},
   "outputs": [
    {
     "name": "stdout",
     "output_type": "stream",
     "text": [
      "0.23.1\n"
     ]
    }
   ],
   "source": [
    "print(mlxtend.__version__)"
   ]
  },
  {
   "cell_type": "code",
   "execution_count": 421,
   "id": "bed15dcf-5704-4632-b9dc-dcb5347b90eb",
   "metadata": {},
   "outputs": [
    {
     "name": "stdout",
     "output_type": "stream",
     "text": [
      "1.4.1\n"
     ]
    }
   ],
   "source": [
    "print(torchmetrics.__version__)"
   ]
  },
  {
   "cell_type": "code",
   "execution_count": 422,
   "id": "507da217-db13-467c-bb92-09f101b90145",
   "metadata": {},
   "outputs": [],
   "source": [
    "from torchmetrics import ConfusionMatrix\n",
    "from mlxtend.plotting import plot_confusion_matrix"
   ]
  },
  {
   "cell_type": "code",
   "execution_count": 425,
   "id": "c9cd5078-7449-41d4-a096-5be2bd14c35a",
   "metadata": {},
   "outputs": [],
   "source": [
    "# 2. Setup confusion instance and compare predictions to true targets\n",
    "confusion_mat = ConfusionMatrix(num_classes= len(class_names), task = \"multiclass\")\n",
    "confusion_mat_tensor = confusion_mat(preds = y_pred_tensor,\n",
    "                                    target = test_data.targets)"
   ]
  },
  {
   "cell_type": "code",
   "execution_count": 426,
   "id": "5daaa1ce-78b0-48b3-b05a-65a6629c4c45",
   "metadata": {},
   "outputs": [
    {
     "data": {
      "text/plain": [
       "tensor([[ 98,  88,  95, 114, 107,  70, 142, 113,  94,  79],\n",
       "        [ 77,  91,  96, 122, 102,  95, 109, 121,  97,  90],\n",
       "        [ 76,  86,  95, 117, 105,  92, 121, 128, 101,  79],\n",
       "        [ 99,  84,  97, 128,  88,  67, 130, 122, 108,  77],\n",
       "        [ 73, 106,  77, 112, 112,  71, 133, 111, 116,  89],\n",
       "        [ 81,  93, 103, 102, 101,  97, 117, 121,  93,  92],\n",
       "        [ 85,  98, 106, 108,  97,  76, 128, 115, 100,  87],\n",
       "        [ 70,  92,  81, 114, 118,  95, 135, 130,  77,  88],\n",
       "        [100, 100,  91, 103, 114,  64, 111, 134,  99,  84],\n",
       "        [ 78,  96,  89, 117,  91,  87, 140, 109,  93, 100]])"
      ]
     },
     "execution_count": 426,
     "metadata": {},
     "output_type": "execute_result"
    }
   ],
   "source": [
    "confusion_mat_tensor"
   ]
  },
  {
   "cell_type": "code",
   "execution_count": 428,
   "id": "42499f4e-115a-4a89-8584-404fe0de9e28",
   "metadata": {},
   "outputs": [
    {
     "data": {
      "image/png": "[encoded data removed]",
      "text/plain": [
       "<Figure size 1000x700 with 1 Axes>"
      ]
     },
     "metadata": {},
     "output_type": "display_data"
    }
   ],
   "source": [
    "# plotting the confusion matrix\n",
    "fig, axis = plot_confusion_matrix(confusion_mat_tensor.numpy(), class_names= class_names,\n",
    "                                 figsize = (10,7))"
   ]
  },
  {
   "cell_type": "markdown",
   "id": "37d6fdd5-b7a7-4275-a0e5-3cc1a9d1da00",
   "metadata": {},
   "source": [
    "### 11. Saving and loading the best performing model"
   ]
  },
  {
   "cell_type": "code",
   "execution_count": 429,
   "id": "08c1f5f4-ba8e-483e-a68f-b4bb5ddf05ae",
   "metadata": {},
   "outputs": [
    {
     "name": "stdout",
     "output_type": "stream",
     "text": [
      "Saving the model to /Users/venu/Documents/Productivity/Pytorch Tutorials/Models/03_Pytorch_Computer_Vision_Model_V3.pth\n"
     ]
    }
   ],
   "source": [
    "from pathlib import Path\n",
    "\n",
    "# Creating model directory\n",
    "MODEL_PATH = Path(\"/Users/venu/Documents/Productivity/Pytorch Tutorials/Models\")\n",
    "MODEL_PATH.mkdir(parents= True,\n",
    "                exist_ok= True)\n",
    "\n",
    "# Create svaing of the model\n",
    "MODEL_NAME = \"03_Pytorch_Computer_Vision_Model_V3.pth\"\n",
    "MODEL_SAVE_PATH = MODEL_PATH / MODEL_NAME\n",
    "\n",
    "# Save the model state dict which saves the models learned params\n",
    "print(f\"Saving the model to {MODEL_SAVE_PATH}\")\n",
    "torch.save(obj = modelV3.state_dict(),\n",
    "          f = MODEL_SAVE_PATH)"
   ]
  },
  {
   "cell_type": "code",
   "execution_count": 430,
   "id": "833e2333-0652-46e5-8e70-2f5eb3927338",
   "metadata": {},
   "outputs": [
    {
     "data": {
      "text/plain": [
       "{'Model Name': 'FashionMNISTModelV3',\n",
       " 'Model Loss': 0.3348575532436371,\n",
       " 'Model Accuracy': 88.33}"
      ]
     },
     "execution_count": 430,
     "metadata": {},
     "output_type": "execute_result"
    }
   ],
   "source": [
    "model_3_results"
   ]
  },
  {
   "cell_type": "code",
   "execution_count": 432,
   "id": "fa01a7a2-8da7-4deb-bd07-4d3568748a01",
   "metadata": {},
   "outputs": [
    {
     "data": {
      "text/plain": [
       "FashionMNISTModelV3(\n",
       "  (conv_block_1): Sequential(\n",
       "    (0): Conv2d(1, 10, kernel_size=(3, 3), stride=(1, 1), padding=(1, 1))\n",
       "    (1): ReLU()\n",
       "    (2): Conv2d(10, 10, kernel_size=(3, 3), stride=(1, 1), padding=(1, 1))\n",
       "    (3): ReLU()\n",
       "    (4): MaxPool2d(kernel_size=2, stride=2, padding=0, dilation=1, ceil_mode=False)\n",
       "  )\n",
       "  (conv_block_2): Sequential(\n",
       "    (0): Conv2d(10, 10, kernel_size=(3, 3), stride=(1, 1), padding=(1, 1))\n",
       "    (1): ReLU()\n",
       "    (2): Conv2d(10, 10, kernel_size=(3, 3), stride=(1, 1), padding=(1, 1))\n",
       "    (3): ReLU()\n",
       "    (4): MaxPool2d(kernel_size=2, stride=2, padding=0, dilation=1, ceil_mode=False)\n",
       "  )\n",
       "  (classifier): Sequential(\n",
       "    (0): Flatten(start_dim=1, end_dim=-1)\n",
       "    (1): Linear(in_features=490, out_features=10, bias=True)\n",
       "  )\n",
       ")"
      ]
     },
     "execution_count": 432,
     "metadata": {},
     "output_type": "execute_result"
    }
   ],
   "source": [
    "# Create a new instance to load the saved model state dict\n",
    "\n",
    "torch.manual_seed(95)\n",
    "\n",
    "loaded_model_3 = FashionMNISTModelV3(input_shape= 1,\n",
    "                                    hidden_units= 10,\n",
    "                                    output_shape= len(class_names))\n",
    "\n",
    "# Load in the state dict\n",
    "loaded_model_3.load_state_dict(torch.load(f = MODEL_SAVE_PATH))\n",
    "\n",
    "# Save the model to the target device\n",
    "loaded_model_3.to(device)"
   ]
  },
  {
   "cell_type": "code",
   "execution_count": 433,
   "id": "46a980ee-7653-41c3-9597-eb86f4c203af",
   "metadata": {},
   "outputs": [
    {
     "data": {
      "text/plain": [
       "{'Model Name': 'FashionMNISTModelV3',\n",
       " 'Model Loss': 0.3348575532436371,\n",
       " 'Model Accuracy': 88.33}"
      ]
     },
     "execution_count": 433,
     "metadata": {},
     "output_type": "execute_result"
    }
   ],
   "source": [
    "model_3_results"
   ]
  },
  {
   "cell_type": "code",
   "execution_count": 434,
   "id": "abb014fe-0628-42d5-9069-c56da46e8391",
   "metadata": {},
   "outputs": [
    {
     "data": {
      "application/vnd.jupyter.widget-view+json": {
       "model_id": "405f90ebcfe74509813b530693586525",
       "version_major": 2,
       "version_minor": 0
      },
      "text/plain": [
       "  0%|          | 0/250 [00:00<?, ?it/s]"
      ]
     },
     "metadata": {},
     "output_type": "display_data"
    }
   ],
   "source": [
    "# Evaluate the loaded model\n",
    "torch.manual_seed(95)\n",
    "\n",
    "loaded_model_3_results = eval_model(model = loaded_model_3,\n",
    "                                   data_loader= test_dataloader,\n",
    "                                   loss_fn = loss_fn,\n",
    "                                   accuracy_fn= accuracy_fn)"
   ]
  },
  {
   "cell_type": "code",
   "execution_count": 435,
   "id": "8df121c9-f424-4afa-95fc-9b5835e6b8a4",
   "metadata": {},
   "outputs": [
    {
     "data": {
      "text/plain": [
       "{'Model Name': 'FashionMNISTModelV3',\n",
       " 'Model Loss': 0.33485737442970276,\n",
       " 'Model Accuracy': 88.33}"
      ]
     },
     "execution_count": 435,
     "metadata": {},
     "output_type": "execute_result"
    }
   ],
   "source": [
    "loaded_model_3_results"
   ]
  },
  {
   "cell_type": "code",
   "execution_count": 436,
   "id": "1bc66d23-ae10-491d-8723-839213aabb58",
   "metadata": {},
   "outputs": [
    {
     "data": {
      "text/plain": [
       "tensor(True)"
      ]
     },
     "execution_count": 436,
     "metadata": {},
     "output_type": "execute_result"
    }
   ],
   "source": [
    "## We can also check if the model results are close to each model\n",
    "torch.isclose(torch.tensor(model_3_results[\"Model Loss\"]),\n",
    "             torch.tensor(loaded_model_3_results[\"Model Loss\"]))"
   ]
  },
  {
   "cell_type": "code",
   "execution_count": null,
   "id": "a0831215-d158-48e0-ad53-c03bd0c180a0",
   "metadata": {},
   "outputs": [],
   "source": []
  },
  {
   "cell_type": "code",
   "execution_count": null,
   "id": "4b6c242d-7743-47a3-868e-aafd608aa33b",
   "metadata": {},
   "outputs": [],
   "source": []
  },
  {
   "cell_type": "code",
   "execution_count": null,
   "id": "4389e5a8-c7e0-41f6-af39-844b9330a4cc",
   "metadata": {},
   "outputs": [],
   "source": []
  },
  {
   "cell_type": "code",
   "execution_count": null,
   "id": "833b0c92-0a7b-4172-8575-ac3dbaf82ba5",
   "metadata": {},
   "outputs": [],
   "source": []
  },
  {
   "cell_type": "code",
   "execution_count": null,
   "id": "fd372562-db09-406b-9e4b-d5a9c3d2099a",
   "metadata": {},
   "outputs": [],
   "source": []
  }
 ],
 "metadata": {
  "kernelspec": {
   "display_name": "Python 3 (ipykernel)",
   "language": "python",
   "name": "python3"
  },
  "language_info": {
   "codemirror_mode": {
    "name": "ipython",
    "version": 3
   },
   "file_extension": ".py",
   "mimetype": "text/x-python",
   "name": "python",
   "nbconvert_exporter": "python",
   "pygments_lexer": "ipython3",
   "version": "3.11.7"
  }
 },
 "nbformat": 4,
 "nbformat_minor": 5
}
